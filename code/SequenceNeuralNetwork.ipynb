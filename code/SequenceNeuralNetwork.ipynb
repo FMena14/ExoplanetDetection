{
 "cells": [
  {
   "cell_type": "code",
   "execution_count": 1,
   "metadata": {},
   "outputs": [
    {
     "name": "stderr",
     "output_type": "stream",
     "text": [
      "Using TensorFlow backend.\n"
     ]
    }
   ],
   "source": [
    "import tensorflow as tf\n",
    "import keras\n",
    "import pandas as pd\n",
    "import numpy as np\n",
    "import matplotlib.pyplot as plt"
   ]
  },
  {
   "cell_type": "code",
   "execution_count": 2,
   "metadata": {
    "collapsed": true
   },
   "outputs": [],
   "source": [
    "#metricas de evaluacion\n",
    "from sklearn.metrics import f1_score\n",
    "from sklearn.metrics import precision_score\n",
    "from sklearn.metrics import recall_score\n",
    "from sklearn.metrics import completeness_score\n",
    "from sklearn.metrics import homogeneity_score\n",
    "\n",
    "def calculate_metrics(y_true,y_pred):\n",
    "    f1 = f1_score(y_true,y_pred,average=\"weighted\")\n",
    "    p = precision_score(y_true,y_pred,average=None,labels=[0,1]) #1 confirmado y 0 false positivo\n",
    "    r = recall_score(y_true,y_pred,average=None,labels=[0,1])\n",
    "    #c = completeness_score(y_true, y_pred)\n",
    "    #h = homogeneity_score(y_true,y_pred)\n",
    "    return f1,p,r #f1score,completness and homogeneite"
   ]
  },
  {
   "cell_type": "code",
   "execution_count": 3,
   "metadata": {},
   "outputs": [
    {
     "data": {
      "text/html": [
       "<div>\n",
       "<style>\n",
       "    .dataframe thead tr:only-child th {\n",
       "        text-align: right;\n",
       "    }\n",
       "\n",
       "    .dataframe thead th {\n",
       "        text-align: left;\n",
       "    }\n",
       "\n",
       "    .dataframe tbody tr th {\n",
       "        vertical-align: top;\n",
       "    }\n",
       "</style>\n",
       "<table border=\"1\" class=\"dataframe\">\n",
       "  <thead>\n",
       "    <tr style=\"text-align: right;\">\n",
       "      <th></th>\n",
       "      <th>NExScI Disposition</th>\n",
       "      <th>KOI Name</th>\n",
       "      <th>Kepler Name</th>\n",
       "      <th>Planet Radius</th>\n",
       "      <th>Stellar Radius</th>\n",
       "      <th>Metallicity</th>\n",
       "      <th>Stellar Mass</th>\n",
       "    </tr>\n",
       "  </thead>\n",
       "  <tbody>\n",
       "    <tr>\n",
       "      <th>0</th>\n",
       "      <td>CONFIRMED</td>\n",
       "      <td>K00889.01</td>\n",
       "      <td>Kepler-75 b</td>\n",
       "      <td>10.51</td>\n",
       "      <td>0.843</td>\n",
       "      <td>-0.08</td>\n",
       "      <td>0.821</td>\n",
       "    </tr>\n",
       "    <tr>\n",
       "      <th>1</th>\n",
       "      <td>FALSE POSITIVE</td>\n",
       "      <td>K01009.01</td>\n",
       "      <td>NaN</td>\n",
       "      <td>1.17</td>\n",
       "      <td>0.751</td>\n",
       "      <td>-0.20</td>\n",
       "      <td>0.727</td>\n",
       "    </tr>\n",
       "    <tr>\n",
       "      <th>2</th>\n",
       "      <td>FALSE POSITIVE</td>\n",
       "      <td>K07621.01</td>\n",
       "      <td>NaN</td>\n",
       "      <td>1.86</td>\n",
       "      <td>1.187</td>\n",
       "      <td>-0.12</td>\n",
       "      <td>0.864</td>\n",
       "    </tr>\n",
       "    <tr>\n",
       "      <th>3</th>\n",
       "      <td>FALSE POSITIVE</td>\n",
       "      <td>K04162.01</td>\n",
       "      <td>NaN</td>\n",
       "      <td>9.19</td>\n",
       "      <td>5.302</td>\n",
       "      <td>-0.10</td>\n",
       "      <td>2.050</td>\n",
       "    </tr>\n",
       "    <tr>\n",
       "      <th>4</th>\n",
       "      <td>FALSE POSITIVE</td>\n",
       "      <td>K07622.01</td>\n",
       "      <td>NaN</td>\n",
       "      <td>1.50</td>\n",
       "      <td>0.620</td>\n",
       "      <td>-0.20</td>\n",
       "      <td>0.607</td>\n",
       "    </tr>\n",
       "  </tbody>\n",
       "</table>\n",
       "</div>"
      ],
      "text/plain": [
       "  NExScI Disposition   KOI Name  Kepler Name  Planet Radius  Stellar Radius  \\\n",
       "0          CONFIRMED  K00889.01  Kepler-75 b          10.51           0.843   \n",
       "1     FALSE POSITIVE  K01009.01          NaN           1.17           0.751   \n",
       "2     FALSE POSITIVE  K07621.01          NaN           1.86           1.187   \n",
       "3     FALSE POSITIVE  K04162.01          NaN           9.19           5.302   \n",
       "4     FALSE POSITIVE  K07622.01          NaN           1.50           0.620   \n",
       "\n",
       "   Metallicity  Stellar Mass  \n",
       "0        -0.08         0.821  \n",
       "1        -0.20         0.727  \n",
       "2        -0.12         0.864  \n",
       "3        -0.10         2.050  \n",
       "4        -0.20         0.607  "
      ]
     },
     "execution_count": 3,
     "metadata": {},
     "output_type": "execute_result"
    }
   ],
   "source": [
    "#fijo para todos los datos\n",
    "df_labels_train = pd.read_csv('Datos_split/koi_labels_train.csv')\n",
    "df_labels_val = pd.read_csv('Datos_split/koi_labels_val.csv')\n",
    "df_labels_test = pd.read_csv('Datos_split/koi_labels_test.csv')\n",
    "\n",
    "y_train = ((df_labels_train[\"NExScI Disposition\"]==\"CONFIRMED\")*1).values\n",
    "y_val = ((df_labels_val[\"NExScI Disposition\"]==\"CONFIRMED\")*1).values\n",
    "y_test = ((df_labels_test[\"NExScI Disposition\"]==\"CONFIRMED\")*1).values\n",
    "df_labels_train.head()"
   ]
  },
  {
   "cell_type": "code",
   "execution_count": 6,
   "metadata": {},
   "outputs": [
    {
     "data": {
      "text/plain": [
       "(4044, 5, 5)"
      ]
     },
     "execution_count": 6,
     "metadata": {},
     "output_type": "execute_result"
    }
   ],
   "source": [
    "#datos\n",
    "df_algo_train = pd.read_csv('NeuralNetwork/koi_light_curves_statistic_period_train.csv',header=None)\n",
    "df_algo_val = pd.read_csv('NeuralNetwork/koi_light_curves_statistic_period_val.csv',header=None)\n",
    "df_algo_test = pd.read_csv('NeuralNetwork/koi_light_curves_statistic_period_test.csv',header=None)\n",
    "\n",
    "#df_algo_train = pd.read_csv('Resample/koi_light_curves_resample_train.csv',header=None)\n",
    "#df_algo_val = pd.read_csv('Resample/koi_light_curves_resample_val.csv',header=None)\n",
    "#df_algo_test = pd.read_csv('Resample/koi_light_curves_resample_test.csv',header=None)\n",
    "\n",
    "\n",
    "largo = 5\n",
    "estadisticos= 5 #5 #maximo,minimo,media,std\n",
    "X_train = np.reshape(df_algo_train.values,(df_algo_train.shape[0],largo,estadisticos))\n",
    "X_val = np.reshape(df_algo_val.values,(df_algo_val.shape[0],largo,estadisticos))\n",
    "X_test = np.reshape(df_algo_test.values,(df_algo_test.shape[0],largo,estadisticos))\n",
    "X_train.shape"
   ]
  },
  {
   "cell_type": "code",
   "execution_count": 7,
   "metadata": {},
   "outputs": [
    {
     "data": {
      "image/png": "[encoded data removed]",
      "text/plain": [
       "<matplotlib.figure.Figure at 0x2aaaf610ac18>"
      ]
     },
     "metadata": {},
     "output_type": "display_data"
    }
   ],
   "source": [
    "plt.figure(figsize=(10,6))\n",
    "plt.plot(X_train[0,:,0],label=\"Maximo\")\n",
    "plt.plot(X_train[0,:,1],label=\"Minimo\")\n",
    "plt.plot(X_train[0,:,2],label=\"Media\")\n",
    "plt.plot(X_train[0,:,3],label=\"Std\")\n",
    "plt.plot(X_train[0,:,4],label=\"Skew\")\n",
    "plt.legend()\n",
    "plt.show()"
   ]
  },
  {
   "cell_type": "code",
   "execution_count": 8,
   "metadata": {},
   "outputs": [
    {
     "data": {
      "text/plain": [
       "<matplotlib.text.Text at 0x2aaaf6975208>"
      ]
     },
     "execution_count": 8,
     "metadata": {},
     "output_type": "execute_result"
    },
    {
     "name": "stderr",
     "output_type": "stream",
     "text": [
      "/etc/anaconda3/lib/python3.6/site-packages/matplotlib/font_manager.py:1297: UserWarning: findfont: Font family ['sans-serif'] not found. Falling back to DejaVu Sans\n",
      "  (prop.get_family(), self.defaultFamily[fontext]))\n"
     ]
    },
    {
     "data": {
      "image/png": "[encoded data removed]",
      "text/plain": [
       "<matplotlib.figure.Figure at 0x2aaabb6f39e8>"
      ]
     },
     "metadata": {},
     "output_type": "display_data"
    }
   ],
   "source": [
    "mask = y_train!=0 #elemntos que se quedan\n",
    "\n",
    "for i in range(len(mask)):\n",
    "    element = mask[i]\n",
    "    if element == False:\n",
    "        if np.random.rand(1)[0] < 0.6 : #deja aprox 60% de los falsos positivos\n",
    "            mask[i] = True\n",
    "import seaborn as sns\n",
    "%matplotlib inline\n",
    "plt.figure(figsize=(10,6))\n",
    "plt.title(\"TRAIN \")\n",
    "plt.bar(0, np.sum(y_train[mask]==1),color=\"blue\")\n",
    "plt.bar(1, np.sum(y_train[mask]==0),color=\"green\")\n",
    "plt.xticks([0,1],[\"CONFIRMED\",\"FALSE POSITIVE\"])\n",
    "plt.ylabel(\"Count\")"
   ]
  },
  {
   "cell_type": "code",
   "execution_count": 9,
   "metadata": {},
   "outputs": [
    {
     "data": {
      "text/plain": [
       "(2995, 5, 5)"
      ]
     },
     "execution_count": 9,
     "metadata": {},
     "output_type": "execute_result"
    }
   ],
   "source": [
    "#SUBSAMPLE\n",
    "ysample_train = y_train[mask]\n",
    "Xsample_train = X_train[mask]\n",
    "Xsample_train.shape"
   ]
  },
  {
   "cell_type": "code",
   "execution_count": 10,
   "metadata": {
    "collapsed": true
   },
   "outputs": [],
   "source": [
    "#calculo de estadisticos (\"fit\")\n",
    "minimos = Xsample_train.min(axis=(0,1), keepdims=True)\n",
    "maximos = Xsample_train.max(axis=(0,1), keepdims=True)\n",
    "\n",
    "\n",
    "#normalize between 0 and 1 every statisctic\n",
    "Xstd_train = (Xsample_train-minimos) / (maximos-minimos)\n",
    "Xstd_val = (X_val-minimos) / (maximos-minimos)\n",
    "Xstd_test = (X_train-minimos) / (maximos-minimos)"
   ]
  },
  {
   "cell_type": "code",
   "execution_count": 11,
   "metadata": {},
   "outputs": [
    {
     "data": {
      "text/plain": [
       "(2995, 5, 5)"
      ]
     },
     "execution_count": 11,
     "metadata": {},
     "output_type": "execute_result"
    }
   ],
   "source": [
    "Xstd_train.shape"
   ]
  },
  {
   "cell_type": "code",
   "execution_count": 61,
   "metadata": {},
   "outputs": [
    {
     "data": {
      "text/plain": [
       "array([ 1.])"
      ]
     },
     "execution_count": 61,
     "metadata": {},
     "output_type": "execute_result"
    }
   ],
   "source": [
    "Xstd_test.max(axis=(0,1))"
   ]
  },
  {
   "cell_type": "code",
   "execution_count": 16,
   "metadata": {
    "scrolled": true
   },
   "outputs": [
    {
     "name": "stdout",
     "output_type": "stream",
     "text": [
      "_________________________________________________________________\n",
      "Layer (type)                 Output Shape              Param #   \n",
      "=================================================================\n",
      "gru_5 (GRU)                  (None, 5, 20)             1560      \n",
      "_________________________________________________________________\n",
      "gru_6 (GRU)                  (None, 10)                930       \n",
      "_________________________________________________________________\n",
      "dense_3 (Dense)              (None, 5)                 55        \n",
      "_________________________________________________________________\n",
      "dense_4 (Dense)              (None, 1)                 6         \n",
      "=================================================================\n",
      "Total params: 2,551\n",
      "Trainable params: 2,551\n",
      "Non-trainable params: 0\n",
      "_________________________________________________________________\n",
      "Train on 2995 samples, validate on 1074 samples\n",
      "Epoch 1/100\n",
      "2995/2995 [==============================] - 4s 1ms/step - loss: 0.6941 - val_loss: 0.6819\n",
      "Epoch 2/100\n",
      "2995/2995 [==============================] - 2s 509us/step - loss: 0.6930 - val_loss: 0.6705\n",
      "Epoch 3/100\n",
      "2995/2995 [==============================] - 2s 594us/step - loss: 0.6913 - val_loss: 0.7059\n",
      "Epoch 4/100\n",
      "2995/2995 [==============================] - 1s 501us/step - loss: 0.6908 - val_loss: 0.6951\n",
      "Epoch 5/100\n",
      "2995/2995 [==============================] - 2s 605us/step - loss: 0.6866 - val_loss: 0.6997\n",
      "Epoch 6/100\n",
      "2995/2995 [==============================] - 2s 531us/step - loss: 0.6825 - val_loss: 0.6835\n",
      "Epoch 7/100\n",
      "2995/2995 [==============================] - 2s 576us/step - loss: 0.6748 - val_loss: 0.6639\n",
      "Epoch 8/100\n",
      "2995/2995 [==============================] - 2s 563us/step - loss: 0.6667 - val_loss: 0.6330\n",
      "Epoch 9/100\n",
      "2995/2995 [==============================] - 2s 553us/step - loss: 0.6643 - val_loss: 0.6647\n",
      "Epoch 10/100\n",
      "2995/2995 [==============================] - 2s 546us/step - loss: 0.6574 - val_loss: 0.6544\n",
      "Epoch 11/100\n",
      "2995/2995 [==============================] - 2s 520us/step - loss: 0.6561 - val_loss: 0.6779\n",
      "Epoch 12/100\n",
      "2995/2995 [==============================] - 1s 486us/step - loss: 0.6591 - val_loss: 0.6748\n",
      "Epoch 13/100\n",
      "2995/2995 [==============================] - 1s 435us/step - loss: 0.6626 - val_loss: 0.6191\n",
      "Epoch 14/100\n",
      "2995/2995 [==============================] - 1s 414us/step - loss: 0.6645 - val_loss: 0.6356\n",
      "Epoch 15/100\n",
      "2995/2995 [==============================] - 1s 409us/step - loss: 0.6490 - val_loss: 0.6459\n",
      "Epoch 16/100\n",
      "2995/2995 [==============================] - 1s 405us/step - loss: 0.6511 - val_loss: 0.6802\n",
      "Epoch 17/100\n",
      "2995/2995 [==============================] - 2s 558us/step - loss: 0.6545 - val_loss: 0.6461\n",
      "Epoch 18/100\n",
      "2995/2995 [==============================] - 2s 605us/step - loss: 0.6523 - val_loss: 0.6649\n",
      "Epoch 19/100\n",
      "2995/2995 [==============================] - 2s 577us/step - loss: 0.6499 - val_loss: 0.6446\n",
      "Epoch 20/100\n",
      "2995/2995 [==============================] - 2s 659us/step - loss: 0.6509 - val_loss: 0.6561\n",
      "Epoch 21/100\n",
      "2995/2995 [==============================] - 2s 653us/step - loss: 0.6524 - val_loss: 0.6387\n",
      "Epoch 22/100\n",
      "2995/2995 [==============================] - 1s 456us/step - loss: 0.6463 - val_loss: 0.6430\n",
      "Epoch 23/100\n",
      "2995/2995 [==============================] - 1s 394us/step - loss: 0.6486 - val_loss: 0.6392\n",
      "Epoch 24/100\n",
      "2995/2995 [==============================] - 1s 421us/step - loss: 0.6493 - val_loss: 0.6466\n",
      "Epoch 25/100\n",
      "2995/2995 [==============================] - 1s 457us/step - loss: 0.6490 - val_loss: 0.6365\n",
      "Epoch 26/100\n",
      "2995/2995 [==============================] - 1s 395us/step - loss: 0.6524 - val_loss: 0.6474\n",
      "Epoch 27/100\n",
      "2995/2995 [==============================] - 1s 406us/step - loss: 0.6531 - val_loss: 0.6388\n",
      "Epoch 28/100\n",
      "2995/2995 [==============================] - 1s 403us/step - loss: 0.6539 - val_loss: 0.6363\n",
      "Epoch 29/100\n",
      "2995/2995 [==============================] - 2s 667us/step - loss: 0.6496 - val_loss: 0.6529\n",
      "Epoch 30/100\n",
      "2995/2995 [==============================] - 2s 514us/step - loss: 0.6500 - val_loss: 0.6513\n",
      "Epoch 31/100\n",
      "2995/2995 [==============================] - 2s 769us/step - loss: 0.6525 - val_loss: 0.6296\n",
      "Epoch 32/100\n",
      "2995/2995 [==============================] - 2s 555us/step - loss: 0.6515 - val_loss: 0.6525\n",
      "Epoch 33/100\n",
      "2995/2995 [==============================] - 2s 540us/step - loss: 0.6535 - val_loss: 0.6462\n",
      "Epoch 34/100\n",
      "2995/2995 [==============================] - 2s 547us/step - loss: 0.6520 - val_loss: 0.6406\n",
      "Epoch 35/100\n",
      "2995/2995 [==============================] - 2s 534us/step - loss: 0.6518 - val_loss: 0.6347\n",
      "Epoch 36/100\n",
      "2995/2995 [==============================] - 1s 453us/step - loss: 0.6512 - val_loss: 0.6286\n",
      "Epoch 37/100\n",
      "2995/2995 [==============================] - 2s 545us/step - loss: 0.6570 - val_loss: 0.6527\n",
      "Epoch 38/100\n",
      "2995/2995 [==============================] - 2s 712us/step - loss: 0.6514 - val_loss: 0.6673\n",
      "Epoch 39/100\n",
      "2995/2995 [==============================] - 2s 551us/step - loss: 0.6539 - val_loss: 0.6414\n",
      "Epoch 40/100\n",
      "2995/2995 [==============================] - 3s 1ms/step - loss: 0.6488 - val_loss: 0.6441\n",
      "Epoch 41/100\n",
      "2995/2995 [==============================] - 3s 854us/step - loss: 0.6478 - val_loss: 0.6507\n",
      "Epoch 42/100\n",
      "2995/2995 [==============================] - 4s 1ms/step - loss: 0.6511 - val_loss: 0.6491\n",
      "Epoch 43/100\n",
      "2995/2995 [==============================] - 2s 603us/step - loss: 0.6499 - val_loss: 0.6422\n",
      "Epoch 44/100\n",
      "2995/2995 [==============================] - 2s 750us/step - loss: 0.6511 - val_loss: 0.6392\n",
      "Epoch 45/100\n",
      "2995/2995 [==============================] - 1s 470us/step - loss: 0.6505 - val_loss: 0.6476\n",
      "Epoch 46/100\n",
      "2995/2995 [==============================] - 1s 467us/step - loss: 0.6489 - val_loss: 0.6331\n",
      "Epoch 47/100\n",
      "2995/2995 [==============================] - 3s 868us/step - loss: 0.6502 - val_loss: 0.6392\n",
      "Epoch 48/100\n",
      "2995/2995 [==============================] - 2s 814us/step - loss: 0.6518 - val_loss: 0.6489\n",
      "Epoch 49/100\n",
      "2995/2995 [==============================] - 2s 601us/step - loss: 0.6467 - val_loss: 0.6309\n",
      "Epoch 50/100\n",
      "2995/2995 [==============================] - 3s 1ms/step - loss: 0.6441 - val_loss: 0.6385\n",
      "Epoch 51/100\n",
      "2995/2995 [==============================] - 3s 1ms/step - loss: 0.6509 - val_loss: 0.6466\n",
      "Epoch 52/100\n",
      "2995/2995 [==============================] - 2s 753us/step - loss: 0.6502 - val_loss: 0.6387\n",
      "Epoch 53/100\n",
      "2995/2995 [==============================] - 2s 504us/step - loss: 0.6484 - val_loss: 0.6378\n",
      "Epoch 54/100\n",
      "2995/2995 [==============================] - 2s 613us/step - loss: 0.6480 - val_loss: 0.6500\n",
      "Epoch 55/100\n",
      "2995/2995 [==============================] - 2s 567us/step - loss: 0.6481 - val_loss: 0.6479\n",
      "Epoch 56/100\n",
      "2995/2995 [==============================] - 1s 460us/step - loss: 0.6469 - val_loss: 0.6430\n",
      "Epoch 57/100\n",
      "2995/2995 [==============================] - 1s 378us/step - loss: 0.6510 - val_loss: 0.6437\n",
      "Epoch 58/100\n",
      "2995/2995 [==============================] - 1s 442us/step - loss: 0.6455 - val_loss: 0.6432\n",
      "Epoch 59/100\n",
      "2995/2995 [==============================] - 1s 382us/step - loss: 0.6475 - val_loss: 0.6429\n",
      "Epoch 60/100\n",
      "2995/2995 [==============================] - 1s 451us/step - loss: 0.6513 - val_loss: 0.6180\n",
      "Epoch 61/100\n",
      "2995/2995 [==============================] - 1s 465us/step - loss: 0.6467 - val_loss: 0.6503\n",
      "Epoch 62/100\n",
      "2995/2995 [==============================] - 1s 381us/step - loss: 0.6486 - val_loss: 0.6468\n",
      "Epoch 63/100\n",
      "2995/2995 [==============================] - 1s 385us/step - loss: 0.6465 - val_loss: 0.6329\n",
      "Epoch 64/100\n",
      "2995/2995 [==============================] - 1s 381us/step - loss: 0.6486 - val_loss: 0.6460\n",
      "Epoch 65/100\n",
      "2995/2995 [==============================] - 2s 798us/step - loss: 0.6485 - val_loss: 0.6363\n",
      "Epoch 66/100\n",
      "2995/2995 [==============================] - 2s 581us/step - loss: 0.6431 - val_loss: 0.6315\n",
      "Epoch 67/100\n",
      "2995/2995 [==============================] - 2s 534us/step - loss: 0.6509 - val_loss: 0.6370\n",
      "Epoch 68/100\n",
      "2995/2995 [==============================] - 2s 521us/step - loss: 0.6478 - val_loss: 0.6442\n",
      "Epoch 69/100\n"
     ]
    },
    {
     "name": "stdout",
     "output_type": "stream",
     "text": [
      "2995/2995 [==============================] - 2s 695us/step - loss: 0.6475 - val_loss: 0.6410\n",
      "Epoch 70/100\n",
      "2995/2995 [==============================] - 2s 691us/step - loss: 0.6508 - val_loss: 0.6420\n",
      "Epoch 71/100\n",
      "2995/2995 [==============================] - 2s 523us/step - loss: 0.6528 - val_loss: 0.6181\n",
      "Epoch 72/100\n",
      "2995/2995 [==============================] - 2s 795us/step - loss: 0.6475 - val_loss: 0.6311\n",
      "Epoch 73/100\n",
      "2995/2995 [==============================] - 2s 689us/step - loss: 0.6452 - val_loss: 0.6425\n",
      "Epoch 74/100\n",
      "2995/2995 [==============================] - 2s 688us/step - loss: 0.6530 - val_loss: 0.6444\n",
      "Epoch 75/100\n",
      "2995/2995 [==============================] - 3s 994us/step - loss: 0.6500 - val_loss: 0.6541\n",
      "Epoch 76/100\n",
      "2995/2995 [==============================] - 2s 697us/step - loss: 0.6473 - val_loss: 0.6311\n",
      "Epoch 77/100\n",
      "2995/2995 [==============================] - 2s 535us/step - loss: 0.6442 - val_loss: 0.6322\n",
      "Epoch 78/100\n",
      "2995/2995 [==============================] - 1s 456us/step - loss: 0.6482 - val_loss: 0.6394\n",
      "Epoch 79/100\n",
      "2995/2995 [==============================] - 1s 476us/step - loss: 0.6478 - val_loss: 0.6340\n",
      "Epoch 80/100\n",
      "2995/2995 [==============================] - 1s 493us/step - loss: 0.6479 - val_loss: 0.6397\n",
      "Epoch 81/100\n",
      "2995/2995 [==============================] - 2s 567us/step - loss: 0.6470 - val_loss: 0.6347\n",
      "Epoch 82/100\n",
      "2995/2995 [==============================] - 2s 514us/step - loss: 0.6457 - val_loss: 0.6297\n",
      "Epoch 83/100\n",
      "2995/2995 [==============================] - 2s 531us/step - loss: 0.6413 - val_loss: 0.6195\n",
      "Epoch 84/100\n",
      "2995/2995 [==============================] - 2s 529us/step - loss: 0.6483 - val_loss: 0.6242\n",
      "Epoch 85/100\n",
      "2995/2995 [==============================] - 2s 625us/step - loss: 0.6501 - val_loss: 0.6329\n",
      "Epoch 86/100\n",
      "2995/2995 [==============================] - 2s 510us/step - loss: 0.6450 - val_loss: 0.6349\n",
      "Epoch 87/100\n",
      "2995/2995 [==============================] - 1s 463us/step - loss: 0.6502 - val_loss: 0.6404\n",
      "Epoch 88/100\n",
      "2995/2995 [==============================] - 1s 420us/step - loss: 0.6462 - val_loss: 0.6320\n",
      "Epoch 89/100\n",
      "2995/2995 [==============================] - 3s 989us/step - loss: 0.6464 - val_loss: 0.6427\n",
      "Epoch 90/100\n",
      "2995/2995 [==============================] - 3s 931us/step - loss: 0.6514 - val_loss: 0.6371\n",
      "Epoch 91/100\n",
      "2995/2995 [==============================] - 3s 843us/step - loss: 0.6491 - val_loss: 0.6335\n",
      "Epoch 92/100\n",
      "2995/2995 [==============================] - 2s 585us/step - loss: 0.6484 - val_loss: 0.6159\n",
      "Epoch 93/100\n",
      "2995/2995 [==============================] - 2s 739us/step - loss: 0.6417 - val_loss: 0.6375\n",
      "Epoch 94/100\n",
      "2995/2995 [==============================] - 2s 505us/step - loss: 0.6452 - val_loss: 0.6364\n",
      "Epoch 95/100\n",
      "2995/2995 [==============================] - 1s 359us/step - loss: 0.6462 - val_loss: 0.6339\n",
      "Epoch 96/100\n",
      "2995/2995 [==============================] - 3s 1ms/step - loss: 0.6455 - val_loss: 0.6342\n",
      "Epoch 97/100\n",
      "2995/2995 [==============================] - 1s 379us/step - loss: 0.6459 - val_loss: 0.6325\n",
      "Epoch 98/100\n",
      "2995/2995 [==============================] - 1s 429us/step - loss: 0.6469 - val_loss: 0.6424\n",
      "Epoch 99/100\n",
      "2995/2995 [==============================] - 1s 463us/step - loss: 0.6484 - val_loss: 0.6218\n",
      "Epoch 100/100\n",
      "2995/2995 [==============================] - ETA: 0s - loss: 0.646 - 1s 401us/step - loss: 0.6448 - val_loss: 0.6370\n"
     ]
    },
    {
     "data": {
      "text/plain": [
       "<keras.callbacks.History at 0x2aac26bddd68>"
      ]
     },
     "execution_count": 16,
     "metadata": {},
     "output_type": "execute_result"
    }
   ],
   "source": [
    "from keras.layers import Input, LSTM, RepeatVector,GRU,Dense, Bidirectional\n",
    "from keras.models import Model,Sequential\n",
    "from keras.callbacks import TensorBoard\n",
    "\n",
    "batch_size=16\n",
    "timesteps= largo\n",
    "input_dim = estadisticos\n",
    "\n",
    "model = Sequential()\n",
    "\n",
    "model.add(GRU(20, input_shape=(timesteps, input_dim), return_sequences=True,dropout=0.2))\n",
    "#model.add(GRU(5, return_sequences=True,activation='sigmoid))\n",
    "model.add(GRU(10, return_sequences=False))\n",
    "\n",
    "#model.add(GRU(5, return_sequences=False,activation='sigmoid))\n",
    "\n",
    "model.add(Dense(5, activation='relu'))\n",
    "\n",
    "model.add(Dense(1, activation='sigmoid'))\n",
    "\n",
    "model.summary()\n",
    "\n",
    "#rmsprop\n",
    "model.compile(loss='binary_crossentropy', optimizer='adam')\n",
    "model.fit(Xstd_train, ysample_train, epochs=100, batch_size=batch_size,\n",
    "          validation_data=(Xstd_val,y_val))\n",
    "\n",
    "#deeper\n",
    "#encoded = LSTM(units = 10, return_sequences=True)(inputs) #probar sigmoid\n",
    "#encoded = LSTM(units = 25, return_sequences=True,dropout=0.2)(inputs) #probar sigmoid\n",
    "\n",
    "#encoded = LSTM(latent_dim, return_sequences=False, activation='sigmoid')(encoded)"
   ]
  },
  {
   "cell_type": "code",
   "execution_count": 29,
   "metadata": {},
   "outputs": [
    {
     "data": {
      "text/plain": [
       "(2994, 100, 5)"
      ]
     },
     "execution_count": 29,
     "metadata": {},
     "output_type": "execute_result"
    }
   ],
   "source": [
    "Xstd_train[:,-100:,:].shape"
   ]
  },
  {
   "cell_type": "code",
   "execution_count": 71,
   "metadata": {},
   "outputs": [
    {
     "data": {
      "text/plain": [
       "array([[1],\n",
       "       [1],\n",
       "       [1],\n",
       "       ..., \n",
       "       [1],\n",
       "       [1],\n",
       "       [1]], dtype=int32)"
      ]
     },
     "execution_count": 71,
     "metadata": {},
     "output_type": "execute_result"
    }
   ],
   "source": [
    "predict = model.predict_classes(Xstd_val)\n",
    "predict"
   ]
  },
  {
   "cell_type": "code",
   "execution_count": 73,
   "metadata": {},
   "outputs": [
    {
     "data": {
      "text/plain": [
       "1074"
      ]
     },
     "execution_count": 73,
     "metadata": {},
     "output_type": "execute_result"
    }
   ],
   "source": [
    "np.sum(predict==1)"
   ]
  },
  {
   "cell_type": "code",
   "execution_count": 43,
   "metadata": {},
   "outputs": [
    {
     "data": {
      "text/plain": [
       "(1074,)"
      ]
     },
     "execution_count": 43,
     "metadata": {},
     "output_type": "execute_result"
    }
   ],
   "source": [
    "y_val.shape"
   ]
  },
  {
   "cell_type": "code",
   "execution_count": null,
   "metadata": {
    "collapsed": true
   },
   "outputs": [],
   "source": []
  },
  {
   "cell_type": "code",
   "execution_count": 17,
   "metadata": {},
   "outputs": [
    {
     "name": "stdout",
     "output_type": "stream",
     "text": [
      "precision en validation [ 0.93959732  0.40972973]\n",
      "recall en validation [ 0.20408163  0.97680412]\n",
      "f1-score en Validation 0.422747\n"
     ]
    }
   ],
   "source": [
    "ypred_val = model.predict_classes(Xstd_val[:,-300:,:])\n",
    "f1,p,r = calculate_metrics(y_val,ypred_val)\n",
    "print(\"precision en validation\",p)\n",
    "print(\"recall en validation\",r)\n",
    "print(\"f1-score en Validation %f\"%(f1))"
   ]
  }
 ],
 "metadata": {
  "kernelspec": {
   "display_name": "Python 2",
   "language": "python",
   "name": "python2"
  },
  "language_info": {
   "codemirror_mode": {
    "name": "ipython",
    "version": 3
   },
   "file_extension": ".py",
   "mimetype": "text/x-python",
   "name": "python",
   "nbconvert_exporter": "python",
   "pygments_lexer": "ipython3",
   "version": "3.6.1"
  }
 },
 "nbformat": 4,
 "nbformat_minor": 2
}
