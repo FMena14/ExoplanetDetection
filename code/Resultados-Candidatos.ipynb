{
 "cells": [
  {
   "cell_type": "code",
   "execution_count": 1,
   "metadata": {
    "collapsed": true
   },
   "outputs": [],
   "source": [
    "### Entrenar con todo\n",
    "import pandas as pd\n",
    "import numpy as np\n",
    "\n",
    "df_train = pd.read_csv(\"Datos/  .csv\",header=None)\n",
    "#df_val = pd.read_csv(\"Datos_split/koi_light_curves_val.csv\",header=None)\n",
    "df_test = pd.read_csv(\"Datos/koi_light_curves_test.csv\",header=None)\n",
    "df_candidates = pd.read_csv(\"Datos_split/koi_light_curves_candidate.csv\",header=None)\n",
    "\n",
    "df_labels_train = pd.read_csv('Datos_split/koi_labels_train.csv')\n",
    "df_labels_val = pd.read_csv('Datos_split/koi_labels_val.csv')\n",
    "df_labels_test = pd.read_csv('Datos_split/koi_labels_test.csv')\n",
    "\n",
    "y_train = ((df_labels_train[\"NExScI Disposition\"]==\"CONFIRMED\")*1).values\n",
    "y_val = ((df_labels_val[\"NExScI Disposition\"]==\"CONFIRMED\")*1).values\n",
    "y_test = ((df_labels_test[\"NExScI Disposition\"]==\"CONFIRMED\")*1).values\n",
    "\n",
    "X_train = np.concatenate((df_train.values, df_val.values,df_test.values), axis=0)\n",
    "y_train = np.concatenate((y_train, y_val,y_test), axis=0)\n",
    "\n",
    "X_candidates = df_candidates.values\n",
    "\n",
    "Xfull_train = np.concatenate((X_train,X_candidates), axis=0)\n",
    "del df_train\n",
    "del df_val\n",
    "del df_test\n",
    "del df_candidates\n",
    "del df_labels_train\n",
    "del df_labels_val\n",
    "del df_labels_test"
   ]
  },
  {
   "cell_type": "code",
   "execution_count": 2,
   "metadata": {},
   "outputs": [
    {
     "data": {
      "text/plain": [
       "(6257, 71427)"
      ]
     },
     "execution_count": 2,
     "metadata": {},
     "output_type": "execute_result"
    }
   ],
   "source": [
    "X_train.shape"
   ]
  },
  {
   "cell_type": "code",
   "execution_count": 4,
   "metadata": {
    "collapsed": true
   },
   "outputs": [],
   "source": [
    "##Extraer caract con el modelo elegido\n",
    "import numpy as np\n",
    "from sklearn.preprocessing import StandardScaler\n",
    "from sklearn.decomposition import IncrementalPCA\n",
    "\n",
    "#modelo\n",
    "d=55\n",
    "model =  IncrementalPCA(d)\n",
    "std = StandardScaler(with_mean=True,with_std=False) #sin sacar varianza\n",
    "\n",
    "##TODOS LOS DATOS##\n",
    "Xfull_train = np.nan_to_num(Xfull_train)\n",
    "#fourier\n",
    "Xfull_fourier = np.abs(np.fft.fft(Xfull_train))\n",
    "std.fit(Xfull_fourier)\n",
    "\n",
    "Xfull_fourier = std.transform(Xfull_fourier)\n",
    "\n",
    "#entrenar con full train (todo)\n",
    "model.fit(Xfull_fourier)\n",
    "\n",
    "##AJUSTAR LOS TRAIN Y CANDIDATES\n",
    "X_train = np.nan_to_num(X_train)\n",
    "X_candidates = np.nan_to_num(X_candidates)\n",
    "#fourier\n",
    "Xtrain_fourier = np.abs(np.fft.fft(X_train))\n",
    "Xcandidates_fourier = np.abs(np.fft.fft(X_candidates))\n",
    "\n",
    "Xpca_train = model.transform(Xtrain_fourier)\n",
    "Xpca_candidate = model.transform(Xcandidates_fourier)"
   ]
  },
  {
   "cell_type": "code",
   "execution_count": 5,
   "metadata": {},
   "outputs": [
    {
     "data": {
      "text/plain": [
       "(6257, 55)"
      ]
     },
     "execution_count": 5,
     "metadata": {},
     "output_type": "execute_result"
    }
   ],
   "source": [
    "Xpca_train.shape"
   ]
  },
  {
   "cell_type": "code",
   "execution_count": null,
   "metadata": {
    "collapsed": true
   },
   "outputs": [],
   "source": []
  },
  {
   "cell_type": "code",
   "execution_count": 7,
   "metadata": {},
   "outputs": [
    {
     "data": {
      "text/plain": [
       "(4639, 55)"
      ]
     },
     "execution_count": 7,
     "metadata": {},
     "output_type": "execute_result"
    },
    {
     "name": "stderr",
     "output_type": "stream",
     "text": [
      "/home/anaconda2/lib/python2.7/site-packages/matplotlib/font_manager.py:1297: UserWarning: findfont: Font family [u'sans-serif'] not found. Falling back to DejaVu Sans\n",
      "  (prop.get_family(), self.defaultFamily[fontext]))\n"
     ]
    },
    {
     "data": {
      "image/png": "[encoded data removed]",
      "text/plain": [
       "<matplotlib.figure.Figure at 0x2aaaef9c6710>"
      ]
     },
     "metadata": {},
     "output_type": "display_data"
    }
   ],
   "source": [
    "#subsamplear si no es el balanced..\n",
    "mask = y_train!=0 #elemntos que se quedan\n",
    "\n",
    "for i in range(len(mask)):\n",
    "    element = mask[i]\n",
    "    if element == False:\n",
    "        if np.random.rand(1)[0] < 0.6 : #deja aprox 60% de los falsos positivos\n",
    "            mask[i] = True\n",
    "import seaborn as sns\n",
    "import matplotlib.pyplot as plt\n",
    "%matplotlib inline\n",
    "plt.figure(figsize=(10,6))\n",
    "plt.title(\"TRAIN \")\n",
    "plt.bar(0, np.sum(y_train[mask]==1),color=\"blue\")\n",
    "plt.bar(1, np.sum(y_train[mask]==0),color=\"green\")\n",
    "plt.xticks([0,1],[\"CONFIRMED\",\"FALSE POSITIVE\"])\n",
    "plt.ylabel(\"Count\")\n",
    "\n",
    "ysample_train = y_train[mask]\n",
    "Xsample_train = Xpca_train[mask]\n",
    "Xsample_train.shape"
   ]
  },
  {
   "cell_type": "code",
   "execution_count": 8,
   "metadata": {
    "collapsed": true
   },
   "outputs": [],
   "source": [
    "from sklearn.preprocessing import StandardScaler\n",
    "std = StandardScaler()\n",
    "std.fit(asd)\n",
    "\n",
    "Xstd_train = std.transform(asd)\n",
    "Xstd_candidates = std.transform(asd)"
   ]
  },
  {
   "cell_type": "code",
   "execution_count": 20,
   "metadata": {},
   "outputs": [
    {
     "data": {
      "text/plain": [
       "SVC(C=1000, cache_size=200, class_weight=None, coef0=0.0,\n",
       "  decision_function_shape=None, degree=3, gamma='auto', kernel='rbf',\n",
       "  max_iter=-1, probability=False, random_state=None, shrinking=True,\n",
       "  tol=0.001, verbose=False)"
      ]
     },
     "execution_count": 20,
     "metadata": {},
     "output_type": "execute_result"
    }
   ],
   "source": [
    "#algoritmo elegido\n",
    "from sklearn.svm import SVC\n",
    "model = SVC(kernel= 'rbf',C=c,gamma='auto',class_weight = 'balanced')\n",
    "model.fit(Xstd_train,ysample_train)"
   ]
  },
  {
   "cell_type": "code",
   "execution_count": 22,
   "metadata": {},
   "outputs": [
    {
     "data": {
      "text/plain": [
       "(1797,)"
      ]
     },
     "execution_count": 22,
     "metadata": {},
     "output_type": "execute_result"
    }
   ],
   "source": [
    "ypred_candidates = model.predict(Xstd_candidates) # o Xstd_candidates\n",
    "ypred_candidates.shape"
   ]
  },
  {
   "cell_type": "code",
   "execution_count": 18,
   "metadata": {},
   "outputs": [
    {
     "data": {
      "text/plain": [
       "array([1, 1, 1, ..., 1, 1, 1])"
      ]
     },
     "execution_count": 18,
     "metadata": {},
     "output_type": "execute_result"
    }
   ],
   "source": [
    "ypred_candidates"
   ]
  },
  {
   "cell_type": "code",
   "execution_count": 23,
   "metadata": {},
   "outputs": [
    {
     "name": "stdout",
     "output_type": "stream",
     "text": [
      "('Cantidad de Confirmados %d', 1708)\n",
      "('Cantidad de Falsos positivos(noconfirmados) %d', 89)\n"
     ]
    }
   ],
   "source": [
    "print(\"Cantidad de Confirmados %d\",np.sum(ypred_candidates))\n",
    "print(\"Cantidad de Falsos positivos(noconfirmados) %d\",(len(ypred_candidates)-np.sum(ypred_candidates)))"
   ]
  },
  {
   "cell_type": "code",
   "execution_count": 24,
   "metadata": {},
   "outputs": [
    {
     "data": {
      "text/plain": [
       "RandomForestClassifier(bootstrap=True, class_weight=None, criterion='gini',\n",
       "            max_depth=15, max_features='auto', max_leaf_nodes=None,\n",
       "            min_impurity_split=1e-07, min_samples_leaf=1,\n",
       "            min_samples_split=2, min_weight_fraction_leaf=0.0,\n",
       "            n_estimators=18, n_jobs=-1, oob_score=False, random_state=None,\n",
       "            verbose=0, warm_start=False)"
      ]
     },
     "execution_count": 24,
     "metadata": {},
     "output_type": "execute_result"
    }
   ],
   "source": [
    "from sklearn.ensemble import RandomForestClassifier\n",
    "model = RandomForestClassifier(n_estimators=15,max_depth=10,n_jobs=-1,class_weight = 'balanced') \n",
    "model.fit(asd,asd)"
   ]
  },
  {
   "cell_type": "code",
   "execution_count": 25,
   "metadata": {
    "collapsed": true
   },
   "outputs": [],
   "source": [
    "ypred_candidates = model.predict(asd) "
   ]
  },
  {
   "cell_type": "code",
   "execution_count": 26,
   "metadata": {},
   "outputs": [
    {
     "name": "stdout",
     "output_type": "stream",
     "text": [
      "('Cantidad de Confirmados %d', 1259)\n",
      "('Cantidad de Falsos positivos(noconfirmados) %d', 538)\n"
     ]
    }
   ],
   "source": [
    "print(\"Cantidad de Confirmados %d\",np.sum(ypred_candidates))\n",
    "print(\"Cantidad de Falsos positivos(noconfirmados) %d\",(len(ypred_candidates)-np.sum(ypred_candidates)))"
   ]
  },
  {
   "cell_type": "code",
   "execution_count": null,
   "metadata": {
    "collapsed": true
   },
   "outputs": [],
   "source": [
    "\n",
    "#mostrar nombres? ra dec?\n",
    "labels_candidates = pd.read_csv('Datos_split/koi_labels_candidate.csv.csv')\n",
    "labels_candidates.head()"
   ]
  }
 ],
 "metadata": {
  "kernelspec": {
   "display_name": "Python 2",
   "language": "python",
   "name": "python2"
  },
  "language_info": {
   "codemirror_mode": {
    "name": "ipython",
    "version": 2
   },
   "file_extension": ".py",
   "mimetype": "text/x-python",
   "name": "python",
   "nbconvert_exporter": "python",
   "pygments_lexer": "ipython2",
   "version": "2.7.15"
  }
 },
 "nbformat": 4,
 "nbformat_minor": 2
}
