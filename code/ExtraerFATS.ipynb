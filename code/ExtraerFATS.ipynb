{
 "cells": [
  {
   "cell_type": "code",
   "execution_count": 1,
   "metadata": {},
   "outputs": [
    {
     "name": "stdout",
     "output_type": "stream",
     "text": [
      "koi_labels_candidate.csv  koi_light_curves_candidate.csv\r\n",
      "koi_labels_test.csv\t  koi_light_curves_test.csv\r\n",
      "koi_labels_train.csv\t  koi_light_curves_train.csv\r\n",
      "koi_labels_val.csv\t  koi_light_curves_val.csv\r\n"
     ]
    }
   ],
   "source": [
    "!ls Datos_split/"
   ]
  },
  {
   "cell_type": "code",
   "execution_count": 2,
   "metadata": {
    "collapsed": true
   },
   "outputs": [],
   "source": [
    "import warnings\n",
    "warnings.filterwarnings('ignore')"
   ]
  },
  {
   "cell_type": "code",
   "execution_count": 3,
   "metadata": {
    "scrolled": false
   },
   "outputs": [
    {
     "name": "stdout",
     "output_type": "stream",
     "text": [
      "Warning: the feature Beyond1Std could not be calculated because ['magnitude', 'error'] are needed.\n",
      "Warning: the feature CAR_mean could not be calculated because ['magnitude', 'time', 'error'] are needed.\n",
      "Warning: the feature CAR_sigma could not be calculated because ['magnitude', 'time', 'error'] are needed.\n",
      "Warning: the feature CAR_tau could not be calculated because ['magnitude', 'time', 'error'] are needed.\n",
      "Warning: the feature Color could not be calculated because ['magnitude', 'time', 'magnitude2'] are needed.\n",
      "Warning: the feature Eta_color could not be calculated because ['magnitude', 'time', 'magnitude2'] are needed.\n",
      "Warning: the feature Q31_color could not be calculated because ['magnitude', 'time', 'magnitude2'] are needed.\n",
      "Warning: the feature StetsonJ could not be calculated because ['magnitude', 'time', 'error', 'magnitude2', 'error2'] are needed.\n",
      "Warning: the feature StetsonK could not be calculated because ['magnitude', 'error'] are needed.\n",
      "Warning: the feature StetsonL could not be calculated because ['magnitude', 'time', 'error', 'magnitude2', 'error2'] are needed.\n",
      "Termino en 12.516811 segundos\n"
     ]
    },
    {
     "data": {
      "text/plain": [
       "{'Amplitude': 0.47528001055681457,\n",
       " 'AndersonDarling': 1.0,\n",
       " 'Autocor_length': 1.0,\n",
       " 'Con': 0.0,\n",
       " 'Eta_e': 1.9737367290234138,\n",
       " 'FluxPercentileRatioMid20': 0.22316396701247973,\n",
       " 'FluxPercentileRatioMid35': 0.37293943827141829,\n",
       " 'FluxPercentileRatioMid50': 0.53216329552147645,\n",
       " 'FluxPercentileRatioMid65': 0.7092926584782373,\n",
       " 'FluxPercentileRatioMid80': 0.88565351992636576,\n",
       " 'Freq1_harmonics_amplitude_0': 0.028910907649750524,\n",
       " 'Freq1_harmonics_amplitude_1': 0.0081067897076466874,\n",
       " 'Freq1_harmonics_amplitude_2': 0.0072152260786718632,\n",
       " 'Freq1_harmonics_amplitude_3': 0.0048802292586874046,\n",
       " 'Freq1_harmonics_rel_phase_0': 0.0,\n",
       " 'Freq1_harmonics_rel_phase_1': -0.47610252076985216,\n",
       " 'Freq1_harmonics_rel_phase_2': -1.20288479104943,\n",
       " 'Freq1_harmonics_rel_phase_3': 1.0603130320323844,\n",
       " 'Freq2_harmonics_amplitude_0': 0.028601910690315983,\n",
       " 'Freq2_harmonics_amplitude_1': 0.0083295212319006544,\n",
       " 'Freq2_harmonics_amplitude_2': 0.0060294940526573644,\n",
       " 'Freq2_harmonics_amplitude_3': 0.0019914504075881265,\n",
       " 'Freq2_harmonics_rel_phase_0': 0.0,\n",
       " 'Freq2_harmonics_rel_phase_1': 1.4924142464349164,\n",
       " 'Freq2_harmonics_rel_phase_2': 0.61605804518311058,\n",
       " 'Freq2_harmonics_rel_phase_3': 0.61102590714961491,\n",
       " 'Freq3_harmonics_amplitude_0': 0.02834915829935087,\n",
       " 'Freq3_harmonics_amplitude_1': 0.0090738189993907342,\n",
       " 'Freq3_harmonics_amplitude_2': 0.0099564785523166867,\n",
       " 'Freq3_harmonics_amplitude_3': 0.0035277857686741199,\n",
       " 'Freq3_harmonics_rel_phase_0': 0.0,\n",
       " 'Freq3_harmonics_rel_phase_1': 0.89479311561528885,\n",
       " 'Freq3_harmonics_rel_phase_2': 2.5783750843319644,\n",
       " 'Freq3_harmonics_rel_phase_3': 2.2677363615798449,\n",
       " 'LinearTrend': -8.7885327883300622e-06,\n",
       " 'MaxSlope': 0.99264480105881792,\n",
       " 'Mean': 0.5029743491724995,\n",
       " 'Meanvariance': 0.57057284359847193,\n",
       " 'MedianAbsDev': 0.24312546082189224,\n",
       " 'MedianBRP': 0.19800000000000001,\n",
       " 'PairSlopeTrend': 0.10000000000000001,\n",
       " 'PercentAmplitude': 0.99885903376284635,\n",
       " 'PercentDifferenceFluxPercentile': 1.8111289337954979,\n",
       " 'Q31': 0.48230969631630599,\n",
       " 'Rcs': 0.031176431327318798,\n",
       " 'Skew': -0.00071369333579923493,\n",
       " 'SmallKurtosis': -1.1609760599301646,\n",
       " 'Std': 0.28698350466444378}"
      ]
     },
     "execution_count": 3,
     "metadata": {},
     "output_type": "execute_result"
    }
   ],
   "source": [
    "import FATS\n",
    "import numpy as np\n",
    "import time\n",
    "\n",
    "time_ex = np.arange(3000)\n",
    "magnitude_ex = np.random.rand(3000)\n",
    "\n",
    "lc_example = np.array([magnitude_ex, time_ex])\n",
    "\n",
    "time_start = time.time()\n",
    "#a = FATS.FeatureSpace(Data=['magnitude','time'],excludeList= ['SlottedA_length','PeriodLS','StetsonK_AC',\"Period_fit\",\"Psi_CS\",\"Psi_eta\"])\n",
    "#SACAR DE EXCLUDE PERIODLS\n",
    "a = a.calculateFeature(lc_example)\n",
    "print(\"Termino en %f segundos\"%(time.time()-time_start))\n",
    "a.result(method='dict')"
   ]
  },
  {
   "cell_type": "code",
   "execution_count": 4,
   "metadata": {},
   "outputs": [
    {
     "name": "stdout",
     "output_type": "stream",
     "text": [
      "('Caracteristicas: ', 48)\n"
     ]
    }
   ],
   "source": [
    "features = a.result(method='dict').keys()\n",
    "print(\"Caracteristicas: \",len(features))"
   ]
  },
  {
   "cell_type": "code",
   "execution_count": 1,
   "metadata": {},
   "outputs": [
    {
     "data": {
      "text/html": [
       "<div>\n",
       "<style>\n",
       "    .dataframe thead tr:only-child th {\n",
       "        text-align: right;\n",
       "    }\n",
       "\n",
       "    .dataframe thead th {\n",
       "        text-align: left;\n",
       "    }\n",
       "\n",
       "    .dataframe tbody tr th {\n",
       "        vertical-align: top;\n",
       "    }\n",
       "</style>\n",
       "<table border=\"1\" class=\"dataframe\">\n",
       "  <thead>\n",
       "    <tr style=\"text-align: right;\">\n",
       "      <th></th>\n",
       "      <th>KOI Name</th>\n",
       "      <th>Period</th>\n",
       "      <th>Transit Depth</th>\n",
       "      <th>Teq</th>\n",
       "      <th>KOI count</th>\n",
       "      <th>Planet Radius</th>\n",
       "      <th>Teff</th>\n",
       "      <th>log(g)</th>\n",
       "      <th>Metallicity</th>\n",
       "      <th>Stellar Radius</th>\n",
       "      <th>Stellar Mass</th>\n",
       "    </tr>\n",
       "  </thead>\n",
       "  <tbody>\n",
       "    <tr>\n",
       "      <th>0</th>\n",
       "      <td>K00889.01</td>\n",
       "      <td>8.884923</td>\n",
       "      <td>16053.4</td>\n",
       "      <td>770.0</td>\n",
       "      <td>1</td>\n",
       "      <td>10.51</td>\n",
       "      <td>5332.0</td>\n",
       "      <td>4.500</td>\n",
       "      <td>-0.08</td>\n",
       "      <td>0.843</td>\n",
       "      <td>0.821</td>\n",
       "    </tr>\n",
       "    <tr>\n",
       "      <th>1</th>\n",
       "      <td>K01009.01</td>\n",
       "      <td>5.092465</td>\n",
       "      <td>254.0</td>\n",
       "      <td>844.0</td>\n",
       "      <td>1</td>\n",
       "      <td>1.17</td>\n",
       "      <td>5037.0</td>\n",
       "      <td>4.547</td>\n",
       "      <td>-0.20</td>\n",
       "      <td>0.751</td>\n",
       "      <td>0.727</td>\n",
       "    </tr>\n",
       "    <tr>\n",
       "      <th>2</th>\n",
       "      <td>K07621.01</td>\n",
       "      <td>275.073650</td>\n",
       "      <td>228.9</td>\n",
       "      <td>303.0</td>\n",
       "      <td>1</td>\n",
       "      <td>1.86</td>\n",
       "      <td>5604.0</td>\n",
       "      <td>4.226</td>\n",
       "      <td>-0.12</td>\n",
       "      <td>1.187</td>\n",
       "      <td>0.864</td>\n",
       "    </tr>\n",
       "    <tr>\n",
       "      <th>3</th>\n",
       "      <td>K06252.01</td>\n",
       "      <td>8.460439</td>\n",
       "      <td>76412.9</td>\n",
       "      <td>804.0</td>\n",
       "      <td>1</td>\n",
       "      <td>36.62</td>\n",
       "      <td>5951.0</td>\n",
       "      <td>4.638</td>\n",
       "      <td>-1.06</td>\n",
       "      <td>0.702</td>\n",
       "      <td>0.796</td>\n",
       "    </tr>\n",
       "    <tr>\n",
       "      <th>4</th>\n",
       "      <td>K00958.01</td>\n",
       "      <td>21.761298</td>\n",
       "      <td>1300.7</td>\n",
       "      <td>486.0</td>\n",
       "      <td>1</td>\n",
       "      <td>2.53</td>\n",
       "      <td>4859.0</td>\n",
       "      <td>4.612</td>\n",
       "      <td>0.00</td>\n",
       "      <td>0.720</td>\n",
       "      <td>0.781</td>\n",
       "    </tr>\n",
       "  </tbody>\n",
       "</table>\n",
       "</div>"
      ],
      "text/plain": [
       "    KOI Name      Period  Transit Depth    Teq  KOI count  Planet Radius  \\\n",
       "0  K00889.01    8.884923        16053.4  770.0          1          10.51   \n",
       "1  K01009.01    5.092465          254.0  844.0          1           1.17   \n",
       "2  K07621.01  275.073650          228.9  303.0          1           1.86   \n",
       "3  K06252.01    8.460439        76412.9  804.0          1          36.62   \n",
       "4  K00958.01   21.761298         1300.7  486.0          1           2.53   \n",
       "\n",
       "     Teff  log(g)  Metallicity  Stellar Radius  Stellar Mass  \n",
       "0  5332.0   4.500        -0.08           0.843         0.821  \n",
       "1  5037.0   4.547        -0.20           0.751         0.727  \n",
       "2  5604.0   4.226        -0.12           1.187         0.864  \n",
       "3  5951.0   4.638        -1.06           0.702         0.796  \n",
       "4  4859.0   4.612         0.00           0.720         0.781  "
      ]
     },
     "execution_count": 1,
     "metadata": {},
     "output_type": "execute_result"
    }
   ],
   "source": [
    "import pandas as pd\n",
    "df_metadata = pd.read_csv('OwnFats/columnas_metadatos.csv')\n",
    "df_metadata_stellar = pd.read_csv('OwnFats/columnas_metadatos_estrella.csv')\n",
    "\n",
    "df_metadata_stellar.head()"
   ]
  },
  {
   "cell_type": "code",
   "execution_count": 2,
   "metadata": {},
   "outputs": [
    {
     "data": {
      "text/html": [
       "<div>\n",
       "<style>\n",
       "    .dataframe thead tr:only-child th {\n",
       "        text-align: right;\n",
       "    }\n",
       "\n",
       "    .dataframe thead th {\n",
       "        text-align: left;\n",
       "    }\n",
       "\n",
       "    .dataframe tbody tr th {\n",
       "        vertical-align: top;\n",
       "    }\n",
       "</style>\n",
       "<table border=\"1\" class=\"dataframe\">\n",
       "  <thead>\n",
       "    <tr style=\"text-align: right;\">\n",
       "      <th></th>\n",
       "      <th>KOI Name</th>\n",
       "      <th>Period</th>\n",
       "      <th>Transit Depth</th>\n",
       "      <th>Teq</th>\n",
       "      <th>KOI count</th>\n",
       "      <th>Planet Radius</th>\n",
       "    </tr>\n",
       "  </thead>\n",
       "  <tbody>\n",
       "    <tr>\n",
       "      <th>0</th>\n",
       "      <td>K00889.01</td>\n",
       "      <td>8.884923</td>\n",
       "      <td>16053.4</td>\n",
       "      <td>770.0</td>\n",
       "      <td>1</td>\n",
       "      <td>10.51</td>\n",
       "    </tr>\n",
       "    <tr>\n",
       "      <th>1</th>\n",
       "      <td>K01009.01</td>\n",
       "      <td>5.092465</td>\n",
       "      <td>254.0</td>\n",
       "      <td>844.0</td>\n",
       "      <td>1</td>\n",
       "      <td>1.17</td>\n",
       "    </tr>\n",
       "    <tr>\n",
       "      <th>2</th>\n",
       "      <td>K07621.01</td>\n",
       "      <td>275.073650</td>\n",
       "      <td>228.9</td>\n",
       "      <td>303.0</td>\n",
       "      <td>1</td>\n",
       "      <td>1.86</td>\n",
       "    </tr>\n",
       "    <tr>\n",
       "      <th>3</th>\n",
       "      <td>K06252.01</td>\n",
       "      <td>8.460439</td>\n",
       "      <td>76412.9</td>\n",
       "      <td>804.0</td>\n",
       "      <td>1</td>\n",
       "      <td>36.62</td>\n",
       "    </tr>\n",
       "    <tr>\n",
       "      <th>4</th>\n",
       "      <td>K00958.01</td>\n",
       "      <td>21.761298</td>\n",
       "      <td>1300.7</td>\n",
       "      <td>486.0</td>\n",
       "      <td>1</td>\n",
       "      <td>2.53</td>\n",
       "    </tr>\n",
       "  </tbody>\n",
       "</table>\n",
       "</div>"
      ],
      "text/plain": [
       "    KOI Name      Period  Transit Depth    Teq  KOI count  Planet Radius\n",
       "0  K00889.01    8.884923        16053.4  770.0          1          10.51\n",
       "1  K01009.01    5.092465          254.0  844.0          1           1.17\n",
       "2  K07621.01  275.073650          228.9  303.0          1           1.86\n",
       "3  K06252.01    8.460439        76412.9  804.0          1          36.62\n",
       "4  K00958.01   21.761298         1300.7  486.0          1           2.53"
      ]
     },
     "execution_count": 2,
     "metadata": {},
     "output_type": "execute_result"
    }
   ],
   "source": [
    "df_metadata.head()"
   ]
  },
  {
   "cell_type": "code",
   "execution_count": 5,
   "metadata": {},
   "outputs": [
    {
     "data": {
      "text/plain": [
       "59"
      ]
     },
     "execution_count": 5,
     "metadata": {},
     "output_type": "execute_result"
    }
   ],
   "source": [
    "import numpy as np\n",
    "np.sum((pd.isnull(df_metadata[\"Transit Depth\"]))*1)"
   ]
  },
  {
   "cell_type": "code",
   "execution_count": 7,
   "metadata": {},
   "outputs": [
    {
     "data": {
      "text/plain": [
       "65"
      ]
     },
     "execution_count": 7,
     "metadata": {},
     "output_type": "execute_result"
    }
   ],
   "source": [
    "np.sum((pd.isnull(df_metadata_stellar[\"Metallicity\"]))*1)"
   ]
  },
  {
   "cell_type": "code",
   "execution_count": 14,
   "metadata": {},
   "outputs": [
    {
     "data": {
      "text/plain": [
       "array([8.884922995, 16053.4, 770.0, 1], dtype=object)"
      ]
     },
     "execution_count": 14,
     "metadata": {},
     "output_type": "execute_result"
    }
   ],
   "source": [
    "a = df[(df[\"KOI Name\"] == \"K00889.01\")].values[0][1:]\n",
    "a"
   ]
  },
  {
   "cell_type": "code",
   "execution_count": 16,
   "metadata": {},
   "outputs": [
    {
     "data": {
      "text/plain": [
       "array([8.884922995, 16053.4, 770.0, 1, 8.884922995, 16053.4, 770.0, 1], dtype=object)"
      ]
     },
     "execution_count": 16,
     "metadata": {},
     "output_type": "execute_result"
    }
   ],
   "source": [
    "import numpy as np\n",
    "np.hstack((a,a))"
   ]
  },
  {
   "cell_type": "markdown",
   "metadata": {},
   "source": [
    "## OWN FATS"
   ]
  },
  {
   "cell_type": "code",
   "execution_count": 1,
   "metadata": {
    "collapsed": true
   },
   "outputs": [],
   "source": [
    "import numpy as np\n",
    "import pandas as pd\n",
    "from scipy import stats\n",
    "from sklearn.linear_model import LinearRegression\n",
    "\n",
    "def amplitude(magnitudes):\n",
    "    return 0.5 * (np.max(magnitudes) - np.min(magnitudes))\n",
    "\n",
    "def median_absolute_deviation(magnitudes):\n",
    "    median = np.median(magnitudes)\n",
    "    deviations = magnitudes - median\n",
    "    absolute_deviations = np.absolute(deviations)\n",
    "\n",
    "    return np.median(absolute_deviations)\n",
    "\n",
    "def residual_bright_faint_ratio(magnitudes):    # median as a fit\n",
    "    mean = np.mean(magnitudes)\n",
    "\n",
    "    brighter = magnitudes[magnitudes > mean]\n",
    "    fainter = magnitudes[magnitudes < mean]\n",
    "\n",
    "    resid_brighter = np.mean(np.square(brighter - mean))\n",
    "    resid_fainter = np.mean(np.square(fainter - mean))\n",
    "\n",
    "    ratio = resid_fainter / resid_brighter\n",
    "\n",
    "    return ratio\n",
    "\n",
    "def own_fats(sequence):\n",
    "    time_ex =  np.arange(len(sequence))\n",
    "\n",
    "    minim=np.min(sequence)\n",
    "    maxim = np.max(sequence)\n",
    "    mean = np.mean(sequence)\n",
    "    std = np.std(sequence)\n",
    "    iqr = stats.iqr(sequence) #q31\n",
    "    skew = stats.skew(sequence)\n",
    "    kurt = stats.kurtosis(sequence)\n",
    "    q1 = np.percentile(sequence, 25)\n",
    "    q2 = np.percentile(sequence, 50)\n",
    "    model = LinearRegression(normalize=True,n_jobs=-1)\n",
    "    model.fit(time_ex.reshape(-1,1),sequence)\n",
    "    slope = model.coef_[0]\n",
    "    #new features\n",
    "    ampl = amplitude(sequence)\n",
    "    mad = median_absolute_deviation(sequence)\n",
    "    br_fa = residual_bright_faint_ratio(sequence)\n",
    "    median = np.median(sequence)\n",
    "    return np.array([minim,maxim,mean,std,iqr,skew,kurt,q1,q2,slope,ampl,mad,br_fa,median])\n",
    "\n",
    "def metadata_columns(match,array,stellar=False):\n",
    "    if stellar:\n",
    "        df = pd.read_csv('OwnFats/columnas_metadatos_estrella.csv')\n",
    "    else:\n",
    "        df = pd.read_csv('OwnFats/columnas_metadatos.csv')\n",
    "    metadata = df[(df[\"KOI Name\"] == match)].values[0][1:]\n",
    "    return np.hstack((array,metadata))"
   ]
  },
  {
   "cell_type": "code",
   "execution_count": 2,
   "metadata": {
    "collapsed": true
   },
   "outputs": [],
   "source": [
    "import pandas as pd\n",
    "df_train = pd.read_csv(\"Linea_Tendencia/koi_light_curves_full_train.csv\",header=None) #koi_light_curves\n",
    "#df_train = pd.read_csv(\"Resample/koi_light_curves_resample2_train.csv\",header=None) #koi_light_curves sample\n",
    "df_train_label = pd.read_csv(\"Datos_split/koi_labels_train.csv\") #koi_light_curves\n"
   ]
  },
  {
   "cell_type": "code",
   "execution_count": 3,
   "metadata": {
    "scrolled": true
   },
   "outputs": [
    {
     "name": "stderr",
     "output_type": "stream",
     "text": [
      "/etc/anaconda3/lib/python3.6/site-packages/numpy/core/fromnumeric.py:2889: RuntimeWarning: Mean of empty slice.\n",
      "  out=out, **kwargs)\n",
      "/etc/anaconda3/lib/python3.6/site-packages/numpy/core/_methods.py:80: RuntimeWarning: invalid value encountered in double_scalars\n",
      "  ret = ret.dtype.type(ret / rcount)\n"
     ]
    },
    {
     "name": "stdout",
     "output_type": "stream",
     "text": [
      "YA SE ExtraYO TODO! ahora escribir..\n"
     ]
    }
   ],
   "source": [
    "import numpy as np\n",
    "from scipy.signal import resample\n",
    "\n",
    "X_fats1 = []\n",
    "X_fats2 = []\n",
    "\n",
    "X = df_train.values\n",
    "for sequence,match in zip(X,df_train_label[\"KOI Name\"]):\n",
    "    aux = own_fats(sequence)\n",
    "    final1 = metadata_columns(match,aux,True)\n",
    "    final2 = metadata_columns(match,aux,False)\n",
    "\n",
    "    X_fats1.append(final1)\n",
    "    X_fats2.append(final2)\n",
    "print(\"YA SE ExtraYO TODO! ahora escribir..\")"
   ]
  },
  {
   "cell_type": "code",
   "execution_count": 4,
   "metadata": {
    "collapsed": true
   },
   "outputs": [],
   "source": [
    "import csv\n",
    "b = open('koi_light_curves_FATS2_metedatastellar_train.csv', 'w') #cambiar \"w\" por \"a\"\n",
    "a = csv.writer(b)\n",
    "a.writerows(X_fats1)\n",
    "b.close()\n",
    "\n",
    "b = open('koi_light_curves_FATS2_metadata_train.csv', 'w') #cambiar \"w\" por \"a\"\n",
    "a = csv.writer(b)\n",
    "a.writerows(X_fats2)\n",
    "b.close()"
   ]
  },
  {
   "cell_type": "code",
   "execution_count": 9,
   "metadata": {},
   "outputs": [
    {
     "data": {
      "text/html": [
       "<div>\n",
       "<style>\n",
       "    .dataframe thead tr:only-child th {\n",
       "        text-align: right;\n",
       "    }\n",
       "\n",
       "    .dataframe thead th {\n",
       "        text-align: left;\n",
       "    }\n",
       "\n",
       "    .dataframe tbody tr th {\n",
       "        vertical-align: top;\n",
       "    }\n",
       "</style>\n",
       "<table border=\"1\" class=\"dataframe\">\n",
       "  <thead>\n",
       "    <tr style=\"text-align: right;\">\n",
       "      <th></th>\n",
       "      <th>0</th>\n",
       "      <th>1</th>\n",
       "      <th>2</th>\n",
       "      <th>3</th>\n",
       "      <th>4</th>\n",
       "      <th>5</th>\n",
       "      <th>6</th>\n",
       "      <th>7</th>\n",
       "      <th>8</th>\n",
       "      <th>9</th>\n",
       "      <th>10</th>\n",
       "      <th>11</th>\n",
       "      <th>12</th>\n",
       "      <th>13</th>\n",
       "      <th>14</th>\n",
       "      <th>15</th>\n",
       "      <th>16</th>\n",
       "      <th>17</th>\n",
       "      <th>18</th>\n",
       "    </tr>\n",
       "  </thead>\n",
       "  <tbody>\n",
       "    <tr>\n",
       "      <th>0</th>\n",
       "      <td>-41.321</td>\n",
       "      <td>16.889</td>\n",
       "      <td>-0.007361</td>\n",
       "      <td>2.254558</td>\n",
       "      <td>1.469008</td>\n",
       "      <td>-6.180130</td>\n",
       "      <td>64.167718</td>\n",
       "      <td>-0.640008</td>\n",
       "      <td>0.082</td>\n",
       "      <td>1.633369e-06</td>\n",
       "      <td>29.105</td>\n",
       "      <td>0.735383</td>\n",
       "      <td>4.038914</td>\n",
       "      <td>0.082</td>\n",
       "      <td>8.884923</td>\n",
       "      <td>16053.4</td>\n",
       "      <td>770.0</td>\n",
       "      <td>1</td>\n",
       "      <td>10.51</td>\n",
       "    </tr>\n",
       "    <tr>\n",
       "      <th>1</th>\n",
       "      <td>-4.632</td>\n",
       "      <td>12.196</td>\n",
       "      <td>0.088144</td>\n",
       "      <td>0.941973</td>\n",
       "      <td>1.170000</td>\n",
       "      <td>0.171710</td>\n",
       "      <td>2.179614</td>\n",
       "      <td>-0.508000</td>\n",
       "      <td>0.150</td>\n",
       "      <td>-4.815129e-06</td>\n",
       "      <td>8.414</td>\n",
       "      <td>0.573000</td>\n",
       "      <td>1.151498</td>\n",
       "      <td>0.150</td>\n",
       "      <td>5.092465</td>\n",
       "      <td>254.0</td>\n",
       "      <td>844.0</td>\n",
       "      <td>1</td>\n",
       "      <td>1.17</td>\n",
       "    </tr>\n",
       "    <tr>\n",
       "      <th>2</th>\n",
       "      <td>-139.123</td>\n",
       "      <td>21.879</td>\n",
       "      <td>-0.714502</td>\n",
       "      <td>5.838941</td>\n",
       "      <td>1.411000</td>\n",
       "      <td>-13.070066</td>\n",
       "      <td>233.998145</td>\n",
       "      <td>-0.761000</td>\n",
       "      <td>-0.036</td>\n",
       "      <td>-2.554466e-05</td>\n",
       "      <td>80.501</td>\n",
       "      <td>0.704000</td>\n",
       "      <td>45.176895</td>\n",
       "      <td>-0.036</td>\n",
       "      <td>275.073650</td>\n",
       "      <td>228.9</td>\n",
       "      <td>303.0</td>\n",
       "      <td>1</td>\n",
       "      <td>1.86</td>\n",
       "    </tr>\n",
       "    <tr>\n",
       "      <th>3</th>\n",
       "      <td>-21.000</td>\n",
       "      <td>164.128</td>\n",
       "      <td>-0.010487</td>\n",
       "      <td>1.287897</td>\n",
       "      <td>1.288000</td>\n",
       "      <td>34.431573</td>\n",
       "      <td>4060.501884</td>\n",
       "      <td>-0.651000</td>\n",
       "      <td>-0.005</td>\n",
       "      <td>1.984248e-07</td>\n",
       "      <td>92.564</td>\n",
       "      <td>0.644000</td>\n",
       "      <td>0.541691</td>\n",
       "      <td>-0.005</td>\n",
       "      <td>0.539366</td>\n",
       "      <td>145.0</td>\n",
       "      <td>5016.0</td>\n",
       "      <td>1</td>\n",
       "      <td>9.19</td>\n",
       "    </tr>\n",
       "    <tr>\n",
       "      <th>4</th>\n",
       "      <td>-5.785</td>\n",
       "      <td>7.993</td>\n",
       "      <td>0.025688</td>\n",
       "      <td>0.996821</td>\n",
       "      <td>1.260000</td>\n",
       "      <td>0.217364</td>\n",
       "      <td>1.039805</td>\n",
       "      <td>-0.626000</td>\n",
       "      <td>0.023</td>\n",
       "      <td>1.001995e-06</td>\n",
       "      <td>6.889</td>\n",
       "      <td>0.630000</td>\n",
       "      <td>0.919011</td>\n",
       "      <td>0.023</td>\n",
       "      <td>36.267167</td>\n",
       "      <td>627.1</td>\n",
       "      <td>347.0</td>\n",
       "      <td>1</td>\n",
       "      <td>1.50</td>\n",
       "    </tr>\n",
       "  </tbody>\n",
       "</table>\n",
       "</div>"
      ],
      "text/plain": [
       "        0        1         2         3         4          5            6   \\\n",
       "0  -41.321   16.889 -0.007361  2.254558  1.469008  -6.180130    64.167718   \n",
       "1   -4.632   12.196  0.088144  0.941973  1.170000   0.171710     2.179614   \n",
       "2 -139.123   21.879 -0.714502  5.838941  1.411000 -13.070066   233.998145   \n",
       "3  -21.000  164.128 -0.010487  1.287897  1.288000  34.431573  4060.501884   \n",
       "4   -5.785    7.993  0.025688  0.996821  1.260000   0.217364     1.039805   \n",
       "\n",
       "         7      8             9       10        11         12     13  \\\n",
       "0 -0.640008  0.082  1.633369e-06  29.105  0.735383   4.038914  0.082   \n",
       "1 -0.508000  0.150 -4.815129e-06   8.414  0.573000   1.151498  0.150   \n",
       "2 -0.761000 -0.036 -2.554466e-05  80.501  0.704000  45.176895 -0.036   \n",
       "3 -0.651000 -0.005  1.984248e-07  92.564  0.644000   0.541691 -0.005   \n",
       "4 -0.626000  0.023  1.001995e-06   6.889  0.630000   0.919011  0.023   \n",
       "\n",
       "           14       15      16  17     18  \n",
       "0    8.884923  16053.4   770.0   1  10.51  \n",
       "1    5.092465    254.0   844.0   1   1.17  \n",
       "2  275.073650    228.9   303.0   1   1.86  \n",
       "3    0.539366    145.0  5016.0   1   9.19  \n",
       "4   36.267167    627.1   347.0   1   1.50  "
      ]
     },
     "execution_count": 9,
     "metadata": {},
     "output_type": "execute_result"
    }
   ],
   "source": [
    "df = pd.read_csv('koi_light_curves_FATS2_metadata_train.csv',header=None)\n",
    "df.head()"
   ]
  },
  {
   "cell_type": "code",
   "execution_count": 30,
   "metadata": {},
   "outputs": [
    {
     "data": {
      "text/html": [
       "<div>\n",
       "<style>\n",
       "    .dataframe thead tr:only-child th {\n",
       "        text-align: right;\n",
       "    }\n",
       "\n",
       "    .dataframe thead th {\n",
       "        text-align: left;\n",
       "    }\n",
       "\n",
       "    .dataframe tbody tr th {\n",
       "        vertical-align: top;\n",
       "    }\n",
       "</style>\n",
       "<table border=\"1\" class=\"dataframe\">\n",
       "  <thead>\n",
       "    <tr style=\"text-align: right;\">\n",
       "      <th></th>\n",
       "      <th>NExScI Disposition</th>\n",
       "      <th>KOI Name</th>\n",
       "      <th>Kepler Name</th>\n",
       "      <th>Planet Radius</th>\n",
       "      <th>Stellar Radius</th>\n",
       "      <th>Metallicity</th>\n",
       "      <th>Stellar Mass</th>\n",
       "    </tr>\n",
       "  </thead>\n",
       "  <tbody>\n",
       "    <tr>\n",
       "      <th>0</th>\n",
       "      <td>FALSE POSITIVE</td>\n",
       "      <td>K07623.01</td>\n",
       "      <td>NaN</td>\n",
       "      <td>34.14</td>\n",
       "      <td>20.848</td>\n",
       "      <td>0.07</td>\n",
       "      <td>3.584</td>\n",
       "    </tr>\n",
       "    <tr>\n",
       "      <th>1</th>\n",
       "      <td>FALSE POSITIVE</td>\n",
       "      <td>K00362.01</td>\n",
       "      <td>NaN</td>\n",
       "      <td>14.93</td>\n",
       "      <td>1.050</td>\n",
       "      <td>-0.14</td>\n",
       "      <td>1.012</td>\n",
       "    </tr>\n",
       "    <tr>\n",
       "      <th>2</th>\n",
       "      <td>CONFIRMED</td>\n",
       "      <td>K01007.01</td>\n",
       "      <td>Kepler-748 b</td>\n",
       "      <td>2.01</td>\n",
       "      <td>0.961</td>\n",
       "      <td>-0.08</td>\n",
       "      <td>1.002</td>\n",
       "    </tr>\n",
       "    <tr>\n",
       "      <th>3</th>\n",
       "      <td>FALSE POSITIVE</td>\n",
       "      <td>K04927.01</td>\n",
       "      <td>NaN</td>\n",
       "      <td>37.88</td>\n",
       "      <td>1.769</td>\n",
       "      <td>0.14</td>\n",
       "      <td>1.338</td>\n",
       "    </tr>\n",
       "    <tr>\n",
       "      <th>4</th>\n",
       "      <td>CONFIRMED</td>\n",
       "      <td>K02634.01</td>\n",
       "      <td>Kepler-1299 b</td>\n",
       "      <td>2.42</td>\n",
       "      <td>0.763</td>\n",
       "      <td>-0.40</td>\n",
       "      <td>0.853</td>\n",
       "    </tr>\n",
       "  </tbody>\n",
       "</table>\n",
       "</div>"
      ],
      "text/plain": [
       "  NExScI Disposition   KOI Name    Kepler Name  Planet Radius  Stellar Radius  \\\n",
       "0     FALSE POSITIVE  K07623.01            NaN          34.14          20.848   \n",
       "1     FALSE POSITIVE  K00362.01            NaN          14.93           1.050   \n",
       "2          CONFIRMED  K01007.01   Kepler-748 b           2.01           0.961   \n",
       "3     FALSE POSITIVE  K04927.01            NaN          37.88           1.769   \n",
       "4          CONFIRMED  K02634.01  Kepler-1299 b           2.42           0.763   \n",
       "\n",
       "   Metallicity  Stellar Mass  \n",
       "0         0.07         3.584  \n",
       "1        -0.14         1.012  \n",
       "2        -0.08         1.002  \n",
       "3         0.14         1.338  \n",
       "4        -0.40         0.853  "
      ]
     },
     "execution_count": 30,
     "metadata": {},
     "output_type": "execute_result"
    }
   ],
   "source": [
    "df_val_label[\"\"]"
   ]
  },
  {
   "cell_type": "code",
   "execution_count": 5,
   "metadata": {},
   "outputs": [
    {
     "name": "stderr",
     "output_type": "stream",
     "text": [
      "/etc/anaconda3/lib/python3.6/site-packages/numpy/core/fromnumeric.py:2889: RuntimeWarning: Mean of empty slice.\n",
      "  out=out, **kwargs)\n",
      "/etc/anaconda3/lib/python3.6/site-packages/numpy/core/_methods.py:80: RuntimeWarning: invalid value encountered in double_scalars\n",
      "  ret = ret.dtype.type(ret / rcount)\n"
     ]
    },
    {
     "name": "stdout",
     "output_type": "stream",
     "text": [
      "Termino cada secuencia en nan aprox segundos\n"
     ]
    }
   ],
   "source": [
    "#Val\n",
    "import time\n",
    "\n",
    "#df_val = pd.read_csv(\"Datos_split/koi_light_curves_val.csv\",header=None)\n",
    "df_val = pd.read_csv(\"Linea_Tendencia/koi_light_curves_full_val.csv\",header=None) #koi_light_curves\n",
    "\n",
    "df_val_label = pd.read_csv(\"Datos_split/koi_labels_val.csv\") #koi_light_curves\n",
    "\n",
    "X_fats1 = []\n",
    "X_fats2 = []\n",
    "\n",
    "X = df_val.values\n",
    "final_time = []\n",
    "\n",
    "for sequence,match in zip(X,df_val_label[\"KOI Name\"]):\n",
    "    aux = own_fats(sequence)\n",
    "    final1 = metadata_columns(match,aux,True)\n",
    "    final2 = metadata_columns(match,aux,False)\n",
    "\n",
    "    X_fats1.append(final1)\n",
    "    X_fats2.append(final2)\n",
    "\n",
    "print(\"Termino cada secuencia en %f aprox segundos\"%(np.mean(final_time)))"
   ]
  },
  {
   "cell_type": "code",
   "execution_count": 6,
   "metadata": {
    "collapsed": true
   },
   "outputs": [],
   "source": [
    "import csv\n",
    "b = open('koi_light_curves_FATS2_metedatastellar_val.csv', 'w') #cambiar \"w\" por \"a\"\n",
    "a = csv.writer(b)\n",
    "a.writerows(X_fats1)\n",
    "b.close()\n",
    "\n",
    "b = open('koi_light_curves_FATS2_metadata_val.csv', 'w') #cambiar \"w\" por \"a\"\n",
    "a = csv.writer(b)\n",
    "a.writerows(X_fats2)\n",
    "b.close()"
   ]
  },
  {
   "cell_type": "code",
   "execution_count": null,
   "metadata": {
    "collapsed": true
   },
   "outputs": [],
   "source": [
    "#test"
   ]
  },
  {
   "cell_type": "code",
   "execution_count": 7,
   "metadata": {},
   "outputs": [
    {
     "name": "stderr",
     "output_type": "stream",
     "text": [
      "/etc/anaconda3/lib/python3.6/site-packages/numpy/core/fromnumeric.py:2889: RuntimeWarning: Mean of empty slice.\n",
      "  out=out, **kwargs)\n",
      "/etc/anaconda3/lib/python3.6/site-packages/numpy/core/_methods.py:80: RuntimeWarning: invalid value encountered in double_scalars\n",
      "  ret = ret.dtype.type(ret / rcount)\n"
     ]
    },
    {
     "name": "stdout",
     "output_type": "stream",
     "text": [
      "Termino cada secuencia en nan aprox segundos\n"
     ]
    }
   ],
   "source": [
    "#df_test = pd.read_csv(\"Datos_split/koi_light_curves_test.csv\",header=None)\n",
    "df_test = pd.read_csv(\"Linea_Tendencia/koi_light_curves_full_test.csv\",header=None) #koi_light_curves\n",
    "\n",
    "df_test_label = pd.read_csv(\"Datos_split/koi_labels_test.csv\") #koi_light_curves\n",
    "\n",
    "X_fats1 = []\n",
    "X_fats2 = []\n",
    "\n",
    "X = df_test.values\n",
    "final_time = []\n",
    "\n",
    "for sequence,match in zip(X,df_test_label[\"KOI Name\"]):\n",
    "    aux = own_fats(sequence)\n",
    "    final1 = metadata_columns(match,aux,True)\n",
    "    final2 = metadata_columns(match,aux,False)\n",
    "\n",
    "    X_fats1.append(final1)\n",
    "    X_fats2.append(final2)\n",
    "\n",
    "print(\"Termino cada secuencia en %f aprox segundos\"%(np.mean(final_time)))"
   ]
  },
  {
   "cell_type": "code",
   "execution_count": 8,
   "metadata": {
    "collapsed": true
   },
   "outputs": [],
   "source": [
    "import csv\n",
    "b = open('koi_light_curves_FATS2_metedatastellar_test.csv', 'w') #cambiar \"w\" por \"a\"\n",
    "a = csv.writer(b)\n",
    "a.writerows(X_fats1)\n",
    "b.close()\n",
    "\n",
    "b = open('koi_light_curves_FATS2_metadata_test.csv', 'w') #cambiar \"w\" por \"a\"\n",
    "a = csv.writer(b)\n",
    "a.writerows(X_fats2)\n",
    "b.close()"
   ]
  }
 ],
 "metadata": {
  "kernelspec": {
   "display_name": "Python 2",
   "language": "python",
   "name": "python2"
  },
  "language_info": {
   "codemirror_mode": {
    "name": "ipython",
    "version": 2
   },
   "file_extension": ".py",
   "mimetype": "text/x-python",
   "name": "python",
   "nbconvert_exporter": "python",
   "pygments_lexer": "ipython2",
   "version": "2.7.13"
  }
 },
 "nbformat": 4,
 "nbformat_minor": 2
}
