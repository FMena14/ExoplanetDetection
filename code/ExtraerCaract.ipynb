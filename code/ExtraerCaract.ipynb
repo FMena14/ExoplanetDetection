{
 "cells": [
  {
   "cell_type": "code",
   "execution_count": 8,
   "metadata": {
    "collapsed": true
   },
   "outputs": [],
   "source": [
    "import pandas as pd\n",
    "chunks = pd.read_csv(\"Datos/koi_light_curves.csv\",header=None,iterator=True,chunksize=1500) #koi_light_curves\n"
   ]
  },
  {
   "cell_type": "code",
   "execution_count": 2,
   "metadata": {},
   "outputs": [
    {
     "name": "stdout",
     "output_type": "stream",
     "text": [
      "(1500, 71427)\n",
      "(1500, 71427)\n",
      "(1500, 71427)\n",
      "(1500, 71427)\n",
      "(1500, 71427)\n",
      "(554, 71427)\n",
      "modelo entrenado, ahora leer y transformar cada parte...\n"
     ]
    }
   ],
   "source": [
    "import numpy as np\n",
    "from sklearn.decomposition import IncrementalPCA\n",
    "d=5\n",
    "model = IncrementalPCA(d)\n",
    "\n",
    "contador = 0\n",
    "for chunk in chunks:\n",
    "    print(chunk.shape)\n",
    "    \n",
    "    #extraer caract y guardar en csv, crear uno para cada caract extraida... (3*2(fourier))\n",
    "    \n",
    "    X = np.nan_to_num(chunk.values)\n",
    "    model.partial_fit(X)\n",
    "\n",
    "    contador+=1\n",
    "print(\"modelo entrenado, ahora leer y transformar cada parte...\")"
   ]
  },
  {
   "cell_type": "code",
   "execution_count": 9,
   "metadata": {},
   "outputs": [
    {
     "name": "stdout",
     "output_type": "stream",
     "text": [
      "(1500, 71427)\n",
      "(1500, 71427)\n",
      "(1500, 71427)\n",
      "(1500, 71427)\n",
      "(1500, 71427)\n",
      "(554, 71427)\n"
     ]
    }
   ],
   "source": [
    "import csv\n",
    "b = open('koi_light_curves_PCA_'+str(d)+'.csv', 'w') #cambiar \"w\" por \"a\"\n",
    "a = csv.writer(b)\n",
    "\n",
    "for chunk in chunks:\n",
    "    print(chunk.shape)\n",
    "    \n",
    "    X = np.nan_to_num(chunk.values)\n",
    "    a.writerows(model.transform(X))\n",
    "b.close()"
   ]
  },
  {
   "cell_type": "code",
   "execution_count": 12,
   "metadata": {},
   "outputs": [
    {
     "data": {
      "text/html": [
       "<div>\n",
       "<style scoped>\n",
       "    .dataframe tbody tr th:only-of-type {\n",
       "        vertical-align: middle;\n",
       "    }\n",
       "\n",
       "    .dataframe tbody tr th {\n",
       "        vertical-align: top;\n",
       "    }\n",
       "\n",
       "    .dataframe thead th {\n",
       "        text-align: right;\n",
       "    }\n",
       "</style>\n",
       "<table border=\"1\" class=\"dataframe\">\n",
       "  <thead>\n",
       "    <tr style=\"text-align: right;\">\n",
       "      <th></th>\n",
       "      <th>0</th>\n",
       "      <th>1</th>\n",
       "      <th>2</th>\n",
       "      <th>3</th>\n",
       "      <th>4</th>\n",
       "    </tr>\n",
       "  </thead>\n",
       "  <tbody>\n",
       "    <tr>\n",
       "      <th>0</th>\n",
       "      <td>56.513573</td>\n",
       "      <td>23.573041</td>\n",
       "      <td>8.889716</td>\n",
       "      <td>-8.993319</td>\n",
       "      <td>4.576017</td>\n",
       "    </tr>\n",
       "    <tr>\n",
       "      <th>1</th>\n",
       "      <td>56.380142</td>\n",
       "      <td>23.901288</td>\n",
       "      <td>9.871158</td>\n",
       "      <td>-8.589374</td>\n",
       "      <td>7.610925</td>\n",
       "    </tr>\n",
       "    <tr>\n",
       "      <th>2</th>\n",
       "      <td>55.493605</td>\n",
       "      <td>23.686356</td>\n",
       "      <td>10.886418</td>\n",
       "      <td>-18.376931</td>\n",
       "      <td>8.721338</td>\n",
       "    </tr>\n",
       "    <tr>\n",
       "      <th>3</th>\n",
       "      <td>53.443851</td>\n",
       "      <td>28.336941</td>\n",
       "      <td>35.226289</td>\n",
       "      <td>-7.409694</td>\n",
       "      <td>32.887980</td>\n",
       "    </tr>\n",
       "    <tr>\n",
       "      <th>4</th>\n",
       "      <td>56.057269</td>\n",
       "      <td>25.711739</td>\n",
       "      <td>11.620617</td>\n",
       "      <td>-5.425183</td>\n",
       "      <td>9.398063</td>\n",
       "    </tr>\n",
       "  </tbody>\n",
       "</table>\n",
       "</div>"
      ],
      "text/plain": [
       "           0          1          2          3          4\n",
       "0  56.513573  23.573041   8.889716  -8.993319   4.576017\n",
       "1  56.380142  23.901288   9.871158  -8.589374   7.610925\n",
       "2  55.493605  23.686356  10.886418 -18.376931   8.721338\n",
       "3  53.443851  28.336941  35.226289  -7.409694  32.887980\n",
       "4  56.057269  25.711739  11.620617  -5.425183   9.398063"
      ]
     },
     "execution_count": 12,
     "metadata": {},
     "output_type": "execute_result"
    }
   ],
   "source": [
    "df = pd.read_csv('koi_light_curves_PCA_5.csv',header=None)\n",
    "df.head()"
   ]
  },
  {
   "cell_type": "code",
   "execution_count": null,
   "metadata": {
    "collapsed": true
   },
   "outputs": [],
   "source": [
    "import numpy as np\n",
    "X = np.nan_to_num(chunk.values)\n",
    "X"
   ]
  },
  {
   "cell_type": "code",
   "execution_count": null,
   "metadata": {
    "collapsed": true
   },
   "outputs": [],
   "source": [
    "from sklearn.decomposition import PCA\n",
    "from sklearn.decomposition import IncrementalPCA\n",
    "d=5\n",
    "model = IncrementalPCA(d)\n",
    "#model = PCA(5)\n",
    "model.partial_fit(X)"
   ]
  },
  {
   "cell_type": "code",
   "execution_count": null,
   "metadata": {
    "collapsed": true
   },
   "outputs": [],
   "source": [
    "#si nos pasan un nodo en chivo.. ocupar ICA"
   ]
  },
  {
   "cell_type": "code",
   "execution_count": null,
   "metadata": {
    "collapsed": true
   },
   "outputs": [],
   "source": [
    "#usar FATS"
   ]
  },
  {
   "cell_type": "code",
   "execution_count": 9,
   "metadata": {
    "scrolled": false
   },
   "outputs": [
    {
     "name": "stdout",
     "output_type": "stream",
     "text": [
      "Warning: the feature Beyond1Std could not be calculated because ['magnitude', 'error'] are needed.\n",
      "Warning: the feature CAR_mean could not be calculated because ['magnitude', 'time', 'error'] are needed.\n",
      "Warning: the feature CAR_sigma could not be calculated because ['magnitude', 'time', 'error'] are needed.\n",
      "Warning: the feature CAR_tau could not be calculated because ['magnitude', 'time', 'error'] are needed.\n",
      "Warning: the feature Color could not be calculated because ['magnitude', 'time', 'magnitude2'] are needed.\n",
      "Warning: the feature Eta_color could not be calculated because ['magnitude', 'time', 'magnitude2'] are needed.\n",
      "Warning: the feature Q31_color could not be calculated because ['magnitude', 'time', 'magnitude2'] are needed.\n",
      "Warning: the feature StetsonJ could not be calculated because ['magnitude', 'time', 'error', 'magnitude2', 'error2'] are needed.\n",
      "Warning: the feature StetsonK could not be calculated because ['magnitude', 'error'] are needed.\n",
      "Warning: the feature StetsonL could not be calculated because ['magnitude', 'time', 'error', 'magnitude2', 'error2'] are needed.\n",
      "error: please run PeriodLS first to generate values for Period_fit\n",
      "error: please run PeriodLS first to generate values for Psi_CS\n",
      "error: please run PeriodLS first to generate values for Psi_eta\n",
      "Termino en 2.992982 segundos\n"
     ]
    },
    {
     "data": {
      "text/plain": [
       "{'Amplitude': 0.47206240977275915,\n",
       " 'AndersonDarling': 1.0,\n",
       " 'Autocor_length': 1,\n",
       " 'Con': 0.0,\n",
       " 'Eta_e': 1.9180158063860733,\n",
       " 'FluxPercentileRatioMid20': 0.25470646336668923,\n",
       " 'FluxPercentileRatioMid35': 0.3964416128008692,\n",
       " 'FluxPercentileRatioMid50': 0.54906120460987828,\n",
       " 'FluxPercentileRatioMid65': 0.7413334376607853,\n",
       " 'FluxPercentileRatioMid80': 0.91515106007756475,\n",
       " 'Freq1_harmonics_amplitude_0': 0.073358946311769146,\n",
       " 'Freq1_harmonics_amplitude_1': 0.022415200085519608,\n",
       " 'Freq1_harmonics_amplitude_2': 0.031928255835832704,\n",
       " 'Freq1_harmonics_amplitude_3': 0.026051662176906472,\n",
       " 'Freq1_harmonics_rel_phase_0': 0.0,\n",
       " 'Freq1_harmonics_rel_phase_1': -1.4198168957031634,\n",
       " 'Freq1_harmonics_rel_phase_2': -1.2696349987448299,\n",
       " 'Freq1_harmonics_rel_phase_3': 0.23522703537447959,\n",
       " 'Freq2_harmonics_amplitude_0': 0.071627595907409844,\n",
       " 'Freq2_harmonics_amplitude_1': 0.034593633041467703,\n",
       " 'Freq2_harmonics_amplitude_2': 0.036784181314631854,\n",
       " 'Freq2_harmonics_amplitude_3': 0.011705452130507568,\n",
       " 'Freq2_harmonics_rel_phase_0': 0.0,\n",
       " 'Freq2_harmonics_rel_phase_1': 1.6734816774661114,\n",
       " 'Freq2_harmonics_rel_phase_2': 2.9638429028164603,\n",
       " 'Freq2_harmonics_rel_phase_3': 2.7261039893929135,\n",
       " 'Freq3_harmonics_amplitude_0': 0.063485647590239891,\n",
       " 'Freq3_harmonics_amplitude_1': 0.038417727331171346,\n",
       " 'Freq3_harmonics_amplitude_2': 0.0029662056874869757,\n",
       " 'Freq3_harmonics_amplitude_3': 0.044044247734863977,\n",
       " 'Freq3_harmonics_rel_phase_0': 0.0,\n",
       " 'Freq3_harmonics_rel_phase_1': 1.099541037257729,\n",
       " 'Freq3_harmonics_rel_phase_2': -0.83786827960336385,\n",
       " 'Freq3_harmonics_rel_phase_3': 0.15448192001113292,\n",
       " 'LinearTrend': -9.5181017992025739e-05,\n",
       " 'MaxSlope': 0.97779447782409834,\n",
       " 'Mean': 0.51308919573349043,\n",
       " 'Meanvariance': 0.56915824165489459,\n",
       " 'MedianAbsDev': 0.25045631962683623,\n",
       " 'MedianBRP': 0.17,\n",
       " 'PairSlopeTrend': 0.1,\n",
       " 'PercentAmplitude': 0.99106935729006029,\n",
       " 'PercentDifferenceFluxPercentile': 1.7203196691767544,\n",
       " 'Period_fit': None,\n",
       " 'Psi_CS': None,\n",
       " 'Psi_eta': None,\n",
       " 'Q31': 0.49292531207447449,\n",
       " 'Rcs': 0.050424049972849633,\n",
       " 'Skew': -0.02548664498086227,\n",
       " 'SmallKurtosis': -1.2310996722189163,\n",
       " 'Std': 0.29202894445579747}"
      ]
     },
     "execution_count": 9,
     "metadata": {},
     "output_type": "execute_result"
    }
   ],
   "source": [
    "import FATS\n",
    "import numpy as np\n",
    "import time\n",
    "\n",
    "time_ex = np.arange(500)\n",
    "magnitude_ex = np.random.rand(500)\n",
    "\n",
    "lc_example = np.array([magnitude_ex, time_ex])\n",
    "\n",
    "time_start = time.time()\n",
    "a = FATS.FeatureSpace(Data=['magnitude','time'],excludeList= ['SlottedA_length','PeriodLS','StetsonK_AC'])\n",
    "a = a.calculateFeature(lc_example)\n",
    "print(\"Termino en %f segundos\"%(time.time()-time_start))\n",
    "a.result(method='dict')"
   ]
  },
  {
   "cell_type": "code",
   "execution_count": null,
   "metadata": {
    "collapsed": true
   },
   "outputs": [],
   "source": [
    "#ver que tal la red neuronal.."
   ]
  }
 ],
 "metadata": {
  "kernelspec": {
   "display_name": "Python 2",
   "language": "python",
   "name": "python2"
  },
  "language_info": {
   "codemirror_mode": {
    "name": "ipython",
    "version": 2
   },
   "file_extension": ".py",
   "mimetype": "text/x-python",
   "name": "python",
   "nbconvert_exporter": "python",
   "pygments_lexer": "ipython2",
   "version": "2.7.13"
  }
 },
 "nbformat": 4,
 "nbformat_minor": 2
}
