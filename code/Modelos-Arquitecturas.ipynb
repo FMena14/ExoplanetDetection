{
 "cells": [
  {
   "cell_type": "code",
   "execution_count": 1,
   "metadata": {},
   "outputs": [
    {
     "name": "stdout",
     "output_type": "stream",
     "text": [
      "koi_labels_candidate.csv  koi_light_curves_candidate.csv\r\n",
      "koi_labels_test.csv\t  koi_light_curves_test.csv\r\n",
      "koi_labels_train.csv\t  koi_light_curves_train.csv\r\n",
      "koi_labels_val.csv\t  koi_light_curves_val.csv\r\n"
     ]
    }
   ],
   "source": [
    "!ls Datos_split/"
   ]
  },
  {
   "cell_type": "code",
   "execution_count": 187,
   "metadata": {},
   "outputs": [
    {
     "name": "stdout",
     "output_type": "stream",
     "text": [
      "columnas_metadatos.csv\r\n",
      "columnas_metadatos_estrella.csv\r\n",
      "columns\r\n",
      "koi_light_curves_FATS2_metadatastellar_test.csv\r\n",
      "koi_light_curves_FATS2_metadatastellar_train.csv\r\n",
      "koi_light_curves_FATS2_metadatastellar_val.csv\r\n",
      "koi_light_curves_FATS2_metadata_test.csv\r\n",
      "koi_light_curves_FATS2_metadata_train.csv\r\n",
      "koi_light_curves_FATS2_metadata_val.csv\r\n",
      "koi_light_curves_FATS_metadatastellar_test.csv\r\n",
      "koi_light_curves_FATS_metadatastellar_train.csv\r\n",
      "koi_light_curves_FATS_metadatastellar_val.csv\r\n",
      "koi_light_curves_FATS_metadata_test.csv\r\n",
      "koi_light_curves_FATS_metadata_train.csv\r\n",
      "koi_light_curves_FATS_metadata_val.csv\r\n",
      "koi_light_curves_FATS_test.csv\r\n",
      "koi_light_curves_FATS_train.csv\r\n",
      "koi_light_curves_FATS_val.csv\r\n"
     ]
    }
   ],
   "source": [
    "!ls OwnFats/"
   ]
  },
  {
   "cell_type": "code",
   "execution_count": 273,
   "metadata": {
    "scrolled": true
   },
   "outputs": [
    {
     "name": "stdout",
     "output_type": "stream",
     "text": [
      "koi_light_curves_FPCA_completed_test100.csv\r\n",
      "koi_light_curves_FPCA_completed_test10.csv\r\n",
      "koi_light_curves_FPCA_completed_test250.csv\r\n",
      "koi_light_curves_FPCA_completed_test25.csv\r\n",
      "koi_light_curves_FPCA_completed_test55.csv\r\n",
      "koi_light_curves_FPCA_completed_test5.csv\r\n",
      "koi_light_curves_FPCA_completed_train100.csv\r\n",
      "koi_light_curves_FPCA_completed_train10.csv\r\n",
      "koi_light_curves_FPCA_completed_train250.csv\r\n",
      "koi_light_curves_FPCA_completed_train25.csv\r\n",
      "koi_light_curves_FPCA_completed_train55.csv\r\n",
      "koi_light_curves_FPCA_completed_train5.csv\r\n",
      "koi_light_curves_FPCA_completed_val100.csv\r\n",
      "koi_light_curves_FPCA_completed_val10.csv\r\n",
      "koi_light_curves_FPCA_completed_val250.csv\r\n",
      "koi_light_curves_FPCA_completed_val25.csv\r\n",
      "koi_light_curves_FPCA_completed_val55.csv\r\n",
      "koi_light_curves_FPCA_completed_val5.csv\r\n",
      "koi_light_curves_FPCA_full_test100.csv\r\n",
      "koi_light_curves_FPCA_full_test10.csv\r\n",
      "koi_light_curves_FPCA_full_test25.csv\r\n",
      "koi_light_curves_FPCA_full_test55.csv\r\n",
      "koi_light_curves_FPCA_full_test5.csv\r\n",
      "koi_light_curves_FPCA_full_train100.csv\r\n",
      "koi_light_curves_FPCA_full_train10.csv\r\n",
      "koi_light_curves_FPCA_full_train25.csv\r\n",
      "koi_light_curves_FPCA_full_train55.csv\r\n",
      "koi_light_curves_FPCA_full_train5.csv\r\n",
      "koi_light_curves_FPCA_full_val100.csv\r\n",
      "koi_light_curves_FPCA_full_val10.csv\r\n",
      "koi_light_curves_FPCA_full_val25.csv\r\n",
      "koi_light_curves_FPCA_full_val55.csv\r\n",
      "koi_light_curves_FPCA_full_val5.csv\r\n",
      "koi_light_curves_FPCA_resampled_test100.csv\r\n",
      "koi_light_curves_FPCA_resampled_test10.csv\r\n",
      "koi_light_curves_FPCA_resampled_test250.csv\r\n",
      "koi_light_curves_FPCA_resampled_test25.csv\r\n",
      "koi_light_curves_FPCA_resampled_test55.csv\r\n",
      "koi_light_curves_FPCA_resampled_test5.csv\r\n",
      "koi_light_curves_FPCA_resampled_train100.csv\r\n",
      "koi_light_curves_FPCA_resampled_train10.csv\r\n",
      "koi_light_curves_FPCA_resampled_train250.csv\r\n",
      "koi_light_curves_FPCA_resampled_train25.csv\r\n",
      "koi_light_curves_FPCA_resampled_train55.csv\r\n",
      "koi_light_curves_FPCA_resampled_train5.csv\r\n",
      "koi_light_curves_FPCA_resampled_val100.csv\r\n",
      "koi_light_curves_FPCA_resampled_val10.csv\r\n",
      "koi_light_curves_FPCA_resampled_val250.csv\r\n",
      "koi_light_curves_FPCA_resampled_val25.csv\r\n",
      "koi_light_curves_FPCA_resampled_val55.csv\r\n",
      "koi_light_curves_FPCA_resampled_val5.csv\r\n",
      "koi_light_curves_FPCA_test100.csv\r\n",
      "koi_light_curves_FPCA_test10.csv\r\n",
      "koi_light_curves_FPCA_test250.csv\r\n",
      "koi_light_curves_FPCA_test25.csv\r\n",
      "koi_light_curves_FPCA_test55.csv\r\n",
      "koi_light_curves_FPCA_test5.csv\r\n",
      "koi_light_curves_FPCA_train100.csv\r\n",
      "koi_light_curves_FPCA_train10.csv\r\n",
      "koi_light_curves_FPCA_train250.csv\r\n",
      "koi_light_curves_FPCA_train25.csv\r\n",
      "koi_light_curves_FPCA_train55.csv\r\n",
      "koi_light_curves_FPCA_train5.csv\r\n",
      "koi_light_curves_FPCA_val100.csv\r\n",
      "koi_light_curves_FPCA_val10.csv\r\n",
      "koi_light_curves_FPCA_val250.csv\r\n",
      "koi_light_curves_FPCA_val25.csv\r\n",
      "koi_light_curves_FPCA_val55.csv\r\n",
      "koi_light_curves_FPCA_val5.csv\r\n"
     ]
    }
   ],
   "source": [
    "!ls FPCA_data/"
   ]
  },
  {
   "cell_type": "code",
   "execution_count": 61,
   "metadata": {
    "scrolled": true
   },
   "outputs": [
    {
     "name": "stdout",
     "output_type": "stream",
     "text": [
      "koi_light_curves_FICA_completed_test10.csv\r\n",
      "koi_light_curves_FICA_completed_test15.csv\r\n",
      "koi_light_curves_FICA_completed_test20.csv\r\n",
      "koi_light_curves_FICA_completed_test50.csv\r\n",
      "koi_light_curves_FICA_completed_test5.csv\r\n",
      "koi_light_curves_FICA_completed_train10.csv\r\n",
      "koi_light_curves_FICA_completed_train15.csv\r\n",
      "koi_light_curves_FICA_completed_train20.csv\r\n",
      "koi_light_curves_FICA_completed_train50.csv\r\n",
      "koi_light_curves_FICA_completed_train5.csv\r\n",
      "koi_light_curves_FICA_completed_val10.csv\r\n",
      "koi_light_curves_FICA_completed_val15.csv\r\n",
      "koi_light_curves_FICA_completed_val20.csv\r\n",
      "koi_light_curves_FICA_completed_val50.csv\r\n",
      "koi_light_curves_FICA_completed_val5.csv\r\n",
      "koi_light_curves_FICA_full_test10.csv\r\n",
      "koi_light_curves_FICA_full_test15.csv\r\n",
      "koi_light_curves_FICA_full_test20.csv\r\n",
      "koi_light_curves_FICA_full_test50.csv\r\n",
      "koi_light_curves_FICA_full_test5.csv\r\n",
      "koi_light_curves_FICA_full_train10.csv\r\n",
      "koi_light_curves_FICA_full_train15.csv\r\n",
      "koi_light_curves_FICA_full_train20.csv\r\n",
      "koi_light_curves_FICA_full_train50.csv\r\n",
      "koi_light_curves_FICA_full_train5.csv\r\n",
      "koi_light_curves_FICA_full_val10.csv\r\n",
      "koi_light_curves_FICA_full_val15.csv\r\n",
      "koi_light_curves_FICA_full_val20.csv\r\n",
      "koi_light_curves_FICA_full_val50.csv\r\n",
      "koi_light_curves_FICA_full_val5.csv\r\n",
      "koi_light_curves_FICA_resampled_test10.csv\r\n",
      "koi_light_curves_FICA_resampled_test15.csv\r\n",
      "koi_light_curves_FICA_resampled_test20.csv\r\n",
      "koi_light_curves_FICA_resampled_test50.csv\r\n",
      "koi_light_curves_FICA_resampled_test5.csv\r\n",
      "koi_light_curves_FICA_resampled_train10.csv\r\n",
      "koi_light_curves_FICA_resampled_train15.csv\r\n",
      "koi_light_curves_FICA_resampled_train20.csv\r\n",
      "koi_light_curves_FICA_resampled_train50.csv\r\n",
      "koi_light_curves_FICA_resampled_train5.csv\r\n",
      "koi_light_curves_FICA_resampled_val10.csv\r\n",
      "koi_light_curves_FICA_resampled_val15.csv\r\n",
      "koi_light_curves_FICA_resampled_val20.csv\r\n",
      "koi_light_curves_FICA_resampled_val50.csv\r\n",
      "koi_light_curves_FICA_resampled_val5.csv\r\n",
      "koi_light_curves_FICA_softresampled_test10.csv\r\n",
      "koi_light_curves_FICA_softresampled_test15.csv\r\n",
      "koi_light_curves_FICA_softresampled_test20.csv\r\n",
      "koi_light_curves_FICA_softresampled_test50.csv\r\n",
      "koi_light_curves_FICA_softresampled_test5.csv\r\n",
      "koi_light_curves_FICA_softresampled_train10.csv\r\n",
      "koi_light_curves_FICA_softresampled_train15.csv\r\n",
      "koi_light_curves_FICA_softresampled_train20.csv\r\n",
      "koi_light_curves_FICA_softresampled_train50.csv\r\n",
      "koi_light_curves_FICA_softresampled_train5.csv\r\n",
      "koi_light_curves_FICA_softresampled_val10.csv\r\n",
      "koi_light_curves_FICA_softresampled_val15.csv\r\n",
      "koi_light_curves_FICA_softresampled_val20.csv\r\n",
      "koi_light_curves_FICA_softresampled_val50.csv\r\n",
      "koi_light_curves_FICA_softresampled_val5.csv\r\n",
      "koi_light_curves_FICA_test10.csv\r\n",
      "koi_light_curves_FICA_test15.csv\r\n",
      "koi_light_curves_FICA_test20.csv\r\n",
      "koi_light_curves_FICA_test50.csv\r\n",
      "koi_light_curves_FICA_test5.csv\r\n",
      "koi_light_curves_FICA_train10.csv\r\n",
      "koi_light_curves_FICA_train15.csv\r\n",
      "koi_light_curves_FICA_train20.csv\r\n",
      "koi_light_curves_FICA_train50.csv\r\n",
      "koi_light_curves_FICA_train5.csv\r\n",
      "koi_light_curves_FICA_val10.csv\r\n",
      "koi_light_curves_FICA_val15.csv\r\n",
      "koi_light_curves_FICA_val20.csv\r\n",
      "koi_light_curves_FICA_val50.csv\r\n",
      "koi_light_curves_FICA_val5.csv\r\n"
     ]
    }
   ],
   "source": [
    "!ls FICA_data/"
   ]
  },
  {
   "cell_type": "code",
   "execution_count": 1,
   "metadata": {},
   "outputs": [
    {
     "name": "stdout",
     "output_type": "stream",
     "text": [
      "koi_light_curves_FICA_true_test10.csv\tkoi_light_curves_FICA_true_train50.csv\r\n",
      "koi_light_curves_FICA_true_test15.csv\tkoi_light_curves_FICA_true_train5.csv\r\n",
      "koi_light_curves_FICA_true_test20.csv\tkoi_light_curves_FICA_true_val10.csv\r\n",
      "koi_light_curves_FICA_true_test50.csv\tkoi_light_curves_FICA_true_val15.csv\r\n",
      "koi_light_curves_FICA_true_test5.csv\tkoi_light_curves_FICA_true_val20.csv\r\n",
      "koi_light_curves_FICA_true_train10.csv\tkoi_light_curves_FICA_true_val50.csv\r\n",
      "koi_light_curves_FICA_true_train15.csv\tkoi_light_curves_FICA_true_val5.csv\r\n",
      "koi_light_curves_FICA_true_train20.csv\r\n"
     ]
    }
   ],
   "source": [
    "!ls FICA_data_SN/"
   ]
  },
  {
   "cell_type": "code",
   "execution_count": 1,
   "metadata": {
    "collapsed": true
   },
   "outputs": [],
   "source": [
    "#metricas de evaluacion\n",
    "from sklearn.metrics import f1_score\n",
    "from sklearn.metrics import precision_score\n",
    "from sklearn.metrics import recall_score\n",
    "from sklearn.metrics import completeness_score\n",
    "from sklearn.metrics import homogeneity_score\n",
    "\n",
    "import seaborn as sns\n",
    "import matplotlib.pyplot as plt\n",
    "import numpy as np\n",
    "import pandas as pd\n",
    "\n",
    "def calculate_metrics(y_true,y_pred):\n",
    "    f1 = f1_score(y_true,y_pred,average=\"weighted\")\n",
    "    p = precision_score(y_true,y_pred,average=None,labels=[0,1]) #1 confirmado y 0 false positivo\n",
    "    r = recall_score(y_true,y_pred,average=None,labels=[0,1])\n",
    "    #c = completeness_score(y_true, y_pred)\n",
    "    #h = homogeneity_score(y_true,y_pred)\n",
    "    return f1,p,r #f1score,completness and homogeneite"
   ]
  },
  {
   "cell_type": "code",
   "execution_count": 2,
   "metadata": {},
   "outputs": [
    {
     "data": {
      "text/html": [
       "<div>\n",
       "<style scoped>\n",
       "    .dataframe tbody tr th:only-of-type {\n",
       "        vertical-align: middle;\n",
       "    }\n",
       "\n",
       "    .dataframe tbody tr th {\n",
       "        vertical-align: top;\n",
       "    }\n",
       "\n",
       "    .dataframe thead th {\n",
       "        text-align: right;\n",
       "    }\n",
       "</style>\n",
       "<table border=\"1\" class=\"dataframe\">\n",
       "  <thead>\n",
       "    <tr style=\"text-align: right;\">\n",
       "      <th></th>\n",
       "      <th>NExScI Disposition</th>\n",
       "      <th>KOI Name</th>\n",
       "      <th>Kepler Name</th>\n",
       "      <th>Planet Radius</th>\n",
       "      <th>Stellar Radius</th>\n",
       "      <th>Metallicity</th>\n",
       "      <th>Stellar Mass</th>\n",
       "    </tr>\n",
       "  </thead>\n",
       "  <tbody>\n",
       "    <tr>\n",
       "      <th>0</th>\n",
       "      <td>CONFIRMED</td>\n",
       "      <td>K00889.01</td>\n",
       "      <td>Kepler-75 b</td>\n",
       "      <td>10.51</td>\n",
       "      <td>0.843</td>\n",
       "      <td>-0.08</td>\n",
       "      <td>0.821</td>\n",
       "    </tr>\n",
       "    <tr>\n",
       "      <th>1</th>\n",
       "      <td>FALSE POSITIVE</td>\n",
       "      <td>K01009.01</td>\n",
       "      <td>NaN</td>\n",
       "      <td>1.17</td>\n",
       "      <td>0.751</td>\n",
       "      <td>-0.20</td>\n",
       "      <td>0.727</td>\n",
       "    </tr>\n",
       "    <tr>\n",
       "      <th>2</th>\n",
       "      <td>FALSE POSITIVE</td>\n",
       "      <td>K07621.01</td>\n",
       "      <td>NaN</td>\n",
       "      <td>1.86</td>\n",
       "      <td>1.187</td>\n",
       "      <td>-0.12</td>\n",
       "      <td>0.864</td>\n",
       "    </tr>\n",
       "    <tr>\n",
       "      <th>3</th>\n",
       "      <td>FALSE POSITIVE</td>\n",
       "      <td>K04162.01</td>\n",
       "      <td>NaN</td>\n",
       "      <td>9.19</td>\n",
       "      <td>5.302</td>\n",
       "      <td>-0.10</td>\n",
       "      <td>2.050</td>\n",
       "    </tr>\n",
       "    <tr>\n",
       "      <th>4</th>\n",
       "      <td>FALSE POSITIVE</td>\n",
       "      <td>K07622.01</td>\n",
       "      <td>NaN</td>\n",
       "      <td>1.50</td>\n",
       "      <td>0.620</td>\n",
       "      <td>-0.20</td>\n",
       "      <td>0.607</td>\n",
       "    </tr>\n",
       "  </tbody>\n",
       "</table>\n",
       "</div>"
      ],
      "text/plain": [
       "  NExScI Disposition   KOI Name  Kepler Name  Planet Radius  Stellar Radius  \\\n",
       "0          CONFIRMED  K00889.01  Kepler-75 b          10.51           0.843   \n",
       "1     FALSE POSITIVE  K01009.01          NaN           1.17           0.751   \n",
       "2     FALSE POSITIVE  K07621.01          NaN           1.86           1.187   \n",
       "3     FALSE POSITIVE  K04162.01          NaN           9.19           5.302   \n",
       "4     FALSE POSITIVE  K07622.01          NaN           1.50           0.620   \n",
       "\n",
       "   Metallicity  Stellar Mass  \n",
       "0        -0.08         0.821  \n",
       "1        -0.20         0.727  \n",
       "2        -0.12         0.864  \n",
       "3        -0.10         2.050  \n",
       "4        -0.20         0.607  "
      ]
     },
     "execution_count": 2,
     "metadata": {},
     "output_type": "execute_result"
    }
   ],
   "source": [
    "#fijo para todos los datos\n",
    "df_labels_train = pd.read_csv('./Datos_split/koi_labels_train.csv')\n",
    "df_labels_val = pd.read_csv('./Datos_split/koi_labels_val.csv')\n",
    "df_labels_test = pd.read_csv('./Datos_split/koi_labels_test.csv')\n",
    "\n",
    "#df_labels_train = pd.read_csv('Datos_split_true/koi_labels_true_train.csv')\n",
    "#df_labels_val = pd.read_csv('Datos_split_true/koi_labels_true_val.csv')\n",
    "#df_labels_test = pd.read_csv('Datos_split_true/koi_labels_true_test.csv')\n",
    "\n",
    "y_train = ((df_labels_train[\"NExScI Disposition\"]==\"CONFIRMED\")*1).values\n",
    "y_val = ((df_labels_val[\"NExScI Disposition\"]==\"CONFIRMED\")*1).values\n",
    "y_test = ((df_labels_test[\"NExScI Disposition\"]==\"CONFIRMED\")*1).values\n",
    "df_labels_train.head()"
   ]
  },
  {
   "cell_type": "code",
   "execution_count": 9,
   "metadata": {},
   "outputs": [
    {
     "name": "stdout",
     "output_type": "stream",
     "text": [
      "Score si dice todos son falsos positivos: 0.486370\n",
      "Score si dice todos son candidatos: 0.200322\n"
     ]
    }
   ],
   "source": [
    "todos_ceros = np.zeros(y_test.shape)\n",
    "todos_uno = np.ones(y_test.shape)\n",
    "\n",
    "print(\"Score si dice todos son falsos positivos: %f\"%f1_score(y_test,todos_ceros,average=\"weighted\"))\n",
    "print(\"Score si dice todos son candidatos: %f\"%f1_score(y_test,todos_uno,average=\"weighted\"))"
   ]
  },
  {
   "cell_type": "code",
   "execution_count": 66,
   "metadata": {},
   "outputs": [
    {
     "data": {
      "text/plain": [
       "<matplotlib.text.Text at 0x7f6c8be32850>"
      ]
     },
     "execution_count": 66,
     "metadata": {},
     "output_type": "execute_result"
    },
    {
     "data": {
      "image/png": "[encoded data removed]",
      "text/plain": [
       "<matplotlib.figure.Figure at 0x7f6c8bde1e90>"
      ]
     },
     "metadata": {},
     "output_type": "display_data"
    }
   ],
   "source": [
    "%matplotlib inline\n",
    "plt.figure(figsize=(10,6))\n",
    "plt.title(\"TRAIN \")\n",
    "plt.bar(0, np.sum(y_train==1),color=\"blue\")\n",
    "plt.bar(1, np.sum(y_train==0),color=\"green\")\n",
    "plt.xticks([0,1],[\"CONFIRMED\",\"FALSE POSITIVE\"])\n",
    "plt.ylabel(\"Count\")\n",
    "#sns.countplot(y_train[mask])"
   ]
  },
  {
   "cell_type": "code",
   "execution_count": 5,
   "metadata": {},
   "outputs": [
    {
     "data": {
      "text/plain": [
       "(3856, 7)"
      ]
     },
     "execution_count": 5,
     "metadata": {},
     "output_type": "execute_result"
    }
   ],
   "source": [
    "df_labels_train.shape"
   ]
  },
  {
   "cell_type": "markdown",
   "metadata": {},
   "source": [
    "## VARIAR REPRESENTACION ACA:"
   ]
  },
  {
   "cell_type": "code",
   "execution_count": 5,
   "metadata": {},
   "outputs": [
    {
     "name": "stdout",
     "output_type": "stream",
     "text": [
      "(4007, 24)\n"
     ]
    }
   ],
   "source": [
    "#para distintas representaciones...\n",
    "ds= [5,10,25,55,100]\n",
    "df_algo_train = pd.read_csv('OwnFats/koi_light_curves_FATS2_metadatastellar_train.csv',header=None,names=columns_fats2)\n",
    "df_algo_val = pd.read_csv('OwnFats/koi_light_curves_FATS2_metadatastellar_val.csv',header=None,names=columns_fats2)\n",
    "df_algo_test = pd.read_csv('OwnFats/koi_light_curves_FATS2_metadatastellar_test.csv',header=None,names=columns_fats2)\n",
    "\n",
    "#para koi con valores nulos (Son falsos positivos asi que no afecta)\n",
    "\n",
    "#para fats2 -brither oppace ratio\n",
    "df_algo_train.iloc[:,12].fillna(0,inplace=True)\n",
    "df_algo_val.iloc[:,12].fillna(0,inplace=True)\n",
    "df_algo_test.iloc[:,12].fillna(0,inplace=True)\n",
    "\n",
    "def bool_mask(dataframe):\n",
    "    mask = pd.isnull(dataframe).any(1).nonzero()[0]\n",
    "    indx = np.ones(len(dataframe),dtype=bool)\n",
    "    indx[mask] = False\n",
    "    return indx\n",
    "\n",
    "mask_train = bool_mask(df_algo_train)\n",
    "df_algo_train = df_algo_train[mask_train]\n",
    "y_train = y_train[mask_train]\n",
    "\n",
    "mask_val = bool_mask(df_algo_val)\n",
    "df_algo_val = df_algo_val[mask_val]\n",
    "y_val = y_val[mask_val]\n",
    "\n",
    "mask_test = bool_mask(df_algo_test)\n",
    "df_algo_test = df_algo_test[mask_test]\n",
    "y_test = y_test[mask_test]\n",
    "\n",
    "\n",
    "X_train = df_algo_train.values\n",
    "X_val = df_algo_val.values\n",
    "X_test = df_algo_test.values\n",
    "print(X_train.shape)"
   ]
  },
  {
   "cell_type": "code",
   "execution_count": 6,
   "metadata": {},
   "outputs": [
    {
     "data": {
      "text/html": [
       "<div>\n",
       "<style scoped>\n",
       "    .dataframe tbody tr th:only-of-type {\n",
       "        vertical-align: middle;\n",
       "    }\n",
       "\n",
       "    .dataframe tbody tr th {\n",
       "        vertical-align: top;\n",
       "    }\n",
       "\n",
       "    .dataframe thead th {\n",
       "        text-align: right;\n",
       "    }\n",
       "</style>\n",
       "<table border=\"1\" class=\"dataframe\">\n",
       "  <thead>\n",
       "    <tr style=\"text-align: right;\">\n",
       "      <th></th>\n",
       "      <th>minimum</th>\n",
       "      <th>maximum</th>\n",
       "      <th>mean</th>\n",
       "      <th>std</th>\n",
       "      <th>iqr</th>\n",
       "      <th>skewness</th>\n",
       "      <th>kurtosis</th>\n",
       "      <th>q1</th>\n",
       "      <th>q2</th>\n",
       "      <th>slope</th>\n",
       "      <th>...</th>\n",
       "      <th>period</th>\n",
       "      <th>transit depth</th>\n",
       "      <th>teq</th>\n",
       "      <th>koi count</th>\n",
       "      <th>Planet Radius</th>\n",
       "      <th>Teff</th>\n",
       "      <th>log(g)</th>\n",
       "      <th>Metallicity</th>\n",
       "      <th>Stellar Radius</th>\n",
       "      <th>Stellar Mass</th>\n",
       "    </tr>\n",
       "  </thead>\n",
       "  <tbody>\n",
       "    <tr>\n",
       "      <th>0</th>\n",
       "      <td>-41.321</td>\n",
       "      <td>16.889</td>\n",
       "      <td>-0.007361</td>\n",
       "      <td>2.254558</td>\n",
       "      <td>1.469008</td>\n",
       "      <td>-6.180130</td>\n",
       "      <td>64.167718</td>\n",
       "      <td>-0.640008</td>\n",
       "      <td>0.082</td>\n",
       "      <td>1.633369e-06</td>\n",
       "      <td>...</td>\n",
       "      <td>8.884923</td>\n",
       "      <td>16053.4</td>\n",
       "      <td>770.0</td>\n",
       "      <td>1</td>\n",
       "      <td>10.51</td>\n",
       "      <td>5332.0</td>\n",
       "      <td>4.500</td>\n",
       "      <td>-0.08</td>\n",
       "      <td>0.843</td>\n",
       "      <td>0.821</td>\n",
       "    </tr>\n",
       "    <tr>\n",
       "      <th>1</th>\n",
       "      <td>-4.632</td>\n",
       "      <td>12.196</td>\n",
       "      <td>0.088144</td>\n",
       "      <td>0.941973</td>\n",
       "      <td>1.170000</td>\n",
       "      <td>0.171710</td>\n",
       "      <td>2.179614</td>\n",
       "      <td>-0.508000</td>\n",
       "      <td>0.150</td>\n",
       "      <td>-4.815129e-06</td>\n",
       "      <td>...</td>\n",
       "      <td>5.092465</td>\n",
       "      <td>254.0</td>\n",
       "      <td>844.0</td>\n",
       "      <td>1</td>\n",
       "      <td>1.17</td>\n",
       "      <td>5037.0</td>\n",
       "      <td>4.547</td>\n",
       "      <td>-0.20</td>\n",
       "      <td>0.751</td>\n",
       "      <td>0.727</td>\n",
       "    </tr>\n",
       "    <tr>\n",
       "      <th>2</th>\n",
       "      <td>-139.123</td>\n",
       "      <td>21.879</td>\n",
       "      <td>-0.714502</td>\n",
       "      <td>5.838941</td>\n",
       "      <td>1.411000</td>\n",
       "      <td>-13.070066</td>\n",
       "      <td>233.998145</td>\n",
       "      <td>-0.761000</td>\n",
       "      <td>-0.036</td>\n",
       "      <td>-2.554466e-05</td>\n",
       "      <td>...</td>\n",
       "      <td>275.073650</td>\n",
       "      <td>228.9</td>\n",
       "      <td>303.0</td>\n",
       "      <td>1</td>\n",
       "      <td>1.86</td>\n",
       "      <td>5604.0</td>\n",
       "      <td>4.226</td>\n",
       "      <td>-0.12</td>\n",
       "      <td>1.187</td>\n",
       "      <td>0.864</td>\n",
       "    </tr>\n",
       "    <tr>\n",
       "      <th>3</th>\n",
       "      <td>-21.000</td>\n",
       "      <td>164.128</td>\n",
       "      <td>-0.010487</td>\n",
       "      <td>1.287897</td>\n",
       "      <td>1.288000</td>\n",
       "      <td>34.431573</td>\n",
       "      <td>4060.501884</td>\n",
       "      <td>-0.651000</td>\n",
       "      <td>-0.005</td>\n",
       "      <td>1.984248e-07</td>\n",
       "      <td>...</td>\n",
       "      <td>0.539366</td>\n",
       "      <td>145.0</td>\n",
       "      <td>5016.0</td>\n",
       "      <td>1</td>\n",
       "      <td>9.19</td>\n",
       "      <td>6341.0</td>\n",
       "      <td>3.301</td>\n",
       "      <td>-0.10</td>\n",
       "      <td>5.302</td>\n",
       "      <td>2.050</td>\n",
       "    </tr>\n",
       "    <tr>\n",
       "      <th>4</th>\n",
       "      <td>-5.785</td>\n",
       "      <td>7.993</td>\n",
       "      <td>0.025688</td>\n",
       "      <td>0.996821</td>\n",
       "      <td>1.260000</td>\n",
       "      <td>0.217364</td>\n",
       "      <td>1.039805</td>\n",
       "      <td>-0.626000</td>\n",
       "      <td>0.023</td>\n",
       "      <td>1.001995e-06</td>\n",
       "      <td>...</td>\n",
       "      <td>36.267167</td>\n",
       "      <td>627.1</td>\n",
       "      <td>347.0</td>\n",
       "      <td>1</td>\n",
       "      <td>1.50</td>\n",
       "      <td>4264.0</td>\n",
       "      <td>4.637</td>\n",
       "      <td>-0.20</td>\n",
       "      <td>0.620</td>\n",
       "      <td>0.607</td>\n",
       "    </tr>\n",
       "  </tbody>\n",
       "</table>\n",
       "<p>5 rows × 24 columns</p>\n",
       "</div>"
      ],
      "text/plain": [
       "   minimum  maximum      mean       std       iqr   skewness     kurtosis  \\\n",
       "0  -41.321   16.889 -0.007361  2.254558  1.469008  -6.180130    64.167718   \n",
       "1   -4.632   12.196  0.088144  0.941973  1.170000   0.171710     2.179614   \n",
       "2 -139.123   21.879 -0.714502  5.838941  1.411000 -13.070066   233.998145   \n",
       "3  -21.000  164.128 -0.010487  1.287897  1.288000  34.431573  4060.501884   \n",
       "4   -5.785    7.993  0.025688  0.996821  1.260000   0.217364     1.039805   \n",
       "\n",
       "         q1     q2         slope      ...           period  transit depth  \\\n",
       "0 -0.640008  0.082  1.633369e-06      ...         8.884923        16053.4   \n",
       "1 -0.508000  0.150 -4.815129e-06      ...         5.092465          254.0   \n",
       "2 -0.761000 -0.036 -2.554466e-05      ...       275.073650          228.9   \n",
       "3 -0.651000 -0.005  1.984248e-07      ...         0.539366          145.0   \n",
       "4 -0.626000  0.023  1.001995e-06      ...        36.267167          627.1   \n",
       "\n",
       "      teq  koi count  Planet Radius    Teff  log(g)  Metallicity  \\\n",
       "0   770.0          1          10.51  5332.0   4.500        -0.08   \n",
       "1   844.0          1           1.17  5037.0   4.547        -0.20   \n",
       "2   303.0          1           1.86  5604.0   4.226        -0.12   \n",
       "3  5016.0          1           9.19  6341.0   3.301        -0.10   \n",
       "4   347.0          1           1.50  4264.0   4.637        -0.20   \n",
       "\n",
       "   Stellar Radius  Stellar Mass  \n",
       "0           0.843         0.821  \n",
       "1           0.751         0.727  \n",
       "2           1.187         0.864  \n",
       "3           5.302         2.050  \n",
       "4           0.620         0.607  \n",
       "\n",
       "[5 rows x 24 columns]"
      ]
     },
     "execution_count": 6,
     "metadata": {},
     "output_type": "execute_result"
    }
   ],
   "source": [
    "df_algo_train.head()"
   ]
  },
  {
   "cell_type": "code",
   "execution_count": 34,
   "metadata": {},
   "outputs": [
    {
     "data": {
      "text/plain": [
       "ReliefF(discrete_threshold=10, n_features_to_select=2, n_jobs=1,\n",
       "    n_neighbors=100, verbose=False)"
      ]
     },
     "execution_count": 34,
     "metadata": {},
     "output_type": "execute_result"
    }
   ],
   "source": [
    "from skrebate import ReliefF\n",
    "\n",
    "relief = ReliefF(n_features_to_select=2, n_neighbors=100)\n",
    "relief"
   ]
  },
  {
   "cell_type": "code",
   "execution_count": null,
   "metadata": {
    "collapsed": true
   },
   "outputs": [],
   "source": [
    "FDR = (μ 1 −μ 2 ) 2 / (σ 12 / σ 22 ) 2"
   ]
  },
  {
   "cell_type": "code",
   "execution_count": 35,
   "metadata": {},
   "outputs": [
    {
     "data": {
      "text/plain": [
       "ReliefF(discrete_threshold=10, n_features_to_select=2, n_jobs=1,\n",
       "    n_neighbors=100, verbose=False)"
      ]
     },
     "execution_count": 35,
     "metadata": {},
     "output_type": "execute_result"
    }
   ],
   "source": [
    "relief.fit(df_algo_train.values,y_train)"
   ]
  },
  {
   "cell_type": "code",
   "execution_count": 17,
   "metadata": {},
   "outputs": [
    {
     "name": "stdout",
     "output_type": "stream",
     "text": [
      "Numero 0 :transit depth\n",
      "Numero 1 :teq\n",
      "Numero 2 :Teff\n",
      "Numero 3 :minimum\n",
      "Numero 4 :period\n",
      "Numero 5 :kurtosis\n",
      "Numero 6 :amplitute\n",
      "Numero 7 :Planet Radius\n",
      "Numero 8 :maximum\n",
      "Numero 9 :std\n",
      "Numero 10 :skewness\n",
      "Numero 11 :residual bright faint ratio\n",
      "Numero 12 :iqr\n",
      "Numero 13 :Stellar Radius\n",
      "Numero 14 :koi count\n",
      "Numero 15 :median absolute deviation\n",
      "Numero 16 :log(g)\n",
      "Numero 17 :q1\n",
      "Numero 18 :Metallicity\n",
      "Numero 19 :Stellar Mass\n",
      "Numero 20 :mean\n",
      "Numero 21 :q2\n",
      "Numero 22 :median\n",
      "Numero 23 :slope\n"
     ]
    }
   ],
   "source": [
    "for contador,i in enumerate(relief.top_features_):\n",
    "    print(\"Numero \"+str(contador)+\" :\"+columns_fats2[i])"
   ]
  },
  {
   "cell_type": "code",
   "execution_count": 50,
   "metadata": {},
   "outputs": [],
   "source": [
    "#select top 10 features y luego top 15\n",
    "selected_features = relief.top_features_[:15]\n",
    "\n",
    "X_train = df_algo_train.iloc[:,selected_features]\n",
    "X_val = df_algo_val.iloc[:,selected_features]\n",
    "X_test = df_algo_test.iloc[:,selected_features]"
   ]
  },
  {
   "cell_type": "code",
   "execution_count": 56,
   "metadata": {
    "collapsed": true
   },
   "outputs": [],
   "source": [
    "planet_columns = [\"period\",\"transit depth\",\"teq\",\"koi count\",'Planet Radius']\n",
    "stellar_colmuns = [\"Teff\",\"log(g)\",\"Metallicity\",\"Stellar Radius\",\"Stellar Mass\"]\n",
    "\n",
    "X_train = df_algo_train.loc[:,stellar_colmuns]\n",
    "X_val = df_algo_val.loc[:,stellar_colmuns]\n",
    "X_test = df_algo_test.loc[:,stellar_colmuns]"
   ]
  },
  {
   "cell_type": "code",
   "execution_count": 57,
   "metadata": {
    "scrolled": true
   },
   "outputs": [
    {
     "data": {
      "text/html": [
       "<div>\n",
       "<style scoped>\n",
       "    .dataframe tbody tr th:only-of-type {\n",
       "        vertical-align: middle;\n",
       "    }\n",
       "\n",
       "    .dataframe tbody tr th {\n",
       "        vertical-align: top;\n",
       "    }\n",
       "\n",
       "    .dataframe thead th {\n",
       "        text-align: right;\n",
       "    }\n",
       "</style>\n",
       "<table border=\"1\" class=\"dataframe\">\n",
       "  <thead>\n",
       "    <tr style=\"text-align: right;\">\n",
       "      <th></th>\n",
       "      <th>Teff</th>\n",
       "      <th>log(g)</th>\n",
       "      <th>Metallicity</th>\n",
       "      <th>Stellar Radius</th>\n",
       "      <th>Stellar Mass</th>\n",
       "    </tr>\n",
       "  </thead>\n",
       "  <tbody>\n",
       "    <tr>\n",
       "      <th>0</th>\n",
       "      <td>5332.0</td>\n",
       "      <td>4.500</td>\n",
       "      <td>-0.08</td>\n",
       "      <td>0.843</td>\n",
       "      <td>0.821</td>\n",
       "    </tr>\n",
       "    <tr>\n",
       "      <th>1</th>\n",
       "      <td>5037.0</td>\n",
       "      <td>4.547</td>\n",
       "      <td>-0.20</td>\n",
       "      <td>0.751</td>\n",
       "      <td>0.727</td>\n",
       "    </tr>\n",
       "    <tr>\n",
       "      <th>2</th>\n",
       "      <td>5604.0</td>\n",
       "      <td>4.226</td>\n",
       "      <td>-0.12</td>\n",
       "      <td>1.187</td>\n",
       "      <td>0.864</td>\n",
       "    </tr>\n",
       "    <tr>\n",
       "      <th>3</th>\n",
       "      <td>6341.0</td>\n",
       "      <td>3.301</td>\n",
       "      <td>-0.10</td>\n",
       "      <td>5.302</td>\n",
       "      <td>2.050</td>\n",
       "    </tr>\n",
       "    <tr>\n",
       "      <th>4</th>\n",
       "      <td>4264.0</td>\n",
       "      <td>4.637</td>\n",
       "      <td>-0.20</td>\n",
       "      <td>0.620</td>\n",
       "      <td>0.607</td>\n",
       "    </tr>\n",
       "    <tr>\n",
       "      <th>5</th>\n",
       "      <td>6018.0</td>\n",
       "      <td>4.327</td>\n",
       "      <td>0.18</td>\n",
       "      <td>1.212</td>\n",
       "      <td>1.142</td>\n",
       "    </tr>\n",
       "    <tr>\n",
       "      <th>6</th>\n",
       "      <td>5782.0</td>\n",
       "      <td>4.280</td>\n",
       "      <td>0.16</td>\n",
       "      <td>1.220</td>\n",
       "      <td>1.035</td>\n",
       "    </tr>\n",
       "    <tr>\n",
       "      <th>7</th>\n",
       "      <td>4506.0</td>\n",
       "      <td>4.626</td>\n",
       "      <td>-0.20</td>\n",
       "      <td>0.651</td>\n",
       "      <td>0.654</td>\n",
       "    </tr>\n",
       "    <tr>\n",
       "      <th>8</th>\n",
       "      <td>6606.0</td>\n",
       "      <td>4.071</td>\n",
       "      <td>-0.16</td>\n",
       "      <td>1.768</td>\n",
       "      <td>1.349</td>\n",
       "    </tr>\n",
       "    <tr>\n",
       "      <th>9</th>\n",
       "      <td>5830.0</td>\n",
       "      <td>4.540</td>\n",
       "      <td>-0.14</td>\n",
       "      <td>0.876</td>\n",
       "      <td>0.970</td>\n",
       "    </tr>\n",
       "    <tr>\n",
       "      <th>10</th>\n",
       "      <td>5830.0</td>\n",
       "      <td>4.540</td>\n",
       "      <td>-0.14</td>\n",
       "      <td>0.876</td>\n",
       "      <td>0.970</td>\n",
       "    </tr>\n",
       "    <tr>\n",
       "      <th>11</th>\n",
       "      <td>5830.0</td>\n",
       "      <td>4.540</td>\n",
       "      <td>-0.14</td>\n",
       "      <td>0.876</td>\n",
       "      <td>0.970</td>\n",
       "    </tr>\n",
       "    <tr>\n",
       "      <th>12</th>\n",
       "      <td>5367.0</td>\n",
       "      <td>3.783</td>\n",
       "      <td>-0.46</td>\n",
       "      <td>2.057</td>\n",
       "      <td>0.935</td>\n",
       "    </tr>\n",
       "    <tr>\n",
       "      <th>13</th>\n",
       "      <td>6401.0</td>\n",
       "      <td>4.029</td>\n",
       "      <td>-0.20</td>\n",
       "      <td>1.744</td>\n",
       "      <td>1.185</td>\n",
       "    </tr>\n",
       "    <tr>\n",
       "      <th>14</th>\n",
       "      <td>5679.0</td>\n",
       "      <td>4.146</td>\n",
       "      <td>-0.30</td>\n",
       "      <td>1.286</td>\n",
       "      <td>0.844</td>\n",
       "    </tr>\n",
       "    <tr>\n",
       "      <th>15</th>\n",
       "      <td>6207.0</td>\n",
       "      <td>3.963</td>\n",
       "      <td>0.24</td>\n",
       "      <td>2.097</td>\n",
       "      <td>1.472</td>\n",
       "    </tr>\n",
       "    <tr>\n",
       "      <th>16</th>\n",
       "      <td>6207.0</td>\n",
       "      <td>3.963</td>\n",
       "      <td>0.24</td>\n",
       "      <td>2.097</td>\n",
       "      <td>1.472</td>\n",
       "    </tr>\n",
       "    <tr>\n",
       "      <th>17</th>\n",
       "      <td>3386.0</td>\n",
       "      <td>4.810</td>\n",
       "      <td>0.48</td>\n",
       "      <td>0.427</td>\n",
       "      <td>0.430</td>\n",
       "    </tr>\n",
       "    <tr>\n",
       "      <th>18</th>\n",
       "      <td>6079.0</td>\n",
       "      <td>4.411</td>\n",
       "      <td>-0.50</td>\n",
       "      <td>0.974</td>\n",
       "      <td>0.892</td>\n",
       "    </tr>\n",
       "    <tr>\n",
       "      <th>19</th>\n",
       "      <td>5359.0</td>\n",
       "      <td>4.570</td>\n",
       "      <td>-0.12</td>\n",
       "      <td>0.790</td>\n",
       "      <td>0.848</td>\n",
       "    </tr>\n",
       "    <tr>\n",
       "      <th>20</th>\n",
       "      <td>6123.0</td>\n",
       "      <td>4.263</td>\n",
       "      <td>-0.06</td>\n",
       "      <td>1.263</td>\n",
       "      <td>1.066</td>\n",
       "    </tr>\n",
       "    <tr>\n",
       "      <th>21</th>\n",
       "      <td>6050.0</td>\n",
       "      <td>4.080</td>\n",
       "      <td>-0.94</td>\n",
       "      <td>1.333</td>\n",
       "      <td>0.779</td>\n",
       "    </tr>\n",
       "    <tr>\n",
       "      <th>22</th>\n",
       "      <td>5854.0</td>\n",
       "      <td>4.014</td>\n",
       "      <td>0.12</td>\n",
       "      <td>1.742</td>\n",
       "      <td>1.143</td>\n",
       "    </tr>\n",
       "    <tr>\n",
       "      <th>23</th>\n",
       "      <td>7046.0</td>\n",
       "      <td>3.831</td>\n",
       "      <td>0.10</td>\n",
       "      <td>2.724</td>\n",
       "      <td>1.834</td>\n",
       "    </tr>\n",
       "    <tr>\n",
       "      <th>24</th>\n",
       "      <td>6218.0</td>\n",
       "      <td>4.066</td>\n",
       "      <td>0.10</td>\n",
       "      <td>1.726</td>\n",
       "      <td>1.263</td>\n",
       "    </tr>\n",
       "    <tr>\n",
       "      <th>25</th>\n",
       "      <td>6418.0</td>\n",
       "      <td>3.658</td>\n",
       "      <td>-0.14</td>\n",
       "      <td>3.049</td>\n",
       "      <td>1.541</td>\n",
       "    </tr>\n",
       "    <tr>\n",
       "      <th>26</th>\n",
       "      <td>5150.0</td>\n",
       "      <td>4.628</td>\n",
       "      <td>-0.28</td>\n",
       "      <td>0.710</td>\n",
       "      <td>0.792</td>\n",
       "    </tr>\n",
       "    <tr>\n",
       "      <th>27</th>\n",
       "      <td>6056.0</td>\n",
       "      <td>4.179</td>\n",
       "      <td>0.00</td>\n",
       "      <td>1.411</td>\n",
       "      <td>1.096</td>\n",
       "    </tr>\n",
       "    <tr>\n",
       "      <th>28</th>\n",
       "      <td>6113.0</td>\n",
       "      <td>4.341</td>\n",
       "      <td>0.22</td>\n",
       "      <td>1.218</td>\n",
       "      <td>1.194</td>\n",
       "    </tr>\n",
       "    <tr>\n",
       "      <th>29</th>\n",
       "      <td>6723.0</td>\n",
       "      <td>4.089</td>\n",
       "      <td>-0.24</td>\n",
       "      <td>1.719</td>\n",
       "      <td>1.327</td>\n",
       "    </tr>\n",
       "    <tr>\n",
       "      <th>...</th>\n",
       "      <td>...</td>\n",
       "      <td>...</td>\n",
       "      <td>...</td>\n",
       "      <td>...</td>\n",
       "      <td>...</td>\n",
       "    </tr>\n",
       "    <tr>\n",
       "      <th>4014</th>\n",
       "      <td>6309.0</td>\n",
       "      <td>4.441</td>\n",
       "      <td>-0.18</td>\n",
       "      <td>1.044</td>\n",
       "      <td>1.096</td>\n",
       "    </tr>\n",
       "    <tr>\n",
       "      <th>4015</th>\n",
       "      <td>6161.0</td>\n",
       "      <td>4.399</td>\n",
       "      <td>0.36</td>\n",
       "      <td>1.169</td>\n",
       "      <td>1.251</td>\n",
       "    </tr>\n",
       "    <tr>\n",
       "      <th>4016</th>\n",
       "      <td>6289.0</td>\n",
       "      <td>4.330</td>\n",
       "      <td>-0.26</td>\n",
       "      <td>1.142</td>\n",
       "      <td>1.015</td>\n",
       "    </tr>\n",
       "    <tr>\n",
       "      <th>4017</th>\n",
       "      <td>6253.0</td>\n",
       "      <td>4.410</td>\n",
       "      <td>-0.54</td>\n",
       "      <td>0.997</td>\n",
       "      <td>0.930</td>\n",
       "    </tr>\n",
       "    <tr>\n",
       "      <th>4018</th>\n",
       "      <td>7517.0</td>\n",
       "      <td>3.717</td>\n",
       "      <td>-0.16</td>\n",
       "      <td>3.226</td>\n",
       "      <td>1.980</td>\n",
       "    </tr>\n",
       "    <tr>\n",
       "      <th>4019</th>\n",
       "      <td>4859.0</td>\n",
       "      <td>4.637</td>\n",
       "      <td>-0.70</td>\n",
       "      <td>0.621</td>\n",
       "      <td>0.610</td>\n",
       "    </tr>\n",
       "    <tr>\n",
       "      <th>4020</th>\n",
       "      <td>5354.0</td>\n",
       "      <td>4.587</td>\n",
       "      <td>-0.08</td>\n",
       "      <td>0.788</td>\n",
       "      <td>0.884</td>\n",
       "    </tr>\n",
       "    <tr>\n",
       "      <th>4021</th>\n",
       "      <td>5400.0</td>\n",
       "      <td>4.463</td>\n",
       "      <td>0.24</td>\n",
       "      <td>0.937</td>\n",
       "      <td>0.931</td>\n",
       "    </tr>\n",
       "    <tr>\n",
       "      <th>4022</th>\n",
       "      <td>6197.0</td>\n",
       "      <td>4.449</td>\n",
       "      <td>-0.08</td>\n",
       "      <td>1.035</td>\n",
       "      <td>1.096</td>\n",
       "    </tr>\n",
       "    <tr>\n",
       "      <th>4023</th>\n",
       "      <td>5757.0</td>\n",
       "      <td>4.536</td>\n",
       "      <td>-0.06</td>\n",
       "      <td>0.881</td>\n",
       "      <td>0.974</td>\n",
       "    </tr>\n",
       "    <tr>\n",
       "      <th>4024</th>\n",
       "      <td>4551.0</td>\n",
       "      <td>4.713</td>\n",
       "      <td>-0.72</td>\n",
       "      <td>0.560</td>\n",
       "      <td>0.590</td>\n",
       "    </tr>\n",
       "    <tr>\n",
       "      <th>4025</th>\n",
       "      <td>5553.0</td>\n",
       "      <td>4.577</td>\n",
       "      <td>-0.16</td>\n",
       "      <td>0.806</td>\n",
       "      <td>0.903</td>\n",
       "    </tr>\n",
       "    <tr>\n",
       "      <th>4026</th>\n",
       "      <td>6420.0</td>\n",
       "      <td>4.492</td>\n",
       "      <td>-0.56</td>\n",
       "      <td>0.941</td>\n",
       "      <td>1.001</td>\n",
       "    </tr>\n",
       "    <tr>\n",
       "      <th>4027</th>\n",
       "      <td>4550.0</td>\n",
       "      <td>4.622</td>\n",
       "      <td>-0.18</td>\n",
       "      <td>0.660</td>\n",
       "      <td>0.666</td>\n",
       "    </tr>\n",
       "    <tr>\n",
       "      <th>4028</th>\n",
       "      <td>6008.0</td>\n",
       "      <td>4.350</td>\n",
       "      <td>0.14</td>\n",
       "      <td>1.168</td>\n",
       "      <td>1.117</td>\n",
       "    </tr>\n",
       "    <tr>\n",
       "      <th>4029</th>\n",
       "      <td>5840.0</td>\n",
       "      <td>4.553</td>\n",
       "      <td>-0.24</td>\n",
       "      <td>0.849</td>\n",
       "      <td>0.942</td>\n",
       "    </tr>\n",
       "    <tr>\n",
       "      <th>4030</th>\n",
       "      <td>5876.0</td>\n",
       "      <td>4.492</td>\n",
       "      <td>-0.30</td>\n",
       "      <td>0.896</td>\n",
       "      <td>0.910</td>\n",
       "    </tr>\n",
       "    <tr>\n",
       "      <th>4031</th>\n",
       "      <td>6692.0</td>\n",
       "      <td>4.383</td>\n",
       "      <td>-0.28</td>\n",
       "      <td>1.152</td>\n",
       "      <td>1.176</td>\n",
       "    </tr>\n",
       "    <tr>\n",
       "      <th>4032</th>\n",
       "      <td>4451.0</td>\n",
       "      <td>4.654</td>\n",
       "      <td>-0.30</td>\n",
       "      <td>0.620</td>\n",
       "      <td>0.633</td>\n",
       "    </tr>\n",
       "    <tr>\n",
       "      <th>4033</th>\n",
       "      <td>5665.0</td>\n",
       "      <td>4.381</td>\n",
       "      <td>-0.44</td>\n",
       "      <td>0.938</td>\n",
       "      <td>0.773</td>\n",
       "    </tr>\n",
       "    <tr>\n",
       "      <th>4034</th>\n",
       "      <td>5059.0</td>\n",
       "      <td>3.466</td>\n",
       "      <td>-0.50</td>\n",
       "      <td>2.799</td>\n",
       "      <td>0.834</td>\n",
       "    </tr>\n",
       "    <tr>\n",
       "      <th>4035</th>\n",
       "      <td>6596.0</td>\n",
       "      <td>4.135</td>\n",
       "      <td>0.30</td>\n",
       "      <td>1.721</td>\n",
       "      <td>1.474</td>\n",
       "    </tr>\n",
       "    <tr>\n",
       "      <th>4036</th>\n",
       "      <td>5566.0</td>\n",
       "      <td>4.275</td>\n",
       "      <td>0.14</td>\n",
       "      <td>1.170</td>\n",
       "      <td>0.940</td>\n",
       "    </tr>\n",
       "    <tr>\n",
       "      <th>4037</th>\n",
       "      <td>5725.0</td>\n",
       "      <td>4.506</td>\n",
       "      <td>0.00</td>\n",
       "      <td>0.913</td>\n",
       "      <td>0.974</td>\n",
       "    </tr>\n",
       "    <tr>\n",
       "      <th>4038</th>\n",
       "      <td>4774.0</td>\n",
       "      <td>3.838</td>\n",
       "      <td>0.38</td>\n",
       "      <td>1.954</td>\n",
       "      <td>0.959</td>\n",
       "    </tr>\n",
       "    <tr>\n",
       "      <th>4039</th>\n",
       "      <td>5846.0</td>\n",
       "      <td>4.270</td>\n",
       "      <td>-0.02</td>\n",
       "      <td>1.207</td>\n",
       "      <td>0.988</td>\n",
       "    </tr>\n",
       "    <tr>\n",
       "      <th>4040</th>\n",
       "      <td>5763.0</td>\n",
       "      <td>4.557</td>\n",
       "      <td>-0.20</td>\n",
       "      <td>0.842</td>\n",
       "      <td>0.937</td>\n",
       "    </tr>\n",
       "    <tr>\n",
       "      <th>4041</th>\n",
       "      <td>5250.0</td>\n",
       "      <td>4.541</td>\n",
       "      <td>-0.16</td>\n",
       "      <td>0.790</td>\n",
       "      <td>0.790</td>\n",
       "    </tr>\n",
       "    <tr>\n",
       "      <th>4042</th>\n",
       "      <td>4620.0</td>\n",
       "      <td>4.564</td>\n",
       "      <td>0.12</td>\n",
       "      <td>0.736</td>\n",
       "      <td>0.723</td>\n",
       "    </tr>\n",
       "    <tr>\n",
       "      <th>4043</th>\n",
       "      <td>4878.0</td>\n",
       "      <td>4.500</td>\n",
       "      <td>0.44</td>\n",
       "      <td>0.843</td>\n",
       "      <td>0.820</td>\n",
       "    </tr>\n",
       "  </tbody>\n",
       "</table>\n",
       "<p>4007 rows × 5 columns</p>\n",
       "</div>"
      ],
      "text/plain": [
       "        Teff  log(g)  Metallicity  Stellar Radius  Stellar Mass\n",
       "0     5332.0   4.500        -0.08           0.843         0.821\n",
       "1     5037.0   4.547        -0.20           0.751         0.727\n",
       "2     5604.0   4.226        -0.12           1.187         0.864\n",
       "3     6341.0   3.301        -0.10           5.302         2.050\n",
       "4     4264.0   4.637        -0.20           0.620         0.607\n",
       "5     6018.0   4.327         0.18           1.212         1.142\n",
       "6     5782.0   4.280         0.16           1.220         1.035\n",
       "7     4506.0   4.626        -0.20           0.651         0.654\n",
       "8     6606.0   4.071        -0.16           1.768         1.349\n",
       "9     5830.0   4.540        -0.14           0.876         0.970\n",
       "10    5830.0   4.540        -0.14           0.876         0.970\n",
       "11    5830.0   4.540        -0.14           0.876         0.970\n",
       "12    5367.0   3.783        -0.46           2.057         0.935\n",
       "13    6401.0   4.029        -0.20           1.744         1.185\n",
       "14    5679.0   4.146        -0.30           1.286         0.844\n",
       "15    6207.0   3.963         0.24           2.097         1.472\n",
       "16    6207.0   3.963         0.24           2.097         1.472\n",
       "17    3386.0   4.810         0.48           0.427         0.430\n",
       "18    6079.0   4.411        -0.50           0.974         0.892\n",
       "19    5359.0   4.570        -0.12           0.790         0.848\n",
       "20    6123.0   4.263        -0.06           1.263         1.066\n",
       "21    6050.0   4.080        -0.94           1.333         0.779\n",
       "22    5854.0   4.014         0.12           1.742         1.143\n",
       "23    7046.0   3.831         0.10           2.724         1.834\n",
       "24    6218.0   4.066         0.10           1.726         1.263\n",
       "25    6418.0   3.658        -0.14           3.049         1.541\n",
       "26    5150.0   4.628        -0.28           0.710         0.792\n",
       "27    6056.0   4.179         0.00           1.411         1.096\n",
       "28    6113.0   4.341         0.22           1.218         1.194\n",
       "29    6723.0   4.089        -0.24           1.719         1.327\n",
       "...      ...     ...          ...             ...           ...\n",
       "4014  6309.0   4.441        -0.18           1.044         1.096\n",
       "4015  6161.0   4.399         0.36           1.169         1.251\n",
       "4016  6289.0   4.330        -0.26           1.142         1.015\n",
       "4017  6253.0   4.410        -0.54           0.997         0.930\n",
       "4018  7517.0   3.717        -0.16           3.226         1.980\n",
       "4019  4859.0   4.637        -0.70           0.621         0.610\n",
       "4020  5354.0   4.587        -0.08           0.788         0.884\n",
       "4021  5400.0   4.463         0.24           0.937         0.931\n",
       "4022  6197.0   4.449        -0.08           1.035         1.096\n",
       "4023  5757.0   4.536        -0.06           0.881         0.974\n",
       "4024  4551.0   4.713        -0.72           0.560         0.590\n",
       "4025  5553.0   4.577        -0.16           0.806         0.903\n",
       "4026  6420.0   4.492        -0.56           0.941         1.001\n",
       "4027  4550.0   4.622        -0.18           0.660         0.666\n",
       "4028  6008.0   4.350         0.14           1.168         1.117\n",
       "4029  5840.0   4.553        -0.24           0.849         0.942\n",
       "4030  5876.0   4.492        -0.30           0.896         0.910\n",
       "4031  6692.0   4.383        -0.28           1.152         1.176\n",
       "4032  4451.0   4.654        -0.30           0.620         0.633\n",
       "4033  5665.0   4.381        -0.44           0.938         0.773\n",
       "4034  5059.0   3.466        -0.50           2.799         0.834\n",
       "4035  6596.0   4.135         0.30           1.721         1.474\n",
       "4036  5566.0   4.275         0.14           1.170         0.940\n",
       "4037  5725.0   4.506         0.00           0.913         0.974\n",
       "4038  4774.0   3.838         0.38           1.954         0.959\n",
       "4039  5846.0   4.270        -0.02           1.207         0.988\n",
       "4040  5763.0   4.557        -0.20           0.842         0.937\n",
       "4041  5250.0   4.541        -0.16           0.790         0.790\n",
       "4042  4620.0   4.564         0.12           0.736         0.723\n",
       "4043  4878.0   4.500         0.44           0.843         0.820\n",
       "\n",
       "[4007 rows x 5 columns]"
      ]
     },
     "execution_count": 57,
     "metadata": {},
     "output_type": "execute_result"
    }
   ],
   "source": [
    "X_train"
   ]
  },
  {
   "cell_type": "markdown",
   "metadata": {},
   "source": [
    "## SUBSAMPLE (CLASE MAYORITARIA - FALSE POSITIVE)"
   ]
  },
  {
   "cell_type": "code",
   "execution_count": 272,
   "metadata": {},
   "outputs": [
    {
     "data": {
      "text/plain": [
       "<matplotlib.text.Text at 0x7f7154f73950>"
      ]
     },
     "execution_count": 272,
     "metadata": {},
     "output_type": "execute_result"
    },
    {
     "data": {
      "image/png": "[encoded data removed]",
      "text/plain": [
       "<matplotlib.figure.Figure at 0x7f7154ef3950>"
      ]
     },
     "metadata": {},
     "output_type": "display_data"
    }
   ],
   "source": [
    "import numpy as np\n",
    "import matplotlib.pyplot as plt\n",
    "mask = y_train!=0 #elemntos que se quedan\n",
    "\n",
    "for i in range(len(mask)):\n",
    "    element = mask[i]\n",
    "    if element == False:\n",
    "        if np.random.rand(1)[0] < 0.65 : #deja aprox 60% de los falsos positivos\n",
    "            mask[i] = True\n",
    "%matplotlib inline\n",
    "plt.figure(figsize=(10,6))\n",
    "plt.title(\"TRAIN \")\n",
    "plt.bar(0, np.sum(y_train[mask]==1),color=\"blue\")\n",
    "plt.bar(1, np.sum(y_train[mask]==0),color=\"green\")\n",
    "plt.xticks([0,1],[\"CONFIRMED\",\"FALSE POSITIVE\"])\n",
    "plt.ylabel(\"Count\")\n",
    "#sns.countplot(y_train[mask])"
   ]
  },
  {
   "cell_type": "markdown",
   "metadata": {},
   "source": [
    "### MASCARA LISTA:"
   ]
  },
  {
   "cell_type": "code",
   "execution_count": 273,
   "metadata": {},
   "outputs": [
    {
     "data": {
      "text/plain": [
       "(3149, 19)"
      ]
     },
     "execution_count": 273,
     "metadata": {},
     "output_type": "execute_result"
    }
   ],
   "source": [
    "#SUBSAMPLE\n",
    "ysample_train = y_train[mask]\n",
    "Xsample_train = X_train[mask]\n",
    "Xsample_train.shape"
   ]
  },
  {
   "cell_type": "code",
   "execution_count": 51,
   "metadata": {
    "collapsed": true
   },
   "outputs": [],
   "source": [
    "from sklearn.preprocessing import StandardScaler\n",
    "std = StandardScaler()\n",
    "#Sample\n",
    "#Xstd_train = std.fit_transform(Xsample_train.astype('float'))\n",
    "#not sampled\n",
    "Xstd_train = std.fit_transform(X_train.astype('float'))\n",
    "\n",
    "Xstd_val = std.transform(X_val)\n",
    "Xstd_test = std.transform(X_test)"
   ]
  },
  {
   "cell_type": "markdown",
   "metadata": {},
   "source": [
    "### Emppieza ejecucion util: "
   ]
  },
  {
   "cell_type": "code",
   "execution_count": 52,
   "metadata": {
    "collapsed": true
   },
   "outputs": [],
   "source": [
    "#para guardar scores y graficar\n",
    "f1_score_test = []\n",
    "p_test = []\n",
    "r_test = []"
   ]
  },
  {
   "cell_type": "markdown",
   "metadata": {},
   "source": [
    "## kNN"
   ]
  },
  {
   "cell_type": "code",
   "execution_count": 53,
   "metadata": {},
   "outputs": [
    {
     "name": "stdout",
     "output_type": "stream",
     "text": [
      "Mejor k en k-NN es 13 con f1-score de 0.835355\n"
     ]
    }
   ],
   "source": [
    "from sklearn.neighbors import KNeighborsClassifier as KNN\n",
    "\n",
    "k_a_probar = [5,8,10,13,20,40]\n",
    "\n",
    "def find_best_k_(X_train,y_train,X_val,y_val):\n",
    "    best = 0\n",
    "    best_k = 0\n",
    "    for k in k_a_probar:\n",
    "        model =KNN(n_neighbors=k,n_jobs=-1)\n",
    "        model.fit(X_train,y_train)\n",
    "\n",
    "        ypred_val = model.predict(X_val)\n",
    "        f1,p,r = calculate_metrics(y_val,ypred_val)\n",
    "\n",
    "        if f1 > best:\n",
    "            best = f1\n",
    "            best_k = k\n",
    "    print(\"Mejor k en k-NN es %d con f1-score de %f\"%(best_k,best))\n",
    "    return best_k\n",
    "\n",
    "#leer archivos, iterar y \n",
    "best_k = find_best_k_(Xstd_train,y_train,Xstd_val,y_val) #not sampled\n",
    "#best_k = find_best_k_(Xstd_train,ysample_train,Xstd_val,y_val) #sampled"
   ]
  },
  {
   "cell_type": "code",
   "execution_count": 54,
   "metadata": {
    "collapsed": true
   },
   "outputs": [],
   "source": [
    "model =KNN(n_neighbors=best_k,n_jobs=-1)\n",
    "model.fit(Xstd_train,y_train) #not sampled\n",
    "#model.fit(Xstd_train,ysample_train) #sampled\n",
    "\n",
    "ypred_test = model.predict(Xstd_test)\n",
    "f1,p,r = calculate_metrics(y_test,ypred_test)\n",
    "\n",
    "f1_score_test.append(f1)\n",
    "p_test.append(p)\n",
    "r_test.append(r)"
   ]
  },
  {
   "cell_type": "markdown",
   "metadata": {},
   "source": [
    "## Logistic Regression"
   ]
  },
  {
   "cell_type": "code",
   "execution_count": 55,
   "metadata": {},
   "outputs": [
    {
     "name": "stdout",
     "output_type": "stream",
     "text": [
      "Mejor c en Logistic Regression es 100.000000 con f1-score de 0.865639\n"
     ]
    }
   ],
   "source": [
    "from sklearn.linear_model import LogisticRegression\n",
    "\n",
    "Cs = [0.001,0.01,0.1,1,10,100,1000]\n",
    "\n",
    "def find_best_c(X_train,y_train,X_val,y_val):\n",
    "    best = 0\n",
    "    best_c = 0\n",
    "    \n",
    "    for c in Cs:\n",
    "        model = LogisticRegression(C=c,n_jobs=-1,class_weight = 'balanced')\n",
    "        model.fit(X_train,y_train)\n",
    "\n",
    "        ypred_val = model.predict(X_val)\n",
    "        f1,p,r = calculate_metrics(y_val,ypred_val)\n",
    "\n",
    "        if f1 > best:\n",
    "            best = f1\n",
    "            best_c = c\n",
    "    print(\"Mejor c en Logistic Regression es %f con f1-score de %f\"%(best_c,best))\n",
    "    return best_c\n",
    "\n",
    "#leer archivos, iterar y \n",
    "best_c = find_best_c(Xstd_train,y_train,Xstd_val,y_val) #not sampled\n",
    "#best_c = find_best_c(Xstd_train,ysample_train,Xstd_val,y_val) #sampled"
   ]
  },
  {
   "cell_type": "code",
   "execution_count": 56,
   "metadata": {
    "collapsed": true
   },
   "outputs": [],
   "source": [
    "model = LogisticRegression(C=best_c,n_jobs=-1,class_weight = 'balanced')\n",
    "model.fit(Xstd_train,y_train) #not sampled\n",
    "#model.fit(Xstd_train,ysample_train) #sampled\n",
    "\n",
    "ypred_test = model.predict(Xstd_test)\n",
    "f1,p,r = calculate_metrics(y_test,ypred_test)\n",
    "\n",
    "f1_score_test.append(f1)\n",
    "p_test.append(p)\n",
    "r_test.append(r)"
   ]
  },
  {
   "cell_type": "markdown",
   "metadata": {},
   "source": [
    "## SVM Lineal"
   ]
  },
  {
   "cell_type": "markdown",
   "metadata": {
    "collapsed": true
   },
   "source": [
    "from sklearn.svm import SVC\n",
    "\n",
    "Cs = [0.01,0.1,1,10,100]\n",
    "\n",
    "def find_best_c(X_train,y_train,X_val,y_val):\n",
    "    best = 0\n",
    "    best_c = 0\n",
    "    \n",
    "    for c in Cs:\n",
    "        model = SVC(kernel= 'linear',C=c)\n",
    "        model.fit(X_train,y_train)\n",
    "\n",
    "        ypred_val = model.predict(X_val)\n",
    "        f1,p,r = calculate_metrics(y_val,ypred_val)\n",
    "\n",
    "        if f1 > best:\n",
    "            best = f1\n",
    "            best_c = c\n",
    "    print(\"Mejor c en SVM lineal es %f con f1-score de %f\"%(best_c,best))\n",
    "    return best_c\n",
    "\n",
    "#leer archivos, iterar y \n",
    "best_c = find_best_c(Xstd_train,y_train,Xstd_val,y_val)"
   ]
  },
  {
   "cell_type": "markdown",
   "metadata": {},
   "source": [
    "## SVM No Lineal"
   ]
  },
  {
   "cell_type": "code",
   "execution_count": 57,
   "metadata": {},
   "outputs": [
    {
     "name": "stdout",
     "output_type": "stream",
     "text": [
      "Mejor c en SVM no lineal es 1000.000000 con f1-score de 0.864072\n"
     ]
    }
   ],
   "source": [
    "from sklearn.svm import SVC\n",
    "\n",
    "Cs = [0.001,0.01,0.1,1,10,100,1000]\n",
    "\n",
    "def find_best_c(X_train,y_train,X_val,y_val):\n",
    "    best = 0\n",
    "    best_c = 0\n",
    "    \n",
    "    for c in Cs:\n",
    "        model = SVC(kernel= 'rbf',C=c,gamma='auto',class_weight = 'balanced')\n",
    "        model.fit(X_train,y_train)\n",
    "\n",
    "        ypred_val = model.predict(X_val)\n",
    "        f1,p,r = calculate_metrics(y_val,ypred_val)\n",
    "\n",
    "        if f1 > best:\n",
    "            best = f1\n",
    "            best_c = c\n",
    "    print(\"Mejor c en SVM no lineal es %f con f1-score de %f\"%(best_c,best))\n",
    "    return best_c\n",
    "\n",
    "#leer archivos, iterar y \n",
    "best_c = find_best_c(Xstd_train,y_train,Xstd_val,y_val) #not sampled\n",
    "#best_c = find_best_c(Xstd_train,ysample_train,Xstd_val,y_val) #sampled"
   ]
  },
  {
   "cell_type": "code",
   "execution_count": 58,
   "metadata": {
    "collapsed": true
   },
   "outputs": [],
   "source": [
    "model = SVC(kernel='rbf',C=best_c,class_weight = 'balanced')\n",
    "model.fit(Xstd_train,y_train) #not sampled\n",
    "#model.fit(Xstd_train,ysample_train) #sampled\n",
    "\n",
    "ypred_test = model.predict(Xstd_test)\n",
    "f1,p,r = calculate_metrics(y_test,ypred_test)\n",
    "\n",
    "f1_score_test.append(f1)\n",
    "p_test.append(p)\n",
    "r_test.append(r)"
   ]
  },
  {
   "cell_type": "markdown",
   "metadata": {},
   "source": [
    "## Random Forest"
   ]
  },
  {
   "cell_type": "code",
   "execution_count": 45,
   "metadata": {},
   "outputs": [
    {
     "name": "stdout",
     "output_type": "stream",
     "text": [
      "Mejor depth en Arbol es 9 con f1-score de 0.872431\n"
     ]
    }
   ],
   "source": [
    "#probar con un decision tree para sintetizar la profundidad maxima\n",
    "\n",
    "from sklearn.tree import DecisionTreeClassifier\n",
    "\n",
    "deepths = np.arange(2,20)\n",
    "\n",
    "def find_best_d(X_train,y_train,X_val,y_val):\n",
    "    best = 0\n",
    "    best_d = 0\n",
    "    \n",
    "    for d in deepths:\n",
    "        model = DecisionTreeClassifier(max_depth=d,class_weight = 'balanced')\n",
    "        model.fit(X_train,y_train)\n",
    "    \n",
    "        ypred_val = model.predict(X_val)\n",
    "        f1,p,r = calculate_metrics(y_val,ypred_val)\n",
    "\n",
    "        if f1 > best:\n",
    "            best = f1\n",
    "            best_d = d\n",
    "    print(\"Mejor depth en Arbol es %d con f1-score de %f\"%(best_d,best))\n",
    "    return best_d\n",
    "\n",
    "#leer archivos, iterar y \n",
    "best_d = find_best_d(X_train,y_train,X_val,y_val) #not sampled\n",
    "#best_d = find_best_d(Xsample_train,ysample_train,X_val,y_val) #sampled"
   ]
  },
  {
   "cell_type": "code",
   "execution_count": 62,
   "metadata": {},
   "outputs": [
    {
     "name": "stdout",
     "output_type": "stream",
     "text": [
      "Mejor estimators en RandomForest es 19 con f1-score de 0.897089\n"
     ]
    }
   ],
   "source": [
    "from sklearn.ensemble import RandomForestClassifier\n",
    "\n",
    "estimators = 20\n",
    "\n",
    "def find_best_est(X_train,y_train,X_val,y_val):\n",
    "    best = 0\n",
    "    best_est = 0\n",
    "    for n in range(2,estimators):\n",
    "        model = RandomForestClassifier(n_estimators=n,max_depth=12,n_jobs=-1,class_weight = 'balanced')\n",
    "        model.fit(X_train,y_train)\n",
    "\n",
    "        ypred_val = model.predict(X_val)\n",
    "        f1,p,r = calculate_metrics(y_val,ypred_val)\n",
    "\n",
    "        if f1 > best:\n",
    "            best = f1\n",
    "            best_est = n\n",
    "    print(\"Mejor estimators en RandomForest es %d con f1-score de %f\"%(best_est,best))\n",
    "    return best_est\n",
    "\n",
    "#leer archivos, iterar y \n",
    "best_est = find_best_est(X_train,y_train,X_val,y_val)   #not sampled\n",
    "#best_est = find_best_est(Xsample_train,ysample_train,X_val,y_val)    #sampled"
   ]
  },
  {
   "cell_type": "code",
   "execution_count": 63,
   "metadata": {
    "collapsed": true
   },
   "outputs": [],
   "source": [
    "f1_ad = []\n",
    "p_ad = []\n",
    "r_ad = []\n",
    "for i in range(20):\n",
    "    model = RandomForestClassifier(n_estimators=15,max_depth=12,n_jobs=-1,class_weight = 'balanced')\n",
    "    model.fit(X_train,y_train) #not sampled\n",
    "    #model.fit(Xsample_train,ysample_train) #sampled\n",
    " \n",
    "    ypred_test = model.predict(X_test)\n",
    "    f1,p,r = calculate_metrics(y_test,ypred_test)\n",
    "    f1_ad.append(f1)\n",
    "    p_ad.append(p)\n",
    "    r_ad.append(r)\n",
    "f1_score_test.append(np.mean(f1_ad,axis=0))# por columna\n",
    "p_test.append(np.mean(p_ad,axis=0)) #por columna\n",
    "r_test.append(np.mean(r_ad,axis=0)) #por columna"
   ]
  },
  {
   "cell_type": "code",
   "execution_count": 301,
   "metadata": {
    "collapsed": true
   },
   "outputs": [],
   "source": [
    "f1_score_test = f1_score_test[:-1]\n",
    "p_test = p_test[:-1]\n",
    "r_test = r_test[:-1]"
   ]
  },
  {
   "cell_type": "code",
   "execution_count": 26,
   "metadata": {},
   "outputs": [
    {
     "data": {
      "text/plain": [
       "15"
      ]
     },
     "execution_count": 26,
     "metadata": {},
     "output_type": "execute_result"
    }
   ],
   "source": [
    "len(model.feature_importances_)"
   ]
  },
  {
   "cell_type": "code",
   "execution_count": 27,
   "metadata": {},
   "outputs": [
    {
     "data": {
      "text/plain": [
       "(4008, 15)"
      ]
     },
     "execution_count": 27,
     "metadata": {},
     "output_type": "execute_result"
    }
   ],
   "source": [
    "X_train.shape"
   ]
  },
  {
   "cell_type": "code",
   "execution_count": 8,
   "metadata": {},
   "outputs": [
    {
     "data": {
      "text/plain": [
       "RandomForestClassifier(bootstrap=True, class_weight='balanced',\n",
       "            criterion='gini', max_depth=15, max_features='auto',\n",
       "            max_leaf_nodes=None, min_impurity_decrease=0.0,\n",
       "            min_impurity_split=None, min_samples_leaf=1,\n",
       "            min_samples_split=2, min_weight_fraction_leaf=0.0,\n",
       "            n_estimators=15, n_jobs=-1, oob_score=False, random_state=None,\n",
       "            verbose=0, warm_start=False)"
      ]
     },
     "execution_count": 8,
     "metadata": {},
     "output_type": "execute_result"
    }
   ],
   "source": [
    "model = RandomForestClassifier(n_estimators=15,max_depth=15,n_jobs=-1,class_weight = 'balanced')\n",
    "model.fit(X_train,y_train) #not sampled"
   ]
  },
  {
   "cell_type": "code",
   "execution_count": 4,
   "metadata": {},
   "outputs": [
    {
     "ename": "NameError",
     "evalue": "name 'model' is not defined",
     "output_type": "error",
     "traceback": [
      "\u001b[0;31m---------------------------------------------------------------------------\u001b[0m",
      "\u001b[0;31mNameError\u001b[0m                                 Traceback (most recent call last)",
      "\u001b[0;32m<ipython-input-4-776730733bb6>\u001b[0m in \u001b[0;36m<module>\u001b[0;34m()\u001b[0m\n\u001b[1;32m      8\u001b[0m \u001b[0;34m\u001b[0m\u001b[0m\n\u001b[1;32m      9\u001b[0m \u001b[0mplt\u001b[0m\u001b[0;34m.\u001b[0m\u001b[0mfigure\u001b[0m\u001b[0;34m(\u001b[0m\u001b[0mfigsize\u001b[0m\u001b[0;34m=\u001b[0m\u001b[0;34m(\u001b[0m\u001b[0;36m4\u001b[0m\u001b[0;34m,\u001b[0m\u001b[0;36m8\u001b[0m\u001b[0;34m)\u001b[0m\u001b[0;34m)\u001b[0m\u001b[0;34m\u001b[0m\u001b[0m\n\u001b[0;32m---> 10\u001b[0;31m \u001b[0mplt\u001b[0m\u001b[0;34m.\u001b[0m\u001b[0mbarh\u001b[0m\u001b[0;34m(\u001b[0m\u001b[0mrange\u001b[0m\u001b[0;34m(\u001b[0m\u001b[0mlen\u001b[0m\u001b[0;34m(\u001b[0m\u001b[0mcolumns_fats2\u001b[0m\u001b[0;34m)\u001b[0m\u001b[0;34m)\u001b[0m\u001b[0;34m,\u001b[0m \u001b[0mmodel\u001b[0m\u001b[0;34m.\u001b[0m\u001b[0mfeature_importances_\u001b[0m\u001b[0;34m)\u001b[0m\u001b[0;34m\u001b[0m\u001b[0m\n\u001b[0m\u001b[1;32m     11\u001b[0m \u001b[0mplt\u001b[0m\u001b[0;34m.\u001b[0m\u001b[0myticks\u001b[0m\u001b[0;34m(\u001b[0m\u001b[0mrange\u001b[0m\u001b[0;34m(\u001b[0m\u001b[0mlen\u001b[0m\u001b[0;34m(\u001b[0m\u001b[0mcolumns_fats2\u001b[0m\u001b[0;34m)\u001b[0m\u001b[0;34m)\u001b[0m\u001b[0;34m,\u001b[0m\u001b[0mcolumns_fats2\u001b[0m\u001b[0;34m)\u001b[0m\u001b[0;31m#, rotation= 30)\u001b[0m\u001b[0;34m\u001b[0m\u001b[0m\n\u001b[1;32m     12\u001b[0m \u001b[0mplt\u001b[0m\u001b[0;34m.\u001b[0m\u001b[0mtitle\u001b[0m\u001b[0;34m(\u001b[0m\u001b[0;34m'Feature Importance'\u001b[0m\u001b[0;34m)\u001b[0m\u001b[0;34m\u001b[0m\u001b[0m\n",
      "\u001b[0;31mNameError\u001b[0m: name 'model' is not defined"
     ]
    }
   ],
   "source": [
    "#columns = [\"minimo\",\"maximo\",\"media\",\"std\",\"iqr\",\"skw\",\"kurt\",\"q1\",\"q2\",\"slope\",\"period\",\"transitdepth\",\n",
    "#          \"teq\",\"koi count\",'Planet Radius']\n",
    "\n",
    "columns_fats2 = [\"minimum\",\"maximum\",\"mean\",\"std\",\"iqr\",\"skewness\",\"kurtosis\",\"q1\",\"q2\",\"slope\",\n",
    "                  \"amplitute\",\"median absolute deviation\",\"residual bright faint ratio\",\"median\", #new ones\n",
    "                 \"period\",\"transit depth\",\"teq\",\"koi count\",'Planet Radius',#] #planet\n",
    "                \"Teff\",\"log(g)\",\"Metallicity\",\"Stellar Radius\",\"Stellar Mass\"] #stellar\n",
    "\n",
    "plt.figure(figsize=(4,8))\n",
    "plt.barh(range(len(columns_fats2)), model.feature_importances_)\n",
    "plt.yticks(range(len(columns_fats2)),columns_fats2)#, rotation= 30)\n",
    "plt.title('Feature Importance')\n",
    "plt.show()"
   ]
  },
  {
   "cell_type": "markdown",
   "metadata": {},
   "source": [
    "### Red Neuronal (como clasificador binario)"
   ]
  },
  {
   "cell_type": "code",
   "execution_count": 16,
   "metadata": {
    "scrolled": true
   },
   "outputs": [
    {
     "name": "stdout",
     "output_type": "stream",
     "text": [
      "Train on 3142 samples, validate on 1074 samples\n",
      "Epoch 1/100\n",
      "2s - loss: 0.6686 - acc: 0.5605 - val_loss: 0.6167 - val_acc: 0.5847\n",
      "Epoch 2/100\n",
      "2s - loss: 0.6368 - acc: 0.5926 - val_loss: 0.6111 - val_acc: 0.5764\n",
      "Epoch 3/100\n",
      "2s - loss: 0.6308 - acc: 0.6063 - val_loss: 0.6493 - val_acc: 0.5829\n",
      "Epoch 4/100\n",
      "2s - loss: 0.6223 - acc: 0.5987 - val_loss: 0.6112 - val_acc: 0.5931\n",
      "Epoch 5/100\n",
      "2s - loss: 0.6169 - acc: 0.6130 - val_loss: 0.6117 - val_acc: 0.6043\n",
      "Epoch 6/100\n",
      "2s - loss: 0.6084 - acc: 0.6244 - val_loss: 0.5924 - val_acc: 0.6071\n",
      "Epoch 7/100\n",
      "2s - loss: 0.6102 - acc: 0.6152 - val_loss: 0.6320 - val_acc: 0.5940\n",
      "Epoch 8/100\n",
      "2s - loss: 0.6035 - acc: 0.6248 - val_loss: 0.5961 - val_acc: 0.5996\n",
      "Epoch 9/100\n",
      "2s - loss: 0.6073 - acc: 0.6238 - val_loss: 0.5895 - val_acc: 0.5950\n",
      "Epoch 10/100\n",
      "2s - loss: 0.6085 - acc: 0.6143 - val_loss: 0.5829 - val_acc: 0.5978\n",
      "Epoch 11/100\n",
      "2s - loss: 0.6018 - acc: 0.6194 - val_loss: 0.6163 - val_acc: 0.5866\n",
      "Epoch 12/100\n",
      "2s - loss: 0.6008 - acc: 0.6222 - val_loss: 0.6255 - val_acc: 0.5885\n",
      "Epoch 13/100\n",
      "2s - loss: 0.6017 - acc: 0.6209 - val_loss: 0.7035 - val_acc: 0.5680\n",
      "Epoch 14/100\n",
      "2s - loss: 0.5986 - acc: 0.6194 - val_loss: 0.5796 - val_acc: 0.6024\n",
      "Epoch 15/100\n",
      "2s - loss: 0.5967 - acc: 0.6286 - val_loss: 0.6118 - val_acc: 0.5885\n",
      "Epoch 16/100\n",
      "2s - loss: 0.5980 - acc: 0.6203 - val_loss: 0.5754 - val_acc: 0.6145\n",
      "Epoch 17/100\n",
      "2s - loss: 0.5958 - acc: 0.6248 - val_loss: 0.5734 - val_acc: 0.6387\n",
      "Epoch 18/100\n",
      "2s - loss: 0.5972 - acc: 0.6267 - val_loss: 0.5781 - val_acc: 0.6359\n",
      "Epoch 19/100\n",
      "2s - loss: 0.5979 - acc: 0.6232 - val_loss: 0.6077 - val_acc: 0.6322\n",
      "Epoch 20/100\n",
      "2s - loss: 0.5959 - acc: 0.6139 - val_loss: 0.5937 - val_acc: 0.5931\n",
      "Epoch 21/100\n",
      "2s - loss: 0.5981 - acc: 0.6203 - val_loss: 0.5845 - val_acc: 0.6034\n",
      "Epoch 22/100\n",
      "2s - loss: 0.5938 - acc: 0.6302 - val_loss: 0.5837 - val_acc: 0.5940\n",
      "Epoch 23/100\n",
      "2s - loss: 0.5951 - acc: 0.6235 - val_loss: 0.5725 - val_acc: 0.6341\n",
      "Epoch 24/100\n",
      "2s - loss: 0.5935 - acc: 0.6209 - val_loss: 0.6514 - val_acc: 0.5866\n",
      "Epoch 25/100\n",
      "2s - loss: 0.5939 - acc: 0.6229 - val_loss: 0.5690 - val_acc: 0.6359\n",
      "Epoch 26/100\n",
      "2s - loss: 0.5877 - acc: 0.6302 - val_loss: 0.5690 - val_acc: 0.6555\n",
      "Epoch 27/100\n",
      "2s - loss: 0.5887 - acc: 0.6381 - val_loss: 0.5822 - val_acc: 0.6080\n",
      "Epoch 28/100\n",
      "2s - loss: 0.5897 - acc: 0.6381 - val_loss: 0.5955 - val_acc: 0.5968\n",
      "Epoch 29/100\n",
      "2s - loss: 0.5870 - acc: 0.6337 - val_loss: 0.6042 - val_acc: 0.5922\n",
      "Epoch 30/100\n",
      "2s - loss: 0.5868 - acc: 0.6388 - val_loss: 0.6008 - val_acc: 0.5950\n",
      "Epoch 31/100\n",
      "2s - loss: 0.5842 - acc: 0.6384 - val_loss: 0.5899 - val_acc: 0.6359\n",
      "Epoch 32/100\n",
      "2s - loss: 0.5858 - acc: 0.6400 - val_loss: 0.5695 - val_acc: 0.6406\n",
      "Epoch 33/100\n",
      "2s - loss: 0.5845 - acc: 0.6356 - val_loss: 0.5737 - val_acc: 0.6676\n",
      "Epoch 34/100\n",
      "2s - loss: 0.5838 - acc: 0.6388 - val_loss: 0.5797 - val_acc: 0.6415\n",
      "Epoch 35/100\n",
      "2s - loss: 0.5835 - acc: 0.6400 - val_loss: 0.5738 - val_acc: 0.6406\n",
      "Epoch 36/100\n",
      "2s - loss: 0.5864 - acc: 0.6400 - val_loss: 0.5609 - val_acc: 0.6778\n",
      "Epoch 37/100\n",
      "2s - loss: 0.5834 - acc: 0.6461 - val_loss: 0.6079 - val_acc: 0.5996\n",
      "Epoch 38/100\n",
      "3s - loss: 0.5812 - acc: 0.6413 - val_loss: 0.6028 - val_acc: 0.6015\n",
      "Epoch 39/100\n",
      "2s - loss: 0.5780 - acc: 0.6489 - val_loss: 0.5798 - val_acc: 0.6220\n",
      "Epoch 40/100\n",
      "2s - loss: 0.5787 - acc: 0.6645 - val_loss: 0.6717 - val_acc: 0.5838\n",
      "Epoch 41/100\n",
      "2s - loss: 0.5784 - acc: 0.6496 - val_loss: 0.6505 - val_acc: 0.5959\n",
      "Epoch 42/100\n",
      "2s - loss: 0.5753 - acc: 0.6525 - val_loss: 0.5686 - val_acc: 0.6695\n",
      "Epoch 43/100\n",
      "2s - loss: 0.5805 - acc: 0.6448 - val_loss: 0.6849 - val_acc: 0.5940\n",
      "Epoch 44/100\n",
      "2s - loss: 0.5740 - acc: 0.6598 - val_loss: 0.5684 - val_acc: 0.6406\n",
      "Epoch 45/100\n",
      "3s - loss: 0.5752 - acc: 0.6534 - val_loss: 0.6400 - val_acc: 0.6341\n",
      "Epoch 46/100\n",
      "2s - loss: 0.5751 - acc: 0.6518 - val_loss: 0.5710 - val_acc: 0.6508\n",
      "Epoch 47/100\n",
      "2s - loss: 0.5688 - acc: 0.6601 - val_loss: 0.6132 - val_acc: 0.6061\n",
      "Epoch 48/100\n",
      "2s - loss: 0.5710 - acc: 0.6496 - val_loss: 0.5765 - val_acc: 0.6713\n",
      "Epoch 49/100\n",
      "2s - loss: 0.5682 - acc: 0.6547 - val_loss: 0.5742 - val_acc: 0.6527\n",
      "Epoch 50/100\n",
      "2s - loss: 0.5686 - acc: 0.6604 - val_loss: 0.6501 - val_acc: 0.5931\n",
      "Epoch 51/100\n",
      "2s - loss: 0.5735 - acc: 0.6531 - val_loss: 0.5788 - val_acc: 0.6480\n",
      "Epoch 52/100\n",
      "2s - loss: 0.5675 - acc: 0.6639 - val_loss: 0.5752 - val_acc: 0.6546\n",
      "Epoch 53/100\n",
      "2s - loss: 0.5678 - acc: 0.6566 - val_loss: 0.6488 - val_acc: 0.5903\n",
      "Epoch 54/100\n",
      "2s - loss: 0.5666 - acc: 0.6591 - val_loss: 0.5882 - val_acc: 0.6304\n",
      "Epoch 55/100\n",
      "2s - loss: 0.5687 - acc: 0.6617 - val_loss: 0.6185 - val_acc: 0.6043\n",
      "Epoch 56/100\n",
      "2s - loss: 0.5663 - acc: 0.6569 - val_loss: 0.6140 - val_acc: 0.6155\n",
      "Epoch 57/100\n",
      "2s - loss: 0.5668 - acc: 0.6636 - val_loss: 0.6097 - val_acc: 0.6173\n"
     ]
    }
   ],
   "source": [
    "import keras\n",
    "from keras.models import Sequential\n",
    "from keras.layers import Dense,Dropout\n",
    "import tensorflow as tf\n",
    "\n",
    "earlyStopping = keras.callbacks.EarlyStopping(monitor='val_loss',\n",
    "                              min_delta=0,\n",
    "                              patience=20,\n",
    "                              verbose=0, mode='auto')\n",
    "\n",
    "with tf.device('/cpu:0'):\n",
    "    model = Sequential()\n",
    "    model.add(Dense(1024, input_dim=Xstd_train.shape[1], activation='tanh'))\n",
    "    model.add(Dropout(0.2))\n",
    "    model.add(Dense(512, activation='tanh'))\n",
    "    model.add(Dropout(0.2))\n",
    "    #model.add(Dense(256, activation='tanh'))\n",
    "    #model.add(Dropout(0.2))\n",
    "    model.add(Dense(1,activation='sigmoid'))\n",
    "\n",
    "    model.compile('rmsprop', loss='binary_crossentropy', metrics=['accuracy'])\n",
    "\n",
    "    model.fit(Xstd_train, ysample_train, epochs=100, batch_size=16, verbose=2,\n",
    "              validation_data=(Xstd_val,y_val),callbacks=[earlyStopping])"
   ]
  },
  {
   "cell_type": "code",
   "execution_count": 17,
   "metadata": {},
   "outputs": [
    {
     "name": "stdout",
     "output_type": "stream",
     "text": [
      " 576/1139 [==============>...............] - ETA: 0s\n",
      "('F1 sobre validation: ', 0.58618401830923994)\n"
     ]
    }
   ],
   "source": [
    "ypred_val = model.predict_classes(Xstd_test)\n",
    "f1,p,r = calculate_metrics(y_test,ypred_val)\n",
    "print(\"\")\n",
    "print(\"F1 sobre validation: \",f1)"
   ]
  },
  {
   "cell_type": "code",
   "execution_count": 18,
   "metadata": {},
   "outputs": [
    {
     "name": "stdout",
     "output_type": "stream",
     "text": [
      "(array([ 0.88855422,  0.47707559]), array([ 0.41143654,  0.91232227]))\n"
     ]
    }
   ],
   "source": [
    "print(p,r)"
   ]
  },
  {
   "cell_type": "markdown",
   "metadata": {},
   "source": [
    "# Gráficos"
   ]
  },
  {
   "cell_type": "code",
   "execution_count": 65,
   "metadata": {},
   "outputs": [
    {
     "data": {
      "image/png": "[encoded data removed]",
      "text/plain": [
       "<matplotlib.figure.Figure at 0x7f5320a91410>"
      ]
     },
     "metadata": {},
     "output_type": "display_data"
    }
   ],
   "source": [
    "import matplotlib.pyplot as plt\n",
    "fig = plt.figure(figsize=(12,8))\n",
    "\n",
    "learners = len(p_test)\n",
    "M = np.arange(learners)\n",
    "\n",
    "#PRECISION SCORES\n",
    "aux = list(map(list, zip(*p_test))) #transpose\n",
    "plt.bar(M-0.15, aux[0], width=0.3,facecolor='#ff0000', edgecolor='white',label=\"False Positive\")\n",
    "plt.bar(M+0.15, aux[1], width=0.3,facecolor='#1C9900', edgecolor='white',label=\"Confirmed\")\n",
    "\n",
    "#RECALL SCORES\n",
    "aux = list(map(list, zip(*r_test))) #transpose\n",
    "plt.bar(M-0.15, np.array(aux[0])*-1, width=0.3,facecolor='#FF6666', edgecolor='white')\n",
    "plt.bar(M+0.15, np.array(aux[1])*-1, width=0.3,facecolor='#76C166', edgecolor='white')\n",
    "\n",
    "#ANOTATIONS OF SCORES\n",
    "for x, (a,b) in zip(M, p_test):\n",
    "    plt.text(x + 0.02-0.15, a + 0.01, '%.3f' % a, ha='center', va='bottom')#fp\n",
    "    plt.text(x + 0.02+0.15, b + 0.01, '%.3f' % b, ha='center', va='bottom')#conf\n",
    "for x, (a,b) in zip(M, r_test):\n",
    "    plt.text(x + 0.02-0.15, -a - 0.01, '%.3f' % a, ha='center', va='top')#fp\n",
    "    plt.text(x + 0.02+0.15, -b - 0.01, '%.3f' % b, ha='center', va='top')#conf\n",
    "        \n",
    "LABELS=[\"KNN\",\"LOGISTIC REGRESSION\",\"SVM RBF\",\"RANDOM FOREST\"]\n",
    "plt.xticks(M, LABELS)\n",
    "plt.title(\"PRECISION & RECALL on TEST\")   \n",
    "plt.xlabel(\"Learners\")  \n",
    "plt.ylabel(\"RECALL - Score - PRECISION\") \n",
    "plt.legend()\n",
    "plt.ylim(-1.2,1.2)\n",
    "plt.show()"
   ]
  },
  {
   "cell_type": "code",
   "execution_count": 66,
   "metadata": {},
   "outputs": [
    {
     "data": {
      "image/png": "[encoded data removed]",
      "text/plain": [
       "<matplotlib.figure.Figure at 0x7f530439eb50>"
      ]
     },
     "metadata": {},
     "output_type": "display_data"
    }
   ],
   "source": [
    "fig = plt.figure(figsize=(12,4))\n",
    "\n",
    "learners = len(f1_score_test)\n",
    "M = np.arange(learners)\n",
    "\n",
    "plt.bar(M, f1_score_test, facecolor='#9999ff', edgecolor='white')\n",
    "\n",
    "for x, y in zip(M, f1_score_test):\n",
    "    plt.text(x + 0.02, y + 0.01, '%.3f' % y, ha='center', va='bottom')\n",
    "    \n",
    "LABELS=[\"KNN\",\"LOGISTIC\",\"SVM RBF\",\"RANDOM FOREST\"]\n",
    "plt.xticks(np.arange(learners), LABELS)\n",
    "plt.title(\"F1-SCORE on TEST\")   \n",
    "plt.xlabel(\"Learners\")  \n",
    "plt.ylabel(\"Score\") \n",
    "plt.ylim(0,1)\n",
    "plt.show()"
   ]
  },
  {
   "cell_type": "code",
   "execution_count": null,
   "metadata": {
    "collapsed": true
   },
   "outputs": [],
   "source": []
  }
 ],
 "metadata": {
  "kernelspec": {
   "display_name": "Python [default]",
   "language": "python",
   "name": "python2"
  },
  "language_info": {
   "codemirror_mode": {
    "name": "ipython",
    "version": 2
   },
   "file_extension": ".py",
   "mimetype": "text/x-python",
   "name": "python",
   "nbconvert_exporter": "python",
   "pygments_lexer": "ipython2",
   "version": "2.7.14"
  }
 },
 "nbformat": 4,
 "nbformat_minor": 2
}
