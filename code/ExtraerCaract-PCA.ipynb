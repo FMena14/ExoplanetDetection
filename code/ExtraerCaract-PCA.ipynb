{
 "cells": [
  {
   "cell_type": "code",
   "execution_count": 1,
   "metadata": {
    "collapsed": true
   },
   "outputs": [],
   "source": [
    "import pandas as pd\n",
    "chunks = pd.read_csv(\"Datos_split/koi_light_curves_train.csv\",header=None,iterator=True,chunksize=1011) #koi_light_curves"
   ]
  },
  {
   "cell_type": "markdown",
   "metadata": {},
   "source": [
    "### Generar 5 archivos con la reducciones a 5, 10, 25, 55, 100, 250"
   ]
  },
  {
   "cell_type": "code",
   "execution_count": 2,
   "metadata": {},
   "outputs": [
    {
     "name": "stdout",
     "output_type": "stream",
     "text": [
      "(1011, 71427)\n",
      "(1011, 71427)\n",
      "(1011, 71427)\n",
      "(1011, 71427)\n"
     ]
    }
   ],
   "source": [
    "for chunk in chunks:\n",
    "    print(chunk.shape)"
   ]
  },
  {
   "cell_type": "code",
   "execution_count": 3,
   "metadata": {},
   "outputs": [
    {
     "ename": "KeyboardInterrupt",
     "evalue": "",
     "output_type": "error",
     "traceback": [
      "\u001b[0;31m---------------------------------------------------------------------------\u001b[0m",
      "\u001b[0;31mKeyboardInterrupt\u001b[0m                         Traceback (most recent call last)",
      "\u001b[0;32m<ipython-input-3-6986fa45e8fe>\u001b[0m in \u001b[0;36m<module>\u001b[0;34m()\u001b[0m\n\u001b[1;32m     12\u001b[0m     \u001b[0mchunks\u001b[0m \u001b[0;34m=\u001b[0m \u001b[0mpd\u001b[0m\u001b[0;34m.\u001b[0m\u001b[0mread_csv\u001b[0m\u001b[0;34m(\u001b[0m\u001b[0;34m\"Datos_split/koi_light_curves_train.csv\"\u001b[0m\u001b[0;34m,\u001b[0m\u001b[0mheader\u001b[0m\u001b[0;34m=\u001b[0m\u001b[0;32mNone\u001b[0m\u001b[0;34m,\u001b[0m\u001b[0miterator\u001b[0m\u001b[0;34m=\u001b[0m\u001b[0;32mTrue\u001b[0m\u001b[0;34m,\u001b[0m\u001b[0mchunksize\u001b[0m\u001b[0;34m=\u001b[0m\u001b[0;36m1011\u001b[0m\u001b[0;34m)\u001b[0m\u001b[0;34m\u001b[0m\u001b[0m\n\u001b[1;32m     13\u001b[0m \u001b[0;34m\u001b[0m\u001b[0m\n\u001b[0;32m---> 14\u001b[0;31m     \u001b[0;32mfor\u001b[0m \u001b[0mchunk\u001b[0m \u001b[0;32min\u001b[0m \u001b[0mchunks\u001b[0m\u001b[0;34m:\u001b[0m\u001b[0;34m\u001b[0m\u001b[0m\n\u001b[0m\u001b[1;32m     15\u001b[0m         \u001b[0mX\u001b[0m \u001b[0;34m=\u001b[0m \u001b[0mnp\u001b[0m\u001b[0;34m.\u001b[0m\u001b[0mnan_to_num\u001b[0m\u001b[0;34m(\u001b[0m\u001b[0mchunk\u001b[0m\u001b[0;34m.\u001b[0m\u001b[0mvalues\u001b[0m\u001b[0;34m)\u001b[0m\u001b[0;34m\u001b[0m\u001b[0m\n\u001b[1;32m     16\u001b[0m         \u001b[0mstd\u001b[0m\u001b[0;34m.\u001b[0m\u001b[0mpartial_fit\u001b[0m\u001b[0;34m(\u001b[0m\u001b[0mX\u001b[0m\u001b[0;34m)\u001b[0m\u001b[0;34m\u001b[0m\u001b[0m\n",
      "\u001b[0;32m/etc/anaconda3/lib/python3.6/site-packages/pandas/io/parsers.py\u001b[0m in \u001b[0;36m__next__\u001b[0;34m(self)\u001b[0m\n\u001b[1;32m    957\u001b[0m     \u001b[0;32mdef\u001b[0m \u001b[0m__next__\u001b[0m\u001b[0;34m(\u001b[0m\u001b[0mself\u001b[0m\u001b[0;34m)\u001b[0m\u001b[0;34m:\u001b[0m\u001b[0;34m\u001b[0m\u001b[0m\n\u001b[1;32m    958\u001b[0m         \u001b[0;32mtry\u001b[0m\u001b[0;34m:\u001b[0m\u001b[0;34m\u001b[0m\u001b[0m\n\u001b[0;32m--> 959\u001b[0;31m             \u001b[0;32mreturn\u001b[0m \u001b[0mself\u001b[0m\u001b[0;34m.\u001b[0m\u001b[0mget_chunk\u001b[0m\u001b[0;34m(\u001b[0m\u001b[0;34m)\u001b[0m\u001b[0;34m\u001b[0m\u001b[0m\n\u001b[0m\u001b[1;32m    960\u001b[0m         \u001b[0;32mexcept\u001b[0m \u001b[0mStopIteration\u001b[0m\u001b[0;34m:\u001b[0m\u001b[0;34m\u001b[0m\u001b[0m\n\u001b[1;32m    961\u001b[0m             \u001b[0mself\u001b[0m\u001b[0;34m.\u001b[0m\u001b[0mclose\u001b[0m\u001b[0;34m(\u001b[0m\u001b[0;34m)\u001b[0m\u001b[0;34m\u001b[0m\u001b[0m\n",
      "\u001b[0;32m/etc/anaconda3/lib/python3.6/site-packages/pandas/io/parsers.py\u001b[0m in \u001b[0;36mget_chunk\u001b[0;34m(self, size)\u001b[0m\n\u001b[1;32m   1017\u001b[0m                 \u001b[0;32mraise\u001b[0m \u001b[0mStopIteration\u001b[0m\u001b[0;34m\u001b[0m\u001b[0m\n\u001b[1;32m   1018\u001b[0m             \u001b[0msize\u001b[0m \u001b[0;34m=\u001b[0m \u001b[0mmin\u001b[0m\u001b[0;34m(\u001b[0m\u001b[0msize\u001b[0m\u001b[0;34m,\u001b[0m \u001b[0mself\u001b[0m\u001b[0;34m.\u001b[0m\u001b[0mnrows\u001b[0m \u001b[0;34m-\u001b[0m \u001b[0mself\u001b[0m\u001b[0;34m.\u001b[0m\u001b[0m_currow\u001b[0m\u001b[0;34m)\u001b[0m\u001b[0;34m\u001b[0m\u001b[0m\n\u001b[0;32m-> 1019\u001b[0;31m         \u001b[0;32mreturn\u001b[0m \u001b[0mself\u001b[0m\u001b[0;34m.\u001b[0m\u001b[0mread\u001b[0m\u001b[0;34m(\u001b[0m\u001b[0mnrows\u001b[0m\u001b[0;34m=\u001b[0m\u001b[0msize\u001b[0m\u001b[0;34m)\u001b[0m\u001b[0;34m\u001b[0m\u001b[0m\n\u001b[0m\u001b[1;32m   1020\u001b[0m \u001b[0;34m\u001b[0m\u001b[0m\n\u001b[1;32m   1021\u001b[0m \u001b[0;34m\u001b[0m\u001b[0m\n",
      "\u001b[0;32m/etc/anaconda3/lib/python3.6/site-packages/pandas/io/parsers.py\u001b[0m in \u001b[0;36mread\u001b[0;34m(self, nrows)\u001b[0m\n\u001b[1;32m    980\u001b[0m                 \u001b[0;32mraise\u001b[0m \u001b[0mValueError\u001b[0m\u001b[0;34m(\u001b[0m\u001b[0;34m'skipfooter not supported for iteration'\u001b[0m\u001b[0;34m)\u001b[0m\u001b[0;34m\u001b[0m\u001b[0m\n\u001b[1;32m    981\u001b[0m \u001b[0;34m\u001b[0m\u001b[0m\n\u001b[0;32m--> 982\u001b[0;31m         \u001b[0mret\u001b[0m \u001b[0;34m=\u001b[0m \u001b[0mself\u001b[0m\u001b[0;34m.\u001b[0m\u001b[0m_engine\u001b[0m\u001b[0;34m.\u001b[0m\u001b[0mread\u001b[0m\u001b[0;34m(\u001b[0m\u001b[0mnrows\u001b[0m\u001b[0;34m)\u001b[0m\u001b[0;34m\u001b[0m\u001b[0m\n\u001b[0m\u001b[1;32m    983\u001b[0m \u001b[0;34m\u001b[0m\u001b[0m\n\u001b[1;32m    984\u001b[0m         \u001b[0;32mif\u001b[0m \u001b[0mself\u001b[0m\u001b[0;34m.\u001b[0m\u001b[0moptions\u001b[0m\u001b[0;34m.\u001b[0m\u001b[0mget\u001b[0m\u001b[0;34m(\u001b[0m\u001b[0;34m'as_recarray'\u001b[0m\u001b[0;34m)\u001b[0m\u001b[0;34m:\u001b[0m\u001b[0;34m\u001b[0m\u001b[0m\n",
      "\u001b[0;32m/etc/anaconda3/lib/python3.6/site-packages/pandas/io/parsers.py\u001b[0m in \u001b[0;36mread\u001b[0;34m(self, nrows)\u001b[0m\n\u001b[1;32m   1717\u001b[0m     \u001b[0;32mdef\u001b[0m \u001b[0mread\u001b[0m\u001b[0;34m(\u001b[0m\u001b[0mself\u001b[0m\u001b[0;34m,\u001b[0m \u001b[0mnrows\u001b[0m\u001b[0;34m=\u001b[0m\u001b[0;32mNone\u001b[0m\u001b[0;34m)\u001b[0m\u001b[0;34m:\u001b[0m\u001b[0;34m\u001b[0m\u001b[0m\n\u001b[1;32m   1718\u001b[0m         \u001b[0;32mtry\u001b[0m\u001b[0;34m:\u001b[0m\u001b[0;34m\u001b[0m\u001b[0m\n\u001b[0;32m-> 1719\u001b[0;31m             \u001b[0mdata\u001b[0m \u001b[0;34m=\u001b[0m \u001b[0mself\u001b[0m\u001b[0;34m.\u001b[0m\u001b[0m_reader\u001b[0m\u001b[0;34m.\u001b[0m\u001b[0mread\u001b[0m\u001b[0;34m(\u001b[0m\u001b[0mnrows\u001b[0m\u001b[0;34m)\u001b[0m\u001b[0;34m\u001b[0m\u001b[0m\n\u001b[0m\u001b[1;32m   1720\u001b[0m         \u001b[0;32mexcept\u001b[0m \u001b[0mStopIteration\u001b[0m\u001b[0;34m:\u001b[0m\u001b[0;34m\u001b[0m\u001b[0m\n\u001b[1;32m   1721\u001b[0m             \u001b[0;32mif\u001b[0m \u001b[0mself\u001b[0m\u001b[0;34m.\u001b[0m\u001b[0m_first_chunk\u001b[0m\u001b[0;34m:\u001b[0m\u001b[0;34m\u001b[0m\u001b[0m\n",
      "\u001b[0;32mpandas/_libs/parsers.pyx\u001b[0m in \u001b[0;36mpandas._libs.parsers.TextReader.read (pandas/_libs/parsers.c:10862)\u001b[0;34m()\u001b[0m\n",
      "\u001b[0;32mpandas/_libs/parsers.pyx\u001b[0m in \u001b[0;36mpandas._libs.parsers.TextReader._read_low_memory (pandas/_libs/parsers.c:11343)\u001b[0;34m()\u001b[0m\n",
      "\u001b[0;32mpandas/_libs/parsers.pyx\u001b[0m in \u001b[0;36mpandas._libs.parsers.TextReader._read_rows (pandas/_libs/parsers.c:12175)\u001b[0;34m()\u001b[0m\n",
      "\u001b[0;32mpandas/_libs/parsers.pyx\u001b[0m in \u001b[0;36mpandas._libs.parsers.TextReader._convert_column_data (pandas/_libs/parsers.c:14136)\u001b[0;34m()\u001b[0m\n",
      "\u001b[0;32mpandas/_libs/parsers.pyx\u001b[0m in \u001b[0;36mpandas._libs.parsers.TextReader._convert_tokens (pandas/_libs/parsers.c:14858)\u001b[0;34m()\u001b[0m\n",
      "\u001b[0;32mpandas/_libs/parsers.pyx\u001b[0m in \u001b[0;36mpandas._libs.parsers.TextReader._convert_with_dtype (pandas/_libs/parsers.c:15629)\u001b[0;34m()\u001b[0m\n",
      "\u001b[0;32m/etc/anaconda3/lib/python3.6/site-packages/pandas/core/dtypes/common.py\u001b[0m in \u001b[0;36mis_integer_dtype\u001b[0;34m(arr_or_dtype)\u001b[0m\n\u001b[1;32m    735\u001b[0m \u001b[0;34m\u001b[0m\u001b[0m\n\u001b[1;32m    736\u001b[0m \u001b[0;34m\u001b[0m\u001b[0m\n\u001b[0;32m--> 737\u001b[0;31m \u001b[0;32mdef\u001b[0m \u001b[0mis_integer_dtype\u001b[0m\u001b[0;34m(\u001b[0m\u001b[0marr_or_dtype\u001b[0m\u001b[0;34m)\u001b[0m\u001b[0;34m:\u001b[0m\u001b[0;34m\u001b[0m\u001b[0m\n\u001b[0m\u001b[1;32m    738\u001b[0m     \"\"\"\n\u001b[1;32m    739\u001b[0m     \u001b[0mCheck\u001b[0m \u001b[0mwhether\u001b[0m \u001b[0mthe\u001b[0m \u001b[0mprovided\u001b[0m \u001b[0marray\u001b[0m \u001b[0;32mor\u001b[0m \u001b[0mdtype\u001b[0m \u001b[0;32mis\u001b[0m \u001b[0mof\u001b[0m \u001b[0man\u001b[0m \u001b[0minteger\u001b[0m \u001b[0mdtype\u001b[0m\u001b[0;34m.\u001b[0m\u001b[0;34m\u001b[0m\u001b[0m\n",
      "\u001b[0;31mKeyboardInterrupt\u001b[0m: "
     ]
    }
   ],
   "source": [
    "import numpy as np\n",
    "from sklearn.decomposition import IncrementalPCA\n",
    "from sklearn.preprocessing import StandardScaler\n",
    "import csv\n",
    "\n",
    "ds= [5,10,25,55,100]\n",
    "for d in ds:\n",
    "    model = IncrementalPCA(d)\n",
    "    std = StandardScaler(with_mean=True,with_std=False) #sin sacar varianza\n",
    "    \n",
    "    ##################### TRAIN #####################\n",
    "    chunks = pd.read_csv(\"Datos_split/koi_light_curves_train.csv\",header=None,iterator=True,chunksize=1011)\n",
    "    \n",
    "    for chunk in chunks:\n",
    "        X = np.nan_to_num(chunk.values)\n",
    "        std.partial_fit(X)\n",
    "    print(\"CenterScaler entrenado\")\n",
    "    \n",
    "    chunks = pd.read_csv(\"Datos_split/koi_light_curves_train.csv\",header=None,iterator=True,chunksize=1011)\n",
    "    \n",
    "    for chunk in chunks:\n",
    "        X = np.nan_to_num(chunk.values)\n",
    "        X_std = std.transform(X)\n",
    "        model.partial_fit(X_std)\n",
    "    print('PCA entrenado con', d, 'caracteristicas')\n",
    "\n",
    "    #################### ARRIBA ENTRENAMIENTO ###########\n",
    "    chunks = pd.read_csv(\"Datos_split/koi_light_curves_train.csv\",header=None,iterator=True,chunksize=1011)\n",
    "    doc_tr = open('koi_light_curves_PCA_train'+str(d)+'.csv', 'w') \n",
    "    tr = csv.writer(doc_tr)\n",
    "    \n",
    "    for chunk in chunks:\n",
    "        X = np.nan_to_num(chunk.values)\n",
    "        X_std = std.transform(X)\n",
    "        tr.writerows(model.transform(X_std))\n",
    "    doc_tr.close()\n",
    "    print('Generacion de CSV koi_light_curves_PCA_train', d)\n",
    "    \n",
    "    ##################### VAL ########################\n",
    "    chunks = pd.read_csv(\"Datos_split/koi_light_curves_val.csv\",header=None,iterator=True,chunksize=1500)\n",
    "    doc_val = open('koi_light_curves_PCA_val'+str(d)+'.csv', 'w') \n",
    "    val = csv.writer(doc_val)    \n",
    "    \n",
    "    for chunk in chunks:\n",
    "        X_val = np.nan_to_num(chunk.values)\n",
    "        X_val_std = std.transform(X_val)\n",
    "        val.writerows(model.transform(X_val_std))\n",
    "    doc_val.close()\n",
    "    print('Generacion de CSV koi_light_curves_PCA_val', d)\n",
    "\n",
    "    ##################### TEST ########################\n",
    "    chunks = pd.read_csv(\"Datos_split/koi_light_curves_test.csv\",header=None,iterator=True,chunksize=1500)\n",
    "    doc_test = open('koi_light_curves_PCA_test'+str(d)+'.csv', 'w') \n",
    "    test = csv.writer(doc_test)    \n",
    "    \n",
    "    for chunk in chunks:\n",
    "        X_test = np.nan_to_num(chunk.values)\n",
    "        X_test_std = std.transform(X_test)\n",
    "        test.writerows(model.transform(X_test_std))\n",
    "    doc_test.close()\n",
    "    print('Generacion de CSV koi_light_curves_PCA_test', d)\n",
    "    \n",
    "print('Proceso de reducción de dimensionalidad completo')"
   ]
  },
  {
   "cell_type": "code",
   "execution_count": 11,
   "metadata": {},
   "outputs": [
    {
     "name": "stdout",
     "output_type": "stream",
     "text": [
      "PCA aplicado con 10 caracteristicas\n"
     ]
    }
   ],
   "source": [
    "\n",
    "d=10\n",
    "chunks = pd.read_csv(\"Datos_split/koi_light_curves_train.csv\",header=None,iterator=True,chunksize=1011) \n",
    "doc = open('koi_light_curves_PCA_'+str(d)+'.csv', 'w') \n",
    "a = csv.writer(doc)\n",
    "\n",
    "model = IncrementalPCA(d)\n",
    "for chunk in chunks:\n",
    "    X = np.nan_to_num(chunk.values)\n",
    "    model.partial_fit(X)\n",
    "    a.writerows(model.transform(X))\n",
    "doc.close()\n",
    "print 'PCA aplicado con', d, 'caracteristicas'\n",
    "\n",
    "\n",
    "\n",
    "for chunk in chunks:\n",
    "    print(chunk.shape)    \n",
    "    X = np.nan_to_num(chunk.values)\n",
    "    a.writerows(model.transform(X))\n",
    "b.close()\n"
   ]
  },
  {
   "cell_type": "code",
   "execution_count": 9,
   "metadata": {
    "scrolled": true
   },
   "outputs": [
    {
     "ename": "EmptyDataError",
     "evalue": "No columns to parse from file",
     "output_type": "error",
     "traceback": [
      "\u001b[0;31m---------------------------------------------------------------------------\u001b[0m",
      "\u001b[0;31mEmptyDataError\u001b[0m                            Traceback (most recent call last)",
      "\u001b[0;32m<ipython-input-9-ea5453106894>\u001b[0m in \u001b[0;36m<module>\u001b[0;34m()\u001b[0m\n\u001b[0;32m----> 1\u001b[0;31m \u001b[0mdf\u001b[0m \u001b[0;34m=\u001b[0m \u001b[0mpd\u001b[0m\u001b[0;34m.\u001b[0m\u001b[0mread_csv\u001b[0m\u001b[0;34m(\u001b[0m\u001b[0;34m'koi_light_curves_PCA_10.csv'\u001b[0m\u001b[0;34m,\u001b[0m\u001b[0mheader\u001b[0m\u001b[0;34m=\u001b[0m\u001b[0mNone\u001b[0m\u001b[0;34m)\u001b[0m\u001b[0;34m\u001b[0m\u001b[0m\n\u001b[0m",
      "\u001b[0;32m/home/anaconda2/lib/python2.7/site-packages/pandas/io/parsers.pyc\u001b[0m in \u001b[0;36mparser_f\u001b[0;34m(filepath_or_buffer, sep, delimiter, header, names, index_col, usecols, squeeze, prefix, mangle_dupe_cols, dtype, engine, converters, true_values, false_values, skipinitialspace, skiprows, nrows, na_values, keep_default_na, na_filter, verbose, skip_blank_lines, parse_dates, infer_datetime_format, keep_date_col, date_parser, dayfirst, iterator, chunksize, compression, thousands, decimal, lineterminator, quotechar, quoting, escapechar, comment, encoding, dialect, tupleize_cols, error_bad_lines, warn_bad_lines, skipfooter, skip_footer, doublequote, delim_whitespace, as_recarray, compact_ints, use_unsigned, low_memory, buffer_lines, memory_map, float_precision)\u001b[0m\n\u001b[1;32m    653\u001b[0m                     skip_blank_lines=skip_blank_lines)\n\u001b[1;32m    654\u001b[0m \u001b[0;34m\u001b[0m\u001b[0m\n\u001b[0;32m--> 655\u001b[0;31m         \u001b[0;32mreturn\u001b[0m \u001b[0m_read\u001b[0m\u001b[0;34m(\u001b[0m\u001b[0mfilepath_or_buffer\u001b[0m\u001b[0;34m,\u001b[0m \u001b[0mkwds\u001b[0m\u001b[0;34m)\u001b[0m\u001b[0;34m\u001b[0m\u001b[0m\n\u001b[0m\u001b[1;32m    656\u001b[0m \u001b[0;34m\u001b[0m\u001b[0m\n\u001b[1;32m    657\u001b[0m     \u001b[0mparser_f\u001b[0m\u001b[0;34m.\u001b[0m\u001b[0m__name__\u001b[0m \u001b[0;34m=\u001b[0m \u001b[0mname\u001b[0m\u001b[0;34m\u001b[0m\u001b[0m\n",
      "\u001b[0;32m/home/anaconda2/lib/python2.7/site-packages/pandas/io/parsers.pyc\u001b[0m in \u001b[0;36m_read\u001b[0;34m(filepath_or_buffer, kwds)\u001b[0m\n\u001b[1;32m    403\u001b[0m \u001b[0;34m\u001b[0m\u001b[0m\n\u001b[1;32m    404\u001b[0m     \u001b[0;31m# Create the parser.\u001b[0m\u001b[0;34m\u001b[0m\u001b[0;34m\u001b[0m\u001b[0m\n\u001b[0;32m--> 405\u001b[0;31m     \u001b[0mparser\u001b[0m \u001b[0;34m=\u001b[0m \u001b[0mTextFileReader\u001b[0m\u001b[0;34m(\u001b[0m\u001b[0mfilepath_or_buffer\u001b[0m\u001b[0;34m,\u001b[0m \u001b[0;34m**\u001b[0m\u001b[0mkwds\u001b[0m\u001b[0;34m)\u001b[0m\u001b[0;34m\u001b[0m\u001b[0m\n\u001b[0m\u001b[1;32m    406\u001b[0m \u001b[0;34m\u001b[0m\u001b[0m\n\u001b[1;32m    407\u001b[0m     \u001b[0;32mif\u001b[0m \u001b[0mchunksize\u001b[0m \u001b[0;32mor\u001b[0m \u001b[0miterator\u001b[0m\u001b[0;34m:\u001b[0m\u001b[0;34m\u001b[0m\u001b[0m\n",
      "\u001b[0;32m/home/anaconda2/lib/python2.7/site-packages/pandas/io/parsers.pyc\u001b[0m in \u001b[0;36m__init__\u001b[0;34m(self, f, engine, **kwds)\u001b[0m\n\u001b[1;32m    760\u001b[0m             \u001b[0mself\u001b[0m\u001b[0;34m.\u001b[0m\u001b[0moptions\u001b[0m\u001b[0;34m[\u001b[0m\u001b[0;34m'has_index_names'\u001b[0m\u001b[0;34m]\u001b[0m \u001b[0;34m=\u001b[0m \u001b[0mkwds\u001b[0m\u001b[0;34m[\u001b[0m\u001b[0;34m'has_index_names'\u001b[0m\u001b[0;34m]\u001b[0m\u001b[0;34m\u001b[0m\u001b[0m\n\u001b[1;32m    761\u001b[0m \u001b[0;34m\u001b[0m\u001b[0m\n\u001b[0;32m--> 762\u001b[0;31m         \u001b[0mself\u001b[0m\u001b[0;34m.\u001b[0m\u001b[0m_make_engine\u001b[0m\u001b[0;34m(\u001b[0m\u001b[0mself\u001b[0m\u001b[0;34m.\u001b[0m\u001b[0mengine\u001b[0m\u001b[0;34m)\u001b[0m\u001b[0;34m\u001b[0m\u001b[0m\n\u001b[0m\u001b[1;32m    763\u001b[0m \u001b[0;34m\u001b[0m\u001b[0m\n\u001b[1;32m    764\u001b[0m     \u001b[0;32mdef\u001b[0m \u001b[0mclose\u001b[0m\u001b[0;34m(\u001b[0m\u001b[0mself\u001b[0m\u001b[0;34m)\u001b[0m\u001b[0;34m:\u001b[0m\u001b[0;34m\u001b[0m\u001b[0m\n",
      "\u001b[0;32m/home/anaconda2/lib/python2.7/site-packages/pandas/io/parsers.pyc\u001b[0m in \u001b[0;36m_make_engine\u001b[0;34m(self, engine)\u001b[0m\n\u001b[1;32m    964\u001b[0m     \u001b[0;32mdef\u001b[0m \u001b[0m_make_engine\u001b[0m\u001b[0;34m(\u001b[0m\u001b[0mself\u001b[0m\u001b[0;34m,\u001b[0m \u001b[0mengine\u001b[0m\u001b[0;34m=\u001b[0m\u001b[0;34m'c'\u001b[0m\u001b[0;34m)\u001b[0m\u001b[0;34m:\u001b[0m\u001b[0;34m\u001b[0m\u001b[0m\n\u001b[1;32m    965\u001b[0m         \u001b[0;32mif\u001b[0m \u001b[0mengine\u001b[0m \u001b[0;34m==\u001b[0m \u001b[0;34m'c'\u001b[0m\u001b[0;34m:\u001b[0m\u001b[0;34m\u001b[0m\u001b[0m\n\u001b[0;32m--> 966\u001b[0;31m             \u001b[0mself\u001b[0m\u001b[0;34m.\u001b[0m\u001b[0m_engine\u001b[0m \u001b[0;34m=\u001b[0m \u001b[0mCParserWrapper\u001b[0m\u001b[0;34m(\u001b[0m\u001b[0mself\u001b[0m\u001b[0;34m.\u001b[0m\u001b[0mf\u001b[0m\u001b[0;34m,\u001b[0m \u001b[0;34m**\u001b[0m\u001b[0mself\u001b[0m\u001b[0;34m.\u001b[0m\u001b[0moptions\u001b[0m\u001b[0;34m)\u001b[0m\u001b[0;34m\u001b[0m\u001b[0m\n\u001b[0m\u001b[1;32m    967\u001b[0m         \u001b[0;32melse\u001b[0m\u001b[0;34m:\u001b[0m\u001b[0;34m\u001b[0m\u001b[0m\n\u001b[1;32m    968\u001b[0m             \u001b[0;32mif\u001b[0m \u001b[0mengine\u001b[0m \u001b[0;34m==\u001b[0m \u001b[0;34m'python'\u001b[0m\u001b[0;34m:\u001b[0m\u001b[0;34m\u001b[0m\u001b[0m\n",
      "\u001b[0;32m/home/anaconda2/lib/python2.7/site-packages/pandas/io/parsers.pyc\u001b[0m in \u001b[0;36m__init__\u001b[0;34m(self, src, **kwds)\u001b[0m\n\u001b[1;32m   1580\u001b[0m         \u001b[0mkwds\u001b[0m\u001b[0;34m[\u001b[0m\u001b[0;34m'allow_leading_cols'\u001b[0m\u001b[0;34m]\u001b[0m \u001b[0;34m=\u001b[0m \u001b[0mself\u001b[0m\u001b[0;34m.\u001b[0m\u001b[0mindex_col\u001b[0m \u001b[0;32mis\u001b[0m \u001b[0;32mnot\u001b[0m \u001b[0mFalse\u001b[0m\u001b[0;34m\u001b[0m\u001b[0m\n\u001b[1;32m   1581\u001b[0m \u001b[0;34m\u001b[0m\u001b[0m\n\u001b[0;32m-> 1582\u001b[0;31m         \u001b[0mself\u001b[0m\u001b[0;34m.\u001b[0m\u001b[0m_reader\u001b[0m \u001b[0;34m=\u001b[0m \u001b[0mparsers\u001b[0m\u001b[0;34m.\u001b[0m\u001b[0mTextReader\u001b[0m\u001b[0;34m(\u001b[0m\u001b[0msrc\u001b[0m\u001b[0;34m,\u001b[0m \u001b[0;34m**\u001b[0m\u001b[0mkwds\u001b[0m\u001b[0;34m)\u001b[0m\u001b[0;34m\u001b[0m\u001b[0m\n\u001b[0m\u001b[1;32m   1583\u001b[0m \u001b[0;34m\u001b[0m\u001b[0m\n\u001b[1;32m   1584\u001b[0m         \u001b[0;31m# XXX\u001b[0m\u001b[0;34m\u001b[0m\u001b[0;34m\u001b[0m\u001b[0m\n",
      "\u001b[0;32mpandas/_libs/parsers.pyx\u001b[0m in \u001b[0;36mpandas._libs.parsers.TextReader.__cinit__ (pandas/_libs/parsers.c:6260)\u001b[0;34m()\u001b[0m\n",
      "\u001b[0;31mEmptyDataError\u001b[0m: No columns to parse from file"
     ]
    }
   ],
   "source": [
    "df = pd.read_csv('koi_light_curves_PCA_10.csv',header=None)"
   ]
  },
  {
   "cell_type": "markdown",
   "metadata": {},
   "source": [
    "## fourier"
   ]
  },
  {
   "cell_type": "code",
   "execution_count": 5,
   "metadata": {},
   "outputs": [
    {
     "name": "stdout",
     "output_type": "stream",
     "text": [
      "CenterScaler entrenado\n",
      "VAL escalado y fourier transformado\n",
      "TEST escalado y fourier transformado\n"
     ]
    }
   ],
   "source": [
    "import numpy as np\n",
    "from sklearn.preprocessing import StandardScaler\n",
    "from sklearn.decomposition import IncrementalPCA\n",
    "import csv\n",
    "import pandas as pd\n",
    "\n",
    "std = StandardScaler(with_mean=True,with_std=False) #sin sacar varianza\n",
    "df_train = pd.read_csv(\"Datos_split/koi_light_curves_train.csv\",header=None)\n",
    "\n",
    "X_train = np.nan_to_num(df_train.values)\n",
    "#fourier\n",
    "Xtrain_fourier = np.abs(np.fft.fft(X_train))\n",
    "std.fit(Xtrain_fourier)\n",
    "Xtrain_std = std.transform(Xtrain_fourier)\n",
    "print(\"CenterScaler entrenado\")\n",
    "\n",
    "df_val = pd.read_csv(\"Datos_split/koi_light_curves_val.csv\",header=None)\n",
    "\n",
    "X_val = np.nan_to_num(df_val.values)\n",
    "#fourier\n",
    "Xval_fourier = np.abs(np.fft.fft(X_val))\n",
    "Xval_std = std.transform(Xval_fourier)\n",
    "print(\"VAL escalado y fourier transformado\")\n",
    "\n",
    "df_test = pd.read_csv(\"Datos_split/koi_light_curves_test.csv\",header=None)\n",
    "\n",
    "X_test = np.nan_to_num(df_test.values)\n",
    "#fourier\n",
    "Xtest_fourier = np.abs(np.fft.fft(X_test))\n",
    "Xtest_std = std.transform(Xtest_fourier)\n",
    "print(\"TEST escalado y fourier transformado\")\n",
    "\n",
    "del df_train\n",
    "del df_val\n",
    "del df_test"
   ]
  },
  {
   "cell_type": "code",
   "execution_count": 6,
   "metadata": {},
   "outputs": [
    {
     "name": "stdout",
     "output_type": "stream",
     "text": [
      "PCA entrenado con 5 caracteristicas\n",
      "Generacion de CSV koi_light_curves_PCA_train 5\n",
      "Generacion de CSV koi_light_curves_PCA_val 5\n",
      "Generacion de CSV koi_light_curves_PCA_test 5\n",
      "PCA entrenado con 10 caracteristicas\n",
      "Generacion de CSV koi_light_curves_PCA_train 10\n",
      "Generacion de CSV koi_light_curves_PCA_val 10\n",
      "Generacion de CSV koi_light_curves_PCA_test 10\n",
      "PCA entrenado con 25 caracteristicas\n",
      "Generacion de CSV koi_light_curves_PCA_train 25\n",
      "Generacion de CSV koi_light_curves_PCA_val 25\n",
      "Generacion de CSV koi_light_curves_PCA_test 25\n",
      "PCA entrenado con 55 caracteristicas\n",
      "Generacion de CSV koi_light_curves_PCA_train 55\n",
      "Generacion de CSV koi_light_curves_PCA_val 55\n",
      "Generacion de CSV koi_light_curves_PCA_test 55\n",
      "PCA entrenado con 100 caracteristicas\n",
      "Generacion de CSV koi_light_curves_PCA_train 100\n",
      "Generacion de CSV koi_light_curves_PCA_val 100\n",
      "Generacion de CSV koi_light_curves_PCA_test 100\n",
      "Proceso de reducción de dimensionalidad completo\n"
     ]
    }
   ],
   "source": [
    "dims= [5,10,25,55,100]\n",
    "\n",
    "for d in dims:\n",
    "    model = IncrementalPCA(d)\n",
    "    \n",
    "    ##################### TRAIN #####################\n",
    "    model.partial_fit(Xtrain_std)\n",
    "    print('PCA entrenado con', d, 'caracteristicas')\n",
    "\n",
    "    #################### ARRIBA ENTRENAMIENTO ###########\n",
    "    doc_tr = open('koi_light_curves_FPCA_train'+str(d)+'.csv', 'w') \n",
    "    tr = csv.writer(doc_tr)\n",
    "\n",
    "    tr.writerows(model.transform(Xtrain_std))\n",
    "    doc_tr.close()\n",
    "    print('Generacion de CSV koi_light_curves_PCA_train', d)\n",
    "    \n",
    "    ##################### VAL ########################\n",
    "    doc_val = open('koi_light_curves_FPCA_val'+str(d)+'.csv', 'w') \n",
    "    val = csv.writer(doc_val)    \n",
    "    \n",
    "    val.writerows(model.transform(Xval_std))\n",
    "    doc_val.close()\n",
    "    print('Generacion de CSV koi_light_curves_PCA_val', d)\n",
    "\n",
    "    ##################### TEST ########################\n",
    "    doc_test = open('koi_light_curves_FPCA_test'+str(d)+'.csv', 'w') \n",
    "    test = csv.writer(doc_test)    \n",
    "\n",
    "    test.writerows(model.transform(Xtest_std))\n",
    "    doc_test.close()\n",
    "    print('Generacion de CSV koi_light_curves_PCA_test', d)\n",
    "    \n",
    "print('Proceso de reducción de dimensionalidad completo')"
   ]
  },
  {
   "cell_type": "markdown",
   "metadata": {},
   "source": [
    "## Resampled y luego fourier"
   ]
  },
  {
   "cell_type": "code",
   "execution_count": 2,
   "metadata": {},
   "outputs": [
    {
     "name": "stdout",
     "output_type": "stream",
     "text": [
      "CenterScaler entrenado\n",
      "VAL escalado y fourier transformado\n",
      "TEST escalado y fourier transformado\n"
     ]
    }
   ],
   "source": [
    "import numpy as np\n",
    "from sklearn.preprocessing import StandardScaler\n",
    "from sklearn.decomposition import IncrementalPCA\n",
    "import csv\n",
    "import pandas as pd\n",
    "\n",
    "std = StandardScaler(with_mean=True,with_std=False) #sin sacar varianza\n",
    "df_train = pd.read_csv(\"Resample/koi_light_curves_resample_train.csv\",header=None)\n",
    "\n",
    "X_train = df_train.values\n",
    "#fourier\n",
    "Xtrain_fourier = np.abs(np.fft.fft(X_train))\n",
    "std.fit(Xtrain_fourier)\n",
    "Xtrain_std = std.transform(Xtrain_fourier)\n",
    "print(\"CenterScaler entrenado\")\n",
    "\n",
    "df_val = pd.read_csv(\"Resample/koi_light_curves_resample_val.csv\",header=None)\n",
    "\n",
    "X_val = df_val.values\n",
    "#fourier\n",
    "Xval_fourier = np.abs(np.fft.fft(X_val))\n",
    "Xval_std = std.transform(Xval_fourier)\n",
    "print(\"VAL escalado y fourier transformado\")\n",
    "\n",
    "df_test = pd.read_csv(\"Resample/koi_light_curves_resample_test.csv\",header=None)\n",
    "\n",
    "X_test = df_test.values\n",
    "#fourier\n",
    "Xtest_fourier = np.abs(np.fft.fft(X_test))\n",
    "Xtest_std = std.transform(Xtest_fourier)\n",
    "print(\"TEST escalado y fourier transformado\")\n",
    "\n",
    "del df_train\n",
    "del df_val\n",
    "del df_test"
   ]
  },
  {
   "cell_type": "code",
   "execution_count": 5,
   "metadata": {},
   "outputs": [
    {
     "name": "stdout",
     "output_type": "stream",
     "text": [
      "PCA entrenado con 5 caracteristicas\n",
      "Generacion de CSV koi_light_curves_PCA_train 5\n",
      "Generacion de CSV koi_light_curves_PCA_val 5\n",
      "Generacion de CSV koi_light_curves_PCA_test 5\n",
      "PCA entrenado con 10 caracteristicas\n",
      "Generacion de CSV koi_light_curves_PCA_train 10\n",
      "Generacion de CSV koi_light_curves_PCA_val 10\n",
      "Generacion de CSV koi_light_curves_PCA_test 10\n",
      "PCA entrenado con 25 caracteristicas\n",
      "Generacion de CSV koi_light_curves_PCA_train 25\n",
      "Generacion de CSV koi_light_curves_PCA_val 25\n",
      "Generacion de CSV koi_light_curves_PCA_test 25\n",
      "PCA entrenado con 55 caracteristicas\n",
      "Generacion de CSV koi_light_curves_PCA_train 55\n",
      "Generacion de CSV koi_light_curves_PCA_val 55\n",
      "Generacion de CSV koi_light_curves_PCA_test 55\n",
      "PCA entrenado con 100 caracteristicas\n",
      "Generacion de CSV koi_light_curves_PCA_train 100\n",
      "Generacion de CSV koi_light_curves_PCA_val 100\n",
      "Generacion de CSV koi_light_curves_PCA_test 100\n",
      "PCA entrenado con 250 caracteristicas\n",
      "Generacion de CSV koi_light_curves_PCA_train 250\n",
      "Generacion de CSV koi_light_curves_PCA_val 250\n",
      "Generacion de CSV koi_light_curves_PCA_test 250\n",
      "Proceso de reducción de dimensionalidad completo\n"
     ]
    }
   ],
   "source": [
    "dims= [5,10,25,55,100,250]\n",
    "\n",
    "for d in dims:\n",
    "    model = IncrementalPCA(d)\n",
    "    \n",
    "    ##################### TRAIN #####################\n",
    "    model.partial_fit(Xtrain_std)\n",
    "    print('PCA entrenado con', d, 'caracteristicas')\n",
    "\n",
    "    #################### ARRIBA ENTRENAMIENTO ###########\n",
    "    doc_tr = open('koi_light_curves_FPCA_resampled_train'+str(d)+'.csv', 'w') \n",
    "    tr = csv.writer(doc_tr)\n",
    "\n",
    "    tr.writerows(model.transform(Xtrain_std))\n",
    "    doc_tr.close()\n",
    "    print('Generacion de CSV koi_light_curves_PCA_train', d)\n",
    "    \n",
    "    ##################### VAL ########################\n",
    "    doc_val = open('koi_light_curves_FPCA_resampled_val'+str(d)+'.csv', 'w') \n",
    "    val = csv.writer(doc_val)    \n",
    "    \n",
    "    val.writerows(model.transform(Xval_std))\n",
    "    doc_val.close()\n",
    "    print('Generacion de CSV koi_light_curves_PCA_val', d)\n",
    "\n",
    "    ##################### TEST ########################\n",
    "    doc_test = open('koi_light_curves_FPCA_resampled_test'+str(d)+'.csv', 'w') \n",
    "    test = csv.writer(doc_test)    \n",
    "\n",
    "    test.writerows(model.transform(Xtest_std))\n",
    "    doc_test.close()\n",
    "    print('Generacion de CSV koi_light_curves_PCA_test', d)\n",
    "    \n",
    "print('Proceso de reducción de dimensionalidad completo')"
   ]
  },
  {
   "cell_type": "markdown",
   "metadata": {},
   "source": [
    "## si se completa con linea de tendencia"
   ]
  },
  {
   "cell_type": "code",
   "execution_count": 7,
   "metadata": {},
   "outputs": [
    {
     "name": "stdout",
     "output_type": "stream",
     "text": [
      "CenterScaler entrenado\n",
      "VAL escalado y fourier transformado\n",
      "TEST escalado y fourier transformado\n"
     ]
    }
   ],
   "source": [
    "import numpy as np\n",
    "from sklearn.preprocessing import StandardScaler\n",
    "from sklearn.decomposition import IncrementalPCA\n",
    "import csv\n",
    "import pandas as pd\n",
    "\n",
    "std = StandardScaler(with_mean=True,with_std=False) #sin sacar varianza\n",
    "df_train = pd.read_csv(\"Linea_Tendencia/koi_light_curves_full_train.csv\",header=None)\n",
    "\n",
    "X_train = df_train.values\n",
    "#fourier\n",
    "Xtrain_fourier = np.abs(np.fft.fft(X_train))\n",
    "std.fit(Xtrain_fourier)\n",
    "Xtrain_std = std.transform(Xtrain_fourier)\n",
    "print(\"CenterScaler entrenado\")\n",
    "\n",
    "df_val = pd.read_csv(\"Linea_Tendencia/koi_light_curves_full_val.csv\",header=None)\n",
    "\n",
    "X_val = df_val.values\n",
    "#fourier\n",
    "Xval_fourier = np.abs(np.fft.fft(X_val))\n",
    "Xval_std = std.transform(Xval_fourier)\n",
    "print(\"VAL escalado y fourier transformado\")\n",
    "\n",
    "df_test = pd.read_csv(\"Linea_Tendencia/koi_light_curves_full_test.csv\",header=None)\n",
    "\n",
    "X_test = df_test.values\n",
    "#fourier\n",
    "Xtest_fourier = np.abs(np.fft.fft(X_test))\n",
    "Xtest_std = std.transform(Xtest_fourier)\n",
    "print(\"TEST escalado y fourier transformado\")\n",
    "\n",
    "del df_train\n",
    "del df_val\n",
    "del df_test"
   ]
  },
  {
   "cell_type": "code",
   "execution_count": 8,
   "metadata": {},
   "outputs": [
    {
     "name": "stdout",
     "output_type": "stream",
     "text": [
      "PCA entrenado con 5 caracteristicas\n",
      "Generacion de CSV koi_light_curves_PCA_train 5\n",
      "Generacion de CSV koi_light_curves_PCA_val 5\n",
      "Generacion de CSV koi_light_curves_PCA_test 5\n",
      "PCA entrenado con 10 caracteristicas\n",
      "Generacion de CSV koi_light_curves_PCA_train 10\n",
      "Generacion de CSV koi_light_curves_PCA_val 10\n",
      "Generacion de CSV koi_light_curves_PCA_test 10\n",
      "PCA entrenado con 25 caracteristicas\n",
      "Generacion de CSV koi_light_curves_PCA_train 25\n",
      "Generacion de CSV koi_light_curves_PCA_val 25\n",
      "Generacion de CSV koi_light_curves_PCA_test 25\n",
      "PCA entrenado con 55 caracteristicas\n",
      "Generacion de CSV koi_light_curves_PCA_train 55\n",
      "Generacion de CSV koi_light_curves_PCA_val 55\n",
      "Generacion de CSV koi_light_curves_PCA_test 55\n",
      "PCA entrenado con 100 caracteristicas\n",
      "Generacion de CSV koi_light_curves_PCA_train 100\n",
      "Generacion de CSV koi_light_curves_PCA_val 100\n",
      "Generacion de CSV koi_light_curves_PCA_test 100\n",
      "Proceso de reducción de dimensionalidad completo\n"
     ]
    }
   ],
   "source": [
    "dims= [5,10,25,55,100]\n",
    "\n",
    "for d in dims:\n",
    "    model = IncrementalPCA(d)\n",
    "    \n",
    "    ##################### TRAIN #####################\n",
    "    model.partial_fit(Xtrain_std)\n",
    "    print('PCA entrenado con', d, 'caracteristicas')\n",
    "\n",
    "    #################### ARRIBA ENTRENAMIENTO ###########\n",
    "    doc_tr = open('koi_light_curves_FPCA_full_train'+str(d)+'.csv', 'w') \n",
    "    tr = csv.writer(doc_tr)\n",
    "\n",
    "    tr.writerows(model.transform(Xtrain_std))\n",
    "    doc_tr.close()\n",
    "    print('Generacion de CSV koi_light_curves_PCA_train', d)\n",
    "    \n",
    "    ##################### VAL ########################\n",
    "    doc_val = open('koi_light_curves_FPCA_full_val'+str(d)+'.csv', 'w') \n",
    "    val = csv.writer(doc_val)    \n",
    "    \n",
    "    val.writerows(model.transform(Xval_std))\n",
    "    doc_val.close()\n",
    "    print('Generacion de CSV koi_light_curves_PCA_val', d)\n",
    "\n",
    "    ##################### TEST ########################\n",
    "    doc_test = open('koi_light_curves_FPCA_full_test'+str(d)+'.csv', 'w') \n",
    "    test = csv.writer(doc_test)    \n",
    "\n",
    "    test.writerows(model.transform(Xtest_std))\n",
    "    doc_test.close()\n",
    "    print('Generacion de CSV koi_light_curves_PCA_test', d)\n",
    "    \n",
    "print('Proceso de reducción de dimensionalidad completo')"
   ]
  },
  {
   "cell_type": "markdown",
   "metadata": {},
   "source": [
    "## LDA"
   ]
  },
  {
   "cell_type": "code",
   "execution_count": 9,
   "metadata": {},
   "outputs": [
    {
     "name": "stderr",
     "output_type": "stream",
     "text": [
      "/etc/anaconda3/lib/python3.6/site-packages/sklearn/discriminant_analysis.py:387: UserWarning: Variables are collinear.\n",
      "  warnings.warn(\"Variables are collinear.\")\n"
     ]
    },
    {
     "data": {
      "text/plain": [
       "LinearDiscriminantAnalysis(n_components=None, priors=None, shrinkage=None,\n",
       "              solver='svd', store_covariance=False, tol=0.0001)"
      ]
     },
     "execution_count": 9,
     "metadata": {},
     "output_type": "execute_result"
    }
   ],
   "source": [
    "from sklearn.discriminant_analysis import LinearDiscriminantAnalysis as LDA\n",
    "y = (pd.read_csv(\"Datos_split/koi_labels_train.csv\")[\"NExScI Disposition\"].values == \"CONFIRMED\")*1\n",
    "model = LDA()\n",
    "model.fit(Xtrain_std,y)"
   ]
  },
  {
   "cell_type": "code",
   "execution_count": 10,
   "metadata": {},
   "outputs": [
    {
     "name": "stdout",
     "output_type": "stream",
     "text": [
      "Proceso de reducción de dimensionalidad completo\n"
     ]
    }
   ],
   "source": [
    "#################### TRAIN ###########\n",
    "doc_tr = open('koi_light_curves_FLDA_resampled_train'+str(d)+'.csv', 'w') \n",
    "tr = csv.writer(doc_tr)\n",
    "\n",
    "tr.writerows(model.transform(Xtrain_std))\n",
    "doc_tr.close()\n",
    "\n",
    "##################### VAL ########################\n",
    "doc_val = open('koi_light_curves_FLDA_resampled_val'+str(d)+'.csv', 'w') \n",
    "val = csv.writer(doc_val)    \n",
    "\n",
    "val.writerows(model.transform(Xval_std))\n",
    "doc_val.close()\n",
    "\n",
    "##################### TEST ########################\n",
    "doc_test = open('koi_light_curves_FLDA_resampled_test'+str(d)+'.csv', 'w') \n",
    "test = csv.writer(doc_test)    \n",
    "\n",
    "test.writerows(model.transform(Xtest_std))\n",
    "doc_test.close()\n",
    "\n",
    "print('Proceso de reducción de dimensionalidad completo')"
   ]
  }
 ],
 "metadata": {
  "kernelspec": {
   "display_name": "Python 2",
   "language": "python",
   "name": "python2"
  },
  "language_info": {
   "codemirror_mode": {
    "name": "ipython",
    "version": 2
   },
   "file_extension": ".py",
   "mimetype": "text/x-python",
   "name": "python",
   "nbconvert_exporter": "python",
   "pygments_lexer": "ipython2",
   "version": "2.7.13"
  }
 },
 "nbformat": 4,
 "nbformat_minor": 2
}
