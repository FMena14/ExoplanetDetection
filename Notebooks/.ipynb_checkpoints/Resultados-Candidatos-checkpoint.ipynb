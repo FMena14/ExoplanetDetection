{
 "cells": [
  {
   "cell_type": "markdown",
   "metadata": {},
   "source": [
    "### Train best configuration and model with all data available"
   ]
  },
  {
   "cell_type": "code",
   "execution_count": 1,
   "metadata": {
    "collapsed": true
   },
   "outputs": [],
   "source": [
    "### Entrenar con todo\n",
    "import pandas as pd\n",
    "import numpy as np\n",
    "\n",
    "df_sets = pd.read_csv(\"../Datos/koi_sets.csv\")\n",
    "mask_total = df_sets[\"Set\"] != \"Unlabeled\"\n",
    "mask_unbl = df_sets[\"Set\"] == \"Unlabeled\"\n",
    "\n",
    "lc_total = np.load(\"../../Processed_Data/koi_light_curves_full.npy\") #Raw light curve\n",
    "#lc_total = np.load(\"../../Processed_Data/koi_light_curves_model_full.npy\")\n",
    "lc_total = lc_total[mask_total] \n",
    "lc_final = lc_total[mask_unbl]\n",
    "\n",
    "df_label = pd.read_csv(\"../Datos/koi_metadata.csv\")\n",
    "df_label_total = df_label[mask_total] \n",
    "df_label_final = df_label[mask_unbl]\n",
    "print(\"Read Done!\")"
   ]
  },
  {
   "cell_type": "code",
   "execution_count": null,
   "metadata": {
    "collapsed": true
   },
   "outputs": [],
   "source": [
    "#labels??"
   ]
  },
  {
   "cell_type": "code",
   "execution_count": 2,
   "metadata": {
    "collapsed": false
   },
   "outputs": [
    {
     "data": {
      "text/plain": [
       "(6257, 71427)"
      ]
     },
     "execution_count": 2,
     "metadata": {},
     "output_type": "execute_result"
    }
   ],
   "source": [
    "lc_total.shape"
   ]
  },
  {
   "cell_type": "code",
   "execution_count": 4,
   "metadata": {
    "collapsed": true
   },
   "outputs": [],
   "source": [
    "##Extraer caract con el modelo elegido\n",
    "import numpy as np\n",
    "from sklearn.preprocessing import StandardScaler\n",
    "from sklearn.decomposition import IncrementalPCA\n",
    "\n",
    "#modelo\n",
    "d=55\n",
    "model =  IncrementalPCA(d)\n",
    "std = StandardScaler(with_mean=True,with_std=False) #sin sacar varianza\n",
    "\n",
    "##TODOS LOS DATOS##\n",
    "Xfull_train = np.nan_to_num(Xfull_train)\n",
    "#fourier\n",
    "Xfull_fourier = np.abs(np.fft.fft(Xfull_train))\n",
    "std.fit(Xfull_fourier)\n",
    "\n",
    "Xfull_fourier = std.transform(Xfull_fourier)\n",
    "\n",
    "#entrenar con full train (todo)\n",
    "model.fit(Xfull_fourier)\n",
    "\n",
    "##AJUSTAR LOS TRAIN Y CANDIDATES\n",
    "X_train = np.nan_to_num(X_train)\n",
    "X_candidates = np.nan_to_num(X_candidates)\n",
    "#fourier\n",
    "Xtrain_fourier = np.abs(np.fft.fft(X_train))\n",
    "Xcandidates_fourier = np.abs(np.fft.fft(X_candidates))\n",
    "\n",
    "Xpca_train = model.transform(Xtrain_fourier)\n",
    "Xpca_candidate = model.transform(Xcandidates_fourier)"
   ]
  },
  {
   "cell_type": "code",
   "execution_count": 5,
   "metadata": {
    "collapsed": false
   },
   "outputs": [
    {
     "data": {
      "text/plain": [
       "(6257, 55)"
      ]
     },
     "execution_count": 5,
     "metadata": {},
     "output_type": "execute_result"
    }
   ],
   "source": [
    "Xpca_train.shape"
   ]
  },
  {
   "cell_type": "code",
   "execution_count": null,
   "metadata": {
    "collapsed": true
   },
   "outputs": [],
   "source": []
  },
  {
   "cell_type": "code",
   "execution_count": 8,
   "metadata": {
    "collapsed": true
   },
   "outputs": [],
   "source": [
    "from sklearn.preprocessing import StandardScaler\n",
    "std = StandardScaler()\n",
    "std.fit(asd)\n",
    "\n",
    "Xstd_train = std.transform(asd)\n",
    "Xstd_candidates = std.transform(asd)"
   ]
  },
  {
   "cell_type": "code",
   "execution_count": 20,
   "metadata": {
    "collapsed": false
   },
   "outputs": [
    {
     "data": {
      "text/plain": [
       "SVC(C=1000, cache_size=200, class_weight=None, coef0=0.0,\n",
       "  decision_function_shape=None, degree=3, gamma='auto', kernel='rbf',\n",
       "  max_iter=-1, probability=False, random_state=None, shrinking=True,\n",
       "  tol=0.001, verbose=False)"
      ]
     },
     "execution_count": 20,
     "metadata": {},
     "output_type": "execute_result"
    }
   ],
   "source": [
    "#algoritmo elegido\n",
    "from sklearn.svm import SVC\n",
    "model = SVC(kernel= 'rbf',C=c,gamma='auto',class_weight = 'balanced')\n",
    "model.fit(Xstd_train,ysample_train)"
   ]
  },
  {
   "cell_type": "code",
   "execution_count": 22,
   "metadata": {
    "collapsed": false
   },
   "outputs": [
    {
     "data": {
      "text/plain": [
       "(1797,)"
      ]
     },
     "execution_count": 22,
     "metadata": {},
     "output_type": "execute_result"
    }
   ],
   "source": [
    "ypred_candidates = model.predict(Xstd_candidates) # o Xstd_candidates\n",
    "ypred_candidates.shape"
   ]
  },
  {
   "cell_type": "code",
   "execution_count": 18,
   "metadata": {
    "collapsed": false
   },
   "outputs": [
    {
     "data": {
      "text/plain": [
       "array([1, 1, 1, ..., 1, 1, 1])"
      ]
     },
     "execution_count": 18,
     "metadata": {},
     "output_type": "execute_result"
    }
   ],
   "source": [
    "ypred_candidates"
   ]
  },
  {
   "cell_type": "code",
   "execution_count": 23,
   "metadata": {
    "collapsed": false
   },
   "outputs": [
    {
     "name": "stdout",
     "output_type": "stream",
     "text": [
      "('Cantidad de Confirmados %d', 1708)\n",
      "('Cantidad de Falsos positivos(noconfirmados) %d', 89)\n"
     ]
    }
   ],
   "source": [
    "print(\"Cantidad de Confirmados %d\",np.sum(ypred_candidates))\n",
    "print(\"Cantidad de Falsos positivos(noconfirmados) %d\",(len(ypred_candidates)-np.sum(ypred_candidates)))"
   ]
  },
  {
   "cell_type": "code",
   "execution_count": 24,
   "metadata": {
    "collapsed": false
   },
   "outputs": [
    {
     "data": {
      "text/plain": [
       "RandomForestClassifier(bootstrap=True, class_weight=None, criterion='gini',\n",
       "            max_depth=15, max_features='auto', max_leaf_nodes=None,\n",
       "            min_impurity_split=1e-07, min_samples_leaf=1,\n",
       "            min_samples_split=2, min_weight_fraction_leaf=0.0,\n",
       "            n_estimators=18, n_jobs=-1, oob_score=False, random_state=None,\n",
       "            verbose=0, warm_start=False)"
      ]
     },
     "execution_count": 24,
     "metadata": {},
     "output_type": "execute_result"
    }
   ],
   "source": [
    "from sklearn.ensemble import RandomForestClassifier\n",
    "model = RandomForestClassifier(n_estimators=15,max_depth=10,n_jobs=-1,class_weight = 'balanced') \n",
    "model.fit(asd,asd)"
   ]
  },
  {
   "cell_type": "code",
   "execution_count": 25,
   "metadata": {
    "collapsed": true
   },
   "outputs": [],
   "source": [
    "ypred_candidates = model.predict(asd) "
   ]
  },
  {
   "cell_type": "code",
   "execution_count": 26,
   "metadata": {
    "collapsed": false
   },
   "outputs": [
    {
     "name": "stdout",
     "output_type": "stream",
     "text": [
      "('Cantidad de Confirmados %d', 1259)\n",
      "('Cantidad de Falsos positivos(noconfirmados) %d', 538)\n"
     ]
    }
   ],
   "source": [
    "print(\"Cantidad de Confirmados %d\",np.sum(ypred_candidates))\n",
    "print(\"Cantidad de Falsos positivos(noconfirmados) %d\",(len(ypred_candidates)-np.sum(ypred_candidates)))"
   ]
  },
  {
   "cell_type": "code",
   "execution_count": null,
   "metadata": {
    "collapsed": true
   },
   "outputs": [],
   "source": [
    "df_results = pd.Dataframe()\n",
    "df_results[\"KOI Name\"] = df_label_final[\"KOI Name\"]\n",
    "df_results[\"Our Disposition\"] = model.predict(X)\n",
    "df_results.head()"
   ]
  },
  {
   "cell_type": "code",
   "execution_count": null,
   "metadata": {
    "collapsed": true
   },
   "outputs": [],
   "source": [
    "#save!\n",
    "df_results.to_csv(\"koi_disposition_2019.csv\",index=False)"
   ]
  }
 ],
 "metadata": {
  "kernelspec": {
   "display_name": "Python 3",
   "language": "python",
   "name": "python3"
  },
  "language_info": {
   "codemirror_mode": {
    "name": "ipython",
    "version": 3
   },
   "file_extension": ".py",
   "mimetype": "text/x-python",
   "name": "python",
   "nbconvert_exporter": "python",
   "pygments_lexer": "ipython3",
   "version": "3.6.0"
  }
 },
 "nbformat": 4,
 "nbformat_minor": 2
}
