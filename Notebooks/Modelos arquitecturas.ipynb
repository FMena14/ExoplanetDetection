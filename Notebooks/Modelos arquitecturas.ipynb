{
 "cells": [
  {
   "cell_type": "code",
   "execution_count": 1,
   "metadata": {
    "collapsed": false
   },
   "outputs": [
    {
     "name": "stdout",
     "output_type": "stream",
     "text": [
      "koi_light_curves_FATS2_metadata_test.csv\r\n",
      "koi_light_curves_FATS2_metadata_train.csv\r\n",
      "koi_light_curves_FATS2_metadata_unlabeled.csv\r\n"
     ]
    }
   ],
   "source": [
    "!ls ../Datos/OwnFats/"
   ]
  },
  {
   "cell_type": "code",
   "execution_count": 201,
   "metadata": {
    "collapsed": true
   },
   "outputs": [],
   "source": [
    "#metricas de evaluacion\n",
    "from sklearn.metrics import f1_score\n",
    "from sklearn.metrics import precision_score\n",
    "from sklearn.metrics import recall_score\n",
    "from sklearn.metrics import completeness_score\n",
    "from sklearn.metrics import homogeneity_score\n",
    "\n",
    "import seaborn as sns\n",
    "import matplotlib.pyplot as plt\n",
    "import numpy as np\n",
    "import pandas as pd\n",
    "\n",
    "def calculate_metrics(y_true,y_pred):\n",
    "    f1 = f1_score(y_true,y_pred,average=\"weighted\")\n",
    "    p = precision_score(y_true,y_pred,average=None,labels=[0,1]) #1 confirmado y 0 false positivo\n",
    "    r = recall_score(y_true,y_pred,average=None,labels=[0,1])\n",
    "    #c = completeness_score(y_true, y_pred)\n",
    "    #h = homogeneity_score(y_true,y_pred)\n",
    "    return f1,p,r #f1score,completness and homogeneite"
   ]
  },
  {
   "cell_type": "code",
   "execution_count": 202,
   "metadata": {
    "collapsed": false
   },
   "outputs": [
    {
     "data": {
      "text/plain": [
       "(8054, 2)"
      ]
     },
     "execution_count": 202,
     "metadata": {},
     "output_type": "execute_result"
    }
   ],
   "source": [
    "df_sets.shape"
   ]
  },
  {
   "cell_type": "code",
   "execution_count": 203,
   "metadata": {
    "collapsed": true
   },
   "outputs": [],
   "source": [
    "df_sets = pd.read_csv(\"../Datos/koi_sets.csv\")\n",
    "mask_train = (df_sets[\"Set\"] == \"Train\").values\n",
    "mask_test = (df_sets[\"Set\"] == \"Test\").values\n",
    "#fijo para todos los datos\n",
    "#df_meta = pd.read_csv(\"../Datos/kepler_downloaded.txt\",)\n",
    "df_meta = pd.read_csv(\"../Datos/koi_metadata.csv\")\n",
    "#df_meta.drop(0,axis=0,inplace=True)\n",
    "#df_meta.dropna(subset=['DV Summary'],inplace=True)"
   ]
  },
  {
   "cell_type": "code",
   "execution_count": 211,
   "metadata": {
    "collapsed": true
   },
   "outputs": [],
   "source": [
    "df_meta_train = df_meta[mask_train] \n",
    "df_meta_test = df_meta[mask_test]"
   ]
  },
  {
   "cell_type": "code",
   "execution_count": 212,
   "metadata": {
    "collapsed": false
   },
   "outputs": [
    {
     "data": {
      "text/html": [
       "<div>\n",
       "<style scoped>\n",
       "    .dataframe tbody tr th:only-of-type {\n",
       "        vertical-align: middle;\n",
       "    }\n",
       "\n",
       "    .dataframe tbody tr th {\n",
       "        vertical-align: top;\n",
       "    }\n",
       "\n",
       "    .dataframe thead th {\n",
       "        text-align: right;\n",
       "    }\n",
       "</style>\n",
       "<table border=\"1\" class=\"dataframe\">\n",
       "  <thead>\n",
       "    <tr style=\"text-align: right;\">\n",
       "      <th></th>\n",
       "      <th>KOI Name</th>\n",
       "      <th>NExScI Disposition</th>\n",
       "      <th>Kepler Name</th>\n",
       "      <th>Period</th>\n",
       "      <th>Time of Transit Epoch</th>\n",
       "      <th>First Transit Time (BJD)</th>\n",
       "      <th>Impact Parameter</th>\n",
       "      <th>Duration</th>\n",
       "      <th>Transit Depth</th>\n",
       "      <th>r/R</th>\n",
       "      <th>...</th>\n",
       "      <th>Teff</th>\n",
       "      <th>log(g)</th>\n",
       "      <th>Metallicity</th>\n",
       "      <th>Stellar Radius</th>\n",
       "      <th>Stellar Mass</th>\n",
       "      <th>Max single event sigma</th>\n",
       "      <th>Max Multievent sigma</th>\n",
       "      <th>Transit Model SNR</th>\n",
       "      <th>KOI count</th>\n",
       "      <th>Transit Number</th>\n",
       "    </tr>\n",
       "  </thead>\n",
       "  <tbody>\n",
       "    <tr>\n",
       "      <th>0</th>\n",
       "      <td>K00889.01</td>\n",
       "      <td>CONFIRMED</td>\n",
       "      <td>Kepler-75 b</td>\n",
       "      <td>8.884923</td>\n",
       "      <td>169.991686</td>\n",
       "      <td>2455002.992</td>\n",
       "      <td>0.069</td>\n",
       "      <td>2.07004</td>\n",
       "      <td>16053.4</td>\n",
       "      <td>0.114</td>\n",
       "      <td>...</td>\n",
       "      <td>5332.0</td>\n",
       "      <td>4.500</td>\n",
       "      <td>-0.08</td>\n",
       "      <td>0.843</td>\n",
       "      <td>0.821</td>\n",
       "      <td>61.291</td>\n",
       "      <td>474.021</td>\n",
       "      <td>388.2</td>\n",
       "      <td>1</td>\n",
       "      <td>153</td>\n",
       "    </tr>\n",
       "    <tr>\n",
       "      <th>1</th>\n",
       "      <td>K01009.01</td>\n",
       "      <td>FALSE POSITIVE</td>\n",
       "      <td>NaN</td>\n",
       "      <td>5.092465</td>\n",
       "      <td>357.535940</td>\n",
       "      <td>2455190.536</td>\n",
       "      <td>0.161</td>\n",
       "      <td>3.65900</td>\n",
       "      <td>254.0</td>\n",
       "      <td>0.014</td>\n",
       "      <td>...</td>\n",
       "      <td>5037.0</td>\n",
       "      <td>4.547</td>\n",
       "      <td>-0.20</td>\n",
       "      <td>0.751</td>\n",
       "      <td>0.727</td>\n",
       "      <td>3.648</td>\n",
       "      <td>15.175</td>\n",
       "      <td>17.1</td>\n",
       "      <td>1</td>\n",
       "      <td>225</td>\n",
       "    </tr>\n",
       "    <tr>\n",
       "      <th>2</th>\n",
       "      <td>K07621.01</td>\n",
       "      <td>FALSE POSITIVE</td>\n",
       "      <td>NaN</td>\n",
       "      <td>275.073650</td>\n",
       "      <td>315.248600</td>\n",
       "      <td>2455148.249</td>\n",
       "      <td>0.595</td>\n",
       "      <td>3.37000</td>\n",
       "      <td>228.9</td>\n",
       "      <td>0.014</td>\n",
       "      <td>...</td>\n",
       "      <td>5604.0</td>\n",
       "      <td>4.226</td>\n",
       "      <td>-0.12</td>\n",
       "      <td>1.187</td>\n",
       "      <td>0.864</td>\n",
       "      <td>5.909</td>\n",
       "      <td>8.012</td>\n",
       "      <td>7.5</td>\n",
       "      <td>1</td>\n",
       "      <td>4</td>\n",
       "    </tr>\n",
       "    <tr>\n",
       "      <th>3</th>\n",
       "      <td>K06252.01</td>\n",
       "      <td>FALSE POSITIVE</td>\n",
       "      <td>NaN</td>\n",
       "      <td>8.460439</td>\n",
       "      <td>133.774490</td>\n",
       "      <td>2454966.774</td>\n",
       "      <td>1.061</td>\n",
       "      <td>4.73492</td>\n",
       "      <td>76412.9</td>\n",
       "      <td>0.478</td>\n",
       "      <td>...</td>\n",
       "      <td>5951.0</td>\n",
       "      <td>4.638</td>\n",
       "      <td>-1.06</td>\n",
       "      <td>0.702</td>\n",
       "      <td>0.796</td>\n",
       "      <td>452.526</td>\n",
       "      <td>3704.503</td>\n",
       "      <td>1797.4</td>\n",
       "      <td>1</td>\n",
       "      <td>164</td>\n",
       "    </tr>\n",
       "    <tr>\n",
       "      <th>6</th>\n",
       "      <td>K04162.01</td>\n",
       "      <td>FALSE POSITIVE</td>\n",
       "      <td>NaN</td>\n",
       "      <td>0.539366</td>\n",
       "      <td>131.974570</td>\n",
       "      <td>2454964.975</td>\n",
       "      <td>0.988</td>\n",
       "      <td>5.43400</td>\n",
       "      <td>145.0</td>\n",
       "      <td>0.016</td>\n",
       "      <td>...</td>\n",
       "      <td>6341.0</td>\n",
       "      <td>3.301</td>\n",
       "      <td>-0.10</td>\n",
       "      <td>5.302</td>\n",
       "      <td>2.050</td>\n",
       "      <td>4.847</td>\n",
       "      <td>9.076</td>\n",
       "      <td>57.6</td>\n",
       "      <td>1</td>\n",
       "      <td>1239</td>\n",
       "    </tr>\n",
       "  </tbody>\n",
       "</table>\n",
       "<p>5 rows × 31 columns</p>\n",
       "</div>"
      ],
      "text/plain": [
       "    KOI Name NExScI Disposition  Kepler Name      Period  \\\n",
       "0  K00889.01          CONFIRMED  Kepler-75 b    8.884923   \n",
       "1  K01009.01     FALSE POSITIVE          NaN    5.092465   \n",
       "2  K07621.01     FALSE POSITIVE          NaN  275.073650   \n",
       "3  K06252.01     FALSE POSITIVE          NaN    8.460439   \n",
       "6  K04162.01     FALSE POSITIVE          NaN    0.539366   \n",
       "\n",
       "   Time of Transit Epoch  First Transit Time (BJD)  Impact Parameter  \\\n",
       "0             169.991686               2455002.992             0.069   \n",
       "1             357.535940               2455190.536             0.161   \n",
       "2             315.248600               2455148.249             0.595   \n",
       "3             133.774490               2454966.774             1.061   \n",
       "6             131.974570               2454964.975             0.988   \n",
       "\n",
       "   Duration  Transit Depth    r/R       ...          Teff  log(g)  \\\n",
       "0   2.07004        16053.4  0.114       ...        5332.0   4.500   \n",
       "1   3.65900          254.0  0.014       ...        5037.0   4.547   \n",
       "2   3.37000          228.9  0.014       ...        5604.0   4.226   \n",
       "3   4.73492        76412.9  0.478       ...        5951.0   4.638   \n",
       "6   5.43400          145.0  0.016       ...        6341.0   3.301   \n",
       "\n",
       "   Metallicity  Stellar Radius  Stellar Mass  Max single event sigma  \\\n",
       "0        -0.08           0.843         0.821                  61.291   \n",
       "1        -0.20           0.751         0.727                   3.648   \n",
       "2        -0.12           1.187         0.864                   5.909   \n",
       "3        -1.06           0.702         0.796                 452.526   \n",
       "6        -0.10           5.302         2.050                   4.847   \n",
       "\n",
       "   Max Multievent sigma  Transit Model SNR  KOI count  Transit Number  \n",
       "0               474.021              388.2          1             153  \n",
       "1                15.175               17.1          1             225  \n",
       "2                 8.012                7.5          1               4  \n",
       "3              3704.503             1797.4          1             164  \n",
       "6                 9.076               57.6          1            1239  \n",
       "\n",
       "[5 rows x 31 columns]"
      ]
     },
     "execution_count": 212,
     "metadata": {},
     "output_type": "execute_result"
    }
   ],
   "source": [
    "y_train = ((df_meta_train[\"NExScI Disposition\"]==\"CONFIRMED\")*1).values\n",
    "y_test = ((df_meta_test[\"NExScI Disposition\"]==\"CONFIRMED\")*1).values\n",
    "df_meta_train.head()"
   ]
  },
  {
   "cell_type": "code",
   "execution_count": 198,
   "metadata": {
    "collapsed": false
   },
   "outputs": [
    {
     "data": {
      "text/plain": [
       "3"
      ]
     },
     "execution_count": 198,
     "metadata": {},
     "output_type": "execute_result"
    }
   ],
   "source": [
    "strings=[]\n",
    "for columna in df_meta.columns:\n",
    "    try:\n",
    "        float(df_meta[columna].values[0])\n",
    "    except:\n",
    "        strings.append(columna)\n",
    "len(strings)"
   ]
  },
  {
   "cell_type": "code",
   "execution_count": 199,
   "metadata": {
    "collapsed": false
   },
   "outputs": [
    {
     "data": {
      "text/plain": [
       "(8054, 31)"
      ]
     },
     "execution_count": 199,
     "metadata": {},
     "output_type": "execute_result"
    }
   ],
   "source": [
    "df_meta.shape"
   ]
  },
  {
   "cell_type": "code",
   "execution_count": 168,
   "metadata": {
    "collapsed": true
   },
   "outputs": [],
   "source": [
    "for columna in df_meta.columns:\n",
    "    if columna in strings:\n",
    "        df_meta.drop([columna],axis=1,inplace=True)"
   ]
  },
  {
   "cell_type": "code",
   "execution_count": 205,
   "metadata": {
    "collapsed": false
   },
   "outputs": [
    {
     "data": {
      "text/plain": [
       "(8054, 31)"
      ]
     },
     "execution_count": 205,
     "metadata": {},
     "output_type": "execute_result"
    }
   ],
   "source": [
    "df_meta.shape"
   ]
  },
  {
   "cell_type": "code",
   "execution_count": 213,
   "metadata": {
    "collapsed": false
   },
   "outputs": [
    {
     "name": "stdout",
     "output_type": "stream",
     "text": [
      "Score si dice todos son falsos positivos: 0.235117\n",
      "Score si dice todos son confirmados: 0.441917\n"
     ]
    },
    {
     "name": "stderr",
     "output_type": "stream",
     "text": [
      "/users/mbugueno/anaconda2/lib/python2.7/site-packages/sklearn/metrics/classification.py:1135: UndefinedMetricWarning: F-score is ill-defined and being set to 0.0 in labels with no predicted samples.\n",
      "  'precision', 'predicted', average, warn_for)\n",
      "/users/mbugueno/anaconda2/lib/python2.7/site-packages/sklearn/metrics/classification.py:1135: UndefinedMetricWarning: F-score is ill-defined and being set to 0.0 in labels with no predicted samples.\n",
      "  'precision', 'predicted', average, warn_for)\n"
     ]
    }
   ],
   "source": [
    "todos_ceros = np.zeros(y_test.shape)\n",
    "todos_uno = np.ones(y_test.shape)\n",
    "\n",
    "print(\"Score si dice todos son falsos positivos: %f\"%f1_score(y_test,todos_ceros,average=\"weighted\"))\n",
    "print(\"Score si dice todos son confirmados: %f\"%f1_score(y_test,todos_uno,average=\"weighted\"))"
   ]
  },
  {
   "cell_type": "code",
   "execution_count": 214,
   "metadata": {
    "collapsed": false
   },
   "outputs": [
    {
     "data": {
      "text/plain": [
       "Text(0,0.5,'Count')"
      ]
     },
     "execution_count": 214,
     "metadata": {},
     "output_type": "execute_result"
    },
    {
     "data": {
      "image/png": "[encoded data removed]",
      "text/plain": [
       "<Figure size 720x432 with 1 Axes>"
      ]
     },
     "metadata": {
      "needs_background": "light"
     },
     "output_type": "display_data"
    }
   ],
   "source": [
    "%matplotlib inline\n",
    "plt.figure(figsize=(10,6))\n",
    "plt.title(\"TRAIN \")\n",
    "plt.bar(0, np.sum(y_train==1),color=\"blue\")\n",
    "plt.bar(1, np.sum(y_train==0),color=\"green\")\n",
    "plt.xticks([0,1],[\"CONFIRMED\",\"FALSE POSITIVE\"])\n",
    "plt.ylabel(\"Count\")\n",
    "#sns.countplot(y_train[mask])"
   ]
  },
  {
   "cell_type": "code",
   "execution_count": 215,
   "metadata": {
    "collapsed": false
   },
   "outputs": [
    {
     "data": {
      "text/plain": [
       "Text(0,0.5,'Count')"
      ]
     },
     "execution_count": 215,
     "metadata": {},
     "output_type": "execute_result"
    },
    {
     "data": {
      "image/png": "[encoded data removed]",
      "text/plain": [
       "<Figure size 720x432 with 1 Axes>"
      ]
     },
     "metadata": {
      "needs_background": "light"
     },
     "output_type": "display_data"
    }
   ],
   "source": [
    "plt.figure(figsize=(10,6))\n",
    "plt.title(\"TEST \")\n",
    "plt.bar(0, np.sum(y_test==1),color=\"blue\")\n",
    "plt.bar(1, np.sum(y_test==0),color=\"green\")\n",
    "plt.xticks([0,1],[\"CONFIRMED\",\"FALSE POSITIVE\"])\n",
    "plt.ylabel(\"Count\")"
   ]
  },
  {
   "cell_type": "markdown",
   "metadata": {},
   "source": [
    "## VARIAR REPRESENTACION ACA:"
   ]
  },
  {
   "cell_type": "code",
   "execution_count": 242,
   "metadata": {
    "collapsed": false
   },
   "outputs": [
    {
     "name": "stdout",
     "output_type": "stream",
     "text": [
      "(4693, 72)\n"
     ]
    }
   ],
   "source": [
    "#para distintas representaciones...\n",
    "df_fats_train = pd.read_csv('../Datos/OwnFats/koi_light_curves_FATS2_metadata_train_p_error.csv')\n",
    "df_fats_test = pd.read_csv('../Datos/OwnFats/koi_light_curves_FATS2_metadata_test_p_error.csv')\n",
    "#df_algo_test = pd.read_csv('OwnFats/koi_light_curves_FATS2_metadatastellar_test.csv',header=None,names=columns_fats2)\n",
    "\n",
    "#para koi con valores nulos (Son falsos positivos asi que no afecta)\n",
    "#para fats2 -brither oppace ratio\n",
    "df_fats_train.fillna(df_fats_train.median(), inplace=True)\n",
    "df_fats_test.fillna(df_fats_test.median(), inplace=True)\n",
    "\n",
    "#df_meta_train.fillna(df_meta_train.median(), inplace=True)\n",
    "#df_meta_test.fillna(df_meta_test.median(), inplace=True)\n",
    "#df_meta_train.fillna(0, inplace=True)\n",
    "#df_meta_test.fillna(0, inplace=True)\n",
    "\n",
    "X_train = df_fats_train.values[:,:-1]\n",
    "X_test = df_fats_test.values[:,:-1]\n",
    "#X_train = df_meta_train.values\n",
    "#X_test = df_meta_test.values\n",
    "\n",
    "print(X_train.shape)"
   ]
  },
  {
   "cell_type": "code",
   "execution_count": 24,
   "metadata": {
    "collapsed": true
   },
   "outputs": [],
   "source": [
    "#from skrebate import ReliefF"
   ]
  },
  {
   "cell_type": "markdown",
   "metadata": {},
   "source": [
    "## SUBSAMPLE (CLASE MAYORITARIA - FALSE POSITIVE)"
   ]
  },
  {
   "cell_type": "code",
   "execution_count": 243,
   "metadata": {
    "collapsed": false
   },
   "outputs": [
    {
     "name": "stderr",
     "output_type": "stream",
     "text": [
      "/users/mbugueno/anaconda2/lib/python2.7/site-packages/sklearn/utils/validation.py:475: DataConversionWarning: Data with input dtype object was converted to float64 by StandardScaler.\n",
      "  warnings.warn(msg, DataConversionWarning)\n"
     ]
    }
   ],
   "source": [
    "from sklearn.preprocessing import StandardScaler\n",
    "std = StandardScaler()\n",
    "\n",
    "Xstd_train = std.fit_transform(X_train.astype('float'))\n",
    "\n",
    "Xstd_test = std.transform(X_test)"
   ]
  },
  {
   "cell_type": "markdown",
   "metadata": {},
   "source": [
    "### Empieza ejecución útil: "
   ]
  },
  {
   "cell_type": "code",
   "execution_count": 218,
   "metadata": {
    "collapsed": true
   },
   "outputs": [],
   "source": [
    "#para guardar scores y graficar\n",
    "f1_score_test = []\n",
    "p_test = []\n",
    "r_test = []"
   ]
  },
  {
   "cell_type": "markdown",
   "metadata": {},
   "source": [
    "## SVM Lineal"
   ]
  },
  {
   "cell_type": "code",
   "execution_count": null,
   "metadata": {
    "collapsed": true
   },
   "outputs": [],
   "source": [
    "from sklearn.svm import SVC\n",
    "\n",
    "Cs = [0.01,0.1,1,10,100]\n",
    "\n",
    "def find_best_c(X_train,y_train,X_val,y_val):\n",
    "    best = 0\n",
    "    best_c = 0\n",
    "    \n",
    "    for c in Cs:\n",
    "        model = SVC(kernel= 'linear',C=c)\n",
    "        model.fit(X_train,y_train)\n",
    "\n",
    "        ypred_val = model.predict(X_val)\n",
    "        f1,p,r = calculate_metrics(y_val,ypred_val)\n",
    "\n",
    "        if f1 > best:\n",
    "            best = f1\n",
    "            best_c = c\n",
    "    print(\"Mejor c en SVM lineal es %f con f1-score de %f\"%(best_c,best))\n",
    "    return best_c\n",
    "\n",
    "#leer archivos, iterar y \n",
    "best_c = find_best_c(Xstd_train,y_train,Xstd_val,y_val)"
   ]
  },
  {
   "cell_type": "markdown",
   "metadata": {},
   "source": [
    "## SVM No Lineal"
   ]
  },
  {
   "cell_type": "code",
   "execution_count": 57,
   "metadata": {
    "collapsed": false
   },
   "outputs": [
    {
     "name": "stdout",
     "output_type": "stream",
     "text": [
      "Mejor c en SVM no lineal es 1000.000000 con f1-score de 0.864072\n"
     ]
    }
   ],
   "source": [
    "from sklearn.svm import SVC\n",
    "\n",
    "Cs = [0.001,0.01,0.1,1,10,100,1000]\n",
    "\n",
    "def find_best_c(X_train,y_train,X_val,y_val):\n",
    "    best = 0\n",
    "    best_c = 0\n",
    "    \n",
    "    for c in Cs:\n",
    "        model = SVC(kernel= 'rbf',C=c,gamma='auto',class_weight = 'balanced')\n",
    "        model.fit(X_train,y_train)\n",
    "\n",
    "        ypred_val = model.predict(X_val)\n",
    "        f1,p,r = calculate_metrics(y_val,ypred_val)\n",
    "\n",
    "        if f1 > best:\n",
    "            best = f1\n",
    "            best_c = c\n",
    "    print(\"Mejor c en SVM no lineal es %f con f1-score de %f\"%(best_c,best))\n",
    "    return best_c\n",
    "\n",
    "#leer archivos, iterar y \n",
    "best_c = find_best_c(Xstd_train,y_train,Xstd_val,y_val) #not sampled\n",
    "#best_c = find_best_c(Xstd_train,ysample_train,Xstd_val,y_val) #sampled"
   ]
  },
  {
   "cell_type": "code",
   "execution_count": 58,
   "metadata": {
    "collapsed": true
   },
   "outputs": [],
   "source": [
    "model = SVC(kernel='rbf',C=best_c,class_weight = 'balanced')\n",
    "model.fit(Xstd_train,y_train) #not sampled\n",
    "#model.fit(Xstd_train,ysample_train) #sampled\n",
    "\n",
    "ypred_test = model.predict(Xstd_test)\n",
    "f1,p,r = calculate_metrics(y_test,ypred_test)\n",
    "\n",
    "f1_score_test.append(f1)\n",
    "p_test.append(p)\n",
    "r_test.append(r)"
   ]
  },
  {
   "cell_type": "markdown",
   "metadata": {},
   "source": [
    "## Random Forest"
   ]
  },
  {
   "cell_type": "markdown",
   "metadata": {},
   "source": [
    "### código grid"
   ]
  },
  {
   "cell_type": "code",
   "execution_count": null,
   "metadata": {
    "collapsed": true,
    "scrolled": true
   },
   "outputs": [],
   "source": [
    "from sklearn.model_selection import train_test_split, GridSearchCV, StratifiedKFold, cross_validate\n",
    "from sklearn.metrics import roc_curve, precision_recall_curve, auc, make_scorer, f1_score, recall_score, accuracy_score, precision_score, confusion_matrix\n",
    "from sklearn.ensemble import RandomForestClassifier\n",
    "\n",
    "\n",
    "clf = RandomForestClassifier(n_jobs=-1, random_state=0)#, class_weight = 'balanced')\n",
    "\n",
    "# This takes a while to run with more values,\n",
    "# I found these as the best parameteres.\n",
    "param_grid = {\n",
    "    'n_estimators' : [10,15,20,30,37,40\n",
    "                     \n",
    "                     ],\n",
    "    'min_samples_split': [5,10,15],\n",
    "    'max_depth': np.arange(5,25),\n",
    "    #'class_weight' : ['balanced','balanced_subsample',None]\n",
    "}\n",
    "\n",
    "scorers = {\n",
    "    'precision_score': make_scorer(precision_score),\n",
    "    'recall_score': make_scorer(recall_score),\n",
    "    'accuracy_score': make_scorer(accuracy_score),\n",
    "    'f1_score_we':make_scorer(f1_score,average='weighted'),\n",
    "    'f1_score_macro':make_scorer(f1_score,average='macro'),\n",
    "    'f1_score_micro':make_scorer(f1_score,average='micro')\n",
    "}\n",
    "\n",
    "skf = StratifiedKFold(n_splits=5)\n",
    "grid_search = GridSearchCV(clf, param_grid, scoring=scorers, refit='f1_score_we',\n",
    "                       cv=skf, return_train_score=False , n_jobs=-1)\n",
    "grid_search.fit(X_train, y_train)\n",
    "\n",
    "# make the predictions\n",
    "#y_pred = grid_search.predict(X_test)\n",
    "\n",
    "print('Best params for completeness:', grid_search.best_params_)\n",
    "results = pd.DataFrame(grid_search.cv_results_)\n",
    "bestResults = results[results.params == grid_search.best_params_]\n",
    "completeness = float(bestResults['mean_test_recall_score'])\n",
    "print('Completion: {:.4f}'.format(completeness))\n",
    "preci = float(bestResults['mean_test_precision_score'])\n",
    "print('Contamination: {:.4f}'.format(preci))\n",
    "f1_w = float(bestResults['mean_test_f1_score_we'])\n",
    "print('F1-score weighted: {:.4f}'.format(f1_w))\n",
    "f1_ma = float(bestResults['mean_test_f1_score_macro'])\n",
    "print('F1-score macro: {:.4f}'.format(f1_ma))\n",
    "f1_mi = float(bestResults['mean_test_f1_score_micro'])\n",
    "print('F1-score micro: {:.4f}'.format(f1_mi))\n",
    "# confusion matrix on the test data.\n",
    "#confusion = pd.DataFrame(confusion_matrix(y_test, y_pred),\n",
    "#             columns=['pred_neg', 'pred_pos'], index=['neg', 'pos'])"
   ]
  },
  {
   "cell_type": "code",
   "execution_count": 245,
   "metadata": {
    "collapsed": true
   },
   "outputs": [],
   "source": [
    "f1_ad = []\n",
    "p_ad = []\n",
    "r_ad = []\n",
    "for i in range(20):\n",
    "    model = RandomForestClassifier(n_jobs=-1,**grid_search.best_params_)\n",
    "    model.fit(X_train,y_train) \n",
    " \n",
    "    ypred_test = model.predict(X_test)\n",
    "    f1,p,r = calculate_metrics(y_test,ypred_test)\n",
    "    f1_ad.append(f1)\n",
    "    p_ad.append(p)\n",
    "    r_ad.append(r)\n",
    "f1_score_test.append(np.mean(f1_ad,axis=0))# por columna\n",
    "p_test.append(np.mean(p_ad,axis=0)) #por columna\n",
    "r_test.append(np.mean(r_ad,axis=0)) #por columna"
   ]
  },
  {
   "cell_type": "code",
   "execution_count": 246,
   "metadata": {
    "collapsed": false
   },
   "outputs": [
    {
     "data": {
      "text/plain": [
       "[0.8635966326439204,\n",
       " 0.8634985207069221,\n",
       " 0.8643145539204685,\n",
       " 0.8563978041603996,\n",
       " 0.8597387433060607,\n",
       " 0.8659704902885892,\n",
       " 0.8867807789490705]"
      ]
     },
     "execution_count": 246,
     "metadata": {},
     "output_type": "execute_result"
    }
   ],
   "source": [
    "f1_score_test"
   ]
  },
  {
   "cell_type": "code",
   "execution_count": 222,
   "metadata": {
    "collapsed": false
   },
   "outputs": [
    {
     "data": {
      "text/plain": [
       "[array([0.85787924, 0.86869172])]"
      ]
     },
     "execution_count": 222,
     "metadata": {},
     "output_type": "execute_result"
    }
   ],
   "source": [
    "p_test"
   ]
  },
  {
   "cell_type": "code",
   "execution_count": 223,
   "metadata": {
    "collapsed": false
   },
   "outputs": [
    {
     "data": {
      "text/plain": [
       "[array([0.79937107, 0.90905172])]"
      ]
     },
     "execution_count": 223,
     "metadata": {},
     "output_type": "execute_result"
    }
   ],
   "source": [
    "r_test"
   ]
  },
  {
   "cell_type": "code",
   "execution_count": 57,
   "metadata": {
    "collapsed": false
   },
   "outputs": [
    {
     "data": {
      "text/plain": [
       "43"
      ]
     },
     "execution_count": 57,
     "metadata": {},
     "output_type": "execute_result"
    }
   ],
   "source": [
    "len(model.feature_importances_)"
   ]
  },
  {
   "cell_type": "code",
   "execution_count": 232,
   "metadata": {
    "collapsed": false
   },
   "outputs": [
    {
     "data": {
      "image/png": "[encoded data removed]",
      "text/plain": [
       "<Figure size 432x720 with 1 Axes>"
      ]
     },
     "metadata": {
      "needs_background": "light"
     },
     "output_type": "display_data"
    }
   ],
   "source": [
    "#columns = [\"minimo\",\"maximo\",\"media\",\"std\",\"iqr\",\"skw\",\"kurt\",\"q1\",\"q2\",\"slope\",\"period\",\"transitdepth\",\n",
    "#          \"teq\",\"koi count\",'Planet Radius']\n",
    "columns_fats2=df_fats_train.columns[:-1]\n",
    "\"\"\"columns_fats2 = [\"minimum\",\"maximum\",\"mean\",\"std\",\"iqr\",\"skewness\",\"kurtosis\",\"q1\",\"q2\",\"slope\",\n",
    "                  \"amplitute\",\"median absolute deviation\",\"residual bright faint ratio\",\"median\", #new ones\n",
    "                 \"period\",\"transit depth\",\"teq\",\"koi count\",'Planet Radius',#] #planet\n",
    "                \"Teff\",\"log(g)\",\"Metallicity\",\"Stellar Radius\",\"Stellar Mass\"] #stellar\n",
    "\"\"\"\n",
    "plt.figure(figsize=(6,10))\n",
    "plt.barh(range(len(columns_fats2)), model.feature_importances_)\n",
    "plt.yticks(range(len(columns_fats2)),columns_fats2)#, rotation= 30)\n",
    "plt.title('Feature Importance')\n",
    "plt.show()"
   ]
  },
  {
   "cell_type": "code",
   "execution_count": 225,
   "metadata": {
    "collapsed": false
   },
   "outputs": [
    {
     "name": "stdout",
     "output_type": "stream",
     "text": [
      "('Best params for completeness:', {'n_estimators': 17, 'max_depth': 15})\n",
      "Completion: 0.8795\n",
      "Contamination: 0.9024\n",
      "F1-score: 0.9235\n"
     ]
    }
   ],
   "source": [
    "from sklearn.model_selection import train_test_split, GridSearchCV, StratifiedKFold, cross_validate\n",
    "from sklearn.metrics import roc_curve, precision_recall_curve, auc, make_scorer, f1_score, recall_score, accuracy_score, precision_score, confusion_matrix\n",
    "from sklearn.ensemble import RandomForestClassifier\n",
    "\n",
    "\n",
    "clf = RandomForestClassifier(n_jobs=-1, random_state=0, class_weight = 'balanced')\n",
    "\n",
    "# This takes a while to run with more values,\n",
    "# I found these as the best parameteres.\n",
    "param_grid = {\n",
    "    'n_estimators' : [5,7,10,12,13,15,17,20,30],\n",
    "    'max_depth': np.arange(1,21)\n",
    "}\n",
    "\n",
    "scorers = {\n",
    "    'precision_score': make_scorer(precision_score),\n",
    "    'recall_score': make_scorer(recall_score),\n",
    "    'accuracy_score': make_scorer(accuracy_score),\n",
    "    'f1_score':make_scorer(f1_score,average='macro')\n",
    "}\n",
    "\n",
    "skf = StratifiedKFold(n_splits=5)\n",
    "grid_search = GridSearchCV(clf, param_grid, scoring=scorers, refit='f1_score',\n",
    "                       cv=skf, return_train_score=True, n_jobs=-1)\n",
    "grid_search.fit(X_train, y_train)\n",
    "\n",
    "# make the predictions\n",
    "#y_pred = grid_search.predict(X_test)\n",
    "\n",
    "print('Best params for completeness:', grid_search.best_params_)\n",
    "results = pd.DataFrame(grid_search.cv_results_)\n",
    "bestResults = results[results.params == grid_search.best_params_]\n",
    "completeness = float(bestResults['mean_test_recall_score'])\n",
    "print('Completion: {:.4f}'.format(completeness))\n",
    "preci = float(bestResults['mean_test_precision_score'])\n",
    "print('Contamination: {:.4f}'.format(preci))\n",
    "f1 = float(bestResults['mean_test_f1_score'])\n",
    "print('F1-score: {:.4f}'.format(f1))\n",
    "# confusion matrix on the test data.\n",
    "#confusion = pd.DataFrame(confusion_matrix(y_test, y_pred),\n",
    "#             columns=['pred_neg', 'pred_pos'], index=['neg', 'pos'])"
   ]
  },
  {
   "cell_type": "code",
   "execution_count": 226,
   "metadata": {
    "collapsed": true
   },
   "outputs": [],
   "source": [
    "f1_ad = []\n",
    "p_ad = []\n",
    "r_ad = []\n",
    "for i in range(20):\n",
    "    model = RandomForestClassifier(n_jobs=-1,**grid_search.best_params_)\n",
    "    model.fit(X_train,y_train) \n",
    " \n",
    "    ypred_test = model.predict(X_test)\n",
    "    f1,p,r = calculate_metrics(y_test,ypred_test)\n",
    "    f1_ad.append(f1)\n",
    "    p_ad.append(p)\n",
    "    r_ad.append(r)\n",
    "f1_score_test.append(np.mean(f1_ad,axis=0))# por columna\n",
    "p_test.append(np.mean(p_ad,axis=0)) #por columna\n",
    "r_test.append(np.mean(r_ad,axis=0)) #por columna"
   ]
  },
  {
   "cell_type": "code",
   "execution_count": 227,
   "metadata": {
    "collapsed": false
   },
   "outputs": [
    {
     "data": {
      "text/plain": [
       "[0.8635966326439204, 0.8634985207069221]"
      ]
     },
     "execution_count": 227,
     "metadata": {},
     "output_type": "execute_result"
    }
   ],
   "source": [
    "f1_score_test"
   ]
  },
  {
   "cell_type": "code",
   "execution_count": 228,
   "metadata": {
    "collapsed": false
   },
   "outputs": [
    {
     "data": {
      "image/png": "[encoded data removed]",
      "text/plain": [
       "<Figure size 432x720 with 1 Axes>"
      ]
     },
     "metadata": {
      "needs_background": "light"
     },
     "output_type": "display_data"
    }
   ],
   "source": [
    "columns_fats2=df_fats_train.columns[:-1]\n",
    "\"\"\"columns_fats2 = [\"minimum\",\"maximum\",\"mean\",\"std\",\"iqr\",\"skewness\",\"kurtosis\",\"q1\",\"q2\",\"slope\",\n",
    "                  \"amplitute\",\"median absolute deviation\",\"residual bright faint ratio\",\"median\", #new ones\n",
    "                 \"period\",\"transit depth\",\"teq\",\"koi count\",'Planet Radius',#] #planet\n",
    "                \"Teff\",\"log(g)\",\"Metallicity\",\"Stellar Radius\",\"Stellar Mass\"] #stellar\n",
    "\"\"\"\n",
    "plt.figure(figsize=(6,10))\n",
    "plt.barh(range(len(columns_fats2)), model.feature_importances_)\n",
    "plt.yticks(range(len(columns_fats2)),columns_fats2)#, rotation= 30)\n",
    "plt.title('Feature Importance')\n",
    "plt.show()"
   ]
  },
  {
   "cell_type": "markdown",
   "metadata": {},
   "source": [
    "### Red Neuronal (como clasificador binario)"
   ]
  },
  {
   "cell_type": "code",
   "execution_count": 16,
   "metadata": {
    "collapsed": false,
    "scrolled": true
   },
   "outputs": [
    {
     "name": "stdout",
     "output_type": "stream",
     "text": [
      "Train on 3142 samples, validate on 1074 samples\n",
      "Epoch 1/100\n",
      "2s - loss: 0.6686 - acc: 0.5605 - val_loss: 0.6167 - val_acc: 0.5847\n",
      "Epoch 2/100\n",
      "2s - loss: 0.6368 - acc: 0.5926 - val_loss: 0.6111 - val_acc: 0.5764\n",
      "Epoch 3/100\n",
      "2s - loss: 0.6308 - acc: 0.6063 - val_loss: 0.6493 - val_acc: 0.5829\n",
      "Epoch 4/100\n",
      "2s - loss: 0.6223 - acc: 0.5987 - val_loss: 0.6112 - val_acc: 0.5931\n",
      "Epoch 5/100\n",
      "2s - loss: 0.6169 - acc: 0.6130 - val_loss: 0.6117 - val_acc: 0.6043\n",
      "Epoch 6/100\n",
      "2s - loss: 0.6084 - acc: 0.6244 - val_loss: 0.5924 - val_acc: 0.6071\n",
      "Epoch 7/100\n",
      "2s - loss: 0.6102 - acc: 0.6152 - val_loss: 0.6320 - val_acc: 0.5940\n",
      "Epoch 8/100\n",
      "2s - loss: 0.6035 - acc: 0.6248 - val_loss: 0.5961 - val_acc: 0.5996\n",
      "Epoch 9/100\n",
      "2s - loss: 0.6073 - acc: 0.6238 - val_loss: 0.5895 - val_acc: 0.5950\n",
      "Epoch 10/100\n",
      "2s - loss: 0.6085 - acc: 0.6143 - val_loss: 0.5829 - val_acc: 0.5978\n",
      "Epoch 11/100\n",
      "2s - loss: 0.6018 - acc: 0.6194 - val_loss: 0.6163 - val_acc: 0.5866\n",
      "Epoch 12/100\n",
      "2s - loss: 0.6008 - acc: 0.6222 - val_loss: 0.6255 - val_acc: 0.5885\n",
      "Epoch 13/100\n",
      "2s - loss: 0.6017 - acc: 0.6209 - val_loss: 0.7035 - val_acc: 0.5680\n",
      "Epoch 14/100\n",
      "2s - loss: 0.5986 - acc: 0.6194 - val_loss: 0.5796 - val_acc: 0.6024\n",
      "Epoch 15/100\n",
      "2s - loss: 0.5967 - acc: 0.6286 - val_loss: 0.6118 - val_acc: 0.5885\n",
      "Epoch 16/100\n",
      "2s - loss: 0.5980 - acc: 0.6203 - val_loss: 0.5754 - val_acc: 0.6145\n",
      "Epoch 17/100\n",
      "2s - loss: 0.5958 - acc: 0.6248 - val_loss: 0.5734 - val_acc: 0.6387\n",
      "Epoch 18/100\n",
      "2s - loss: 0.5972 - acc: 0.6267 - val_loss: 0.5781 - val_acc: 0.6359\n",
      "Epoch 19/100\n",
      "2s - loss: 0.5979 - acc: 0.6232 - val_loss: 0.6077 - val_acc: 0.6322\n",
      "Epoch 20/100\n",
      "2s - loss: 0.5959 - acc: 0.6139 - val_loss: 0.5937 - val_acc: 0.5931\n",
      "Epoch 21/100\n",
      "2s - loss: 0.5981 - acc: 0.6203 - val_loss: 0.5845 - val_acc: 0.6034\n",
      "Epoch 22/100\n",
      "2s - loss: 0.5938 - acc: 0.6302 - val_loss: 0.5837 - val_acc: 0.5940\n",
      "Epoch 23/100\n",
      "2s - loss: 0.5951 - acc: 0.6235 - val_loss: 0.5725 - val_acc: 0.6341\n",
      "Epoch 24/100\n",
      "2s - loss: 0.5935 - acc: 0.6209 - val_loss: 0.6514 - val_acc: 0.5866\n",
      "Epoch 25/100\n",
      "2s - loss: 0.5939 - acc: 0.6229 - val_loss: 0.5690 - val_acc: 0.6359\n",
      "Epoch 26/100\n",
      "2s - loss: 0.5877 - acc: 0.6302 - val_loss: 0.5690 - val_acc: 0.6555\n",
      "Epoch 27/100\n",
      "2s - loss: 0.5887 - acc: 0.6381 - val_loss: 0.5822 - val_acc: 0.6080\n",
      "Epoch 28/100\n",
      "2s - loss: 0.5897 - acc: 0.6381 - val_loss: 0.5955 - val_acc: 0.5968\n",
      "Epoch 29/100\n",
      "2s - loss: 0.5870 - acc: 0.6337 - val_loss: 0.6042 - val_acc: 0.5922\n",
      "Epoch 30/100\n",
      "2s - loss: 0.5868 - acc: 0.6388 - val_loss: 0.6008 - val_acc: 0.5950\n",
      "Epoch 31/100\n",
      "2s - loss: 0.5842 - acc: 0.6384 - val_loss: 0.5899 - val_acc: 0.6359\n",
      "Epoch 32/100\n",
      "2s - loss: 0.5858 - acc: 0.6400 - val_loss: 0.5695 - val_acc: 0.6406\n",
      "Epoch 33/100\n",
      "2s - loss: 0.5845 - acc: 0.6356 - val_loss: 0.5737 - val_acc: 0.6676\n",
      "Epoch 34/100\n",
      "2s - loss: 0.5838 - acc: 0.6388 - val_loss: 0.5797 - val_acc: 0.6415\n",
      "Epoch 35/100\n",
      "2s - loss: 0.5835 - acc: 0.6400 - val_loss: 0.5738 - val_acc: 0.6406\n",
      "Epoch 36/100\n",
      "2s - loss: 0.5864 - acc: 0.6400 - val_loss: 0.5609 - val_acc: 0.6778\n",
      "Epoch 37/100\n",
      "2s - loss: 0.5834 - acc: 0.6461 - val_loss: 0.6079 - val_acc: 0.5996\n",
      "Epoch 38/100\n",
      "3s - loss: 0.5812 - acc: 0.6413 - val_loss: 0.6028 - val_acc: 0.6015\n",
      "Epoch 39/100\n",
      "2s - loss: 0.5780 - acc: 0.6489 - val_loss: 0.5798 - val_acc: 0.6220\n",
      "Epoch 40/100\n",
      "2s - loss: 0.5787 - acc: 0.6645 - val_loss: 0.6717 - val_acc: 0.5838\n",
      "Epoch 41/100\n",
      "2s - loss: 0.5784 - acc: 0.6496 - val_loss: 0.6505 - val_acc: 0.5959\n",
      "Epoch 42/100\n",
      "2s - loss: 0.5753 - acc: 0.6525 - val_loss: 0.5686 - val_acc: 0.6695\n",
      "Epoch 43/100\n",
      "2s - loss: 0.5805 - acc: 0.6448 - val_loss: 0.6849 - val_acc: 0.5940\n",
      "Epoch 44/100\n",
      "2s - loss: 0.5740 - acc: 0.6598 - val_loss: 0.5684 - val_acc: 0.6406\n",
      "Epoch 45/100\n",
      "3s - loss: 0.5752 - acc: 0.6534 - val_loss: 0.6400 - val_acc: 0.6341\n",
      "Epoch 46/100\n",
      "2s - loss: 0.5751 - acc: 0.6518 - val_loss: 0.5710 - val_acc: 0.6508\n",
      "Epoch 47/100\n",
      "2s - loss: 0.5688 - acc: 0.6601 - val_loss: 0.6132 - val_acc: 0.6061\n",
      "Epoch 48/100\n",
      "2s - loss: 0.5710 - acc: 0.6496 - val_loss: 0.5765 - val_acc: 0.6713\n",
      "Epoch 49/100\n",
      "2s - loss: 0.5682 - acc: 0.6547 - val_loss: 0.5742 - val_acc: 0.6527\n",
      "Epoch 50/100\n",
      "2s - loss: 0.5686 - acc: 0.6604 - val_loss: 0.6501 - val_acc: 0.5931\n",
      "Epoch 51/100\n",
      "2s - loss: 0.5735 - acc: 0.6531 - val_loss: 0.5788 - val_acc: 0.6480\n",
      "Epoch 52/100\n",
      "2s - loss: 0.5675 - acc: 0.6639 - val_loss: 0.5752 - val_acc: 0.6546\n",
      "Epoch 53/100\n",
      "2s - loss: 0.5678 - acc: 0.6566 - val_loss: 0.6488 - val_acc: 0.5903\n",
      "Epoch 54/100\n",
      "2s - loss: 0.5666 - acc: 0.6591 - val_loss: 0.5882 - val_acc: 0.6304\n",
      "Epoch 55/100\n",
      "2s - loss: 0.5687 - acc: 0.6617 - val_loss: 0.6185 - val_acc: 0.6043\n",
      "Epoch 56/100\n",
      "2s - loss: 0.5663 - acc: 0.6569 - val_loss: 0.6140 - val_acc: 0.6155\n",
      "Epoch 57/100\n",
      "2s - loss: 0.5668 - acc: 0.6636 - val_loss: 0.6097 - val_acc: 0.6173\n"
     ]
    }
   ],
   "source": [
    "import keras\n",
    "from keras.models import Sequential\n",
    "from keras.layers import Dense,Dropout\n",
    "import tensorflow as tf\n",
    "\n",
    "earlyStopping = keras.callbacks.EarlyStopping(monitor='val_loss',\n",
    "                              min_delta=0,\n",
    "                              patience=20,\n",
    "                              verbose=0, mode='auto')\n",
    "\n",
    "with tf.device('/cpu:0'):\n",
    "    model = Sequential()\n",
    "    model.add(Dense(1024, input_dim=Xstd_train.shape[1], activation='tanh'))\n",
    "    model.add(Dropout(0.2))\n",
    "    model.add(Dense(512, activation='tanh'))\n",
    "    model.add(Dropout(0.2))\n",
    "    #model.add(Dense(256, activation='tanh'))\n",
    "    #model.add(Dropout(0.2))\n",
    "    model.add(Dense(1,activation='sigmoid'))\n",
    "\n",
    "    model.compile('rmsprop', loss='binary_crossentropy', metrics=['accuracy'])\n",
    "\n",
    "    model.fit(Xstd_train, ysample_train, epochs=100, batch_size=16, verbose=2,\n",
    "              validation_data=(Xstd_val,y_val),callbacks=[earlyStopping])"
   ]
  },
  {
   "cell_type": "code",
   "execution_count": 17,
   "metadata": {
    "collapsed": false
   },
   "outputs": [
    {
     "name": "stdout",
     "output_type": "stream",
     "text": [
      " 576/1139 [==============>...............] - ETA: 0s\n",
      "('F1 sobre validation: ', 0.58618401830923994)\n"
     ]
    }
   ],
   "source": [
    "ypred_val = model.predict_classes(Xstd_test)\n",
    "f1,p,r = calculate_metrics(y_test,ypred_val)\n",
    "print(\"\")\n",
    "print(\"F1 sobre validation: \",f1)"
   ]
  },
  {
   "cell_type": "code",
   "execution_count": 18,
   "metadata": {
    "collapsed": false
   },
   "outputs": [
    {
     "name": "stdout",
     "output_type": "stream",
     "text": [
      "(array([ 0.88855422,  0.47707559]), array([ 0.41143654,  0.91232227]))\n"
     ]
    }
   ],
   "source": [
    "print(p,r)"
   ]
  },
  {
   "cell_type": "markdown",
   "metadata": {},
   "source": [
    "# Gráficos"
   ]
  },
  {
   "cell_type": "code",
   "execution_count": 78,
   "metadata": {
    "collapsed": false
   },
   "outputs": [
    {
     "data": {
      "image/png": "[encoded data removed]",
      "text/plain": [
       "<Figure size 864x576 with 1 Axes>"
      ]
     },
     "metadata": {
      "needs_background": "light"
     },
     "output_type": "display_data"
    }
   ],
   "source": [
    "import matplotlib.pyplot as plt\n",
    "fig = plt.figure(figsize=(12,8))\n",
    "\n",
    "learners = len(p_test)\n",
    "M = np.arange(learners)\n",
    "\n",
    "#PRECISION SCORES\n",
    "aux = list(map(list, zip(*p_test))) #transpose\n",
    "plt.bar(M-0.15, aux[0], width=0.3,facecolor='#ff0000', edgecolor='white',label=\"False Positive\")\n",
    "plt.bar(M+0.15, aux[1], width=0.3,facecolor='#1C9900', edgecolor='white',label=\"Confirmed\")\n",
    "\n",
    "#RECALL SCORES\n",
    "aux = list(map(list, zip(*r_test))) #transpose\n",
    "plt.bar(M-0.15, np.array(aux[0])*-1, width=0.3,facecolor='#FF6666', edgecolor='white')\n",
    "plt.bar(M+0.15, np.array(aux[1])*-1, width=0.3,facecolor='#76C166', edgecolor='white')\n",
    "\n",
    "#ANOTATIONS OF SCORES\n",
    "for x, (a,b) in zip(M, p_test):\n",
    "    plt.text(x + 0.02-0.15, a + 0.01, '%.3f' % a, ha='center', va='bottom')#fp\n",
    "    plt.text(x + 0.02+0.15, b + 0.01, '%.3f' % b, ha='center', va='bottom')#conf\n",
    "for x, (a,b) in zip(M, r_test):\n",
    "    plt.text(x + 0.02-0.15, -a - 0.01, '%.3f' % a, ha='center', va='top')#fp\n",
    "    plt.text(x + 0.02+0.15, -b - 0.01, '%.3f' % b, ha='center', va='top')#conf\n",
    "        \n",
    "LABELS=[\"RANDOM FOREST\"]\n",
    "plt.xticks(M, LABELS)\n",
    "plt.title(\"PRECISION & RECALL on TEST\")   \n",
    "plt.xlabel(\"Learners\")  \n",
    "plt.ylabel(\"RECALL - Score - PRECISION\") \n",
    "plt.legend()\n",
    "plt.ylim(-1.2,1.2)\n",
    "plt.show()"
   ]
  },
  {
   "cell_type": "code",
   "execution_count": 66,
   "metadata": {
    "collapsed": false
   },
   "outputs": [
    {
     "data": {
      "image/png": "[encoded data removed]",
      "text/plain": [
       "<matplotlib.figure.Figure at 0x7f530439eb50>"
      ]
     },
     "metadata": {},
     "output_type": "display_data"
    }
   ],
   "source": [
    "fig = plt.figure(figsize=(12,4))\n",
    "\n",
    "learners = len(f1_score_test)\n",
    "M = np.arange(learners)\n",
    "\n",
    "plt.bar(M, f1_score_test, facecolor='#9999ff', edgecolor='white')\n",
    "\n",
    "for x, y in zip(M, f1_score_test):\n",
    "    plt.text(x + 0.02, y + 0.01, '%.3f' % y, ha='center', va='bottom')\n",
    "    \n",
    "LABELS=[\"KNN\",\"LOGISTIC\",\"SVM RBF\",\"RANDOM FOREST\"]\n",
    "plt.xticks(np.arange(learners), LABELS)\n",
    "plt.title(\"F1-SCORE on TEST\")   \n",
    "plt.xlabel(\"Learners\")  \n",
    "plt.ylabel(\"Score\") \n",
    "plt.ylim(0,1)\n",
    "plt.show()"
   ]
  },
  {
   "cell_type": "code",
   "execution_count": null,
   "metadata": {
    "collapsed": true
   },
   "outputs": [],
   "source": []
  }
 ],
 "metadata": {
  "kernelspec": {
   "display_name": "Python 3",
   "language": "python",
   "name": "python3"
  },
  "language_info": {
   "codemirror_mode": {
    "name": "ipython",
    "version": 3
   },
   "file_extension": ".py",
   "mimetype": "text/x-python",
   "name": "python",
   "nbconvert_exporter": "python",
   "pygments_lexer": "ipython3",
   "version": "3.6.0"
  }
 },
 "nbformat": 4,
 "nbformat_minor": 2
}
