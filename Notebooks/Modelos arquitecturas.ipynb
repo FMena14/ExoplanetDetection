{
 "cells": [
  {
   "cell_type": "code",
   "execution_count": 1,
   "metadata": {},
   "outputs": [
    {
     "name": "stdout",
     "output_type": "stream",
     "text": [
      "koi_light_curves_FATS2_metadata_test.csv\r\n",
      "koi_light_curves_FATS2_metadata_train.csv\r\n",
      "koi_light_curves_FATS2_metadata_unlabeled.csv\r\n"
     ]
    }
   ],
   "source": [
    "!ls ../Datos/OwnFats/"
   ]
  },
  {
   "cell_type": "code",
   "execution_count": 138,
   "metadata": {},
   "outputs": [],
   "source": [
    "#metricas de evaluacion\n",
    "from sklearn.metrics import f1_score\n",
    "from sklearn.metrics import precision_score\n",
    "from sklearn.metrics import recall_score\n",
    "from sklearn.metrics import completeness_score\n",
    "from sklearn.metrics import homogeneity_score\n",
    "\n",
    "import seaborn as sns\n",
    "import matplotlib.pyplot as plt\n",
    "import numpy as np\n",
    "import pandas as pd\n",
    "\n",
    "def calculate_metrics(y_true,y_pred):\n",
    "    f1 = f1_score(y_true,y_pred,average=\"macro\")\n",
    "    p = precision_score(y_true,y_pred,average=None,labels=[0,1]) #1 confirmado y 0 false positivo\n",
    "    r = recall_score(y_true,y_pred,average=None,labels=[0,1])\n",
    "    #c = completeness_score(y_true, y_pred)\n",
    "    #h = homogeneity_score(y_true,y_pred)\n",
    "    return f1,p,r #f1score,completness and homogeneite"
   ]
  },
  {
   "cell_type": "code",
   "execution_count": 139,
   "metadata": {},
   "outputs": [
    {
     "data": {
      "text/plain": [
       "(8054, 2)"
      ]
     },
     "execution_count": 139,
     "metadata": {},
     "output_type": "execute_result"
    }
   ],
   "source": [
    "df_sets.shape"
   ]
  },
  {
   "cell_type": "code",
   "execution_count": 164,
   "metadata": {},
   "outputs": [],
   "source": [
    "df_sets = pd.read_csv(\"../Datos/koi_sets.csv\")\n",
    "mask_train = (df_sets[\"Set\"] == \"Train\").values\n",
    "mask_test = (df_sets[\"Set\"] == \"Test\").values\n",
    "#fijo para todos los datos\n",
    "df_meta = pd.read_csv(\"../Datos/kepler_downloaded.txt\",)\n",
    "df_meta.drop(0,axis=0,inplace=True)\n",
    "df_meta.dropna(subset=['DV Summary'],inplace=True)"
   ]
  },
  {
   "cell_type": "code",
   "execution_count": 165,
   "metadata": {},
   "outputs": [
    {
     "data": {
      "text/html": [
       "<div>\n",
       "<style scoped>\n",
       "    .dataframe tbody tr th:only-of-type {\n",
       "        vertical-align: middle;\n",
       "    }\n",
       "\n",
       "    .dataframe tbody tr th {\n",
       "        vertical-align: top;\n",
       "    }\n",
       "\n",
       "    .dataframe thead th {\n",
       "        text-align: right;\n",
       "    }\n",
       "</style>\n",
       "<table border=\"1\" class=\"dataframe\">\n",
       "  <thead>\n",
       "    <tr style=\"text-align: right;\">\n",
       "      <th></th>\n",
       "      <th>Kepler ID</th>\n",
       "      <th>KOI Name</th>\n",
       "      <th>Kepler Name</th>\n",
       "      <th>KOI Number</th>\n",
       "      <th>Kepler Disposition</th>\n",
       "      <th>NExScI Disposition</th>\n",
       "      <th>RA (J2000)</th>\n",
       "      <th>RA Error</th>\n",
       "      <th>Dec (J2000)</th>\n",
       "      <th>Dec Error</th>\n",
       "      <th>...</th>\n",
       "      <th>Offset Flag</th>\n",
       "      <th>Contamination Flag</th>\n",
       "      <th>Insolation Flux</th>\n",
       "      <th>Insolation Flux err1</th>\n",
       "      <th>Insolation Flux err2</th>\n",
       "      <th>Fitted Stellar Density</th>\n",
       "      <th>Fitted Stellar Density err1</th>\n",
       "      <th>Fitted Stellar Density err2</th>\n",
       "      <th>Planetary Fit</th>\n",
       "      <th>Disposition Score</th>\n",
       "    </tr>\n",
       "  </thead>\n",
       "  <tbody>\n",
       "    <tr>\n",
       "      <th>1</th>\n",
       "      <td>757450</td>\n",
       "      <td>K00889.01</td>\n",
       "      <td>Kepler-75 b</td>\n",
       "      <td>889.01</td>\n",
       "      <td>CANDIDATE</td>\n",
       "      <td>CONFIRMED</td>\n",
       "      <td>19 24 33.024</td>\n",
       "      <td>0.000</td>\n",
       "      <td>+36 34 38.57</td>\n",
       "      <td>0.000</td>\n",
       "      <td>...</td>\n",
       "      <td>0</td>\n",
       "      <td>0</td>\n",
       "      <td>83.20999999999999</td>\n",
       "      <td>16.69</td>\n",
       "      <td>-13.87</td>\n",
       "      <td>11.62061</td>\n",
       "      <td>0.20683</td>\n",
       "      <td>-0.40258</td>\n",
       "      <td>LS+MCMC</td>\n",
       "      <td>0.999</td>\n",
       "    </tr>\n",
       "    <tr>\n",
       "      <th>2</th>\n",
       "      <td>892772</td>\n",
       "      <td>K01009.01</td>\n",
       "      <td>NaN</td>\n",
       "      <td>1009.01</td>\n",
       "      <td>FALSE POSITIVE</td>\n",
       "      <td>FALSE POSITIVE</td>\n",
       "      <td>19 24 36.811</td>\n",
       "      <td>0.000</td>\n",
       "      <td>+36 40 43.83</td>\n",
       "      <td>0.000</td>\n",
       "      <td>...</td>\n",
       "      <td>1</td>\n",
       "      <td>0</td>\n",
       "      <td>119.7</td>\n",
       "      <td>48.69</td>\n",
       "      <td>-36.91</td>\n",
       "      <td>0.8851</td>\n",
       "      <td>0.1008</td>\n",
       "      <td>-0.39457</td>\n",
       "      <td>LS+MCMC</td>\n",
       "      <td>0</td>\n",
       "    </tr>\n",
       "    <tr>\n",
       "      <th>3</th>\n",
       "      <td>1025986</td>\n",
       "      <td>K07621.01</td>\n",
       "      <td>NaN</td>\n",
       "      <td>7621.01</td>\n",
       "      <td>FALSE POSITIVE</td>\n",
       "      <td>FALSE POSITIVE</td>\n",
       "      <td>19 24 08.086</td>\n",
       "      <td>0.000</td>\n",
       "      <td>+36 46 15.75</td>\n",
       "      <td>0.000</td>\n",
       "      <td>...</td>\n",
       "      <td>0</td>\n",
       "      <td>0</td>\n",
       "      <td>2</td>\n",
       "      <td>0.92</td>\n",
       "      <td>-0.76</td>\n",
       "      <td>33.55994</td>\n",
       "      <td>16.58298</td>\n",
       "      <td>-31.5318</td>\n",
       "      <td>LS+MCMC</td>\n",
       "      <td>0</td>\n",
       "    </tr>\n",
       "    <tr>\n",
       "      <th>4</th>\n",
       "      <td>1026032</td>\n",
       "      <td>K06252.01</td>\n",
       "      <td>NaN</td>\n",
       "      <td>6252.01</td>\n",
       "      <td>FALSE POSITIVE</td>\n",
       "      <td>FALSE POSITIVE</td>\n",
       "      <td>19 24 10.577</td>\n",
       "      <td>0.000</td>\n",
       "      <td>+36 43 45.38</td>\n",
       "      <td>0.000</td>\n",
       "      <td>...</td>\n",
       "      <td>0</td>\n",
       "      <td>0</td>\n",
       "      <td>98.59999999999999</td>\n",
       "      <td>52.46</td>\n",
       "      <td>-21.18</td>\n",
       "      <td>0.73874</td>\n",
       "      <td>0.00021</td>\n",
       "      <td>-0.00735</td>\n",
       "      <td>LS+MCMC</td>\n",
       "      <td>0</td>\n",
       "    </tr>\n",
       "    <tr>\n",
       "      <th>10</th>\n",
       "      <td>1293031</td>\n",
       "      <td>K04162.01</td>\n",
       "      <td>NaN</td>\n",
       "      <td>4162.01</td>\n",
       "      <td>FALSE POSITIVE</td>\n",
       "      <td>FALSE POSITIVE</td>\n",
       "      <td>19 24 05.033</td>\n",
       "      <td>0.000</td>\n",
       "      <td>+36 54 13.13</td>\n",
       "      <td>0.000</td>\n",
       "      <td>...</td>\n",
       "      <td>0</td>\n",
       "      <td>0</td>\n",
       "      <td>149399.93</td>\n",
       "      <td>35721.31</td>\n",
       "      <td>-106451.43</td>\n",
       "      <td>0.06737</td>\n",
       "      <td>0.00658</td>\n",
       "      <td>-0.00461</td>\n",
       "      <td>LS+MCMC</td>\n",
       "      <td>0</td>\n",
       "    </tr>\n",
       "  </tbody>\n",
       "</table>\n",
       "<p>5 rows × 152 columns</p>\n",
       "</div>"
      ],
      "text/plain": [
       "   Kepler ID   KOI Name  Kepler Name KOI Number Kepler Disposition  \\\n",
       "1     757450  K00889.01  Kepler-75 b     889.01          CANDIDATE   \n",
       "2     892772  K01009.01          NaN    1009.01     FALSE POSITIVE   \n",
       "3    1025986  K07621.01          NaN    7621.01     FALSE POSITIVE   \n",
       "4    1026032  K06252.01          NaN    6252.01     FALSE POSITIVE   \n",
       "10   1293031  K04162.01          NaN    4162.01     FALSE POSITIVE   \n",
       "\n",
       "   NExScI Disposition    RA (J2000) RA Error   Dec (J2000) Dec Error  \\\n",
       "1           CONFIRMED  19 24 33.024    0.000  +36 34 38.57     0.000   \n",
       "2      FALSE POSITIVE  19 24 36.811    0.000  +36 40 43.83     0.000   \n",
       "3      FALSE POSITIVE  19 24 08.086    0.000  +36 46 15.75     0.000   \n",
       "4      FALSE POSITIVE  19 24 10.577    0.000  +36 43 45.38     0.000   \n",
       "10     FALSE POSITIVE  19 24 05.033    0.000  +36 54 13.13     0.000   \n",
       "\n",
       "          ...        Offset Flag Contamination Flag    Insolation Flux  \\\n",
       "1         ...                  0                  0  83.20999999999999   \n",
       "2         ...                  1                  0              119.7   \n",
       "3         ...                  0                  0                  2   \n",
       "4         ...                  0                  0  98.59999999999999   \n",
       "10        ...                  0                  0          149399.93   \n",
       "\n",
       "   Insolation Flux err1 Insolation Flux err2 Fitted Stellar Density  \\\n",
       "1                 16.69               -13.87               11.62061   \n",
       "2                 48.69               -36.91                 0.8851   \n",
       "3                  0.92                -0.76               33.55994   \n",
       "4                 52.46               -21.18                0.73874   \n",
       "10             35721.31           -106451.43                0.06737   \n",
       "\n",
       "   Fitted Stellar Density err1 Fitted Stellar Density err2 Planetary Fit  \\\n",
       "1                      0.20683                    -0.40258       LS+MCMC   \n",
       "2                       0.1008                    -0.39457       LS+MCMC   \n",
       "3                     16.58298                    -31.5318       LS+MCMC   \n",
       "4                      0.00021                    -0.00735       LS+MCMC   \n",
       "10                     0.00658                    -0.00461       LS+MCMC   \n",
       "\n",
       "   Disposition Score  \n",
       "1              0.999  \n",
       "2                  0  \n",
       "3                  0  \n",
       "4                  0  \n",
       "10                 0  \n",
       "\n",
       "[5 rows x 152 columns]"
      ]
     },
     "execution_count": 165,
     "metadata": {},
     "output_type": "execute_result"
    }
   ],
   "source": [
    "y_train = ((df_meta_train[\"NExScI Disposition\"]==\"CONFIRMED\")*1).values\n",
    "y_test = ((df_meta_test[\"NExScI Disposition\"]==\"CONFIRMED\")*1).values\n",
    "df_meta_train.head()"
   ]
  },
  {
   "cell_type": "code",
   "execution_count": 166,
   "metadata": {},
   "outputs": [
    {
     "data": {
      "text/plain": [
       "19"
      ]
     },
     "execution_count": 166,
     "metadata": {},
     "output_type": "execute_result"
    }
   ],
   "source": [
    "strings=[]\n",
    "for columna in df_meta.columns:\n",
    "    try:\n",
    "        float(df_meta[columna].values[0])\n",
    "    except:\n",
    "        strings.append(columna)\n",
    "len(strings)"
   ]
  },
  {
   "cell_type": "code",
   "execution_count": 167,
   "metadata": {},
   "outputs": [
    {
     "data": {
      "text/plain": [
       "(8054, 152)"
      ]
     },
     "execution_count": 167,
     "metadata": {},
     "output_type": "execute_result"
    }
   ],
   "source": [
    "df_meta.shape"
   ]
  },
  {
   "cell_type": "code",
   "execution_count": 168,
   "metadata": {},
   "outputs": [],
   "source": [
    "for columna in df_meta.columns:\n",
    "    if columna in strings:\n",
    "        df_meta.drop([columna],axis=1,inplace=True)"
   ]
  },
  {
   "cell_type": "code",
   "execution_count": 169,
   "metadata": {},
   "outputs": [
    {
     "data": {
      "text/plain": [
       "(8054, 133)"
      ]
     },
     "execution_count": 169,
     "metadata": {},
     "output_type": "execute_result"
    }
   ],
   "source": [
    "df_meta.shape"
   ]
  },
  {
   "cell_type": "code",
   "execution_count": 170,
   "metadata": {},
   "outputs": [],
   "source": [
    "df_meta_train = df_meta[mask_train] \n",
    "df_meta_test = df_meta[mask_test]"
   ]
  },
  {
   "cell_type": "code",
   "execution_count": 171,
   "metadata": {},
   "outputs": [
    {
     "name": "stdout",
     "output_type": "stream",
     "text": [
      "Score si dice todos son falsos positivos: 0.235117\n",
      "Score si dice todos son confirmados: 0.441917\n"
     ]
    },
    {
     "name": "stderr",
     "output_type": "stream",
     "text": [
      "/users/mbugueno/anaconda2/lib/python2.7/site-packages/sklearn/metrics/classification.py:1135: UndefinedMetricWarning: F-score is ill-defined and being set to 0.0 in labels with no predicted samples.\n",
      "  'precision', 'predicted', average, warn_for)\n",
      "/users/mbugueno/anaconda2/lib/python2.7/site-packages/sklearn/metrics/classification.py:1135: UndefinedMetricWarning: F-score is ill-defined and being set to 0.0 in labels with no predicted samples.\n",
      "  'precision', 'predicted', average, warn_for)\n"
     ]
    }
   ],
   "source": [
    "todos_ceros = np.zeros(y_test.shape)\n",
    "todos_uno = np.ones(y_test.shape)\n",
    "\n",
    "print(\"Score si dice todos son falsos positivos: %f\"%f1_score(y_test,todos_ceros,average=\"weighted\"))\n",
    "print(\"Score si dice todos son confirmados: %f\"%f1_score(y_test,todos_uno,average=\"weighted\"))"
   ]
  },
  {
   "cell_type": "code",
   "execution_count": 161,
   "metadata": {},
   "outputs": [
    {
     "data": {
      "text/plain": [
       "Text(0,0.5,'Count')"
      ]
     },
     "execution_count": 161,
     "metadata": {},
     "output_type": "execute_result"
    },
    {
     "data": {
      "image/png": "[encoded data removed]",
      "text/plain": [
       "<Figure size 720x432 with 1 Axes>"
      ]
     },
     "metadata": {
      "needs_background": "light"
     },
     "output_type": "display_data"
    }
   ],
   "source": [
    "%matplotlib inline\n",
    "plt.figure(figsize=(10,6))\n",
    "plt.title(\"TRAIN \")\n",
    "plt.bar(0, np.sum(y_train==1),color=\"blue\")\n",
    "plt.bar(1, np.sum(y_train==0),color=\"green\")\n",
    "plt.xticks([0,1],[\"CONFIRMED\",\"FALSE POSITIVE\"])\n",
    "plt.ylabel(\"Count\")\n",
    "#sns.countplot(y_train[mask])"
   ]
  },
  {
   "cell_type": "code",
   "execution_count": 162,
   "metadata": {},
   "outputs": [
    {
     "data": {
      "text/plain": [
       "Text(0,0.5,'Count')"
      ]
     },
     "execution_count": 162,
     "metadata": {},
     "output_type": "execute_result"
    },
    {
     "data": {
      "image/png": "[encoded data removed]",
      "text/plain": [
       "<Figure size 720x432 with 1 Axes>"
      ]
     },
     "metadata": {
      "needs_background": "light"
     },
     "output_type": "display_data"
    }
   ],
   "source": [
    "plt.figure(figsize=(10,6))\n",
    "plt.title(\"TEST \")\n",
    "plt.bar(0, np.sum(y_test==1),color=\"blue\")\n",
    "plt.bar(1, np.sum(y_test==0),color=\"green\")\n",
    "plt.xticks([0,1],[\"CONFIRMED\",\"FALSE POSITIVE\"])\n",
    "plt.ylabel(\"Count\")"
   ]
  },
  {
   "cell_type": "markdown",
   "metadata": {},
   "source": [
    "## VARIAR REPRESENTACION ACA:"
   ]
  },
  {
   "cell_type": "code",
   "execution_count": 176,
   "metadata": {},
   "outputs": [
    {
     "name": "stdout",
     "output_type": "stream",
     "text": [
      "(4693, 133)\n"
     ]
    },
    {
     "name": "stderr",
     "output_type": "stream",
     "text": [
      "/users/mbugueno/anaconda2/lib/python2.7/site-packages/pandas/core/frame.py:3790: SettingWithCopyWarning: \n",
      "A value is trying to be set on a copy of a slice from a DataFrame\n",
      "\n",
      "See the caveats in the documentation: http://pandas.pydata.org/pandas-docs/stable/indexing.html#indexing-view-versus-copy\n",
      "  downcast=downcast, **kwargs)\n"
     ]
    }
   ],
   "source": [
    "#para distintas representaciones...\n",
    "df_fats_train = pd.read_csv('../Datos/OwnFats/koi_light_curves_FATS2_metadata_train.csv')\n",
    "df_fats_test = pd.read_csv('../Datos/OwnFats/koi_light_curves_FATS2_metadata_test.csv')\n",
    "#df_algo_test = pd.read_csv('OwnFats/koi_light_curves_FATS2_metadatastellar_test.csv',header=None,names=columns_fats2)\n",
    "\n",
    "#para koi con valores nulos (Son falsos positivos asi que no afecta)\n",
    "#para fats2 -brither oppace ratio\n",
    "df_fats_train.fillna(df_fats_train.median(), inplace=True)\n",
    "df_fats_test.fillna(df_fats_test.median(), inplace=True)\n",
    "\n",
    "df_meta_train.fillna(df_meta_train.median(), inplace=True)\n",
    "df_meta_test.fillna(df_meta_test.median(), inplace=True)\n",
    "df_meta_train.fillna(0, inplace=True)\n",
    "df_meta_test.fillna(0, inplace=True)\n",
    "\n",
    "#X_train = df_fats_train.values[:,:-1]\n",
    "#X_test = df_fats_test.values[:,:-1]\n",
    "X_train = df_meta_train.values\n",
    "X_test = df_meta_test.values\n",
    "\n",
    "print(X_train.shape)"
   ]
  },
  {
   "cell_type": "code",
   "execution_count": 24,
   "metadata": {},
   "outputs": [],
   "source": [
    "#from skrebate import ReliefF"
   ]
  },
  {
   "cell_type": "markdown",
   "metadata": {},
   "source": [
    "## SUBSAMPLE (CLASE MAYORITARIA - FALSE POSITIVE)"
   ]
  },
  {
   "cell_type": "code",
   "execution_count": 177,
   "metadata": {},
   "outputs": [
    {
     "name": "stderr",
     "output_type": "stream",
     "text": [
      "/users/mbugueno/anaconda2/lib/python2.7/site-packages/sklearn/utils/validation.py:475: DataConversionWarning: Data with input dtype object was converted to float64 by StandardScaler.\n",
      "  warnings.warn(msg, DataConversionWarning)\n"
     ]
    }
   ],
   "source": [
    "from sklearn.preprocessing import StandardScaler\n",
    "std = StandardScaler()\n",
    "\n",
    "Xstd_train = std.fit_transform(X_train.astype('float'))\n",
    "\n",
    "Xstd_test = std.transform(X_test)"
   ]
  },
  {
   "cell_type": "markdown",
   "metadata": {},
   "source": [
    "### Empieza ejecución útil: "
   ]
  },
  {
   "cell_type": "code",
   "execution_count": 72,
   "metadata": {},
   "outputs": [],
   "source": [
    "#para guardar scores y graficar\n",
    "f1_score_test = []\n",
    "p_test = []\n",
    "r_test = []"
   ]
  },
  {
   "cell_type": "markdown",
   "metadata": {},
   "source": [
    "## SVM Lineal"
   ]
  },
  {
   "cell_type": "code",
   "execution_count": null,
   "metadata": {},
   "outputs": [],
   "source": [
    "from sklearn.svm import SVC\n",
    "\n",
    "Cs = [0.01,0.1,1,10,100]\n",
    "\n",
    "def find_best_c(X_train,y_train,X_val,y_val):\n",
    "    best = 0\n",
    "    best_c = 0\n",
    "    \n",
    "    for c in Cs:\n",
    "        model = SVC(kernel= 'linear',C=c)\n",
    "        model.fit(X_train,y_train)\n",
    "\n",
    "        ypred_val = model.predict(X_val)\n",
    "        f1,p,r = calculate_metrics(y_val,ypred_val)\n",
    "\n",
    "        if f1 > best:\n",
    "            best = f1\n",
    "            best_c = c\n",
    "    print(\"Mejor c en SVM lineal es %f con f1-score de %f\"%(best_c,best))\n",
    "    return best_c\n",
    "\n",
    "#leer archivos, iterar y \n",
    "best_c = find_best_c(Xstd_train,y_train,Xstd_val,y_val)"
   ]
  },
  {
   "cell_type": "markdown",
   "metadata": {},
   "source": [
    "## SVM No Lineal"
   ]
  },
  {
   "cell_type": "code",
   "execution_count": 57,
   "metadata": {},
   "outputs": [
    {
     "name": "stdout",
     "output_type": "stream",
     "text": [
      "Mejor c en SVM no lineal es 1000.000000 con f1-score de 0.864072\n"
     ]
    }
   ],
   "source": [
    "from sklearn.svm import SVC\n",
    "\n",
    "Cs = [0.001,0.01,0.1,1,10,100,1000]\n",
    "\n",
    "def find_best_c(X_train,y_train,X_val,y_val):\n",
    "    best = 0\n",
    "    best_c = 0\n",
    "    \n",
    "    for c in Cs:\n",
    "        model = SVC(kernel= 'rbf',C=c,gamma='auto',class_weight = 'balanced')\n",
    "        model.fit(X_train,y_train)\n",
    "\n",
    "        ypred_val = model.predict(X_val)\n",
    "        f1,p,r = calculate_metrics(y_val,ypred_val)\n",
    "\n",
    "        if f1 > best:\n",
    "            best = f1\n",
    "            best_c = c\n",
    "    print(\"Mejor c en SVM no lineal es %f con f1-score de %f\"%(best_c,best))\n",
    "    return best_c\n",
    "\n",
    "#leer archivos, iterar y \n",
    "best_c = find_best_c(Xstd_train,y_train,Xstd_val,y_val) #not sampled\n",
    "#best_c = find_best_c(Xstd_train,ysample_train,Xstd_val,y_val) #sampled"
   ]
  },
  {
   "cell_type": "code",
   "execution_count": 58,
   "metadata": {
    "collapsed": true
   },
   "outputs": [],
   "source": [
    "model = SVC(kernel='rbf',C=best_c,class_weight = 'balanced')\n",
    "model.fit(Xstd_train,y_train) #not sampled\n",
    "#model.fit(Xstd_train,ysample_train) #sampled\n",
    "\n",
    "ypred_test = model.predict(Xstd_test)\n",
    "f1,p,r = calculate_metrics(y_test,ypred_test)\n",
    "\n",
    "f1_score_test.append(f1)\n",
    "p_test.append(p)\n",
    "r_test.append(r)"
   ]
  },
  {
   "cell_type": "markdown",
   "metadata": {},
   "source": [
    "## Random Forest"
   ]
  },
  {
   "cell_type": "markdown",
   "metadata": {},
   "source": [
    "### código hijos de maray"
   ]
  },
  {
   "cell_type": "code",
   "execution_count": null,
   "metadata": {
    "scrolled": true
   },
   "outputs": [],
   "source": [
    "from sklearn.model_selection import train_test_split, GridSearchCV, StratifiedKFold, cross_validate\n",
    "from sklearn.metrics import roc_curve, precision_recall_curve, auc, make_scorer, f1_score, recall_score, accuracy_score, precision_score, confusion_matrix\n",
    "from sklearn.ensemble import RandomForestClassifier\n",
    "\n",
    "\n",
    "clf = RandomForestClassifier(n_jobs=-1, random_state=0)#, class_weight = 'balanced')\n",
    "\n",
    "# This takes a while to run with more values,\n",
    "# I found these as the best parameteres.\n",
    "param_grid = {\n",
    "    'n_estimators' : [5,7,10,12,13,15,17,20,30],\n",
    "    'max_depth': np.arange(1,21)\n",
    "}\n",
    "\n",
    "scorers = {\n",
    "    'precision_score': make_scorer(precision_score),\n",
    "    'recall_score': make_scorer(recall_score),\n",
    "    'accuracy_score': make_scorer(accuracy_score),\n",
    "    'f1_score':make_scorer(f1_score,average='macro')\n",
    "}\n",
    "\n",
    "skf = StratifiedKFold(n_splits=5)\n",
    "grid_search = GridSearchCV(clf, param_grid, scoring=scorers, refit='f1_score',\n",
    "                       cv=skf, return_train_score=True, n_jobs=-1)\n",
    "grid_search.fit(X_train, y_train)\n",
    "\n",
    "# make the predictions\n",
    "#y_pred = grid_search.predict(X_test)\n",
    "\n",
    "print('Best params for completeness:', grid_search.best_params_)\n",
    "results = pd.DataFrame(grid_search.cv_results_)\n",
    "bestResults = results[results.params == grid_search.best_params_]\n",
    "completeness = float(bestResults['mean_test_recall_score'])\n",
    "print('Completion: {:.4f}'.format(completeness))\n",
    "preci = float(bestResults['mean_test_precision_score'])\n",
    "print('Contamination: {:.4f}'.format(preci))\n",
    "f1 = float(bestResults['mean_test_f1_score'])\n",
    "print('F1-score: {:.4f}'.format(f1))\n",
    "# confusion matrix on the test data.\n",
    "#confusion = pd.DataFrame(confusion_matrix(y_test, y_pred),\n",
    "#             columns=['pred_neg', 'pred_pos'], index=['neg', 'pos'])"
   ]
  },
  {
   "cell_type": "code",
   "execution_count": 73,
   "metadata": {},
   "outputs": [],
   "source": [
    "f1_ad = []\n",
    "p_ad = []\n",
    "r_ad = []\n",
    "for i in range(20):\n",
    "    model = RandomForestClassifier(n_estimators=20,max_depth=14,n_jobs=-1)\n",
    "    model.fit(X_train,y_train) \n",
    " \n",
    "    ypred_test = model.predict(X_test)\n",
    "    f1,p,r = calculate_metrics(y_test,ypred_test)\n",
    "    f1_ad.append(f1)\n",
    "    p_ad.append(p)\n",
    "    r_ad.append(r)\n",
    "f1_score_test.append(np.mean(f1_ad,axis=0))# por columna\n",
    "p_test.append(np.mean(p_ad,axis=0)) #por columna\n",
    "r_test.append(np.mean(r_ad,axis=0)) #por columna"
   ]
  },
  {
   "cell_type": "code",
   "execution_count": 74,
   "metadata": {},
   "outputs": [
    {
     "data": {
      "text/plain": [
       "[0.8573553175160175]"
      ]
     },
     "execution_count": 74,
     "metadata": {},
     "output_type": "execute_result"
    }
   ],
   "source": [
    "f1_score_test"
   ]
  },
  {
   "cell_type": "code",
   "execution_count": 75,
   "metadata": {},
   "outputs": [
    {
     "data": {
      "text/plain": [
       "[array([0.8509442 , 0.87172198])]"
      ]
     },
     "execution_count": 75,
     "metadata": {},
     "output_type": "execute_result"
    }
   ],
   "source": [
    "p_test"
   ]
  },
  {
   "cell_type": "code",
   "execution_count": 76,
   "metadata": {},
   "outputs": [
    {
     "data": {
      "text/plain": [
       "[array([0.80589623, 0.90307112])]"
      ]
     },
     "execution_count": 76,
     "metadata": {},
     "output_type": "execute_result"
    }
   ],
   "source": [
    "r_test"
   ]
  },
  {
   "cell_type": "code",
   "execution_count": 57,
   "metadata": {},
   "outputs": [
    {
     "data": {
      "text/plain": [
       "43"
      ]
     },
     "execution_count": 57,
     "metadata": {},
     "output_type": "execute_result"
    }
   ],
   "source": [
    "len(model.feature_importances_)"
   ]
  },
  {
   "cell_type": "code",
   "execution_count": 60,
   "metadata": {},
   "outputs": [
    {
     "data": {
      "text/plain": [
       "Index([u'Minimum', u'Maximum', u'Mean', u'Std', u'IQR', u'Skew', u'Kurtosis',\n",
       "       u'Q1', u'Q2', u'Slope', u'Amplitude', u'MAD',\n",
       "       u'Residual Bright Faint Ratio', u'Median', u'Period',\n",
       "       u'Time of Transit Epoch', u'First Transit Time (BJD)',\n",
       "       u'Impact Parameter', u'Duration', u'Transit Depth', u'r/R',\n",
       "       u'Fitted Stellar Density', u'Planet Radius', u'Semi-major Axis',\n",
       "       u'Inclination', u'Teq', u'Insolation Flux', u'a/R',\n",
       "       u'Limb Darkening Coeff1', u'Limb Darkening Coeff2',\n",
       "       u'Limb Darkening Coeff3', u'Limb Darkening Coeff4', u'Teff', u'log(g)',\n",
       "       u'Metallicity', u'Stellar Radius', u'Stellar Mass',\n",
       "       u'Max single event sigma', u'Max Multievent sigma',\n",
       "       u'Transit Model SNR', u'KOI count', u'Transit Number',\n",
       "       u'TCE Planet Number'],\n",
       "      dtype='object')"
      ]
     },
     "execution_count": 60,
     "metadata": {},
     "output_type": "execute_result"
    }
   ],
   "source": [
    "df_fats_train.columns[:-1]"
   ]
  },
  {
   "cell_type": "code",
   "execution_count": 77,
   "metadata": {},
   "outputs": [
    {
     "data": {
      "image/png": "[encoded data removed]",
      "text/plain": [
       "<Figure size 432x720 with 1 Axes>"
      ]
     },
     "metadata": {
      "needs_background": "light"
     },
     "output_type": "display_data"
    }
   ],
   "source": [
    "#columns = [\"minimo\",\"maximo\",\"media\",\"std\",\"iqr\",\"skw\",\"kurt\",\"q1\",\"q2\",\"slope\",\"period\",\"transitdepth\",\n",
    "#          \"teq\",\"koi count\",'Planet Radius']\n",
    "columns_fats2=df_fats_train.columns[:-1]\n",
    "\"\"\"columns_fats2 = [\"minimum\",\"maximum\",\"mean\",\"std\",\"iqr\",\"skewness\",\"kurtosis\",\"q1\",\"q2\",\"slope\",\n",
    "                  \"amplitute\",\"median absolute deviation\",\"residual bright faint ratio\",\"median\", #new ones\n",
    "                 \"period\",\"transit depth\",\"teq\",\"koi count\",'Planet Radius',#] #planet\n",
    "                \"Teff\",\"log(g)\",\"Metallicity\",\"Stellar Radius\",\"Stellar Mass\"] #stellar\n",
    "\"\"\"\n",
    "plt.figure(figsize=(6,10))\n",
    "plt.barh(range(len(columns_fats2)), model.feature_importances_)\n",
    "plt.yticks(range(len(columns_fats2)),columns_fats2)#, rotation= 30)\n",
    "plt.title('Feature Importance')\n",
    "plt.show()"
   ]
  },
  {
   "cell_type": "markdown",
   "metadata": {},
   "source": [
    "### Red Neuronal (como clasificador binario)"
   ]
  },
  {
   "cell_type": "code",
   "execution_count": 16,
   "metadata": {
    "scrolled": true
   },
   "outputs": [
    {
     "name": "stdout",
     "output_type": "stream",
     "text": [
      "Train on 3142 samples, validate on 1074 samples\n",
      "Epoch 1/100\n",
      "2s - loss: 0.6686 - acc: 0.5605 - val_loss: 0.6167 - val_acc: 0.5847\n",
      "Epoch 2/100\n",
      "2s - loss: 0.6368 - acc: 0.5926 - val_loss: 0.6111 - val_acc: 0.5764\n",
      "Epoch 3/100\n",
      "2s - loss: 0.6308 - acc: 0.6063 - val_loss: 0.6493 - val_acc: 0.5829\n",
      "Epoch 4/100\n",
      "2s - loss: 0.6223 - acc: 0.5987 - val_loss: 0.6112 - val_acc: 0.5931\n",
      "Epoch 5/100\n",
      "2s - loss: 0.6169 - acc: 0.6130 - val_loss: 0.6117 - val_acc: 0.6043\n",
      "Epoch 6/100\n",
      "2s - loss: 0.6084 - acc: 0.6244 - val_loss: 0.5924 - val_acc: 0.6071\n",
      "Epoch 7/100\n",
      "2s - loss: 0.6102 - acc: 0.6152 - val_loss: 0.6320 - val_acc: 0.5940\n",
      "Epoch 8/100\n",
      "2s - loss: 0.6035 - acc: 0.6248 - val_loss: 0.5961 - val_acc: 0.5996\n",
      "Epoch 9/100\n",
      "2s - loss: 0.6073 - acc: 0.6238 - val_loss: 0.5895 - val_acc: 0.5950\n",
      "Epoch 10/100\n",
      "2s - loss: 0.6085 - acc: 0.6143 - val_loss: 0.5829 - val_acc: 0.5978\n",
      "Epoch 11/100\n",
      "2s - loss: 0.6018 - acc: 0.6194 - val_loss: 0.6163 - val_acc: 0.5866\n",
      "Epoch 12/100\n",
      "2s - loss: 0.6008 - acc: 0.6222 - val_loss: 0.6255 - val_acc: 0.5885\n",
      "Epoch 13/100\n",
      "2s - loss: 0.6017 - acc: 0.6209 - val_loss: 0.7035 - val_acc: 0.5680\n",
      "Epoch 14/100\n",
      "2s - loss: 0.5986 - acc: 0.6194 - val_loss: 0.5796 - val_acc: 0.6024\n",
      "Epoch 15/100\n",
      "2s - loss: 0.5967 - acc: 0.6286 - val_loss: 0.6118 - val_acc: 0.5885\n",
      "Epoch 16/100\n",
      "2s - loss: 0.5980 - acc: 0.6203 - val_loss: 0.5754 - val_acc: 0.6145\n",
      "Epoch 17/100\n",
      "2s - loss: 0.5958 - acc: 0.6248 - val_loss: 0.5734 - val_acc: 0.6387\n",
      "Epoch 18/100\n",
      "2s - loss: 0.5972 - acc: 0.6267 - val_loss: 0.5781 - val_acc: 0.6359\n",
      "Epoch 19/100\n",
      "2s - loss: 0.5979 - acc: 0.6232 - val_loss: 0.6077 - val_acc: 0.6322\n",
      "Epoch 20/100\n",
      "2s - loss: 0.5959 - acc: 0.6139 - val_loss: 0.5937 - val_acc: 0.5931\n",
      "Epoch 21/100\n",
      "2s - loss: 0.5981 - acc: 0.6203 - val_loss: 0.5845 - val_acc: 0.6034\n",
      "Epoch 22/100\n",
      "2s - loss: 0.5938 - acc: 0.6302 - val_loss: 0.5837 - val_acc: 0.5940\n",
      "Epoch 23/100\n",
      "2s - loss: 0.5951 - acc: 0.6235 - val_loss: 0.5725 - val_acc: 0.6341\n",
      "Epoch 24/100\n",
      "2s - loss: 0.5935 - acc: 0.6209 - val_loss: 0.6514 - val_acc: 0.5866\n",
      "Epoch 25/100\n",
      "2s - loss: 0.5939 - acc: 0.6229 - val_loss: 0.5690 - val_acc: 0.6359\n",
      "Epoch 26/100\n",
      "2s - loss: 0.5877 - acc: 0.6302 - val_loss: 0.5690 - val_acc: 0.6555\n",
      "Epoch 27/100\n",
      "2s - loss: 0.5887 - acc: 0.6381 - val_loss: 0.5822 - val_acc: 0.6080\n",
      "Epoch 28/100\n",
      "2s - loss: 0.5897 - acc: 0.6381 - val_loss: 0.5955 - val_acc: 0.5968\n",
      "Epoch 29/100\n",
      "2s - loss: 0.5870 - acc: 0.6337 - val_loss: 0.6042 - val_acc: 0.5922\n",
      "Epoch 30/100\n",
      "2s - loss: 0.5868 - acc: 0.6388 - val_loss: 0.6008 - val_acc: 0.5950\n",
      "Epoch 31/100\n",
      "2s - loss: 0.5842 - acc: 0.6384 - val_loss: 0.5899 - val_acc: 0.6359\n",
      "Epoch 32/100\n",
      "2s - loss: 0.5858 - acc: 0.6400 - val_loss: 0.5695 - val_acc: 0.6406\n",
      "Epoch 33/100\n",
      "2s - loss: 0.5845 - acc: 0.6356 - val_loss: 0.5737 - val_acc: 0.6676\n",
      "Epoch 34/100\n",
      "2s - loss: 0.5838 - acc: 0.6388 - val_loss: 0.5797 - val_acc: 0.6415\n",
      "Epoch 35/100\n",
      "2s - loss: 0.5835 - acc: 0.6400 - val_loss: 0.5738 - val_acc: 0.6406\n",
      "Epoch 36/100\n",
      "2s - loss: 0.5864 - acc: 0.6400 - val_loss: 0.5609 - val_acc: 0.6778\n",
      "Epoch 37/100\n",
      "2s - loss: 0.5834 - acc: 0.6461 - val_loss: 0.6079 - val_acc: 0.5996\n",
      "Epoch 38/100\n",
      "3s - loss: 0.5812 - acc: 0.6413 - val_loss: 0.6028 - val_acc: 0.6015\n",
      "Epoch 39/100\n",
      "2s - loss: 0.5780 - acc: 0.6489 - val_loss: 0.5798 - val_acc: 0.6220\n",
      "Epoch 40/100\n",
      "2s - loss: 0.5787 - acc: 0.6645 - val_loss: 0.6717 - val_acc: 0.5838\n",
      "Epoch 41/100\n",
      "2s - loss: 0.5784 - acc: 0.6496 - val_loss: 0.6505 - val_acc: 0.5959\n",
      "Epoch 42/100\n",
      "2s - loss: 0.5753 - acc: 0.6525 - val_loss: 0.5686 - val_acc: 0.6695\n",
      "Epoch 43/100\n",
      "2s - loss: 0.5805 - acc: 0.6448 - val_loss: 0.6849 - val_acc: 0.5940\n",
      "Epoch 44/100\n",
      "2s - loss: 0.5740 - acc: 0.6598 - val_loss: 0.5684 - val_acc: 0.6406\n",
      "Epoch 45/100\n",
      "3s - loss: 0.5752 - acc: 0.6534 - val_loss: 0.6400 - val_acc: 0.6341\n",
      "Epoch 46/100\n",
      "2s - loss: 0.5751 - acc: 0.6518 - val_loss: 0.5710 - val_acc: 0.6508\n",
      "Epoch 47/100\n",
      "2s - loss: 0.5688 - acc: 0.6601 - val_loss: 0.6132 - val_acc: 0.6061\n",
      "Epoch 48/100\n",
      "2s - loss: 0.5710 - acc: 0.6496 - val_loss: 0.5765 - val_acc: 0.6713\n",
      "Epoch 49/100\n",
      "2s - loss: 0.5682 - acc: 0.6547 - val_loss: 0.5742 - val_acc: 0.6527\n",
      "Epoch 50/100\n",
      "2s - loss: 0.5686 - acc: 0.6604 - val_loss: 0.6501 - val_acc: 0.5931\n",
      "Epoch 51/100\n",
      "2s - loss: 0.5735 - acc: 0.6531 - val_loss: 0.5788 - val_acc: 0.6480\n",
      "Epoch 52/100\n",
      "2s - loss: 0.5675 - acc: 0.6639 - val_loss: 0.5752 - val_acc: 0.6546\n",
      "Epoch 53/100\n",
      "2s - loss: 0.5678 - acc: 0.6566 - val_loss: 0.6488 - val_acc: 0.5903\n",
      "Epoch 54/100\n",
      "2s - loss: 0.5666 - acc: 0.6591 - val_loss: 0.5882 - val_acc: 0.6304\n",
      "Epoch 55/100\n",
      "2s - loss: 0.5687 - acc: 0.6617 - val_loss: 0.6185 - val_acc: 0.6043\n",
      "Epoch 56/100\n",
      "2s - loss: 0.5663 - acc: 0.6569 - val_loss: 0.6140 - val_acc: 0.6155\n",
      "Epoch 57/100\n",
      "2s - loss: 0.5668 - acc: 0.6636 - val_loss: 0.6097 - val_acc: 0.6173\n"
     ]
    }
   ],
   "source": [
    "import keras\n",
    "from keras.models import Sequential\n",
    "from keras.layers import Dense,Dropout\n",
    "import tensorflow as tf\n",
    "\n",
    "earlyStopping = keras.callbacks.EarlyStopping(monitor='val_loss',\n",
    "                              min_delta=0,\n",
    "                              patience=20,\n",
    "                              verbose=0, mode='auto')\n",
    "\n",
    "with tf.device('/cpu:0'):\n",
    "    model = Sequential()\n",
    "    model.add(Dense(1024, input_dim=Xstd_train.shape[1], activation='tanh'))\n",
    "    model.add(Dropout(0.2))\n",
    "    model.add(Dense(512, activation='tanh'))\n",
    "    model.add(Dropout(0.2))\n",
    "    #model.add(Dense(256, activation='tanh'))\n",
    "    #model.add(Dropout(0.2))\n",
    "    model.add(Dense(1,activation='sigmoid'))\n",
    "\n",
    "    model.compile('rmsprop', loss='binary_crossentropy', metrics=['accuracy'])\n",
    "\n",
    "    model.fit(Xstd_train, ysample_train, epochs=100, batch_size=16, verbose=2,\n",
    "              validation_data=(Xstd_val,y_val),callbacks=[earlyStopping])"
   ]
  },
  {
   "cell_type": "code",
   "execution_count": 17,
   "metadata": {},
   "outputs": [
    {
     "name": "stdout",
     "output_type": "stream",
     "text": [
      " 576/1139 [==============>...............] - ETA: 0s\n",
      "('F1 sobre validation: ', 0.58618401830923994)\n"
     ]
    }
   ],
   "source": [
    "ypred_val = model.predict_classes(Xstd_test)\n",
    "f1,p,r = calculate_metrics(y_test,ypred_val)\n",
    "print(\"\")\n",
    "print(\"F1 sobre validation: \",f1)"
   ]
  },
  {
   "cell_type": "code",
   "execution_count": 18,
   "metadata": {},
   "outputs": [
    {
     "name": "stdout",
     "output_type": "stream",
     "text": [
      "(array([ 0.88855422,  0.47707559]), array([ 0.41143654,  0.91232227]))\n"
     ]
    }
   ],
   "source": [
    "print(p,r)"
   ]
  },
  {
   "cell_type": "markdown",
   "metadata": {},
   "source": [
    "# Gráficos"
   ]
  },
  {
   "cell_type": "code",
   "execution_count": 78,
   "metadata": {},
   "outputs": [
    {
     "data": {
      "image/png": "[encoded data removed]",
      "text/plain": [
       "<Figure size 864x576 with 1 Axes>"
      ]
     },
     "metadata": {
      "needs_background": "light"
     },
     "output_type": "display_data"
    }
   ],
   "source": [
    "import matplotlib.pyplot as plt\n",
    "fig = plt.figure(figsize=(12,8))\n",
    "\n",
    "learners = len(p_test)\n",
    "M = np.arange(learners)\n",
    "\n",
    "#PRECISION SCORES\n",
    "aux = list(map(list, zip(*p_test))) #transpose\n",
    "plt.bar(M-0.15, aux[0], width=0.3,facecolor='#ff0000', edgecolor='white',label=\"False Positive\")\n",
    "plt.bar(M+0.15, aux[1], width=0.3,facecolor='#1C9900', edgecolor='white',label=\"Confirmed\")\n",
    "\n",
    "#RECALL SCORES\n",
    "aux = list(map(list, zip(*r_test))) #transpose\n",
    "plt.bar(M-0.15, np.array(aux[0])*-1, width=0.3,facecolor='#FF6666', edgecolor='white')\n",
    "plt.bar(M+0.15, np.array(aux[1])*-1, width=0.3,facecolor='#76C166', edgecolor='white')\n",
    "\n",
    "#ANOTATIONS OF SCORES\n",
    "for x, (a,b) in zip(M, p_test):\n",
    "    plt.text(x + 0.02-0.15, a + 0.01, '%.3f' % a, ha='center', va='bottom')#fp\n",
    "    plt.text(x + 0.02+0.15, b + 0.01, '%.3f' % b, ha='center', va='bottom')#conf\n",
    "for x, (a,b) in zip(M, r_test):\n",
    "    plt.text(x + 0.02-0.15, -a - 0.01, '%.3f' % a, ha='center', va='top')#fp\n",
    "    plt.text(x + 0.02+0.15, -b - 0.01, '%.3f' % b, ha='center', va='top')#conf\n",
    "        \n",
    "LABELS=[\"RANDOM FOREST\"]\n",
    "plt.xticks(M, LABELS)\n",
    "plt.title(\"PRECISION & RECALL on TEST\")   \n",
    "plt.xlabel(\"Learners\")  \n",
    "plt.ylabel(\"RECALL - Score - PRECISION\") \n",
    "plt.legend()\n",
    "plt.ylim(-1.2,1.2)\n",
    "plt.show()"
   ]
  },
  {
   "cell_type": "code",
   "execution_count": 66,
   "metadata": {},
   "outputs": [
    {
     "data": {
      "image/png": "[encoded data removed]",
      "text/plain": [
       "<matplotlib.figure.Figure at 0x7f530439eb50>"
      ]
     },
     "metadata": {},
     "output_type": "display_data"
    }
   ],
   "source": [
    "fig = plt.figure(figsize=(12,4))\n",
    "\n",
    "learners = len(f1_score_test)\n",
    "M = np.arange(learners)\n",
    "\n",
    "plt.bar(M, f1_score_test, facecolor='#9999ff', edgecolor='white')\n",
    "\n",
    "for x, y in zip(M, f1_score_test):\n",
    "    plt.text(x + 0.02, y + 0.01, '%.3f' % y, ha='center', va='bottom')\n",
    "    \n",
    "LABELS=[\"KNN\",\"LOGISTIC\",\"SVM RBF\",\"RANDOM FOREST\"]\n",
    "plt.xticks(np.arange(learners), LABELS)\n",
    "plt.title(\"F1-SCORE on TEST\")   \n",
    "plt.xlabel(\"Learners\")  \n",
    "plt.ylabel(\"Score\") \n",
    "plt.ylim(0,1)\n",
    "plt.show()"
   ]
  },
  {
   "cell_type": "code",
   "execution_count": null,
   "metadata": {
    "collapsed": true
   },
   "outputs": [],
   "source": []
  }
 ],
 "metadata": {
  "kernelspec": {
   "display_name": "Python 2",
   "language": "python",
   "name": "python2"
  },
  "language_info": {
   "codemirror_mode": {
    "name": "ipython",
    "version": 2
   },
   "file_extension": ".py",
   "mimetype": "text/x-python",
   "name": "python",
   "nbconvert_exporter": "python",
   "pygments_lexer": "ipython2",
   "version": "2.7.15"
  }
 },
 "nbformat": 4,
 "nbformat_minor": 2
}
