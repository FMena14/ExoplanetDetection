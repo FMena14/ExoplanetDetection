{
 "cells": [
  {
   "cell_type": "code",
   "execution_count": 1,
   "metadata": {
    "collapsed": false
   },
   "outputs": [
    {
     "name": "stdout",
     "output_type": "stream",
     "text": [
      "koi_light_curves_FATS2_metadata_test.csv\r\n",
      "koi_light_curves_FATS2_metadata_train.csv\r\n",
      "koi_light_curves_FATS2_metadata_unlabeled.csv\r\n"
     ]
    }
   ],
   "source": [
    "!ls ../Datos/OwnFats/"
   ]
  },
  {
   "cell_type": "code",
   "execution_count": 1,
   "metadata": {
    "collapsed": false
   },
   "outputs": [
    {
     "name": "stdout",
     "output_type": "stream",
     "text": [
      "The history saving thread hit an unexpected error (OperationalError('attempt to write a readonly database',)).History will not be written to the database.\n"
     ]
    }
   ],
   "source": [
    "#metricas de evaluacion\n",
    "from sklearn.metrics import f1_score\n",
    "from sklearn.metrics import precision_score\n",
    "from sklearn.metrics import recall_score\n",
    "from sklearn.metrics import completeness_score\n",
    "from sklearn.metrics import homogeneity_score\n",
    "\n",
    "import seaborn as sns\n",
    "import matplotlib.pyplot as plt\n",
    "import numpy as np\n",
    "import pandas as pd\n",
    "\n",
    "def calculate_metrics(y_true,y_pred):\n",
    "    f1 = f1_score(y_true,y_pred,average=\"weighted\")\n",
    "    p = precision_score(y_true,y_pred,average=None,labels=[0,1]) #1 confirmado y 0 false positivo\n",
    "    r = recall_score(y_true,y_pred,average=None,labels=[0,1])\n",
    "    return f1,p,r"
   ]
  },
  {
   "cell_type": "code",
   "execution_count": 2,
   "metadata": {
    "collapsed": true
   },
   "outputs": [],
   "source": [
    "df_sets = pd.read_csv(\"../Datos/koi_sets_unb.csv\") #new test set\n",
    "mask_train = (df_sets[\"Set\"] == \"Train\").values\n",
    "mask_test = (df_sets[\"Set\"] == \"Test\").values\n",
    "#fijo para todos los datos\n",
    "df_labels = pd.read_csv(\"../Datos/koi_metadata.csv\")\n",
    "df_labels_train = df_labels[mask_train]\n",
    "df_labels_test = df_labels[mask_test]"
   ]
  },
  {
   "cell_type": "code",
   "execution_count": 3,
   "metadata": {
    "collapsed": false
   },
   "outputs": [
    {
     "data": {
      "text/html": [
       "<div>\n",
       "<table border=\"1\" class=\"dataframe\">\n",
       "  <thead>\n",
       "    <tr style=\"text-align: right;\">\n",
       "      <th></th>\n",
       "      <th>KOI Name</th>\n",
       "      <th>NExScI Disposition</th>\n",
       "      <th>Kepler Name</th>\n",
       "      <th>Period</th>\n",
       "      <th>Time of Transit Epoch</th>\n",
       "      <th>First Transit Time (BJD)</th>\n",
       "      <th>Impact Parameter</th>\n",
       "      <th>Duration</th>\n",
       "      <th>Transit Depth</th>\n",
       "      <th>r/R</th>\n",
       "      <th>...</th>\n",
       "      <th>Teff</th>\n",
       "      <th>log(g)</th>\n",
       "      <th>Metallicity</th>\n",
       "      <th>Stellar Radius</th>\n",
       "      <th>Stellar Mass</th>\n",
       "      <th>Max single event sigma</th>\n",
       "      <th>Max Multievent sigma</th>\n",
       "      <th>Transit Model SNR</th>\n",
       "      <th>KOI count</th>\n",
       "      <th>Transit Number</th>\n",
       "    </tr>\n",
       "  </thead>\n",
       "  <tbody>\n",
       "    <tr>\n",
       "      <th>1</th>\n",
       "      <td>K01009.01</td>\n",
       "      <td>FALSE POSITIVE</td>\n",
       "      <td>NaN</td>\n",
       "      <td>5.092465</td>\n",
       "      <td>357.53594</td>\n",
       "      <td>2455190.536</td>\n",
       "      <td>0.161</td>\n",
       "      <td>3.65900</td>\n",
       "      <td>254.0</td>\n",
       "      <td>0.014</td>\n",
       "      <td>...</td>\n",
       "      <td>5037.0</td>\n",
       "      <td>4.547</td>\n",
       "      <td>-0.20</td>\n",
       "      <td>0.751</td>\n",
       "      <td>0.727</td>\n",
       "      <td>3.648</td>\n",
       "      <td>15.175</td>\n",
       "      <td>17.1</td>\n",
       "      <td>1</td>\n",
       "      <td>225</td>\n",
       "    </tr>\n",
       "    <tr>\n",
       "      <th>2</th>\n",
       "      <td>K07621.01</td>\n",
       "      <td>FALSE POSITIVE</td>\n",
       "      <td>NaN</td>\n",
       "      <td>275.073650</td>\n",
       "      <td>315.24860</td>\n",
       "      <td>2455148.249</td>\n",
       "      <td>0.595</td>\n",
       "      <td>3.37000</td>\n",
       "      <td>228.9</td>\n",
       "      <td>0.014</td>\n",
       "      <td>...</td>\n",
       "      <td>5604.0</td>\n",
       "      <td>4.226</td>\n",
       "      <td>-0.12</td>\n",
       "      <td>1.187</td>\n",
       "      <td>0.864</td>\n",
       "      <td>5.909</td>\n",
       "      <td>8.012</td>\n",
       "      <td>7.5</td>\n",
       "      <td>1</td>\n",
       "      <td>4</td>\n",
       "    </tr>\n",
       "    <tr>\n",
       "      <th>3</th>\n",
       "      <td>K06252.01</td>\n",
       "      <td>FALSE POSITIVE</td>\n",
       "      <td>NaN</td>\n",
       "      <td>8.460439</td>\n",
       "      <td>133.77449</td>\n",
       "      <td>2454966.774</td>\n",
       "      <td>1.061</td>\n",
       "      <td>4.73492</td>\n",
       "      <td>76412.9</td>\n",
       "      <td>0.478</td>\n",
       "      <td>...</td>\n",
       "      <td>5951.0</td>\n",
       "      <td>4.638</td>\n",
       "      <td>-1.06</td>\n",
       "      <td>0.702</td>\n",
       "      <td>0.796</td>\n",
       "      <td>452.526</td>\n",
       "      <td>3704.503</td>\n",
       "      <td>1797.4</td>\n",
       "      <td>1</td>\n",
       "      <td>164</td>\n",
       "    </tr>\n",
       "    <tr>\n",
       "      <th>6</th>\n",
       "      <td>K04162.01</td>\n",
       "      <td>FALSE POSITIVE</td>\n",
       "      <td>NaN</td>\n",
       "      <td>0.539366</td>\n",
       "      <td>131.97457</td>\n",
       "      <td>2454964.975</td>\n",
       "      <td>0.988</td>\n",
       "      <td>5.43400</td>\n",
       "      <td>145.0</td>\n",
       "      <td>0.016</td>\n",
       "      <td>...</td>\n",
       "      <td>6341.0</td>\n",
       "      <td>3.301</td>\n",
       "      <td>-0.10</td>\n",
       "      <td>5.302</td>\n",
       "      <td>2.050</td>\n",
       "      <td>4.847</td>\n",
       "      <td>9.076</td>\n",
       "      <td>57.6</td>\n",
       "      <td>1</td>\n",
       "      <td>1239</td>\n",
       "    </tr>\n",
       "    <tr>\n",
       "      <th>9</th>\n",
       "      <td>K00998.01</td>\n",
       "      <td>FALSE POSITIVE</td>\n",
       "      <td>NaN</td>\n",
       "      <td>161.788327</td>\n",
       "      <td>214.03900</td>\n",
       "      <td>2455047.039</td>\n",
       "      <td>0.267</td>\n",
       "      <td>5.31000</td>\n",
       "      <td>87750.0</td>\n",
       "      <td>0.273</td>\n",
       "      <td>...</td>\n",
       "      <td>6018.0</td>\n",
       "      <td>4.327</td>\n",
       "      <td>0.18</td>\n",
       "      <td>1.212</td>\n",
       "      <td>1.142</td>\n",
       "      <td>341.666</td>\n",
       "      <td>806.993</td>\n",
       "      <td>704.5</td>\n",
       "      <td>1</td>\n",
       "      <td>9</td>\n",
       "    </tr>\n",
       "  </tbody>\n",
       "</table>\n",
       "<p>5 rows × 31 columns</p>\n",
       "</div>"
      ],
      "text/plain": [
       "    KOI Name NExScI Disposition Kepler Name      Period  \\\n",
       "1  K01009.01     FALSE POSITIVE         NaN    5.092465   \n",
       "2  K07621.01     FALSE POSITIVE         NaN  275.073650   \n",
       "3  K06252.01     FALSE POSITIVE         NaN    8.460439   \n",
       "6  K04162.01     FALSE POSITIVE         NaN    0.539366   \n",
       "9  K00998.01     FALSE POSITIVE         NaN  161.788327   \n",
       "\n",
       "   Time of Transit Epoch  First Transit Time (BJD)  Impact Parameter  \\\n",
       "1              357.53594               2455190.536             0.161   \n",
       "2              315.24860               2455148.249             0.595   \n",
       "3              133.77449               2454966.774             1.061   \n",
       "6              131.97457               2454964.975             0.988   \n",
       "9              214.03900               2455047.039             0.267   \n",
       "\n",
       "   Duration  Transit Depth    r/R       ...          Teff  log(g)  \\\n",
       "1   3.65900          254.0  0.014       ...        5037.0   4.547   \n",
       "2   3.37000          228.9  0.014       ...        5604.0   4.226   \n",
       "3   4.73492        76412.9  0.478       ...        5951.0   4.638   \n",
       "6   5.43400          145.0  0.016       ...        6341.0   3.301   \n",
       "9   5.31000        87750.0  0.273       ...        6018.0   4.327   \n",
       "\n",
       "   Metallicity  Stellar Radius  Stellar Mass  Max single event sigma  \\\n",
       "1        -0.20           0.751         0.727                   3.648   \n",
       "2        -0.12           1.187         0.864                   5.909   \n",
       "3        -1.06           0.702         0.796                 452.526   \n",
       "6        -0.10           5.302         2.050                   4.847   \n",
       "9         0.18           1.212         1.142                 341.666   \n",
       "\n",
       "   Max Multievent sigma  Transit Model SNR  KOI count  Transit Number  \n",
       "1                15.175               17.1          1             225  \n",
       "2                 8.012                7.5          1               4  \n",
       "3              3704.503             1797.4          1             164  \n",
       "6                 9.076               57.6          1            1239  \n",
       "9               806.993              704.5          1               9  \n",
       "\n",
       "[5 rows x 31 columns]"
      ]
     },
     "execution_count": 3,
     "metadata": {},
     "output_type": "execute_result"
    }
   ],
   "source": [
    "y_train = ((df_labels_train[\"NExScI Disposition\"]==\"CONFIRMED\")*1).values\n",
    "y_test = ((df_labels_test[\"NExScI Disposition\"]==\"CONFIRMED\")*1).values\n",
    "df_labels_train.head()"
   ]
  },
  {
   "cell_type": "code",
   "execution_count": 4,
   "metadata": {
    "collapsed": false
   },
   "outputs": [
    {
     "name": "stdout",
     "output_type": "stream",
     "text": [
      "Score si dice todos son falsos positivos: 0.547014\n",
      "Score si dice todos son confirmados: 0.157445\n"
     ]
    },
    {
     "name": "stderr",
     "output_type": "stream",
     "text": [
      "/users/fmena/.local/lib/python3.6/site-packages/sklearn/metrics/classification.py:1143: UndefinedMetricWarning: F-score is ill-defined and being set to 0.0 in labels with no predicted samples.\n",
      "  'precision', 'predicted', average, warn_for)\n"
     ]
    }
   ],
   "source": [
    "todos_ceros = np.zeros(y_test.shape)\n",
    "todos_uno = np.ones(y_test.shape)\n",
    "\n",
    "print(\"Score si dice todos son falsos positivos: %f\"%f1_score(y_test,todos_ceros,average=\"weighted\"))\n",
    "print(\"Score si dice todos son confirmados: %f\"%f1_score(y_test,todos_uno,average=\"weighted\"))"
   ]
  },
  {
   "cell_type": "code",
   "execution_count": 5,
   "metadata": {
    "collapsed": false
   },
   "outputs": [
    {
     "data": {
      "text/plain": [
       "<matplotlib.text.Text at 0x2aab1da120f0>"
      ]
     },
     "execution_count": 5,
     "metadata": {},
     "output_type": "execute_result"
    },
    {
     "name": "stderr",
     "output_type": "stream",
     "text": [
      "/users/fmena/anaconda3/lib/python3.6/site-packages/matplotlib/font_manager.py:1297: UserWarning: findfont: Font family ['sans-serif'] not found. Falling back to DejaVu Sans\n",
      "  (prop.get_family(), self.defaultFamily[fontext]))\n"
     ]
    },
    {
     "data": {
      "image/png": "[encoded data removed]",
      "text/plain": [
       "<matplotlib.figure.Figure at 0x2aaabb5c9c18>"
      ]
     },
     "metadata": {},
     "output_type": "display_data"
    }
   ],
   "source": [
    "%matplotlib inline\n",
    "plt.figure(figsize=(10,6))\n",
    "plt.title(\"TRAIN \")\n",
    "plt.bar(0, np.sum(y_train==1),color=\"blue\")\n",
    "plt.bar(1, np.sum(y_train==0),color=\"green\")\n",
    "plt.xticks([0,1],[\"CONFIRMED\",\"FALSE POSITIVE\"])\n",
    "plt.ylabel(\"Count\")"
   ]
  },
  {
   "cell_type": "markdown",
   "metadata": {},
   "source": [
    "## VARIAR REPRESENTACION ACA:"
   ]
  },
  {
   "cell_type": "code",
   "execution_count": 25,
   "metadata": {
    "collapsed": false
   },
   "outputs": [
    {
     "name": "stdout",
     "output_type": "stream",
     "text": [
      "(4692, 5)\n"
     ]
    }
   ],
   "source": [
    "#para distintas representaciones...\n",
    "#df_rep_train = pd.read_csv('../Datos/OwnFats_unb/koi_light_curves_FATS2_metadata_train_p_error.csv') #raw \n",
    "#df_rep_train = pd.read_csv('../Datos/OwnFats/koi_light_curves_FATS2_metadata_train_model_p_error.csv') #model\n",
    "#df_rep_test = pd.read_csv('../Datos/OwnFats_unb/koi_light_curves_FATS2_metadata_test_p_error.csv') #raw\n",
    "#df_rep_test = pd.read_csv('../Datos/OwnFats/koi_light_curves_FATS2_metadata_test_model_p_error.csv') #model\n",
    "\n",
    "df_rep_train = pd.read_csv('../Datos/ICA_unb/koi_light_curves_FICA_train5_lc.csv') \n",
    "df_rep_test = pd.read_csv('../Datos/ICA_unb/koi_light_curves_FICA_test5_lc.csv')\n",
    "\n",
    "#para fats2 \n",
    "#df_rep_train.fillna(df_rep_train.median(), inplace=True)\n",
    "#df_rep_test.fillna(df_rep_test.median(), inplace=True)\n",
    "#X_train = df_rep_train.values[:,:-1]\n",
    "#X_test = df_rep_test.values[:,:-1]\n",
    "\n",
    "columns_names = df_rep_train.columns\n",
    "\n",
    "#all others\n",
    "X_train = df_rep_train.values\n",
    "X_test = df_rep_test.values\n",
    "\n",
    "print(X_train.shape)"
   ]
  },
  {
   "cell_type": "code",
   "execution_count": 24,
   "metadata": {
    "collapsed": true
   },
   "outputs": [],
   "source": [
    "#from skrebate import ReliefF"
   ]
  },
  {
   "cell_type": "code",
   "execution_count": 26,
   "metadata": {
    "collapsed": false
   },
   "outputs": [],
   "source": [
    "from sklearn.preprocessing import StandardScaler\n",
    "std = StandardScaler()\n",
    "Xstd_train = std.fit_transform(X_train.astype('float'))\n",
    "Xstd_test = std.transform(X_test)"
   ]
  },
  {
   "cell_type": "markdown",
   "metadata": {},
   "source": [
    "### Start training models"
   ]
  },
  {
   "cell_type": "code",
   "execution_count": 27,
   "metadata": {
    "collapsed": true
   },
   "outputs": [],
   "source": [
    "from sklearn.model_selection import train_test_split, GridSearchCV, StratifiedKFold, cross_validate\n",
    "from sklearn.metrics import make_scorer, f1_score, recall_score, accuracy_score, precision_score\n",
    "\n",
    "scorers = {\n",
    "    'precision_score': make_scorer(precision_score),\n",
    "    'recall_score': make_scorer(recall_score),\n",
    "    'accuracy_score': make_scorer(accuracy_score),\n",
    "    'f1_score_we':make_scorer(f1_score,average='weighted'),\n",
    "    'f1_score_macro':make_scorer(f1_score,average='macro'),\n",
    "    'f1_score_micro':make_scorer(f1_score,average='micro')\n",
    "}\n",
    "\n",
    "#para guardar scores y graficar\n",
    "f1_score_test = []\n",
    "p_test = []\n",
    "r_test = []"
   ]
  },
  {
   "cell_type": "markdown",
   "metadata": {},
   "source": [
    "## K-NN"
   ]
  },
  {
   "cell_type": "code",
   "execution_count": 28,
   "metadata": {
    "collapsed": false
   },
   "outputs": [
    {
     "name": "stdout",
     "output_type": "stream",
     "text": [
      "Best params for completeness: {'n_neighbors': 28, 'weights': 'distance'}\n",
      "Contamination: 0.4936\n",
      "F1-score weighted: 0.6091\n",
      "F1-score macro: 0.5778\n",
      "F1-score micro: 0.6174\n"
     ]
    }
   ],
   "source": [
    "from sklearn.neighbors import KNeighborsClassifier\n",
    "clf = KNeighborsClassifier(n_jobs=-1)\n",
    "\n",
    "param_grid = {\n",
    "    'n_neighbors' : np.arange(3,35),\n",
    "    'weights': [\"uniform\",\"distance\"]\n",
    "}\n",
    "\n",
    "skf = StratifiedKFold(n_splits=5)\n",
    "grid_search = GridSearchCV(clf, param_grid, scoring=scorers, refit='f1_score_we',\n",
    "                       cv=skf, return_train_score=False, n_jobs=-1)\n",
    "grid_search.fit(Xstd_train, y_train)\n",
    "\n",
    "print('Best params for completeness:', grid_search.best_params_)\n",
    "results = pd.DataFrame(grid_search.cv_results_)\n",
    "bestResults = results[results.params == grid_search.best_params_]\n",
    "preci = float(bestResults['mean_test_precision_score'])\n",
    "print('Contamination: {:.4f}'.format(preci))\n",
    "f1_w = float(bestResults['mean_test_f1_score_we'])\n",
    "print('F1-score weighted: {:.4f}'.format(f1_w))\n",
    "f1_ma = float(bestResults['mean_test_f1_score_macro'])\n",
    "print('F1-score macro: {:.4f}'.format(f1_ma))\n",
    "f1_mi = float(bestResults['mean_test_f1_score_micro'])\n",
    "print('F1-score micro: {:.4f}'.format(f1_mi))"
   ]
  },
  {
   "cell_type": "code",
   "execution_count": 29,
   "metadata": {
    "collapsed": false
   },
   "outputs": [],
   "source": [
    "clf = KNeighborsClassifier(n_jobs=-1,**grid_search.best_params_)\n",
    "clf.fit(Xstd_train,y_train) \n",
    "\n",
    "ypred_test = clf.predict(Xstd_test)\n",
    "f1,p,r = calculate_metrics(y_test,ypred_test)\n",
    "f1_score_test.append(f1)\n",
    "p_test.append(p)\n",
    "r_test.append(r)"
   ]
  },
  {
   "cell_type": "markdown",
   "metadata": {},
   "source": [
    "## SVM with kernels"
   ]
  },
  {
   "cell_type": "code",
   "execution_count": 30,
   "metadata": {
    "collapsed": false,
    "scrolled": true
   },
   "outputs": [
    {
     "name": "stdout",
     "output_type": "stream",
     "text": [
      "Best params for completeness: {'C': 10000, 'kernel': 'sigmoid'}\n",
      "Completion: 0.4020\n",
      "Contamination: 0.4069\n",
      "F1-score weighted: 0.5510\n",
      "F1-score macro: 0.5224\n",
      "F1-score micro: 0.5516\n"
     ]
    }
   ],
   "source": [
    "from sklearn.svm import SVC\n",
    "clf = SVC()\n",
    "\n",
    "param_grid = {\n",
    "    'C' : [10**i for i in np.arange(-5,5)],\n",
    "    'kernel':['poly','rbf','sigmoid'],\n",
    "    #'class_weight' : ['balanced',None]\n",
    "}\n",
    "\n",
    "skf = StratifiedKFold(n_splits=5)\n",
    "grid_search = GridSearchCV(clf, param_grid, scoring=scorers, refit='f1_score_we',\n",
    "                       cv=skf, return_train_score=False, n_jobs=-1)\n",
    "grid_search.fit(Xstd_train, y_train)\n",
    "\n",
    "print('Best params for completeness:', grid_search.best_params_)\n",
    "results = pd.DataFrame(grid_search.cv_results_)\n",
    "bestResults = results[results.params == grid_search.best_params_]\n",
    "completeness = float(bestResults['mean_test_recall_score'])\n",
    "print('Completion: {:.4f}'.format(completeness))\n",
    "preci = float(bestResults['mean_test_precision_score'])\n",
    "print('Contamination: {:.4f}'.format(preci))\n",
    "f1_w = float(bestResults['mean_test_f1_score_we'])\n",
    "print('F1-score weighted: {:.4f}'.format(f1_w))\n",
    "f1_ma = float(bestResults['mean_test_f1_score_macro'])\n",
    "print('F1-score macro: {:.4f}'.format(f1_ma))\n",
    "f1_mi = float(bestResults['mean_test_f1_score_micro'])\n",
    "print('F1-score micro: {:.4f}'.format(f1_mi))"
   ]
  },
  {
   "cell_type": "code",
   "execution_count": 31,
   "metadata": {
    "collapsed": false
   },
   "outputs": [],
   "source": [
    "model = SVC(**grid_search.best_params_)\n",
    "#model.set_params(class_weight='balanced')\n",
    "model.fit(Xstd_train,y_train)\n",
    "\n",
    "ypred_test = model.predict(Xstd_test)\n",
    "f1,p,r = calculate_metrics(y_test,ypred_test)\n",
    "\n",
    "f1_score_test.append(f1)\n",
    "p_test.append(p)\n",
    "r_test.append(r)"
   ]
  },
  {
   "cell_type": "markdown",
   "metadata": {},
   "source": [
    "## Random Forest"
   ]
  },
  {
   "cell_type": "code",
   "execution_count": 32,
   "metadata": {
    "collapsed": false,
    "scrolled": true
   },
   "outputs": [
    {
     "name": "stdout",
     "output_type": "stream",
     "text": [
      "Best params for completeness: {'max_depth': 13, 'min_samples_split': 15, 'n_estimators': 20}\n",
      "Completion: 0.3981\n",
      "Contamination: 0.5088\n",
      "F1-score weighted: 0.6145\n",
      "F1-score macro: 0.5814\n",
      "F1-score micro: 0.6260\n"
     ]
    },
    {
     "name": "stderr",
     "output_type": "stream",
     "text": [
      "/users/fmena/.local/lib/python3.6/site-packages/sklearn/model_selection/_search.py:841: DeprecationWarning: The default of the `iid` parameter will change from True to False in version 0.22 and will be removed in 0.24. This will change numeric results when test-set sizes are unequal.\n",
      "  DeprecationWarning)\n"
     ]
    }
   ],
   "source": [
    "from sklearn.ensemble import RandomForestClassifier\n",
    "clf = RandomForestClassifier(n_jobs=-1, random_state=0)\n",
    "\n",
    "param_grid = {\n",
    "    'n_estimators' : [10,20,30,40,50],\n",
    "    'min_samples_split': [5,10,15,20],\n",
    "    'max_depth': np.arange(5,25),\n",
    "    #'class_weight' : ['balanced','balanced_subsample',None]\n",
    "}\n",
    "\n",
    "skf = StratifiedKFold(n_splits=5)\n",
    "grid_search = GridSearchCV(clf, param_grid, scoring=scorers, refit='f1_score_we',\n",
    "                       cv=skf, return_train_score=False, n_jobs=-1)\n",
    "grid_search.fit(X_train, y_train)\n",
    "\n",
    "print('Best params for completeness:', grid_search.best_params_)\n",
    "results = pd.DataFrame(grid_search.cv_results_)\n",
    "bestResults = results[results.params == grid_search.best_params_]\n",
    "completeness = float(bestResults['mean_test_recall_score'])\n",
    "print('Completion: {:.4f}'.format(completeness))\n",
    "preci = float(bestResults['mean_test_precision_score'])\n",
    "print('Contamination: {:.4f}'.format(preci))\n",
    "f1_w = float(bestResults['mean_test_f1_score_we'])\n",
    "print('F1-score weighted: {:.4f}'.format(f1_w))\n",
    "f1_ma = float(bestResults['mean_test_f1_score_macro'])\n",
    "print('F1-score macro: {:.4f}'.format(f1_ma))\n",
    "f1_mi = float(bestResults['mean_test_f1_score_micro'])\n",
    "print('F1-score micro: {:.4f}'.format(f1_mi))"
   ]
  },
  {
   "cell_type": "code",
   "execution_count": 33,
   "metadata": {
    "collapsed": true
   },
   "outputs": [],
   "source": [
    "f1_ad = []\n",
    "p_ad = []\n",
    "r_ad = []\n",
    "feat_imp = []\n",
    "for i in range(10):\n",
    "    model = RandomForestClassifier(n_jobs=-1,**grid_search.best_params_)\n",
    "    #model.set_params(class_weight='balanced')\n",
    "    model.fit(X_train,y_train) \n",
    " \n",
    "    ypred_test = model.predict(X_test)\n",
    "    f1,p,r = calculate_metrics(y_test,ypred_test)\n",
    "    f1_ad.append(f1)\n",
    "    p_ad.append(p)\n",
    "    r_ad.append(r)\n",
    "    feat_imp.append(model.feature_importances_)\n",
    "f1_score_test.append(np.mean(f1_ad,axis=0))# por columna\n",
    "p_test.append(np.mean(p_ad,axis=0)) #por columna\n",
    "r_test.append(np.mean(r_ad,axis=0)) #por columna\n",
    "feat_imp = np.mean(feat_imp,axis=0)"
   ]
  },
  {
   "cell_type": "code",
   "execution_count": 34,
   "metadata": {
    "collapsed": false,
    "scrolled": true
   },
   "outputs": [
    {
     "name": "stderr",
     "output_type": "stream",
     "text": [
      "/users/fmena/anaconda3/lib/python3.6/site-packages/matplotlib/font_manager.py:1297: UserWarning: findfont: Font family ['sans-serif'] not found. Falling back to DejaVu Sans\n",
      "  (prop.get_family(), self.defaultFamily[fontext]))\n"
     ]
    },
    {
     "data": {
      "image/png": "[encoded data removed]",
      "text/plain": [
       "<matplotlib.figure.Figure at 0x2aaabb5c9fd0>"
      ]
     },
     "metadata": {},
     "output_type": "display_data"
    },
    {
     "ename": "IndexError",
     "evalue": "index 20 is out of bounds for axis 0 with size 5",
     "output_type": "error",
     "traceback": [
      "\u001b[0;31m---------------------------------------------------------------------------\u001b[0m",
      "\u001b[0;31mIndexError\u001b[0m                                Traceback (most recent call last)",
      "\u001b[0;32m<ipython-input-34-55d859708614>\u001b[0m in \u001b[0;36m<module>\u001b[0;34m()\u001b[0m\n\u001b[1;32m      6\u001b[0m \u001b[0;34m\u001b[0m\u001b[0m\n\u001b[1;32m      7\u001b[0m \u001b[0mk\u001b[0m \u001b[0;34m=\u001b[0m \u001b[0;36m20\u001b[0m\u001b[0;34m\u001b[0m\u001b[0m\n\u001b[0;32m----> 8\u001b[0;31m \u001b[0mmost_relevant\u001b[0m \u001b[0;34m=\u001b[0m \u001b[0mfeat_imp\u001b[0m \u001b[0;34m>=\u001b[0m \u001b[0mnp\u001b[0m\u001b[0;34m.\u001b[0m\u001b[0msort\u001b[0m\u001b[0;34m(\u001b[0m\u001b[0mfeat_imp\u001b[0m\u001b[0;34m)\u001b[0m\u001b[0;34m[\u001b[0m\u001b[0;34m:\u001b[0m\u001b[0;34m:\u001b[0m\u001b[0;34m-\u001b[0m\u001b[0;36m1\u001b[0m\u001b[0;34m]\u001b[0m\u001b[0;34m[\u001b[0m\u001b[0mk\u001b[0m\u001b[0;34m]\u001b[0m \u001b[0;31m#mask\u001b[0m\u001b[0;34m\u001b[0m\u001b[0m\n\u001b[0m\u001b[1;32m      9\u001b[0m \u001b[0mplt\u001b[0m\u001b[0;34m.\u001b[0m\u001b[0mfigure\u001b[0m\u001b[0;34m(\u001b[0m\u001b[0mfigsize\u001b[0m\u001b[0;34m=\u001b[0m\u001b[0;34m(\u001b[0m\u001b[0;36m6\u001b[0m\u001b[0;34m,\u001b[0m\u001b[0;36m10\u001b[0m\u001b[0;34m)\u001b[0m\u001b[0;34m)\u001b[0m\u001b[0;34m\u001b[0m\u001b[0m\n\u001b[1;32m     10\u001b[0m \u001b[0mplt\u001b[0m\u001b[0;34m.\u001b[0m\u001b[0mbarh\u001b[0m\u001b[0;34m(\u001b[0m\u001b[0mrange\u001b[0m\u001b[0;34m(\u001b[0m\u001b[0mlen\u001b[0m\u001b[0;34m(\u001b[0m\u001b[0mcolumns_names\u001b[0m\u001b[0;34m[\u001b[0m\u001b[0mmost_relevant\u001b[0m\u001b[0;34m]\u001b[0m\u001b[0;34m)\u001b[0m\u001b[0;34m)\u001b[0m\u001b[0;34m,\u001b[0m \u001b[0mfeat_imp\u001b[0m\u001b[0;34m[\u001b[0m\u001b[0mmost_relevant\u001b[0m\u001b[0;34m]\u001b[0m\u001b[0;34m)\u001b[0m\u001b[0;34m\u001b[0m\u001b[0m\n",
      "\u001b[0;31mIndexError\u001b[0m: index 20 is out of bounds for axis 0 with size 5"
     ]
    }
   ],
   "source": [
    "plt.figure(figsize=(6,10))\n",
    "plt.barh(range(len(columns_names)), feat_imp)\n",
    "plt.yticks(range(len(columns_names)),columns_names)#, rotation= 30)\n",
    "plt.title('Feature Importance')\n",
    "plt.show()\n",
    "\n",
    "k = 20\n",
    "most_relevant = feat_imp >= np.sort(feat_imp)[::-1][k] #mask\n",
    "plt.figure(figsize=(6,10))\n",
    "plt.barh(range(len(columns_names[most_relevant])), feat_imp[most_relevant])\n",
    "plt.yticks(range(len(columns_names[most_relevant])),columns_names[most_relevant])#, rotation= 30)\n",
    "plt.title('Higher Feature Importance')\n",
    "plt.show()"
   ]
  },
  {
   "cell_type": "markdown",
   "metadata": {},
   "source": [
    "### FSS"
   ]
  },
  {
   "cell_type": "code",
   "execution_count": 180,
   "metadata": {
    "collapsed": false,
    "scrolled": true
   },
   "outputs": [
    {
     "name": "stdout",
     "output_type": "stream",
     "text": [
      "selected = Component 5 ...\n",
      "totalvars=1, error = 0.399710\n",
      "selected = Component 2 ...\n",
      "totalvars=2, error = 0.383244\n",
      "selected = Component 4 ...\n",
      "totalvars=3, error = 0.390052\n",
      "selected = Component 12 ...\n",
      "totalvars=4, error = 0.394336\n",
      "selected = Component 11 ...\n",
      "totalvars=5, error = 0.396650\n",
      "selected = Component 1 ...\n",
      "totalvars=6, error = 0.394861\n",
      "selected = Component 8 ...\n",
      "totalvars=7, error = 0.395804\n",
      "selected = Component 6 ...\n",
      "totalvars=8, error = 0.396302\n",
      "selected = Component 7 ...\n",
      "totalvars=9, error = 0.401586\n",
      "selected = Component 10 ...\n",
      "totalvars=10, error = 0.398751\n",
      "selected = Component 3 ...\n",
      "totalvars=11, error = 0.397585\n",
      "selected = Component 14 ...\n",
      "totalvars=12, error = 0.397298\n",
      "selected = Component 9 ...\n",
      "totalvars=13, error = 0.398225\n",
      "selected = Component 15 ...\n",
      "totalvars=14, error = 0.395014\n",
      "selected = Component 13 ...\n",
      "totalvars=15, error = 0.401326\n"
     ]
    },
    {
     "data": {
      "text/plain": [
       "[4, 1, 3, 11, 10, 0, 7, 5, 6, 9, 2, 13, 8, 14, 12]"
      ]
     },
     "execution_count": 180,
     "metadata": {},
     "output_type": "execute_result"
    }
   ],
   "source": [
    "def fss(model,x, y, names_x, k = 10000):\n",
    "    p = x.shape[1]\n",
    "    k = min(p, k)\n",
    "    names_x = np.array(names_x)\n",
    "    remaining = list(range(0, p))\n",
    "    selected = []\n",
    "    current_score = best_new_score = 0.0\n",
    "    while remaining and len(selected)<=k :\n",
    "        score_candidates = []\n",
    "        for candidate in remaining:\n",
    "            indexes = selected + [candidate]\n",
    "            x_train = x[:,indexes]\n",
    "            \n",
    "            #with cross validation\n",
    "            skf = StratifiedKFold(n_splits=5)\n",
    "            aux = cross_validate(model, x_train,y, scoring='f1_weighted',cv=skf, n_jobs=-1)\n",
    "            error_metrica = 1- np.mean(aux[\"test_score\"])\n",
    "            #metrica de error \n",
    "            #error_metrica = 1- accuracy_score(y,predictions_train)\n",
    "            score_candidates.append((error_metrica, candidate))\n",
    "        score_candidates.sort()\n",
    "        score_candidates[:] = score_candidates[::-1]\n",
    "        best_new_score, best_candidate = score_candidates.pop()\n",
    "        remaining.remove(best_candidate)\n",
    "        selected.append(best_candidate)\n",
    "        print(\"selected = %s ...\"%names_x[best_candidate])\n",
    "        print(\"totalvars=%d, error = %f\"%(len(indexes),best_new_score))\n",
    "    return selected\n",
    "\n",
    "model = SVC(**grid_search.best_params_)\n",
    "top_features = fss(model, Xstd_train, y_train, columns_names,k=25)\n",
    "top_features"
   ]
  },
  {
   "cell_type": "code",
   "execution_count": 181,
   "metadata": {
    "collapsed": false
   },
   "outputs": [
    {
     "ename": "NameError",
     "evalue": "name 'top_features' is not defined",
     "output_type": "error",
     "traceback": [
      "\u001b[0;31m---------------------------------------------------------------------------\u001b[0m",
      "\u001b[0;31mNameError\u001b[0m                                 Traceback (most recent call last)",
      "\u001b[0;32m<ipython-input-181-8bb0c8425bb4>\u001b[0m in \u001b[0;36m<module>\u001b[0;34m()\u001b[0m\n\u001b[1;32m      1\u001b[0m \u001b[0;31m#train again with FSS features\u001b[0m\u001b[0;34m\u001b[0m\u001b[0;34m\u001b[0m\u001b[0m\n\u001b[0;32m----> 2\u001b[0;31m \u001b[0mselected_features\u001b[0m \u001b[0;34m=\u001b[0m \u001b[0mtop_features\u001b[0m\u001b[0;34m[\u001b[0m\u001b[0;34m:\u001b[0m\u001b[0;36m5\u001b[0m\u001b[0;34m]\u001b[0m\u001b[0;34m\u001b[0m\u001b[0m\n\u001b[0m\u001b[1;32m      3\u001b[0m \u001b[0mXstd_train\u001b[0m \u001b[0;34m=\u001b[0m \u001b[0mXstd_train\u001b[0m\u001b[0;34m[\u001b[0m\u001b[0;34m:\u001b[0m\u001b[0;34m,\u001b[0m\u001b[0mselected_features\u001b[0m\u001b[0;34m]\u001b[0m\u001b[0;34m\u001b[0m\u001b[0m\n\u001b[1;32m      4\u001b[0m \u001b[0mXstd_test\u001b[0m \u001b[0;34m=\u001b[0m \u001b[0mXstd_test\u001b[0m\u001b[0;34m[\u001b[0m\u001b[0;34m:\u001b[0m\u001b[0;34m,\u001b[0m\u001b[0mselected_features\u001b[0m\u001b[0;34m]\u001b[0m\u001b[0;34m\u001b[0m\u001b[0m\n",
      "\u001b[0;31mNameError\u001b[0m: name 'top_features' is not defined"
     ]
    }
   ],
   "source": [
    "#train again with FSS features\n",
    "selected_features = top_features[:5]\n",
    "Xstd_train = Xstd_train[:,selected_features]\n",
    "Xstd_test = Xstd_test[:,selected_features]"
   ]
  },
  {
   "cell_type": "markdown",
   "metadata": {},
   "source": [
    "# Gráficos"
   ]
  },
  {
   "cell_type": "code",
   "execution_count": 13,
   "metadata": {
    "collapsed": true
   },
   "outputs": [],
   "source": [
    "import matplotlib.pyplot as plt\n",
    "learners = len(p_test)\n",
    "M = np.arange(learners)\n",
    "aux = list(map(list, zip(*p_test))) #transpose\n",
    "LABELS=[\"K-NN\",\"SVM\",\"RANDOM FOREST\"]"
   ]
  },
  {
   "cell_type": "code",
   "execution_count": 40,
   "metadata": {
    "collapsed": false
   },
   "outputs": [
    {
     "name": "stderr",
     "output_type": "stream",
     "text": [
      "/users/fmena/anaconda3/lib/python3.6/site-packages/matplotlib/font_manager.py:1297: UserWarning: findfont: Font family ['sans-serif'] not found. Falling back to DejaVu Sans\n",
      "  (prop.get_family(), self.defaultFamily[fontext]))\n"
     ]
    },
    {
     "data": {
      "image/png": "[encoded data removed]",
      "text/plain": [
       "<matplotlib.figure.Figure at 0x2aaaf0cbea90>"
      ]
     },
     "metadata": {},
     "output_type": "display_data"
    }
   ],
   "source": [
    "fig = plt.figure(figsize=(12,8))\n",
    "\n",
    "#PRECISION SCORES\n",
    "plt.bar(M-0.15, aux[0], width=0.3,facecolor='#ff0000', edgecolor='white',label=\"False Positive\")\n",
    "plt.bar(M+0.15, aux[1], width=0.3,facecolor='#1C9900', edgecolor='white',label=\"Confirmed\")\n",
    "\n",
    "#RECALL SCORES\n",
    "plt.bar(M-0.15, np.array(aux[0])*-1, width=0.3,facecolor='#FF6666', edgecolor='white')\n",
    "plt.bar(M+0.15, np.array(aux[1])*-1, width=0.3,facecolor='#76C166', edgecolor='white')\n",
    "\n",
    "#ANOTATIONS OF SCORES\n",
    "for x, (a,b) in zip(M, p_test):\n",
    "    plt.text(x + 0.02-0.15, a + 0.01, '%.3f' % a, ha='center', va='bottom')#fp\n",
    "    plt.text(x + 0.02+0.15, b + 0.01, '%.3f' % b, ha='center', va='bottom')#conf\n",
    "for x, (a,b) in zip(M, r_test):\n",
    "    plt.text(x + 0.02-0.15, -a - 0.01, '%.3f' % a, ha='center', va='top')#fp\n",
    "    plt.text(x + 0.02+0.15, -b - 0.01, '%.3f' % b, ha='center', va='top')#conf\n",
    "        \n",
    "plt.xticks(M, LABELS)\n",
    "plt.title(\"PRECISION & RECALL on TEST\")   \n",
    "plt.xlabel(\"Learners\")  \n",
    "plt.ylabel(\"RECALL - Score - PRECISION\") \n",
    "plt.legend()\n",
    "plt.ylim(-1.2,1.2)\n",
    "plt.show()"
   ]
  },
  {
   "cell_type": "code",
   "execution_count": 61,
   "metadata": {
    "collapsed": false
   },
   "outputs": [
    {
     "name": "stderr",
     "output_type": "stream",
     "text": [
      "/users/fmena/anaconda3/lib/python3.6/site-packages/matplotlib/font_manager.py:1297: UserWarning: findfont: Font family ['sans-serif'] not found. Falling back to DejaVu Sans\n",
      "  (prop.get_family(), self.defaultFamily[fontext]))\n"
     ]
    },
    {
     "data": {
      "image/png": "[encoded data removed]",
      "text/plain": [
       "<matplotlib.figure.Figure at 0x2aaaf0d28c18>"
      ]
     },
     "metadata": {},
     "output_type": "display_data"
    }
   ],
   "source": [
    "fig = plt.figure(figsize=(12,4))\n",
    "plt.bar(M, f1_score_test, facecolor='#9999ff', edgecolor='white')\n",
    "\n",
    "for x, y in zip(M, f1_score_test):\n",
    "    plt.text(x + 0.02, y + 0.01, '%.3f' % y, ha='center', va='bottom')\n",
    "    \n",
    "plt.xticks(np.arange(learners), LABELS)\n",
    "plt.title(\"F1-SCORE on TEST\")   \n",
    "plt.xlabel(\"Learners\")  \n",
    "plt.ylabel(\"Score\") \n",
    "plt.ylim(0,1)\n",
    "plt.show() #model"
   ]
  },
  {
   "cell_type": "code",
   "execution_count": 66,
   "metadata": {
    "collapsed": false
   },
   "outputs": [
    {
     "data": {
      "image/png": "[encoded data removed]",
      "text/plain": [
       "<matplotlib.figure.Figure at 0x7f530439eb50>"
      ]
     },
     "metadata": {},
     "output_type": "display_data"
    }
   ],
   "source": [
    "fig = plt.figure(figsize=(12,4))\n",
    "\n",
    "plt.bar(M, f1_score_test, facecolor='#9999ff', edgecolor='white')\n",
    "\n",
    "for x, y in zip(M, f1_score_test):\n",
    "    plt.text(x + 0.02, y + 0.01, '%.3f' % y, ha='center', va='bottom')\n",
    "    \n",
    "plt.xticks(np.arange(learners), LABELS)\n",
    "plt.title(\"F1-SCORE on TEST\")   \n",
    "plt.xlabel(\"Learners\")  \n",
    "plt.ylabel(\"Score\") \n",
    "plt.ylim(0,1)\n",
    "plt.show() #old code"
   ]
  }
 ],
 "metadata": {
  "kernelspec": {
   "display_name": "Python 3",
   "language": "python",
   "name": "python3"
  },
  "language_info": {
   "codemirror_mode": {
    "name": "ipython",
    "version": 3
   },
   "file_extension": ".py",
   "mimetype": "text/x-python",
   "name": "python",
   "nbconvert_exporter": "python",
   "pygments_lexer": "ipython3",
   "version": "3.6.0"
  }
 },
 "nbformat": 4,
 "nbformat_minor": 2
}
