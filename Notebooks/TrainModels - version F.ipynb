{
 "cells": [
  {
   "cell_type": "code",
   "execution_count": 1,
   "metadata": {
    "collapsed": false
   },
   "outputs": [
    {
     "name": "stdout",
     "output_type": "stream",
     "text": [
      "koi_light_curves_FATS2_metadata_test.csv\r\n",
      "koi_light_curves_FATS2_metadata_train.csv\r\n",
      "koi_light_curves_FATS2_metadata_unlabeled.csv\r\n"
     ]
    }
   ],
   "source": [
    "!ls ../Datos/OwnFats/"
   ]
  },
  {
   "cell_type": "code",
   "execution_count": 1,
   "metadata": {
    "collapsed": true
   },
   "outputs": [],
   "source": [
    "#metricas de evaluacion\n",
    "from sklearn.metrics import f1_score\n",
    "from sklearn.metrics import precision_score\n",
    "from sklearn.metrics import recall_score\n",
    "from sklearn.metrics import completeness_score\n",
    "from sklearn.metrics import homogeneity_score\n",
    "\n",
    "import seaborn as sns\n",
    "import matplotlib.pyplot as plt\n",
    "import numpy as np\n",
    "import pandas as pd\n",
    "\n",
    "def calculate_metrics(y_true,y_pred):\n",
    "    f1 = f1_score(y_true,y_pred,average=\"macro\")\n",
    "    p = precision_score(y_true,y_pred,average=None,labels=[0,1]) #1 confirmado y 0 false positivo\n",
    "    r = recall_score(y_true,y_pred,average=None,labels=[0,1])\n",
    "    #c = completeness_score(y_true, y_pred)\n",
    "    #h = homogeneity_score(y_true,y_pred)\n",
    "    return f1,p,r #f1score,completness and homogeneite"
   ]
  },
  {
   "cell_type": "code",
   "execution_count": 2,
   "metadata": {
    "collapsed": true
   },
   "outputs": [],
   "source": [
    "df_sets = pd.read_csv(\"../Datos/koi_sets.csv\")\n",
    "mask_train = (df_sets[\"Set\"] == \"Train\").values\n",
    "mask_test = (df_sets[\"Set\"] == \"Test\").values\n",
    "#fijo para todos los datos\n",
    "df_labels = pd.read_csv(\"../Datos/koi_metadata.csv\")\n",
    "df_labels_train = df_labels[mask_train]\n",
    "df_labels_test = df_labels[mask_test]"
   ]
  },
  {
   "cell_type": "code",
   "execution_count": 4,
   "metadata": {
    "collapsed": false
   },
   "outputs": [
    {
     "data": {
      "text/html": [
       "<div>\n",
       "<table border=\"1\" class=\"dataframe\">\n",
       "  <thead>\n",
       "    <tr style=\"text-align: right;\">\n",
       "      <th></th>\n",
       "      <th>KOI Name</th>\n",
       "      <th>NExScI Disposition</th>\n",
       "      <th>Kepler Name</th>\n",
       "      <th>Period</th>\n",
       "      <th>Time of Transit Epoch</th>\n",
       "      <th>First Transit Time (BJD)</th>\n",
       "      <th>Impact Parameter</th>\n",
       "      <th>Duration</th>\n",
       "      <th>Transit Depth</th>\n",
       "      <th>r/R</th>\n",
       "      <th>...</th>\n",
       "      <th>log(g)</th>\n",
       "      <th>Metallicity</th>\n",
       "      <th>Stellar Radius</th>\n",
       "      <th>Stellar Mass</th>\n",
       "      <th>Max single event sigma</th>\n",
       "      <th>Max Multievent sigma</th>\n",
       "      <th>Transit Model SNR</th>\n",
       "      <th>KOI count</th>\n",
       "      <th>Transit Number</th>\n",
       "      <th>TCE Planet Number</th>\n",
       "    </tr>\n",
       "  </thead>\n",
       "  <tbody>\n",
       "    <tr>\n",
       "      <th>0</th>\n",
       "      <td>K00889.01</td>\n",
       "      <td>CONFIRMED</td>\n",
       "      <td>Kepler-75 b</td>\n",
       "      <td>8.884923</td>\n",
       "      <td>169.991686</td>\n",
       "      <td>2455002.992</td>\n",
       "      <td>0.069</td>\n",
       "      <td>2.07004</td>\n",
       "      <td>16053.4</td>\n",
       "      <td>0.114</td>\n",
       "      <td>...</td>\n",
       "      <td>4.500</td>\n",
       "      <td>-0.08</td>\n",
       "      <td>0.843</td>\n",
       "      <td>0.821</td>\n",
       "      <td>61.291</td>\n",
       "      <td>474.021</td>\n",
       "      <td>388.2</td>\n",
       "      <td>1</td>\n",
       "      <td>153</td>\n",
       "      <td>1</td>\n",
       "    </tr>\n",
       "    <tr>\n",
       "      <th>1</th>\n",
       "      <td>K01009.01</td>\n",
       "      <td>FALSE POSITIVE</td>\n",
       "      <td>NaN</td>\n",
       "      <td>5.092465</td>\n",
       "      <td>357.535940</td>\n",
       "      <td>2455190.536</td>\n",
       "      <td>0.161</td>\n",
       "      <td>3.65900</td>\n",
       "      <td>254.0</td>\n",
       "      <td>0.014</td>\n",
       "      <td>...</td>\n",
       "      <td>4.547</td>\n",
       "      <td>-0.20</td>\n",
       "      <td>0.751</td>\n",
       "      <td>0.727</td>\n",
       "      <td>3.648</td>\n",
       "      <td>15.175</td>\n",
       "      <td>17.1</td>\n",
       "      <td>1</td>\n",
       "      <td>225</td>\n",
       "      <td>1</td>\n",
       "    </tr>\n",
       "    <tr>\n",
       "      <th>2</th>\n",
       "      <td>K07621.01</td>\n",
       "      <td>FALSE POSITIVE</td>\n",
       "      <td>NaN</td>\n",
       "      <td>275.073650</td>\n",
       "      <td>315.248600</td>\n",
       "      <td>2455148.249</td>\n",
       "      <td>0.595</td>\n",
       "      <td>3.37000</td>\n",
       "      <td>228.9</td>\n",
       "      <td>0.014</td>\n",
       "      <td>...</td>\n",
       "      <td>4.226</td>\n",
       "      <td>-0.12</td>\n",
       "      <td>1.187</td>\n",
       "      <td>0.864</td>\n",
       "      <td>5.909</td>\n",
       "      <td>8.012</td>\n",
       "      <td>7.5</td>\n",
       "      <td>1</td>\n",
       "      <td>4</td>\n",
       "      <td>1</td>\n",
       "    </tr>\n",
       "    <tr>\n",
       "      <th>3</th>\n",
       "      <td>K06252.01</td>\n",
       "      <td>FALSE POSITIVE</td>\n",
       "      <td>NaN</td>\n",
       "      <td>8.460439</td>\n",
       "      <td>133.774490</td>\n",
       "      <td>2454966.774</td>\n",
       "      <td>1.061</td>\n",
       "      <td>4.73492</td>\n",
       "      <td>76412.9</td>\n",
       "      <td>0.478</td>\n",
       "      <td>...</td>\n",
       "      <td>4.638</td>\n",
       "      <td>-1.06</td>\n",
       "      <td>0.702</td>\n",
       "      <td>0.796</td>\n",
       "      <td>452.526</td>\n",
       "      <td>3704.503</td>\n",
       "      <td>1797.4</td>\n",
       "      <td>1</td>\n",
       "      <td>164</td>\n",
       "      <td>1</td>\n",
       "    </tr>\n",
       "    <tr>\n",
       "      <th>6</th>\n",
       "      <td>K04162.01</td>\n",
       "      <td>FALSE POSITIVE</td>\n",
       "      <td>NaN</td>\n",
       "      <td>0.539366</td>\n",
       "      <td>131.974570</td>\n",
       "      <td>2454964.975</td>\n",
       "      <td>0.988</td>\n",
       "      <td>5.43400</td>\n",
       "      <td>145.0</td>\n",
       "      <td>0.016</td>\n",
       "      <td>...</td>\n",
       "      <td>3.301</td>\n",
       "      <td>-0.10</td>\n",
       "      <td>5.302</td>\n",
       "      <td>2.050</td>\n",
       "      <td>4.847</td>\n",
       "      <td>9.076</td>\n",
       "      <td>57.6</td>\n",
       "      <td>1</td>\n",
       "      <td>1239</td>\n",
       "      <td>1</td>\n",
       "    </tr>\n",
       "  </tbody>\n",
       "</table>\n",
       "<p>5 rows × 32 columns</p>\n",
       "</div>"
      ],
      "text/plain": [
       "    KOI Name NExScI Disposition  Kepler Name      Period  \\\n",
       "0  K00889.01          CONFIRMED  Kepler-75 b    8.884923   \n",
       "1  K01009.01     FALSE POSITIVE          NaN    5.092465   \n",
       "2  K07621.01     FALSE POSITIVE          NaN  275.073650   \n",
       "3  K06252.01     FALSE POSITIVE          NaN    8.460439   \n",
       "6  K04162.01     FALSE POSITIVE          NaN    0.539366   \n",
       "\n",
       "   Time of Transit Epoch  First Transit Time (BJD)  Impact Parameter  \\\n",
       "0             169.991686               2455002.992             0.069   \n",
       "1             357.535940               2455190.536             0.161   \n",
       "2             315.248600               2455148.249             0.595   \n",
       "3             133.774490               2454966.774             1.061   \n",
       "6             131.974570               2454964.975             0.988   \n",
       "\n",
       "   Duration  Transit Depth    r/R        ...          log(g)  Metallicity  \\\n",
       "0   2.07004        16053.4  0.114        ...           4.500        -0.08   \n",
       "1   3.65900          254.0  0.014        ...           4.547        -0.20   \n",
       "2   3.37000          228.9  0.014        ...           4.226        -0.12   \n",
       "3   4.73492        76412.9  0.478        ...           4.638        -1.06   \n",
       "6   5.43400          145.0  0.016        ...           3.301        -0.10   \n",
       "\n",
       "   Stellar Radius  Stellar Mass  Max single event sigma  Max Multievent sigma  \\\n",
       "0           0.843         0.821                  61.291               474.021   \n",
       "1           0.751         0.727                   3.648                15.175   \n",
       "2           1.187         0.864                   5.909                 8.012   \n",
       "3           0.702         0.796                 452.526              3704.503   \n",
       "6           5.302         2.050                   4.847                 9.076   \n",
       "\n",
       "   Transit Model SNR  KOI count  Transit Number  TCE Planet Number  \n",
       "0              388.2          1             153                  1  \n",
       "1               17.1          1             225                  1  \n",
       "2                7.5          1               4                  1  \n",
       "3             1797.4          1             164                  1  \n",
       "6               57.6          1            1239                  1  \n",
       "\n",
       "[5 rows x 32 columns]"
      ]
     },
     "execution_count": 4,
     "metadata": {},
     "output_type": "execute_result"
    }
   ],
   "source": [
    "y_train = ((df_labels_train[\"NExScI Disposition\"]==\"CONFIRMED\")*1).values\n",
    "y_test = ((df_labels_test[\"NExScI Disposition\"]==\"CONFIRMED\")*1).values\n",
    "df_labels_train.head()"
   ]
  },
  {
   "cell_type": "code",
   "execution_count": 166,
   "metadata": {
    "collapsed": false
   },
   "outputs": [
    {
     "data": {
      "text/plain": [
       "19"
      ]
     },
     "execution_count": 166,
     "metadata": {},
     "output_type": "execute_result"
    }
   ],
   "source": [
    "strings=[]\n",
    "for columna in df_meta.columns:\n",
    "    try:\n",
    "        float(df_meta[columna].values[0])\n",
    "    except:\n",
    "        strings.append(columna)\n",
    "len(strings)"
   ]
  },
  {
   "cell_type": "code",
   "execution_count": 167,
   "metadata": {
    "collapsed": false
   },
   "outputs": [
    {
     "data": {
      "text/plain": [
       "(8054, 152)"
      ]
     },
     "execution_count": 167,
     "metadata": {},
     "output_type": "execute_result"
    }
   ],
   "source": [
    "df_meta.shape"
   ]
  },
  {
   "cell_type": "code",
   "execution_count": 168,
   "metadata": {
    "collapsed": true
   },
   "outputs": [],
   "source": [
    "for columna in df_meta.columns:\n",
    "    if columna in strings:\n",
    "        df_meta.drop([columna],axis=1,inplace=True)"
   ]
  },
  {
   "cell_type": "code",
   "execution_count": 169,
   "metadata": {
    "collapsed": false
   },
   "outputs": [
    {
     "data": {
      "text/plain": [
       "(8054, 133)"
      ]
     },
     "execution_count": 169,
     "metadata": {},
     "output_type": "execute_result"
    }
   ],
   "source": [
    "df_meta.shape"
   ]
  },
  {
   "cell_type": "code",
   "execution_count": 170,
   "metadata": {
    "collapsed": true
   },
   "outputs": [],
   "source": [
    "df_meta_train = df_meta[mask_train] \n",
    "df_meta_test = df_meta[mask_test]"
   ]
  },
  {
   "cell_type": "code",
   "execution_count": 171,
   "metadata": {
    "collapsed": false
   },
   "outputs": [
    {
     "name": "stdout",
     "output_type": "stream",
     "text": [
      "Score si dice todos son falsos positivos: 0.235117\n",
      "Score si dice todos son confirmados: 0.441917\n"
     ]
    },
    {
     "name": "stderr",
     "output_type": "stream",
     "text": [
      "/users/mbugueno/anaconda2/lib/python2.7/site-packages/sklearn/metrics/classification.py:1135: UndefinedMetricWarning: F-score is ill-defined and being set to 0.0 in labels with no predicted samples.\n",
      "  'precision', 'predicted', average, warn_for)\n",
      "/users/mbugueno/anaconda2/lib/python2.7/site-packages/sklearn/metrics/classification.py:1135: UndefinedMetricWarning: F-score is ill-defined and being set to 0.0 in labels with no predicted samples.\n",
      "  'precision', 'predicted', average, warn_for)\n"
     ]
    }
   ],
   "source": [
    "todos_ceros = np.zeros(y_test.shape)\n",
    "todos_uno = np.ones(y_test.shape)\n",
    "\n",
    "print(\"Score si dice todos son falsos positivos: %f\"%f1_score(y_test,todos_ceros,average=\"weighted\"))\n",
    "print(\"Score si dice todos son confirmados: %f\"%f1_score(y_test,todos_uno,average=\"weighted\"))"
   ]
  },
  {
   "cell_type": "code",
   "execution_count": 161,
   "metadata": {
    "collapsed": false
   },
   "outputs": [
    {
     "data": {
      "text/plain": [
       "Text(0,0.5,'Count')"
      ]
     },
     "execution_count": 161,
     "metadata": {},
     "output_type": "execute_result"
    },
    {
     "data": {
      "image/png": "[encoded data removed]",
      "text/plain": [
       "<Figure size 720x432 with 1 Axes>"
      ]
     },
     "metadata": {
      "needs_background": "light"
     },
     "output_type": "display_data"
    }
   ],
   "source": [
    "%matplotlib inline\n",
    "plt.figure(figsize=(10,6))\n",
    "plt.title(\"TRAIN \")\n",
    "plt.bar(0, np.sum(y_train==1),color=\"blue\")\n",
    "plt.bar(1, np.sum(y_train==0),color=\"green\")\n",
    "plt.xticks([0,1],[\"CONFIRMED\",\"FALSE POSITIVE\"])\n",
    "plt.ylabel(\"Count\")\n",
    "#sns.countplot(y_train[mask])"
   ]
  },
  {
   "cell_type": "markdown",
   "metadata": {},
   "source": [
    "## VARIAR REPRESENTACION ACA:"
   ]
  },
  {
   "cell_type": "code",
   "execution_count": 176,
   "metadata": {
    "collapsed": false
   },
   "outputs": [
    {
     "name": "stdout",
     "output_type": "stream",
     "text": [
      "(4693, 133)\n"
     ]
    },
    {
     "name": "stderr",
     "output_type": "stream",
     "text": [
      "/users/mbugueno/anaconda2/lib/python2.7/site-packages/pandas/core/frame.py:3790: SettingWithCopyWarning: \n",
      "A value is trying to be set on a copy of a slice from a DataFrame\n",
      "\n",
      "See the caveats in the documentation: http://pandas.pydata.org/pandas-docs/stable/indexing.html#indexing-view-versus-copy\n",
      "  downcast=downcast, **kwargs)\n"
     ]
    }
   ],
   "source": [
    "#para distintas representaciones...\n",
    "df_rep_train = pd.read_csv('../Datos/PCA/koi_light_curves_FPCA_train5.csv')\n",
    "df_rep_test = pd.read_csv('../Datos/PCA/koi_light_curves_FPCA_test5.csv')\n",
    "\n",
    "#para koi con valores nulos (Son falsos positivos asi que no afecta)\n",
    "#para fats2 -brither oppace ratio\n",
    "df_fats_train.fillna(df_fats_train.median(), inplace=True)\n",
    "df_fats_test.fillna(df_fats_test.median(), inplace=True)\n",
    "\n",
    "df_meta_train.fillna(df_meta_train.median(), inplace=True)\n",
    "df_meta_test.fillna(df_meta_test.median(), inplace=True)\n",
    "df_meta_train.fillna(0, inplace=True)\n",
    "df_meta_test.fillna(0, inplace=True)\n",
    "\n",
    "#X_train = df_fats_train.values[:,:-1]\n",
    "#X_test = df_fats_test.values[:,:-1]\n",
    "X_train = df_meta_train.values\n",
    "X_test = df_meta_test.values\n",
    "\n",
    "print(X_train.shape)"
   ]
  },
  {
   "cell_type": "code",
   "execution_count": 37,
   "metadata": {
    "collapsed": false
   },
   "outputs": [
    {
     "data": {
      "text/html": [
       "<div>\n",
       "<table border=\"1\" class=\"dataframe\">\n",
       "  <thead>\n",
       "    <tr style=\"text-align: right;\">\n",
       "      <th></th>\n",
       "      <th>Component 1</th>\n",
       "      <th>Component 2</th>\n",
       "      <th>Component 3</th>\n",
       "      <th>Component 4</th>\n",
       "      <th>Component 5</th>\n",
       "    </tr>\n",
       "  </thead>\n",
       "  <tbody>\n",
       "    <tr>\n",
       "      <th>0</th>\n",
       "      <td>-88590.813968</td>\n",
       "      <td>-53335.882565</td>\n",
       "      <td>63687.377522</td>\n",
       "      <td>7497.227195</td>\n",
       "      <td>2724.889357</td>\n",
       "    </tr>\n",
       "    <tr>\n",
       "      <th>1</th>\n",
       "      <td>-116040.429147</td>\n",
       "      <td>-66970.590002</td>\n",
       "      <td>81396.261386</td>\n",
       "      <td>10635.498698</td>\n",
       "      <td>6190.564598</td>\n",
       "    </tr>\n",
       "    <tr>\n",
       "      <th>2</th>\n",
       "      <td>-100229.995706</td>\n",
       "      <td>-59564.050746</td>\n",
       "      <td>70322.281281</td>\n",
       "      <td>11687.552189</td>\n",
       "      <td>5238.773061</td>\n",
       "    </tr>\n",
       "    <tr>\n",
       "      <th>3</th>\n",
       "      <td>108964.511951</td>\n",
       "      <td>149293.586510</td>\n",
       "      <td>-225972.329847</td>\n",
       "      <td>-2160.737900</td>\n",
       "      <td>-30830.293469</td>\n",
       "    </tr>\n",
       "    <tr>\n",
       "      <th>4</th>\n",
       "      <td>-98758.135857</td>\n",
       "      <td>-66738.013385</td>\n",
       "      <td>79281.262990</td>\n",
       "      <td>11211.698968</td>\n",
       "      <td>5859.346137</td>\n",
       "    </tr>\n",
       "  </tbody>\n",
       "</table>\n",
       "</div>"
      ],
      "text/plain": [
       "     Component 1    Component 2    Component 3   Component 4   Component 5\n",
       "0  -88590.813968  -53335.882565   63687.377522   7497.227195   2724.889357\n",
       "1 -116040.429147  -66970.590002   81396.261386  10635.498698   6190.564598\n",
       "2 -100229.995706  -59564.050746   70322.281281  11687.552189   5238.773061\n",
       "3  108964.511951  149293.586510 -225972.329847  -2160.737900 -30830.293469\n",
       "4  -98758.135857  -66738.013385   79281.262990  11211.698968   5859.346137"
      ]
     },
     "execution_count": 37,
     "metadata": {},
     "output_type": "execute_result"
    }
   ],
   "source": [
    "df_rep_train = pd.read_csv('../Datos/PCA/koi_light_curves_FPCA_train5_v2.csv') #le va horrible en test\n",
    "df_rep_test = pd.read_csv('../Datos/PCA/koi_light_curves_FPCA_test5_v2.csv')\n",
    "X_train = df_rep_train.values\n",
    "X_test = df_rep_test.values\n",
    "df_rep_train.head()"
   ]
  },
  {
   "cell_type": "code",
   "execution_count": 24,
   "metadata": {
    "collapsed": true
   },
   "outputs": [],
   "source": [
    "#from skrebate import ReliefF"
   ]
  },
  {
   "cell_type": "markdown",
   "metadata": {},
   "source": [
    "## SUBSAMPLE (CLASE MAYORITARIA - FALSE POSITIVE)"
   ]
  },
  {
   "cell_type": "code",
   "execution_count": 38,
   "metadata": {
    "collapsed": false
   },
   "outputs": [],
   "source": [
    "from sklearn.preprocessing import StandardScaler\n",
    "std = StandardScaler()\n",
    "Xstd_train = std.fit_transform(X_train.astype('float'))\n",
    "Xstd_test = std.transform(X_test)"
   ]
  },
  {
   "cell_type": "markdown",
   "metadata": {},
   "source": [
    "### Empieza ejecución útil: "
   ]
  },
  {
   "cell_type": "code",
   "execution_count": 24,
   "metadata": {
    "collapsed": true
   },
   "outputs": [],
   "source": [
    "#para guardar scores y graficar\n",
    "f1_score_test = []\n",
    "p_test = []\n",
    "r_test = []"
   ]
  },
  {
   "cell_type": "markdown",
   "metadata": {},
   "source": [
    "## K-NN"
   ]
  },
  {
   "cell_type": "code",
   "execution_count": null,
   "metadata": {
    "collapsed": true
   },
   "outputs": [],
   "source": [
    "from sklearn.model_selection import train_test_split, GridSearchCV, StratifiedKFold, cross_validate\n",
    "from sklearn.metrics import roc_curve, precision_recall_curve, auc, make_scorer, f1_score, recall_score, accuracy_score, precision_score, confusion_matrix\n",
    "from sklearn.neighbors import KNeighborsClassifier\n",
    "\n",
    "clf = KNeighborsClassifier(n_jobs=-1)\n",
    "\n",
    "param_grid = {\n",
    "    'n_neighbors' : np.arange(3,30),\n",
    "    'weights': [\"uniform\",\"distance\"]\n",
    "}\n",
    "\n",
    "scorers = {\n",
    "    'precision_score': make_scorer(precision_score),\n",
    "    'recall_score': make_scorer(recall_score),\n",
    "    'accuracy_score': make_scorer(accuracy_score),\n",
    "    'f1_score':make_scorer(f1_score,average='weighted')\n",
    "}\n",
    "\n",
    "skf = StratifiedKFold(n_splits=5)\n",
    "grid_search = GridSearchCV(clf, param_grid, scoring=scorers, refit='f1_score',\n",
    "                       cv=skf, return_train_score=True, n_jobs=-1)\n",
    "grid_search.fit(Xstd_train, y_train)\n",
    "\n",
    "print('Best params:', grid_search.best_params_)\n",
    "results = pd.DataFrame(grid_search.cv_results_)\n",
    "bestResults = results[results.params == grid_search.best_params_]\n",
    "completeness = float(bestResults['mean_test_recall_score'])\n",
    "print('Completion: {:.4f}'.format(completeness))\n",
    "preci = float(bestResults['mean_test_precision_score'])\n",
    "print('Contamination: {:.4f}'.format(preci))\n",
    "f1 = float(bestResults['mean_test_f1_score'])\n",
    "print('F1-score: {:.4f}'.format(f1))"
   ]
  },
  {
   "cell_type": "markdown",
   "metadata": {},
   "source": [
    "## SVM Lineal"
   ]
  },
  {
   "cell_type": "code",
   "execution_count": null,
   "metadata": {
    "collapsed": true
   },
   "outputs": [],
   "source": [
    "from sklearn.svm import SVC\n",
    "\n",
    "Cs = [0.01,0.1,1,10,100]\n",
    "\n",
    "def find_best_c(X_train,y_train,X_val,y_val):\n",
    "    best = 0\n",
    "    best_c = 0\n",
    "    \n",
    "    for c in Cs:\n",
    "        model = SVC(kernel= 'linear',C=c)\n",
    "        model.fit(X_train,y_train)\n",
    "\n",
    "        ypred_val = model.predict(X_val)\n",
    "        f1,p,r = calculate_metrics(y_val,ypred_val)\n",
    "\n",
    "        if f1 > best:\n",
    "            best = f1\n",
    "            best_c = c\n",
    "    print(\"Mejor c en SVM lineal es %f con f1-score de %f\"%(best_c,best))\n",
    "    return best_c\n",
    "\n",
    "#leer archivos, iterar y \n",
    "best_c = find_best_c(Xstd_train,y_train,Xstd_val,y_val)"
   ]
  },
  {
   "cell_type": "markdown",
   "metadata": {},
   "source": [
    "## SVM No Lineal"
   ]
  },
  {
   "cell_type": "code",
   "execution_count": 39,
   "metadata": {
    "collapsed": false,
    "scrolled": true
   },
   "outputs": [
    {
     "name": "stderr",
     "output_type": "stream",
     "text": [
      "/users/fmena/.local/lib/python3.6/site-packages/sklearn/model_selection/_search.py:841: DeprecationWarning: The default of the `iid` parameter will change from True to False in version 0.22 and will be removed in 0.24. This will change numeric results when test-set sizes are unequal.\n",
      "  DeprecationWarning)\n"
     ]
    },
    {
     "name": "stdout",
     "output_type": "stream",
     "text": [
      "Best params: {'C': 1.0000000000000001e-05}\n",
      "Completion: 0.0000\n",
      "Contamination: 0.0000\n",
      "F1-score: 0.5918\n"
     ]
    }
   ],
   "source": [
    "from sklearn.model_selection import train_test_split, GridSearchCV, StratifiedKFold, cross_validate\n",
    "from sklearn.metrics import roc_curve, precision_recall_curve, auc, make_scorer, f1_score, recall_score, accuracy_score, precision_score, confusion_matrix\n",
    "from sklearn.svm import SVC\n",
    "\n",
    "\n",
    "clf = SVC(kernel='rbf', class_weight='balanced')\n",
    "\n",
    "param_grid = {\n",
    "    'C' : [10**i for i in np.arange(-5,5)]\n",
    "}\n",
    "\n",
    "scorers = {\n",
    "    'precision_score': make_scorer(precision_score),\n",
    "    'recall_score': make_scorer(recall_score),\n",
    "    'accuracy_score': make_scorer(accuracy_score),\n",
    "    'f1_score':make_scorer(f1_score,average='weighted')\n",
    "}\n",
    "\n",
    "skf = StratifiedKFold(n_splits=5)\n",
    "grid_search = GridSearchCV(clf, param_grid, scoring=scorers, refit='f1_score',\n",
    "                       cv=skf, return_train_score=True, n_jobs=-1)\n",
    "grid_search.fit(Xstd_train, y_train)\n",
    "\n",
    "print('Best params:', grid_search.best_params_)\n",
    "results = pd.DataFrame(grid_search.cv_results_)\n",
    "bestResults = results[results.params == grid_search.best_params_]\n",
    "completeness = float(bestResults['mean_test_recall_score'])\n",
    "print('Completion: {:.4f}'.format(completeness))\n",
    "preci = float(bestResults['mean_test_precision_score'])\n",
    "print('Contamination: {:.4f}'.format(preci))\n",
    "f1 = float(bestResults['mean_test_f1_score'])\n",
    "print('F1-score: {:.4f}'.format(f1))"
   ]
  },
  {
   "cell_type": "code",
   "execution_count": 30,
   "metadata": {
    "collapsed": false
   },
   "outputs": [],
   "source": [
    "args = grid_search.best_params_\n",
    "args[\"kernel\"] = 'rbf'\n",
    "args[\"class_weight\"] = 'balanced'\n",
    "model = SVC(**args)\n",
    "model.fit(Xstd_train,y_train) #not sampled\n",
    "#model.fit(Xstd_train,ysample_train) #sampled\n",
    "\n",
    "ypred_test = model.predict(Xstd_test)\n",
    "f1,p,r = calculate_metrics(y_test,ypred_test)\n",
    "\n",
    "f1_score_test.append(f1)\n",
    "p_test.append(p)\n",
    "r_test.append(r)"
   ]
  },
  {
   "cell_type": "markdown",
   "metadata": {},
   "source": [
    "## Random Forest"
   ]
  },
  {
   "cell_type": "markdown",
   "metadata": {},
   "source": [
    "### código hijos de maray"
   ]
  },
  {
   "cell_type": "code",
   "execution_count": 40,
   "metadata": {
    "collapsed": false,
    "scrolled": true
   },
   "outputs": [
    {
     "name": "stdout",
     "output_type": "stream",
     "text": [
      "Best params for completeness: {'max_depth': 17, 'n_estimators': 30}\n",
      "Completion: 0.5595\n",
      "Contamination: 0.6061\n",
      "F1-score: 0.7654\n"
     ]
    }
   ],
   "source": [
    "from sklearn.model_selection import train_test_split, GridSearchCV, StratifiedKFold, cross_validate\n",
    "from sklearn.metrics import roc_curve, precision_recall_curve, auc, make_scorer, f1_score, recall_score, accuracy_score, precision_score, confusion_matrix\n",
    "from sklearn.ensemble import RandomForestClassifier\n",
    "\n",
    "\n",
    "clf = RandomForestClassifier(n_jobs=-1, random_state=0, class_weight='balanced')\n",
    "\n",
    "# This takes a while to run with more values,\n",
    "# I found these as the best parameteres.\n",
    "param_grid = {\n",
    "    'n_estimators' : [5,7,10,12,13,15,17,20,30],\n",
    "    'max_depth': np.arange(1,21)\n",
    "}\n",
    "\n",
    "scorers = {\n",
    "    'precision_score': make_scorer(precision_score),\n",
    "    'recall_score': make_scorer(recall_score),\n",
    "    'accuracy_score': make_scorer(accuracy_score),\n",
    "    'f1_score':make_scorer(f1_score,average='weighted')\n",
    "}\n",
    "\n",
    "skf = StratifiedKFold(n_splits=5)\n",
    "grid_search = GridSearchCV(clf, param_grid, scoring=scorers, refit='f1_score',\n",
    "                       cv=skf, return_train_score=True, n_jobs=-1)\n",
    "grid_search.fit(X_train, y_train)\n",
    "\n",
    "# make the predictions\n",
    "#y_pred = grid_search.predict(X_test)\n",
    "\n",
    "print('Best params for completeness:', grid_search.best_params_)\n",
    "results = pd.DataFrame(grid_search.cv_results_)\n",
    "bestResults = results[results.params == grid_search.best_params_]\n",
    "completeness = float(bestResults['mean_test_recall_score'])\n",
    "print('Completion: {:.4f}'.format(completeness))\n",
    "preci = float(bestResults['mean_test_precision_score'])\n",
    "print('Contamination: {:.4f}'.format(preci))\n",
    "f1 = float(bestResults['mean_test_f1_score'])\n",
    "print('F1-score: {:.4f}'.format(f1))\n",
    "# confusion matrix on the test data.\n",
    "#confusion = pd.DataFrame(confusion_matrix(y_test, y_pred),\n",
    "#             columns=['pred_neg', 'pred_pos'], index=['neg', 'pos'])"
   ]
  },
  {
   "cell_type": "code",
   "execution_count": 43,
   "metadata": {
    "collapsed": true
   },
   "outputs": [],
   "source": [
    "f1_ad = []\n",
    "p_ad = []\n",
    "r_ad = []\n",
    "for i in range(5):\n",
    "    model = RandomForestClassifier(n_estimators=30,max_depth=17,n_jobs=-1)\n",
    "    model.fit(X_train,y_train) \n",
    " \n",
    "    ypred_test = model.predict(X_test)\n",
    "    f1,p,r = calculate_metrics(y_test,ypred_test)\n",
    "    f1_ad.append(f1)\n",
    "    p_ad.append(p)\n",
    "    r_ad.append(r)\n",
    "f1_score_test.append(np.mean(f1_ad,axis=0))# por columna\n",
    "p_test.append(np.mean(p_ad,axis=0)) #por columna\n",
    "r_test.append(np.mean(r_ad,axis=0)) #por columna"
   ]
  },
  {
   "cell_type": "code",
   "execution_count": 44,
   "metadata": {
    "collapsed": false
   },
   "outputs": [
    {
     "data": {
      "text/plain": [
       "[0.54475703324808178, 0.55503304141775844, 0.55724240911375567]"
      ]
     },
     "execution_count": 44,
     "metadata": {},
     "output_type": "execute_result"
    }
   ],
   "source": [
    "f1_score_test"
   ]
  },
  {
   "cell_type": "code",
   "execution_count": 75,
   "metadata": {
    "collapsed": false
   },
   "outputs": [
    {
     "data": {
      "text/plain": [
       "[array([0.8509442 , 0.87172198])]"
      ]
     },
     "execution_count": 75,
     "metadata": {},
     "output_type": "execute_result"
    }
   ],
   "source": [
    "p_test"
   ]
  },
  {
   "cell_type": "code",
   "execution_count": 76,
   "metadata": {
    "collapsed": false
   },
   "outputs": [
    {
     "data": {
      "text/plain": [
       "[array([0.80589623, 0.90307112])]"
      ]
     },
     "execution_count": 76,
     "metadata": {},
     "output_type": "execute_result"
    }
   ],
   "source": [
    "r_test"
   ]
  },
  {
   "cell_type": "code",
   "execution_count": 57,
   "metadata": {
    "collapsed": false
   },
   "outputs": [
    {
     "data": {
      "text/plain": [
       "43"
      ]
     },
     "execution_count": 57,
     "metadata": {},
     "output_type": "execute_result"
    }
   ],
   "source": [
    "len(model.feature_importances_)"
   ]
  },
  {
   "cell_type": "code",
   "execution_count": 60,
   "metadata": {
    "collapsed": false
   },
   "outputs": [
    {
     "data": {
      "text/plain": [
       "Index([u'Minimum', u'Maximum', u'Mean', u'Std', u'IQR', u'Skew', u'Kurtosis',\n",
       "       u'Q1', u'Q2', u'Slope', u'Amplitude', u'MAD',\n",
       "       u'Residual Bright Faint Ratio', u'Median', u'Period',\n",
       "       u'Time of Transit Epoch', u'First Transit Time (BJD)',\n",
       "       u'Impact Parameter', u'Duration', u'Transit Depth', u'r/R',\n",
       "       u'Fitted Stellar Density', u'Planet Radius', u'Semi-major Axis',\n",
       "       u'Inclination', u'Teq', u'Insolation Flux', u'a/R',\n",
       "       u'Limb Darkening Coeff1', u'Limb Darkening Coeff2',\n",
       "       u'Limb Darkening Coeff3', u'Limb Darkening Coeff4', u'Teff', u'log(g)',\n",
       "       u'Metallicity', u'Stellar Radius', u'Stellar Mass',\n",
       "       u'Max single event sigma', u'Max Multievent sigma',\n",
       "       u'Transit Model SNR', u'KOI count', u'Transit Number',\n",
       "       u'TCE Planet Number'],\n",
       "      dtype='object')"
      ]
     },
     "execution_count": 60,
     "metadata": {},
     "output_type": "execute_result"
    }
   ],
   "source": [
    "df_fats_train.columns[:-1]"
   ]
  },
  {
   "cell_type": "code",
   "execution_count": 77,
   "metadata": {
    "collapsed": false
   },
   "outputs": [
    {
     "data": {
      "image/png": "[encoded data removed]",
      "text/plain": [
       "<Figure size 432x720 with 1 Axes>"
      ]
     },
     "metadata": {
      "needs_background": "light"
     },
     "output_type": "display_data"
    }
   ],
   "source": [
    "#columns = [\"minimo\",\"maximo\",\"media\",\"std\",\"iqr\",\"skw\",\"kurt\",\"q1\",\"q2\",\"slope\",\"period\",\"transitdepth\",\n",
    "#          \"teq\",\"koi count\",'Planet Radius']\n",
    "columns_fats2=df_fats_train.columns[:-1]\n",
    "\"\"\"columns_fats2 = [\"minimum\",\"maximum\",\"mean\",\"std\",\"iqr\",\"skewness\",\"kurtosis\",\"q1\",\"q2\",\"slope\",\n",
    "                  \"amplitute\",\"median absolute deviation\",\"residual bright faint ratio\",\"median\", #new ones\n",
    "                 \"period\",\"transit depth\",\"teq\",\"koi count\",'Planet Radius',#] #planet\n",
    "                \"Teff\",\"log(g)\",\"Metallicity\",\"Stellar Radius\",\"Stellar Mass\"] #stellar\n",
    "\"\"\"\n",
    "plt.figure(figsize=(6,10))\n",
    "plt.barh(range(len(columns_fats2)), model.feature_importances_)\n",
    "plt.yticks(range(len(columns_fats2)),columns_fats2)#, rotation= 30)\n",
    "plt.title('Feature Importance')\n",
    "plt.show()"
   ]
  },
  {
   "cell_type": "markdown",
   "metadata": {},
   "source": [
    "### FSS"
   ]
  },
  {
   "cell_type": "code",
   "execution_count": null,
   "metadata": {
    "collapsed": true
   },
   "outputs": [],
   "source": [
    "def fss(x, y, names_x, k = 10000):\n",
    "    p = x.shape[1]-1\n",
    "    k = min(p, k)\n",
    "    names_x = np.array(names_x)\n",
    "    remaining = range(0, p)\n",
    "    selected = [p]\n",
    "    current_score = best_new_score = 0.0\n",
    "    while remaining and len(selected)<=k :\n",
    "        score_candidates = []\n",
    "        for candidate in remaining:\n",
    "            model = LR(fit_intercept=True, n_jobs=1)\n",
    "            indexes = selected + [candidate]\n",
    "            x_train = x[:,indexes]\n",
    "            predictions_train = model.fit(x_train, y).predict(x_train)\n",
    "            \n",
    "            #metrica de error \n",
    "            error_metrica = \n",
    "            \n",
    "            score_candidates.append((error_metrica, candidate))\n",
    "        score_candidates.sort()\n",
    "        score_candidates[:] = score_candidates[::-1]\n",
    "        best_new_score, best_candidate = score_candidates.pop()\n",
    "        remaining.remove(best_candidate)\n",
    "        selected.append(best_candidate)\n",
    "        print \"selected = %s ...\"%names_x[best_candidate]\n",
    "        print \"totalvars=%d, mse = %f\"%(len(indexes),best_new_score)\n",
    "    return selected\n",
    "\n",
    "fss(Xstd_train, y_train, nombre_columnas)"
   ]
  },
  {
   "cell_type": "markdown",
   "metadata": {},
   "source": [
    "# Gráficos"
   ]
  },
  {
   "cell_type": "code",
   "execution_count": 32,
   "metadata": {
    "collapsed": false
   },
   "outputs": [
    {
     "name": "stderr",
     "output_type": "stream",
     "text": [
      "/users/fmena/anaconda3/lib/python3.6/site-packages/matplotlib/font_manager.py:1297: UserWarning: findfont: Font family ['sans-serif'] not found. Falling back to DejaVu Sans\n",
      "  (prop.get_family(), self.defaultFamily[fontext]))\n"
     ]
    },
    {
     "data": {
      "image/png": "[encoded data removed]",
      "text/plain": [
       "<matplotlib.figure.Figure at 0x2aab1b7d8e10>"
      ]
     },
     "metadata": {},
     "output_type": "display_data"
    }
   ],
   "source": [
    "import matplotlib.pyplot as plt\n",
    "fig = plt.figure(figsize=(12,8))\n",
    "\n",
    "learners = len(p_test)\n",
    "M = np.arange(learners)\n",
    "\n",
    "#PRECISION SCORES\n",
    "aux = list(map(list, zip(*p_test))) #transpose\n",
    "plt.bar(M-0.15, aux[0], width=0.3,facecolor='#ff0000', edgecolor='white',label=\"False Positive\")\n",
    "plt.bar(M+0.15, aux[1], width=0.3,facecolor='#1C9900', edgecolor='white',label=\"Confirmed\")\n",
    "\n",
    "#RECALL SCORES\n",
    "aux = list(map(list, zip(*r_test))) #transpose\n",
    "plt.bar(M-0.15, np.array(aux[0])*-1, width=0.3,facecolor='#FF6666', edgecolor='white')\n",
    "plt.bar(M+0.15, np.array(aux[1])*-1, width=0.3,facecolor='#76C166', edgecolor='white')\n",
    "\n",
    "#ANOTATIONS OF SCORES\n",
    "for x, (a,b) in zip(M, p_test):\n",
    "    plt.text(x + 0.02-0.15, a + 0.01, '%.3f' % a, ha='center', va='bottom')#fp\n",
    "    plt.text(x + 0.02+0.15, b + 0.01, '%.3f' % b, ha='center', va='bottom')#conf\n",
    "for x, (a,b) in zip(M, r_test):\n",
    "    plt.text(x + 0.02-0.15, -a - 0.01, '%.3f' % a, ha='center', va='top')#fp\n",
    "    plt.text(x + 0.02+0.15, -b - 0.01, '%.3f' % b, ha='center', va='top')#conf\n",
    "        \n",
    "LABELS=[\"RANDOM FOREST\"]\n",
    "plt.xticks(M, LABELS)\n",
    "plt.title(\"PRECISION & RECALL on TEST\")   \n",
    "plt.xlabel(\"Learners\")  \n",
    "plt.ylabel(\"RECALL - Score - PRECISION\") \n",
    "plt.legend()\n",
    "plt.ylim(-1.2,1.2)\n",
    "plt.show()"
   ]
  },
  {
   "cell_type": "code",
   "execution_count": 66,
   "metadata": {
    "collapsed": false
   },
   "outputs": [
    {
     "data": {
      "image/png": "[encoded data removed]",
      "text/plain": [
       "<matplotlib.figure.Figure at 0x7f530439eb50>"
      ]
     },
     "metadata": {},
     "output_type": "display_data"
    }
   ],
   "source": [
    "fig = plt.figure(figsize=(12,4))\n",
    "\n",
    "learners = len(f1_score_test)\n",
    "M = np.arange(learners)\n",
    "\n",
    "plt.bar(M, f1_score_test, facecolor='#9999ff', edgecolor='white')\n",
    "\n",
    "for x, y in zip(M, f1_score_test):\n",
    "    plt.text(x + 0.02, y + 0.01, '%.3f' % y, ha='center', va='bottom')\n",
    "    \n",
    "LABELS=[\"KNN\",\"LOGISTIC\",\"SVM RBF\",\"RANDOM FOREST\"]\n",
    "plt.xticks(np.arange(learners), LABELS)\n",
    "plt.title(\"F1-SCORE on TEST\")   \n",
    "plt.xlabel(\"Learners\")  \n",
    "plt.ylabel(\"Score\") \n",
    "plt.ylim(0,1)\n",
    "plt.show()"
   ]
  },
  {
   "cell_type": "code",
   "execution_count": null,
   "metadata": {
    "collapsed": true
   },
   "outputs": [],
   "source": []
  }
 ],
 "metadata": {
  "kernelspec": {
   "display_name": "Python 3",
   "language": "python",
   "name": "python3"
  },
  "language_info": {
   "codemirror_mode": {
    "name": "ipython",
    "version": 3
   },
   "file_extension": ".py",
   "mimetype": "text/x-python",
   "name": "python",
   "nbconvert_exporter": "python",
   "pygments_lexer": "ipython3",
   "version": "3.6.0"
  }
 },
 "nbformat": 4,
 "nbformat_minor": 2
}
